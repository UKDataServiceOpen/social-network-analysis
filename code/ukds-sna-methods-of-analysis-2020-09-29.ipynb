{
 "cells": [
  {
   "cell_type": "markdown",
   "metadata": {},
   "source": [
    "![UKDS Logo](./images/UKDS_Logos_Col_Grey_300dpi.png)"
   ]
  },
  {
   "cell_type": "markdown",
   "metadata": {},
   "source": [
    "# Social Network Analysis:Techniques and Methods of Analysis"
   ]
  },
  {
   "cell_type": "markdown",
   "metadata": {},
   "source": [
    "Welcome to the <a href=\"https://ukdataservice.ac.uk/\" target=_blank>UK Data Service</a> training series on *New Forms of Data for Social Science Research*. This series guides you through some of the most common and valuable new sources of data available for social science research: data collected from websites, social media platorms, text data, conducting simulations (agent based modelling), to name a few. To help you get to grips with these new forms of data, we provide webinars, interactive notebooks containing live programming code, reading lists and more.\n",
    "\n",
    "* To access training materials for the entire series: <a href=\"https://github.com/UKDataServiceOpen/new-forms-of-data\" target=_blank>[Training Materials]</a>\n",
    "\n",
    "* To keep up to date with upcoming and past training events: <a href=\"https://ukdataservice.ac.uk/news-and-events/events\" target=_blank>[Events]</a>\n",
    "\n",
    "* To get in contact with feedback, ideas or to seek assistance: <a href=\"https://ukdataservice.ac.uk/help.aspx\" target=_blank>[Help]</a>\n",
    "\n",
    "<a href=\"https://www.research.manchester.ac.uk/portal/julia.kasmire.html\" target=_blank>Dr Julia Kasmire</a> and <a href=\"https://www.research.manchester.ac.uk/portal/diarmuid.mcdonnell.html\" target=_blank>Dr Diarmuid McDonnell</a> <br />\n",
    "UK Data Service  <br />\n",
    "University of Manchester <br />\n",
    "September 2020"
   ]
  },
  {
   "cell_type": "markdown",
   "metadata": {
    "toc": true
   },
   "source": [
    "<h1>Table of Contents<span class=\"tocSkip\"></span></h1>\n",
    "<div class=\"toc\"><ul class=\"toc-item\"><li><span><a href=\"#Introduction\" data-toc-modified-id=\"Introduction-1\"><span class=\"toc-item-num\">1&nbsp;&nbsp;</span>Introduction</a></span><ul class=\"toc-item\"><li><span><a href=\"#Aims\" data-toc-modified-id=\"Aims-1.1\"><span class=\"toc-item-num\">1.1&nbsp;&nbsp;</span>Aims</a></span></li><li><span><a href=\"#Lesson-details\" data-toc-modified-id=\"Lesson-details-1.2\"><span class=\"toc-item-num\">1.2&nbsp;&nbsp;</span>Lesson details</a></span></li></ul></li><li><span><a href=\"#Guide-to-using-this-resource\" data-toc-modified-id=\"Guide-to-using-this-resource-2\"><span class=\"toc-item-num\">2&nbsp;&nbsp;</span>Guide to using this resource</a></span><ul class=\"toc-item\"><li><span><a href=\"#Interaction\" data-toc-modified-id=\"Interaction-2.1\"><span class=\"toc-item-num\">2.1&nbsp;&nbsp;</span>Interaction</a></span></li><li><span><a href=\"#Learn-more\" data-toc-modified-id=\"Learn-more-2.2\"><span class=\"toc-item-num\">2.2&nbsp;&nbsp;</span>Learn more</a></span></li></ul></li><li><span><a href=\"#Social-Network-Analysis:-A-Refresher\" data-toc-modified-id=\"Social-Network-Analysis:-A-Refresher-3\"><span class=\"toc-item-num\">3&nbsp;&nbsp;</span>Social Network Analysis: A Refresher</a></span></li><li><span><a href=\"#Analysing-Social-Networks\" data-toc-modified-id=\"Analysing-Social-Networks-4\"><span class=\"toc-item-num\">4&nbsp;&nbsp;</span>Analysing Social Networks</a></span><ul class=\"toc-item\"><li><span><a href=\"#Network-level-measures\" data-toc-modified-id=\"Network-level-measures-4.1\"><span class=\"toc-item-num\">4.1&nbsp;&nbsp;</span>Network-level measures</a></span></li><li><span><a href=\"#Node-level-measures\" data-toc-modified-id=\"Node-level-measures-4.2\"><span class=\"toc-item-num\">4.2&nbsp;&nbsp;</span>Node-level measures</a></span></li><li><span><a href=\"#Tie-level-measures\" data-toc-modified-id=\"Tie-level-measures-4.3\"><span class=\"toc-item-num\">4.3&nbsp;&nbsp;</span>Tie-level measures</a></span></li></ul></li><li><span><a href=\"#Conclusion\" data-toc-modified-id=\"Conclusion-5\"><span class=\"toc-item-num\">5&nbsp;&nbsp;</span>Conclusion</a></span></li><li><span><a href=\"#Bibliography\" data-toc-modified-id=\"Bibliography-6\"><span class=\"toc-item-num\">6&nbsp;&nbsp;</span>Bibliography</a></span></li><li><span><a href=\"#Further-reading-and-resources\" data-toc-modified-id=\"Further-reading-and-resources-7\"><span class=\"toc-item-num\">7&nbsp;&nbsp;</span>Further reading and resources</a></span></li><li><span><a href=\"#Appendices\" data-toc-modified-id=\"Appendices-8\"><span class=\"toc-item-num\">8&nbsp;&nbsp;</span>Appendices</a></span></li></ul></div>"
   ]
  },
  {
   "cell_type": "markdown",
   "metadata": {},
   "source": [
    "## Introduction\n",
    "\n",
    "Vast swathes of our social interactions and personal behaviours are now conducted online and/or captured digitally. Thus, computational methods for collecting, cleaning and analysing data are an increasingly important component of a social scientist’s toolkit.\n",
    "\n",
    "In this training series we cover some of the essential knowledge and skills needed to engage in **Social Network Analysis (SNA)**, a methodological approach that provides concepts, tools and techniques for uncovering and understanding social structures, relations and networks of assocation. We focus on the three major stages of SNA:\n",
    "1. Understanding fundamental concepts and terms [LINK].\n",
    "2. Collecting and cleaning social network data from various sources. [LINK]\n",
    "3. Performing basic and intermediate analyses of social network data. [Focus of this notebook]\n",
    "\n",
    "By the end of these lessons you should be confident in your understanding of key SNA concepts and terms, proficient in the handling and cleaning of social network data, and able to apply a range of analytical techniques to derive substantive insight about social structures and relations. In addition, you will gain fluency in the use of the Python programming language for SNA and other computational social science tasks."
   ]
  },
  {
   "cell_type": "markdown",
   "metadata": {},
   "source": [
    "### Aims\n",
    "\n",
    "This lesson - **Social Network Analysis: Techniques and Methods of Analysis** - has two aims:\n",
    "1. Define and implement a range of social network analytical techniques and measures.\n",
    "2. Cultivate your computational skills through coding examples. For example, there are a number of opportunities for you to exectute and adapt the analyses conducted during this lesson."
   ]
  },
  {
   "cell_type": "markdown",
   "metadata": {},
   "source": [
    "### Lesson details\n",
    "\n",
    "* **Level**: Intermediate, for individuals with some prior knowledge and experience of social network concepts and data.\n",
    "* **Duration**: 30-60 minutes.\n",
    "* **Pre-requisites**: You are strongly encouraged to complete the previous lessons:\n",
    "    * Social Network Analysis: Basic Concepts [LINK]\n",
    "    * o\tSocial Network Analysis: Getting and Marshalling Data [LINK]\n",
    "* **Audience**: Researchers and analysts from any disciplinary background interested in employing network analysis for social science research purposes.\n",
    "* **Programming language**: Python.\n",
    "* **Learning outcomes**:\n",
    "\t1. Understand a range of basic and intermediate analytical methods for use with social network data.\n",
    "\t2. Be able to use Python for analysing social network data."
   ]
  },
  {
   "cell_type": "markdown",
   "metadata": {},
   "source": [
    "## Guide to using this resource\n",
    "\n",
    "This learning resource was built using <a href=\"https://jupyter.org/\" target=_blank>Jupyter Notebook</a>, an open-source software application that allows you to mix code, results and narrative in a single document. As <a href=\"https://jupyter4edu.github.io/jupyter-edu-book/\" target=_blank>Barba et al. (2019)</a> espouse:\n",
    "> In a world where every subject matter can have a data-supported treatment, where computational devices are omnipresent and pervasive, the union of natural language and computation creates compelling communication and learning opportunities.\n",
    "\n",
    "If you are familiar with Jupyter notebooks then skip ahead to the main content (*What is Social Network Analysis?*). Otherwise, the following is a quick guide to navigating and interacting with the notebook."
   ]
  },
  {
   "cell_type": "markdown",
   "metadata": {},
   "source": [
    "### Interaction\n",
    "\n",
    "**You only need to execute the code that is contained in sections which are marked by `In []`.**\n",
    "\n",
    "To execute a cell, click or double-click the cell and press the `Run` button on the top toolbar (you can also use the keyboard shortcut Shift + Enter).\n",
    "\n",
    "Try it for yourself:"
   ]
  },
  {
   "cell_type": "code",
   "execution_count": 4,
   "metadata": {},
   "outputs": [
    {
     "name": "stdout",
     "output_type": "stream",
     "text": [
      "Enter your name and press enter:\n",
      "Diarmuid\n",
      "\n",
      "Hello Diarmuid, enjoy learning more about Python and web-scraping!\n"
     ]
    }
   ],
   "source": [
    "print(\"Enter your name and press enter:\")\n",
    "name = input()\n",
    "print(\"\\r\")\n",
    "print(\"Hello {}, enjoy learning more about Python and SNA!\".format(name))"
   ]
  },
  {
   "cell_type": "markdown",
   "metadata": {},
   "source": [
    "### Learn more\n",
    "\n",
    "Jupyter notebooks provide rich, flexible features for conducting and documenting your data analysis workflow. To learn more about additional notebook features, we recommend working through some of the <a href=\"https://github.com/darribas/gds19/blob/master/content/labs/lab_00.ipynb\" target=_blank>materials</a> provided by Dani Arribas-Bel at the University of Liverpool. "
   ]
  },
  {
   "cell_type": "markdown",
   "metadata": {},
   "source": [
    "## Social Network Analysis: A Refresher"
   ]
  },
  {
   "cell_type": "markdown",
   "metadata": {},
   "source": [
    "[*Write a summary paragraph of what we mean by social network, network analysis, nodes, ties, matrices etc*]"
   ]
  },
  {
   "cell_type": "markdown",
   "metadata": {},
   "source": [
    "## Analysing Social Networks"
   ]
  },
  {
   "cell_type": "markdown",
   "metadata": {},
   "source": [
    "When analysing social networks, we want to produce meaningful summaries of the network as a whole, the nodes contained within it, and the ties connecting the nodes."
   ]
  },
  {
   "cell_type": "markdown",
   "metadata": {},
   "source": [
    "### Network-level measures\n",
    "\n",
    "#### Size\n",
    "\n",
    "*Size* is defined as the number of nodes and ties in a network. It is a simple and interesting measure in its own right, but it is also valuable for standardising other measures. For example, ..."
   ]
  },
  {
   "cell_type": "markdown",
   "metadata": {},
   "source": [
    "We can calculate the number of ties in a network using a simple formula, which we adjust whether we are dealing with a *directed* or *undirected* graph."
   ]
  },
  {
   "cell_type": "markdown",
   "metadata": {},
   "source": [
    "Directed graph:"
   ]
  },
  {
   "cell_type": "markdown",
   "metadata": {},
   "source": [
    "\\begin{equation*}\n",
    "Y = n * (n - 1)\n",
    "\\end{equation*}\n",
    "\n",
    "Where *Y* = number of ties, and *n* = number of nodes"
   ]
  },
  {
   "cell_type": "markdown",
   "metadata": {},
   "source": [
    "Undirected graph:"
   ]
  },
  {
   "cell_type": "markdown",
   "metadata": {},
   "source": [
    "\\begin{equation*}\n",
    "Y = \\frac{n * (n - 1)}{2}\n",
    "\\end{equation*}\n",
    "\n",
    "Where *Y* = number of ties, and *n* = number of nodes"
   ]
  },
  {
   "cell_type": "markdown",
   "metadata": {},
   "source": [
    "[*Include example where individuals can calculate size of a graph using interactive widget that  produces a histogram.*]"
   ]
  },
  {
   "cell_type": "markdown",
   "metadata": {},
   "source": [
    "### Node-level measures"
   ]
  },
  {
   "cell_type": "markdown",
   "metadata": {},
   "source": [
    "### Tie-level measures"
   ]
  },
  {
   "cell_type": "markdown",
   "metadata": {},
   "source": [
    "## Conclusion\n",
    "\n",
    "*SNA and its value and limitations and opportunities*.\n",
    "\n",
    "Good luck on your data-driven travels!"
   ]
  },
  {
   "cell_type": "markdown",
   "metadata": {},
   "source": [
    "## Bibliography\n",
    "\n",
    "Barba, Lorena A. et al. (2019). *Teaching and Learning with Jupyter*. <a href=\"https://jupyter4edu.github.io/jupyter-edu-book/\" target=_blank>https://jupyter4edu.github.io/jupyter-edu-book/</a>.\n",
    "\n",
    "Brooker, P. (2020). *Programming with Python for Social Scientists*. London: SAGE Publications Ltd.\n",
    "\n",
    "Lau, S., Gonzalez, J., & Nolan, D. (n.d.). *Principles and Techniques of Data Science*. https://www.textbook.ds100.org\n",
    "\n",
    "Tagliaferri, L. (n.d.). *How to Code in Python 3*. https://assets.digitalocean.com/books/python/how-to-code-in-python.pdf"
   ]
  },
  {
   "cell_type": "markdown",
   "metadata": {},
   "source": [
    "## Further reading and resources\n",
    "\n",
    "We publish a list of useful books, papers, websites and other resources on our web-scraping Github repository: <a href=\"https://github.com/UKDataServiceOpen/social-network-analysis/tree/master/reading-list/\" target=_blank>[Reading list]</a>\n",
    "\n",
    "The help documentation for the `requests` and `BeautifulSoup` modules is refreshingly readable and useful:\n",
    "* <a href=\"https://requests.readthedocs.io/en/master/\" target=_blank>`requests`</a>\n",
    "* <a href=\"https://www.crummy.com/software/BeautifulSoup/bs4/doc/\" target=_blank>`BeautifulSoup`</a> \n",
    "\n",
    "You may also be interested in the following articles specifically relating to web-scraping:\n",
    "* <a href=\"https://ico.org.uk/for-organisations/guide-to-data-protection\" target=_blank>Guide to Data Protection</a>\n",
    "* <a href=\"https://ocean.sagepub.com/blog/collecting-social-media-data-for-research\" target=_blank>Collecting social media data for research</a>\n",
    "* <a href=\"https://benbernardblog.com/web-scraping-and-crawling-are-perfectly-legal-right/\" target=_blank>Web Scraping and Crawling Are Perfectly Legal, Right?</a>\n",
    "* <a href=\"https://parissmith.co.uk/blog/web-crawling-screen-scraping-legal-position/\" target=_blank>Web Crawling and Screen Scraping – the Legal Position</a>"
   ]
  },
  {
   "cell_type": "markdown",
   "metadata": {},
   "source": [
    "## Appendices"
   ]
  },
  {
   "cell_type": "code",
   "execution_count": null,
   "metadata": {},
   "outputs": [],
   "source": []
  }
 ],
 "metadata": {
  "kernelspec": {
   "display_name": "Python 3",
   "language": "python",
   "name": "python3"
  },
  "language_info": {
   "codemirror_mode": {
    "name": "ipython",
    "version": 3
   },
   "file_extension": ".py",
   "mimetype": "text/x-python",
   "name": "python",
   "nbconvert_exporter": "python",
   "pygments_lexer": "ipython3",
   "version": "3.7.3"
  },
  "toc": {
   "base_numbering": 1,
   "nav_menu": {},
   "number_sections": true,
   "sideBar": false,
   "skip_h1_title": true,
   "title_cell": "Table of Contents",
   "title_sidebar": "Contents",
   "toc_cell": true,
   "toc_position": {},
   "toc_section_display": true,
   "toc_window_display": false
  }
 },
 "nbformat": 4,
 "nbformat_minor": 4
}
