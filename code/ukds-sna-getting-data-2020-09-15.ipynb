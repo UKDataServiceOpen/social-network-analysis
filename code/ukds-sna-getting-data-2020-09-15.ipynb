{
 "cells": [
  {
   "cell_type": "markdown",
   "metadata": {
    "slideshow": {
     "slide_type": "skip"
    }
   },
   "source": [
    "![UKDS Logo](./images/UKDS_Logos_Col_Grey_300dpi.png)"
   ]
  },
  {
   "cell_type": "markdown",
   "metadata": {
    "slideshow": {
     "slide_type": "skip"
    }
   },
   "source": [
    "# Social Network Analysis: Getting and Marshalling Data"
   ]
  },
  {
   "cell_type": "markdown",
   "metadata": {
    "slideshow": {
     "slide_type": "skip"
    }
   },
   "source": [
    "Welcome to the <a href=\"https://ukdataservice.ac.uk/\" target=_blank>UK Data Service</a> training series on *New Forms of Data for Social Science Research*. This series guides you through some of the most common and valuable new sources of data available for social science research: data collected from websites, social media platorms, text data, conducting simulations (agent based modelling), to name a few. To help you get to grips with these new forms of data, we provide webinars, interactive notebooks containing live programming code, reading lists and more.\n",
    "\n",
    "* To access training materials for the entire series: <a href=\"https://github.com/UKDataServiceOpen/new-forms-of-data\" target=_blank>[Training Materials]</a>\n",
    "\n",
    "* To keep up to date with upcoming and past training events: <a href=\"https://ukdataservice.ac.uk/news-and-events/events\" target=_blank>[Events]</a>\n",
    "\n",
    "* To get in contact with feedback, ideas or to seek assistance: <a href=\"https://ukdataservice.ac.uk/help.aspx\" target=_blank>[Help]</a>\n",
    "\n",
    "<a href=\"https://www.research.manchester.ac.uk/portal/julia.kasmire.html\" target=_blank>Dr Julia Kasmire</a> and <a href=\"https://www.research.manchester.ac.uk/portal/diarmuid.mcdonnell.html\" target=_blank>Dr Diarmuid McDonnell</a> <br />\n",
    "UK Data Service  <br />\n",
    "University of Manchester <br />\n",
    "September 2020"
   ]
  },
  {
   "cell_type": "markdown",
   "metadata": {
    "slideshow": {
     "slide_type": "skip"
    },
    "toc": true
   },
   "source": [
    "<h1>Table of Contents<span class=\"tocSkip\"></span></h1>\n",
    "<div class=\"toc\"><ul class=\"toc-item\"><li><span><a href=\"#Introduction\" data-toc-modified-id=\"Introduction-1\"><span class=\"toc-item-num\">1&nbsp;&nbsp;</span>Introduction</a></span><ul class=\"toc-item\"><li><span><a href=\"#Aims\" data-toc-modified-id=\"Aims-1.1\"><span class=\"toc-item-num\">1.1&nbsp;&nbsp;</span>Aims</a></span></li><li><span><a href=\"#Lesson-details\" data-toc-modified-id=\"Lesson-details-1.2\"><span class=\"toc-item-num\">1.2&nbsp;&nbsp;</span>Lesson details</a></span></li></ul></li><li><span><a href=\"#Guide-to-using-this-resource\" data-toc-modified-id=\"Guide-to-using-this-resource-2\"><span class=\"toc-item-num\">2&nbsp;&nbsp;</span>Guide to using this resource</a></span><ul class=\"toc-item\"><li><span><a href=\"#Interaction\" data-toc-modified-id=\"Interaction-2.1\"><span class=\"toc-item-num\">2.1&nbsp;&nbsp;</span>Interaction</a></span></li><li><span><a href=\"#Learn-more\" data-toc-modified-id=\"Learn-more-2.2\"><span class=\"toc-item-num\">2.2&nbsp;&nbsp;</span>Learn more</a></span></li></ul></li><li><span><a href=\"#Social-Network-Analysis:-The-Basics\" data-toc-modified-id=\"Social-Network-Analysis:-The-Basics-3\"><span class=\"toc-item-num\">3&nbsp;&nbsp;</span>Social Network Analysis: The Basics</a></span><ul class=\"toc-item\"><li><span><a href=\"#What-is-Social-Network-Analysis?\" data-toc-modified-id=\"What-is-Social-Network-Analysis?-3.1\"><span class=\"toc-item-num\">3.1&nbsp;&nbsp;</span>What is Social Network Analysis?</a></span></li><li><span><a href=\"#Key-concepts\" data-toc-modified-id=\"Key-concepts-3.2\"><span class=\"toc-item-num\">3.2&nbsp;&nbsp;</span>Key concepts</a></span></li></ul></li><li><span><a href=\"#Collecting-social-network-data\" data-toc-modified-id=\"Collecting-social-network-data-4\"><span class=\"toc-item-num\">4&nbsp;&nbsp;</span>Collecting social network data</a></span><ul class=\"toc-item\"><li><span><a href=\"#Importing-credentials\" data-toc-modified-id=\"Importing-credentials-4.1\"><span class=\"toc-item-num\">4.1&nbsp;&nbsp;</span>Importing credentials</a></span></li><li><span><a href=\"#Authenticating-access\" data-toc-modified-id=\"Authenticating-access-4.2\"><span class=\"toc-item-num\">4.2&nbsp;&nbsp;</span>Authenticating access</a></span></li><li><span><a href=\"#Requesting-data\" data-toc-modified-id=\"Requesting-data-4.3\"><span class=\"toc-item-num\">4.3&nbsp;&nbsp;</span>Requesting data</a></span></li><li><span><a href=\"#Summary\" data-toc-modified-id=\"Summary-4.4\"><span class=\"toc-item-num\">4.4&nbsp;&nbsp;</span>Summary</a></span></li></ul></li><li><span><a href=\"#Converting-to-social-network-data\" data-toc-modified-id=\"Converting-to-social-network-data-5\"><span class=\"toc-item-num\">5&nbsp;&nbsp;</span>Converting to social network data</a></span><ul class=\"toc-item\"><li><span><a href=\"#Creating-an-adjacency-matrix\" data-toc-modified-id=\"Creating-an-adjacency-matrix-5.1\"><span class=\"toc-item-num\">5.1&nbsp;&nbsp;</span>Creating an adjacency matrix</a></span></li></ul></li><li><span><a href=\"#Conclusion\" data-toc-modified-id=\"Conclusion-6\"><span class=\"toc-item-num\">6&nbsp;&nbsp;</span>Conclusion</a></span></li><li><span><a href=\"#Bibliography\" data-toc-modified-id=\"Bibliography-7\"><span class=\"toc-item-num\">7&nbsp;&nbsp;</span>Bibliography</a></span></li><li><span><a href=\"#Further-reading-and-resources\" data-toc-modified-id=\"Further-reading-and-resources-8\"><span class=\"toc-item-num\">8&nbsp;&nbsp;</span>Further reading and resources</a></span></li></ul></div>"
   ]
  },
  {
   "cell_type": "markdown",
   "metadata": {
    "slideshow": {
     "slide_type": "skip"
    }
   },
   "source": [
    "## Introduction\n",
    "\n",
    "Vast swathes of our social interactions and personal behaviours are now conducted online and/or captured digitally. Thus, computational methods for collecting, cleaning and analysing data are an increasingly important component of a social scientist’s toolkit.\n",
    "\n",
    "In this training series we cover some of the essential knowledge and skills needed to engage in **Social Network Analysis (SNA)**, a methodological approach that provides concepts, tools and techniques for uncovering and understanding social structures, relations and networks of assocation. We focus on the three major stages of SNA:\n",
    "1. Understanding fundamental concepts and terms. [ [LINK] ](https://github.com/UKDataServiceOpen/social-network-analysis/blob/master/code/ukds-sna-fundamentals-2020-09-01.ipynb)\n",
    "2. Collecting and cleaning social network data from various sources [Focus of this notebook].\n",
    "3. Performing basic and intermediate analyses of social network data. \n",
    "\n",
    "By the end of these lessons you should be confident in your understanding of key SNA concepts and terms, proficient in the handling and cleaning of social network data, and able to apply a range of analytical techniques to derive substantive insight about social structures and relations. In addition, you will gain fluency in the use of the Python programming language for SNA and other computational social science tasks."
   ]
  },
  {
   "cell_type": "markdown",
   "metadata": {
    "slideshow": {
     "slide_type": "skip"
    }
   },
   "source": [
    "### Aims\n",
    "\n",
    "This lesson - **Social Network Analysis: Getting and Marshalling Data** - has two aims:\n",
    "1. Delineate the key steps in collecting, cleaning and repurposing data for social network analysis.\n",
    "2. Cultivate your computational skills through coding examples. For example, there are a number of opportunities for you to execute the data collection code for your own purposes."
   ]
  },
  {
   "cell_type": "markdown",
   "metadata": {
    "slideshow": {
     "slide_type": "skip"
    }
   },
   "source": [
    "### Lesson details\n",
    "\n",
    "* **Level**: Introductory, for individuals with no prior knowledge or experience of social network analysis.\n",
    "* **Duration**: 45-60 minutes.\n",
    "* **Pre-requisites**: You are encouraged to complete the following previous lessons:\n",
    "    * Social Network Analysis: Basic Concepts [LINK]\n",
    "    * [APIs as a Source of Data](https://github.com/UKDataServiceOpen/web-scraping/tree/master/webinars)\n",
    "* **Audience**: Researchers and analysts from any disciplinary background interested in employing network analysis for social science research purposes.\n",
    "* **Programming language**: Python.\n",
    "* **Learning outcomes**:\n",
    "\t1. Understand the main steps in collecting, cleaning and reshaping data for social network analysis.\n",
    "\t2. Be able to use Python for working with social network data."
   ]
  },
  {
   "cell_type": "markdown",
   "metadata": {
    "slideshow": {
     "slide_type": "skip"
    }
   },
   "source": [
    "## Guide to using this resource\n",
    "\n",
    "This learning resource was built using <a href=\"https://jupyter.org/\" target=_blank>Jupyter Notebook</a>, an open-source software application that allows you to mix code, results and narrative in a single document. As <a href=\"https://jupyter4edu.github.io/jupyter-edu-book/\" target=_blank>Barba et al. (2019)</a> espouse:\n",
    "> In a world where every subject matter can have a data-supported treatment, where computational devices are omnipresent and pervasive, the union of natural language and computation creates compelling communication and learning opportunities.\n",
    "\n",
    "If you are familiar with Jupyter notebooks then skip ahead to the main content (*What is Social Network Analysis?*). Otherwise, the following is a quick guide to navigating and interacting with the notebook."
   ]
  },
  {
   "cell_type": "markdown",
   "metadata": {
    "slideshow": {
     "slide_type": "skip"
    }
   },
   "source": [
    "### Interaction\n",
    "\n",
    "**You only need to execute the code that is contained in sections which are marked by `In []`.**\n",
    "\n",
    "To execute a cell, click or double-click the cell and press the `Run` button on the top toolbar (you can also use the keyboard shortcut Shift + Enter).\n",
    "\n",
    "Try it for yourself:"
   ]
  },
  {
   "cell_type": "code",
   "execution_count": 1,
   "metadata": {
    "slideshow": {
     "slide_type": "skip"
    }
   },
   "outputs": [
    {
     "name": "stdout",
     "output_type": "stream",
     "text": [
      "Enter your name and press enter:\n",
      "Diarmuid\n",
      "\n",
      "Hello Diarmuid, enjoy learning more about Python and SNA!\n"
     ]
    }
   ],
   "source": [
    "print(\"Enter your name and press enter:\")\n",
    "name = input()\n",
    "print(\"\\r\")\n",
    "print(\"Hello {}, enjoy learning more about Python and SNA!\".format(name))"
   ]
  },
  {
   "cell_type": "markdown",
   "metadata": {
    "slideshow": {
     "slide_type": "skip"
    }
   },
   "source": [
    "### Learn more\n",
    "\n",
    "Jupyter notebooks provide rich, flexible features for conducting and documenting your data analysis workflow. To learn more about additional notebook features, we recommend working through some of the <a href=\"https://github.com/darribas/gds19/blob/master/content/labs/lab_00.ipynb\" target=_blank>materials</a> provided by Dani Arribas-Bel at the University of Liverpool. "
   ]
  },
  {
   "cell_type": "markdown",
   "metadata": {
    "slideshow": {
     "slide_type": "skip"
    }
   },
   "source": [
    "## Social Network Analysis: The Basics"
   ]
  },
  {
   "cell_type": "markdown",
   "metadata": {
    "slideshow": {
     "slide_type": "skip"
    }
   },
   "source": [
    "We will quickly cover the essential concepts and elements of Social Network Analysis (SNA), though we strongly advise you to work through our [previous webinar](https://www.youtube.com/watch?v=PJOM0m_WeTA) on this topic."
   ]
  },
  {
   "cell_type": "markdown",
   "metadata": {
    "slideshow": {
     "slide_type": "skip"
    }
   },
   "source": [
    "### What is Social Network Analysis?\n",
    "\n",
    "Social network analysis (SNA) is a methodological and conceptual toolbox for the measurement, systematic description, and analysis of patterns in relational structures in the social world (Caiani, 2014). \n",
    "\n",
    "A relation is a distinctive type of connection or tie between two entities (Wasserman & Faust, 1994). For example, a married couple share a spousal relation, a brother and sister share a sibling relation, co-workers share a collegial relation etc. \n",
    "\n",
    "Relations are the building blocks of networks, and thus SNA is concerned with and most appropriate for analyses of data capturing relations between units of analysis (Scott, 2017)."
   ]
  },
  {
   "cell_type": "markdown",
   "metadata": {
    "slideshow": {
     "slide_type": "skip"
    }
   },
   "source": [
    "### Key concepts\n",
    "\n",
    "A network is constructed from two key components (Owen-Smith, 2017):\n",
    "1. The **entities** that are (or can be) connected.\n",
    "2. The **connections** that exist (or could exist) between entities.\n",
    "\n",
    "For example, a family tree is a network containing individuals (entities) that are related through some type of familial tie (connection). Therefore a network is an aggregation or collection of these entities and their connections. For example, here is the familial network of the members of the UK Royal Family ([BBC, 2020](https://www.bbc.com/news/uk-23272491\n",
    ")):"
   ]
  },
  {
   "cell_type": "markdown",
   "metadata": {
    "slideshow": {
     "slide_type": "skip"
    }
   },
   "source": [
    "![UK Royal Family](./images/royal-family.png)"
   ]
  },
  {
   "cell_type": "markdown",
   "metadata": {
    "slideshow": {
     "slide_type": "slide"
    }
   },
   "source": [
    "## Collecting social network data"
   ]
  },
  {
   "cell_type": "markdown",
   "metadata": {
    "slideshow": {
     "slide_type": "notes"
    }
   },
   "source": [
    "In this section we demonstrate how to collect data from the Twitter API."
   ]
  },
  {
   "cell_type": "code",
   "execution_count": 2,
   "metadata": {
    "slideshow": {
     "slide_type": "subslide"
    }
   },
   "outputs": [],
   "source": [
    "import tweepy # Twitter API\n",
    "import json # JSON manipulation\n",
    "import pandas as pd # data manipulation\n",
    "from datetime import datetime as dt # datetime parsing and manipulation"
   ]
  },
  {
   "cell_type": "markdown",
   "metadata": {
    "slideshow": {
     "slide_type": "subslide"
    }
   },
   "source": [
    "### Importing credentials"
   ]
  },
  {
   "cell_type": "markdown",
   "metadata": {
    "slideshow": {
     "slide_type": "notes"
    }
   },
   "source": [
    "The first thing we need to do is load in our Twitter API credentials: these are the set of consumer and/or access information that we need to provide the API for authentication purposes (i.e., prove who we are).\n",
    "\n",
    "These details are confidential and sensitive, therefore it is best to stored them in a separate file that no-one else should have access to. To show you what these details look like, we'll import some fake credentials from a file."
   ]
  },
  {
   "cell_type": "code",
   "execution_count": 3,
   "metadata": {
    "slideshow": {
     "slide_type": "subslide"
    }
   },
   "outputs": [],
   "source": [
    "with open(\"./twitter-api-credentials-fake.json\", \"r\") as f:\n",
    "    tokens = json.load(f)\n",
    "\n",
    "consumer_key = tokens[\"consumer_key\"] # user credentials\n",
    "consumer_secret = tokens[\"consumer_secret\"] # user credentials\n",
    "access_token = tokens[\"access_token\"] # access/use credentials\n",
    "access_token_secret = tokens[\"access_token_secret\"] # access/use credentials"
   ]
  },
  {
   "cell_type": "code",
   "execution_count": 4,
   "metadata": {
    "slideshow": {
     "slide_type": "subslide"
    }
   },
   "outputs": [
    {
     "name": "stdout",
     "output_type": "stream",
     "text": [
      "User credentials:  this-is-me  |  super-secret-credentials\n",
      "\r\n",
      "Access credentials:  fd4fds5fsfsdfsd6fs6f5dsf  |  blahblahblah\n"
     ]
    }
   ],
   "source": [
    "print(\"User credentials: \", consumer_key, \" | \", consumer_secret)\n",
    "print(\"\\r\")\n",
    "print(\"Access credentials: \", access_token, \" | \", access_token_secret)"
   ]
  },
  {
   "cell_type": "markdown",
   "metadata": {
    "slideshow": {
     "slide_type": "notes"
    }
   },
   "source": [
    "OK, now let's load in the real credentials but neglect to display to screen. As the rest of this lesson focuses on requesting **publicly available** information on Twitter, we do not need the access tokens."
   ]
  },
  {
   "cell_type": "code",
   "execution_count": 5,
   "metadata": {
    "slideshow": {
     "slide_type": "subslide"
    }
   },
   "outputs": [],
   "source": [
    "with open(\"./twitter-api-credentials.json\", \"r\") as f:\n",
    "    tokens = json.load(f)\n",
    "\n",
    "consumer_key = tokens[\"api_key\"] # user credentials\n",
    "consumer_secret = tokens[\"api_key_secret\"] # user credentials"
   ]
  },
  {
   "cell_type": "markdown",
   "metadata": {
    "slideshow": {
     "slide_type": "fragment"
    }
   },
   "source": [
    "**If you are executing the code in this notebook, you must supply your own credentials as mine cannot be shared with you.**"
   ]
  },
  {
   "cell_type": "markdown",
   "metadata": {
    "slideshow": {
     "slide_type": "subslide"
    }
   },
   "source": [
    "### Authenticating access"
   ]
  },
  {
   "cell_type": "markdown",
   "metadata": {
    "slideshow": {
     "slide_type": "notes"
    }
   },
   "source": [
    "We now supply these credentials to the Twitter API using the `tweepy` module:"
   ]
  },
  {
   "cell_type": "code",
   "execution_count": 6,
   "metadata": {
    "slideshow": {
     "slide_type": "subslide"
    }
   },
   "outputs": [],
   "source": [
    "auth = tweepy.AppAuthHandler(consumer_key, consumer_secret)\n",
    "api = tweepy.API(auth)"
   ]
  },
  {
   "cell_type": "markdown",
   "metadata": {
    "slideshow": {
     "slide_type": "notes"
    }
   },
   "source": [
    "As a quick demonstration, let's confirm we have authenticated access to the API by performing a search of public tweets for my (Diarmuid) name:"
   ]
  },
  {
   "cell_type": "code",
   "execution_count": 7,
   "metadata": {
    "slideshow": {
     "slide_type": "subslide"
    }
   },
   "outputs": [
    {
     "name": "stdout",
     "output_type": "stream",
     "text": [
      "@FitzoSligo @EwanMacKenna @Diarmuid_9 @JenniferMaguire That’s aimed at Brendain not Ewan btw.\n",
      "@FitzoSligo @EwanMacKenna @Diarmuid_9 @JenniferMaguire The only dangerous dimwit here is you suggesting there are n… https://t.co/Z1SSgRujTw\n",
      "(To Sakura) \"A smile can get you out of a tough situation, even if it is fake.\" (Sai)\n",
      "https://t.co/jHQg3U1wzH\n",
      "やばばばばばばばばばばばばばばばばばばばばばばばばばばばばば https://t.co/hIACJFykpS\n",
      "@JB17_ Agora que vi que cê tem um canal no yt\n",
      "ヒカラファやっぱりおもろいわ〜。\n",
      "@Diarmuid_ua_dui gud\n",
      "@JB17_ Gud morning Jay\n",
      "@WilsonHolanda Isso mesmo Wilson.\n",
      "\n",
      "Já ouviu falar da iniciativa Salvadores?\n"
     ]
    }
   ],
   "source": [
    "for tweet in tweepy.Cursor(api.search, q=\"diarmuid\").items(10):\n",
    "    print(tweet.text)"
   ]
  },
  {
   "cell_type": "markdown",
   "metadata": {
    "slideshow": {
     "slide_type": "subslide"
    }
   },
   "source": [
    "### Requesting data"
   ]
  },
  {
   "cell_type": "markdown",
   "metadata": {
    "slideshow": {
     "slide_type": "notes"
    }
   },
   "source": [
    "Let's run through some examples of requesting data from the Twitter API using the `tweepy` module. First we will request information about the authenticated user (me):"
   ]
  },
  {
   "cell_type": "code",
   "execution_count": 8,
   "metadata": {
    "slideshow": {
     "slide_type": "subslide"
    }
   },
   "outputs": [
    {
     "data": {
      "text/plain": [
       "User(_api=<tweepy.api.API object at 0x00000211D7ADE358>, _json={'id': 111626905, 'id_str': '111626905', 'name': 'Diarmuid McDonnell', 'screen_name': 'DiarmuidMc', 'location': 'Glasgow, Scotland', 'profile_location': None, 'description': 'Research Associate, UK Data Service, University of Manchester.', 'url': 'https://t.co/9OKPaF33DL', 'entities': {'url': {'urls': [{'url': 'https://t.co/9OKPaF33DL', 'expanded_url': 'https://diarmuidm.github.io/', 'display_url': 'diarmuidm.github.io', 'indices': [0, 23]}]}, 'description': {'urls': []}}, 'protected': False, 'followers_count': 300, 'friends_count': 505, 'listed_count': 4, 'created_at': 'Fri Feb 05 15:59:41 +0000 2010', 'favourites_count': 5767, 'utc_offset': None, 'time_zone': None, 'geo_enabled': True, 'verified': False, 'statuses_count': 424, 'lang': None, 'status': {'created_at': 'Tue Sep 15 10:43:04 +0000 2020', 'id': 1305819415804608515, 'id_str': '1305819415804608515', 'text': \"RT @FlipChartRick: @chrisgreybrexit I agree but I think the slide in the UK's reputation started under Cameron. https://t.co/aiQEBYHLe1\", 'truncated': False, 'entities': {'hashtags': [], 'symbols': [], 'user_mentions': [{'screen_name': 'FlipChartRick', 'name': 'Rick', 'id': 142318717, 'id_str': '142318717', 'indices': [3, 17]}, {'screen_name': 'chrisgreybrexit', 'name': 'Chris Grey', 'id': 830808076756328448, 'id_str': '830808076756328448', 'indices': [19, 35]}], 'urls': [{'url': 'https://t.co/aiQEBYHLe1', 'expanded_url': 'https://flipchartfairytales.wordpress.com/2020/09/14/britains-reputation-trashed-for-the-sake-of-a-three-word-slogan/', 'display_url': 'flipchartfairytales.wordpress.com/2020/09/14/bri…', 'indices': [112, 135]}]}, 'source': '<a href=\"https://mobile.twitter.com\" rel=\"nofollow\">Twitter Web App</a>', 'in_reply_to_status_id': None, 'in_reply_to_status_id_str': None, 'in_reply_to_user_id': None, 'in_reply_to_user_id_str': None, 'in_reply_to_screen_name': None, 'geo': None, 'coordinates': None, 'place': None, 'contributors': None, 'retweeted_status': {'created_at': 'Tue Sep 15 08:55:58 +0000 2020', 'id': 1305792464062644225, 'id_str': '1305792464062644225', 'text': \"@chrisgreybrexit I agree but I think the slide in the UK's reputation started under Cameron. https://t.co/aiQEBYHLe1\", 'truncated': False, 'entities': {'hashtags': [], 'symbols': [], 'user_mentions': [{'screen_name': 'chrisgreybrexit', 'name': 'Chris Grey', 'id': 830808076756328448, 'id_str': '830808076756328448', 'indices': [0, 16]}], 'urls': [{'url': 'https://t.co/aiQEBYHLe1', 'expanded_url': 'https://flipchartfairytales.wordpress.com/2020/09/14/britains-reputation-trashed-for-the-sake-of-a-three-word-slogan/', 'display_url': 'flipchartfairytales.wordpress.com/2020/09/14/bri…', 'indices': [93, 116]}]}, 'source': '<a href=\"https://mobile.twitter.com\" rel=\"nofollow\">Twitter Web App</a>', 'in_reply_to_status_id': 1305769729018286080, 'in_reply_to_status_id_str': '1305769729018286080', 'in_reply_to_user_id': 830808076756328448, 'in_reply_to_user_id_str': '830808076756328448', 'in_reply_to_screen_name': 'chrisgreybrexit', 'geo': None, 'coordinates': None, 'place': None, 'contributors': None, 'is_quote_status': False, 'retweet_count': 15, 'favorite_count': 48, 'favorited': False, 'retweeted': False, 'possibly_sensitive': False, 'lang': 'en'}, 'is_quote_status': False, 'retweet_count': 15, 'favorite_count': 0, 'favorited': False, 'retweeted': False, 'possibly_sensitive': False, 'lang': 'en'}, 'contributors_enabled': False, 'is_translator': False, 'is_translation_enabled': False, 'profile_background_color': 'C6E2EE', 'profile_background_image_url': 'http://abs.twimg.com/images/themes/theme2/bg.gif', 'profile_background_image_url_https': 'https://abs.twimg.com/images/themes/theme2/bg.gif', 'profile_background_tile': False, 'profile_image_url': 'http://pbs.twimg.com/profile_images/733247863870902272/HXCYxGYf_normal.jpg', 'profile_image_url_https': 'https://pbs.twimg.com/profile_images/733247863870902272/HXCYxGYf_normal.jpg', 'profile_link_color': '1F98C7', 'profile_sidebar_border_color': 'C6E2EE', 'profile_sidebar_fill_color': 'DAECF4', 'profile_text_color': '663B12', 'profile_use_background_image': True, 'has_extended_profile': True, 'default_profile': False, 'default_profile_image': False, 'following': None, 'follow_request_sent': None, 'notifications': None, 'translator_type': 'none'}, id=111626905, id_str='111626905', name='Diarmuid McDonnell', screen_name='DiarmuidMc', location='Glasgow, Scotland', profile_location=None, description='Research Associate, UK Data Service, University of Manchester.', url='https://t.co/9OKPaF33DL', entities={'url': {'urls': [{'url': 'https://t.co/9OKPaF33DL', 'expanded_url': 'https://diarmuidm.github.io/', 'display_url': 'diarmuidm.github.io', 'indices': [0, 23]}]}, 'description': {'urls': []}}, protected=False, followers_count=300, friends_count=505, listed_count=4, created_at=datetime.datetime(2010, 2, 5, 15, 59, 41), favourites_count=5767, utc_offset=None, time_zone=None, geo_enabled=True, verified=False, statuses_count=424, lang=None, status=Status(_api=<tweepy.api.API object at 0x00000211D7ADE358>, _json={'created_at': 'Tue Sep 15 10:43:04 +0000 2020', 'id': 1305819415804608515, 'id_str': '1305819415804608515', 'text': \"RT @FlipChartRick: @chrisgreybrexit I agree but I think the slide in the UK's reputation started under Cameron. https://t.co/aiQEBYHLe1\", 'truncated': False, 'entities': {'hashtags': [], 'symbols': [], 'user_mentions': [{'screen_name': 'FlipChartRick', 'name': 'Rick', 'id': 142318717, 'id_str': '142318717', 'indices': [3, 17]}, {'screen_name': 'chrisgreybrexit', 'name': 'Chris Grey', 'id': 830808076756328448, 'id_str': '830808076756328448', 'indices': [19, 35]}], 'urls': [{'url': 'https://t.co/aiQEBYHLe1', 'expanded_url': 'https://flipchartfairytales.wordpress.com/2020/09/14/britains-reputation-trashed-for-the-sake-of-a-three-word-slogan/', 'display_url': 'flipchartfairytales.wordpress.com/2020/09/14/bri…', 'indices': [112, 135]}]}, 'source': '<a href=\"https://mobile.twitter.com\" rel=\"nofollow\">Twitter Web App</a>', 'in_reply_to_status_id': None, 'in_reply_to_status_id_str': None, 'in_reply_to_user_id': None, 'in_reply_to_user_id_str': None, 'in_reply_to_screen_name': None, 'geo': None, 'coordinates': None, 'place': None, 'contributors': None, 'retweeted_status': {'created_at': 'Tue Sep 15 08:55:58 +0000 2020', 'id': 1305792464062644225, 'id_str': '1305792464062644225', 'text': \"@chrisgreybrexit I agree but I think the slide in the UK's reputation started under Cameron. https://t.co/aiQEBYHLe1\", 'truncated': False, 'entities': {'hashtags': [], 'symbols': [], 'user_mentions': [{'screen_name': 'chrisgreybrexit', 'name': 'Chris Grey', 'id': 830808076756328448, 'id_str': '830808076756328448', 'indices': [0, 16]}], 'urls': [{'url': 'https://t.co/aiQEBYHLe1', 'expanded_url': 'https://flipchartfairytales.wordpress.com/2020/09/14/britains-reputation-trashed-for-the-sake-of-a-three-word-slogan/', 'display_url': 'flipchartfairytales.wordpress.com/2020/09/14/bri…', 'indices': [93, 116]}]}, 'source': '<a href=\"https://mobile.twitter.com\" rel=\"nofollow\">Twitter Web App</a>', 'in_reply_to_status_id': 1305769729018286080, 'in_reply_to_status_id_str': '1305769729018286080', 'in_reply_to_user_id': 830808076756328448, 'in_reply_to_user_id_str': '830808076756328448', 'in_reply_to_screen_name': 'chrisgreybrexit', 'geo': None, 'coordinates': None, 'place': None, 'contributors': None, 'is_quote_status': False, 'retweet_count': 15, 'favorite_count': 48, 'favorited': False, 'retweeted': False, 'possibly_sensitive': False, 'lang': 'en'}, 'is_quote_status': False, 'retweet_count': 15, 'favorite_count': 0, 'favorited': False, 'retweeted': False, 'possibly_sensitive': False, 'lang': 'en'}, created_at=datetime.datetime(2020, 9, 15, 10, 43, 4), id=1305819415804608515, id_str='1305819415804608515', text=\"RT @FlipChartRick: @chrisgreybrexit I agree but I think the slide in the UK's reputation started under Cameron. https://t.co/aiQEBYHLe1\", truncated=False, entities={'hashtags': [], 'symbols': [], 'user_mentions': [{'screen_name': 'FlipChartRick', 'name': 'Rick', 'id': 142318717, 'id_str': '142318717', 'indices': [3, 17]}, {'screen_name': 'chrisgreybrexit', 'name': 'Chris Grey', 'id': 830808076756328448, 'id_str': '830808076756328448', 'indices': [19, 35]}], 'urls': [{'url': 'https://t.co/aiQEBYHLe1', 'expanded_url': 'https://flipchartfairytales.wordpress.com/2020/09/14/britains-reputation-trashed-for-the-sake-of-a-three-word-slogan/', 'display_url': 'flipchartfairytales.wordpress.com/2020/09/14/bri…', 'indices': [112, 135]}]}, source='Twitter Web App', source_url='https://mobile.twitter.com', in_reply_to_status_id=None, in_reply_to_status_id_str=None, in_reply_to_user_id=None, in_reply_to_user_id_str=None, in_reply_to_screen_name=None, geo=None, coordinates=None, place=None, contributors=None, retweeted_status=Status(_api=<tweepy.api.API object at 0x00000211D7ADE358>, _json={'created_at': 'Tue Sep 15 08:55:58 +0000 2020', 'id': 1305792464062644225, 'id_str': '1305792464062644225', 'text': \"@chrisgreybrexit I agree but I think the slide in the UK's reputation started under Cameron. https://t.co/aiQEBYHLe1\", 'truncated': False, 'entities': {'hashtags': [], 'symbols': [], 'user_mentions': [{'screen_name': 'chrisgreybrexit', 'name': 'Chris Grey', 'id': 830808076756328448, 'id_str': '830808076756328448', 'indices': [0, 16]}], 'urls': [{'url': 'https://t.co/aiQEBYHLe1', 'expanded_url': 'https://flipchartfairytales.wordpress.com/2020/09/14/britains-reputation-trashed-for-the-sake-of-a-three-word-slogan/', 'display_url': 'flipchartfairytales.wordpress.com/2020/09/14/bri…', 'indices': [93, 116]}]}, 'source': '<a href=\"https://mobile.twitter.com\" rel=\"nofollow\">Twitter Web App</a>', 'in_reply_to_status_id': 1305769729018286080, 'in_reply_to_status_id_str': '1305769729018286080', 'in_reply_to_user_id': 830808076756328448, 'in_reply_to_user_id_str': '830808076756328448', 'in_reply_to_screen_name': 'chrisgreybrexit', 'geo': None, 'coordinates': None, 'place': None, 'contributors': None, 'is_quote_status': False, 'retweet_count': 15, 'favorite_count': 48, 'favorited': False, 'retweeted': False, 'possibly_sensitive': False, 'lang': 'en'}, created_at=datetime.datetime(2020, 9, 15, 8, 55, 58), id=1305792464062644225, id_str='1305792464062644225', text=\"@chrisgreybrexit I agree but I think the slide in the UK's reputation started under Cameron. https://t.co/aiQEBYHLe1\", truncated=False, entities={'hashtags': [], 'symbols': [], 'user_mentions': [{'screen_name': 'chrisgreybrexit', 'name': 'Chris Grey', 'id': 830808076756328448, 'id_str': '830808076756328448', 'indices': [0, 16]}], 'urls': [{'url': 'https://t.co/aiQEBYHLe1', 'expanded_url': 'https://flipchartfairytales.wordpress.com/2020/09/14/britains-reputation-trashed-for-the-sake-of-a-three-word-slogan/', 'display_url': 'flipchartfairytales.wordpress.com/2020/09/14/bri…', 'indices': [93, 116]}]}, source='Twitter Web App', source_url='https://mobile.twitter.com', in_reply_to_status_id=1305769729018286080, in_reply_to_status_id_str='1305769729018286080', in_reply_to_user_id=830808076756328448, in_reply_to_user_id_str='830808076756328448', in_reply_to_screen_name='chrisgreybrexit', geo=None, coordinates=None, place=None, contributors=None, is_quote_status=False, retweet_count=15, favorite_count=48, favorited=False, retweeted=False, possibly_sensitive=False, lang='en'), is_quote_status=False, retweet_count=15, favorite_count=0, favorited=False, retweeted=False, possibly_sensitive=False, lang='en'), contributors_enabled=False, is_translator=False, is_translation_enabled=False, profile_background_color='C6E2EE', profile_background_image_url='http://abs.twimg.com/images/themes/theme2/bg.gif', profile_background_image_url_https='https://abs.twimg.com/images/themes/theme2/bg.gif', profile_background_tile=False, profile_image_url='http://pbs.twimg.com/profile_images/733247863870902272/HXCYxGYf_normal.jpg', profile_image_url_https='https://pbs.twimg.com/profile_images/733247863870902272/HXCYxGYf_normal.jpg', profile_link_color='1F98C7', profile_sidebar_border_color='C6E2EE', profile_sidebar_fill_color='DAECF4', profile_text_color='663B12', profile_use_background_image=True, has_extended_profile=True, default_profile=False, default_profile_image=False, following=False, follow_request_sent=None, notifications=None, translator_type='none')"
      ]
     },
     "execution_count": 8,
     "metadata": {},
     "output_type": "execute_result"
    }
   ],
   "source": [
    "api.get_user(\"DiarmuidMc\")"
   ]
  },
  {
   "cell_type": "markdown",
   "metadata": {
    "slideshow": {
     "slide_type": "notes"
    }
   },
   "source": [
    "The `get_user()` method returns lots of information about the user account *DiarmuidMc*. If we were so inclined, we could request information about a different user:"
   ]
  },
  {
   "cell_type": "code",
   "execution_count": 9,
   "metadata": {
    "slideshow": {
     "slide_type": "subslide"
    }
   },
   "outputs": [
    {
     "data": {
      "text/plain": [
       "User(_api=<tweepy.api.API object at 0x00000211D7ADE358>, _json={'id': 3131144855, 'id_str': '3131144855', 'name': 'Boris Johnson', 'screen_name': 'BorisJohnson', 'location': 'United Kingdom', 'profile_location': None, 'description': 'Prime Minister of the United Kingdom and @Conservatives leader. Member of Parliament for Uxbridge and South Ruislip.', 'url': 'https://t.co/cEV9soNllt', 'entities': {'url': {'urls': [{'url': 'https://t.co/cEV9soNllt', 'expanded_url': 'http://gov.uk/coronavirus', 'display_url': 'gov.uk/coronavirus', 'indices': [0, 23]}]}, 'description': {'urls': []}}, 'protected': False, 'followers_count': 2999536, 'friends_count': 457, 'listed_count': 6900, 'created_at': 'Wed Apr 01 20:15:49 +0000 2015', 'favourites_count': 438, 'utc_offset': None, 'time_zone': None, 'geo_enabled': True, 'verified': True, 'statuses_count': 3870, 'lang': None, 'status': {'created_at': 'Tue Sep 15 12:06:42 +0000 2020', 'id': 1305840465158254594, 'id_str': '1305840465158254594', 'text': 'We’re introducing tougher sentencing for the most dangerous criminals, making public safety the single most importa… https://t.co/bFN34iVJrR', 'truncated': True, 'entities': {'hashtags': [], 'symbols': [], 'user_mentions': [], 'urls': [{'url': 'https://t.co/bFN34iVJrR', 'expanded_url': 'https://twitter.com/i/web/status/1305840465158254594', 'display_url': 'twitter.com/i/web/status/1…', 'indices': [117, 140]}]}, 'source': '<a href=\"https://studio.twitter.com\" rel=\"nofollow\">Twitter Media Studio</a>', 'in_reply_to_status_id': None, 'in_reply_to_status_id_str': None, 'in_reply_to_user_id': None, 'in_reply_to_user_id_str': None, 'in_reply_to_screen_name': None, 'geo': None, 'coordinates': None, 'place': None, 'contributors': None, 'is_quote_status': False, 'retweet_count': 389, 'favorite_count': 2051, 'favorited': False, 'retweeted': False, 'possibly_sensitive': False, 'lang': 'en'}, 'contributors_enabled': False, 'is_translator': False, 'is_translation_enabled': True, 'profile_background_color': '000000', 'profile_background_image_url': 'http://abs.twimg.com/images/themes/theme1/bg.png', 'profile_background_image_url_https': 'https://abs.twimg.com/images/themes/theme1/bg.png', 'profile_background_tile': False, 'profile_image_url': 'http://pbs.twimg.com/profile_images/1200430685560983553/xRebdCDg_normal.jpg', 'profile_image_url_https': 'https://pbs.twimg.com/profile_images/1200430685560983553/xRebdCDg_normal.jpg', 'profile_banner_url': 'https://pbs.twimg.com/profile_banners/3131144855/1596209210', 'profile_link_color': '2D5CA7', 'profile_sidebar_border_color': '000000', 'profile_sidebar_fill_color': '000000', 'profile_text_color': '000000', 'profile_use_background_image': False, 'has_extended_profile': False, 'default_profile': False, 'default_profile_image': False, 'following': None, 'follow_request_sent': None, 'notifications': None, 'translator_type': 'none'}, id=3131144855, id_str='3131144855', name='Boris Johnson', screen_name='BorisJohnson', location='United Kingdom', profile_location=None, description='Prime Minister of the United Kingdom and @Conservatives leader. Member of Parliament for Uxbridge and South Ruislip.', url='https://t.co/cEV9soNllt', entities={'url': {'urls': [{'url': 'https://t.co/cEV9soNllt', 'expanded_url': 'http://gov.uk/coronavirus', 'display_url': 'gov.uk/coronavirus', 'indices': [0, 23]}]}, 'description': {'urls': []}}, protected=False, followers_count=2999536, friends_count=457, listed_count=6900, created_at=datetime.datetime(2015, 4, 1, 20, 15, 49), favourites_count=438, utc_offset=None, time_zone=None, geo_enabled=True, verified=True, statuses_count=3870, lang=None, status=Status(_api=<tweepy.api.API object at 0x00000211D7ADE358>, _json={'created_at': 'Tue Sep 15 12:06:42 +0000 2020', 'id': 1305840465158254594, 'id_str': '1305840465158254594', 'text': 'We’re introducing tougher sentencing for the most dangerous criminals, making public safety the single most importa… https://t.co/bFN34iVJrR', 'truncated': True, 'entities': {'hashtags': [], 'symbols': [], 'user_mentions': [], 'urls': [{'url': 'https://t.co/bFN34iVJrR', 'expanded_url': 'https://twitter.com/i/web/status/1305840465158254594', 'display_url': 'twitter.com/i/web/status/1…', 'indices': [117, 140]}]}, 'source': '<a href=\"https://studio.twitter.com\" rel=\"nofollow\">Twitter Media Studio</a>', 'in_reply_to_status_id': None, 'in_reply_to_status_id_str': None, 'in_reply_to_user_id': None, 'in_reply_to_user_id_str': None, 'in_reply_to_screen_name': None, 'geo': None, 'coordinates': None, 'place': None, 'contributors': None, 'is_quote_status': False, 'retweet_count': 389, 'favorite_count': 2051, 'favorited': False, 'retweeted': False, 'possibly_sensitive': False, 'lang': 'en'}, created_at=datetime.datetime(2020, 9, 15, 12, 6, 42), id=1305840465158254594, id_str='1305840465158254594', text='We’re introducing tougher sentencing for the most dangerous criminals, making public safety the single most importa… https://t.co/bFN34iVJrR', truncated=True, entities={'hashtags': [], 'symbols': [], 'user_mentions': [], 'urls': [{'url': 'https://t.co/bFN34iVJrR', 'expanded_url': 'https://twitter.com/i/web/status/1305840465158254594', 'display_url': 'twitter.com/i/web/status/1…', 'indices': [117, 140]}]}, source='Twitter Media Studio', source_url='https://studio.twitter.com', in_reply_to_status_id=None, in_reply_to_status_id_str=None, in_reply_to_user_id=None, in_reply_to_user_id_str=None, in_reply_to_screen_name=None, geo=None, coordinates=None, place=None, contributors=None, is_quote_status=False, retweet_count=389, favorite_count=2051, favorited=False, retweeted=False, possibly_sensitive=False, lang='en'), contributors_enabled=False, is_translator=False, is_translation_enabled=True, profile_background_color='000000', profile_background_image_url='http://abs.twimg.com/images/themes/theme1/bg.png', profile_background_image_url_https='https://abs.twimg.com/images/themes/theme1/bg.png', profile_background_tile=False, profile_image_url='http://pbs.twimg.com/profile_images/1200430685560983553/xRebdCDg_normal.jpg', profile_image_url_https='https://pbs.twimg.com/profile_images/1200430685560983553/xRebdCDg_normal.jpg', profile_banner_url='https://pbs.twimg.com/profile_banners/3131144855/1596209210', profile_link_color='2D5CA7', profile_sidebar_border_color='000000', profile_sidebar_fill_color='000000', profile_text_color='000000', profile_use_background_image=False, has_extended_profile=False, default_profile=False, default_profile_image=False, following=False, follow_request_sent=None, notifications=None, translator_type='none')"
      ]
     },
     "execution_count": 9,
     "metadata": {},
     "output_type": "execute_result"
    }
   ],
   "source": [
    "api.get_user(\"BorisJohnson\")"
   ]
  },
  {
   "cell_type": "markdown",
   "metadata": {
    "slideshow": {
     "slide_type": "notes"
    }
   },
   "source": [
    "We won't concern ourselves with the content of the information that is returned by the request just yet, but you can view the help documentation for [`tweepy`](http://docs.tweepy.org/en/latest/api.html) and the [Twitter API](https://developer.twitter.com/en/docs/twitter-api/v1/data-dictionary/overview/user-object) to learn more. "
   ]
  },
  {
   "cell_type": "markdown",
   "metadata": {
    "slideshow": {
     "slide_type": "subslide"
    }
   },
   "source": [
    "Now let's move onto a more substantive concern, the one I stated was the purpose of my use of the Twitter API. Let's see if we can search through a charity's Twitter account for tweets referencing solicitations for donations or just generally related to fundraising.\n",
    "\n",
    "We'll focus on the [Royal National Lifeboat Institution (RNLI)](https://rnli.org/) Twitter account."
   ]
  },
  {
   "cell_type": "code",
   "execution_count": 10,
   "metadata": {
    "slideshow": {
     "slide_type": "subslide"
    }
   },
   "outputs": [
    {
     "data": {
      "text/plain": [
       "[Status(_api=<tweepy.api.API object at 0x00000211D7ADE358>, _json={'created_at': 'Tue Sep 15 11:51:19 +0000 2020', 'id': 1305836591013912578, 'id_str': '1305836591013912578', 'text': 'In 1942, Wells crew members went to the aid of a Lancaster Bomber. Despite the dangers of being submerged, Coxswain… https://t.co/G4M4q50DqF', 'truncated': True, 'entities': {'hashtags': [], 'symbols': [], 'user_mentions': [], 'urls': [{'url': 'https://t.co/G4M4q50DqF', 'expanded_url': 'https://twitter.com/i/web/status/1305836591013912578', 'display_url': 'twitter.com/i/web/status/1…', 'indices': [117, 140]}]}, 'source': '<a href=\"https://mobile.twitter.com\" rel=\"nofollow\">Twitter Web App</a>', 'in_reply_to_status_id': 1305836586903515136, 'in_reply_to_status_id_str': '1305836586903515136', 'in_reply_to_user_id': 24916036, 'in_reply_to_user_id_str': '24916036', 'in_reply_to_screen_name': 'RNLI', 'user': {'id': 24916036, 'id_str': '24916036', 'name': 'RNLI', 'screen_name': 'RNLI', 'location': 'The UK & Republic of Ireland', 'description': 'The charity that saves lives at sea.', 'url': 'https://t.co/q5FkjRUXJA', 'entities': {'url': {'urls': [{'url': 'https://t.co/q5FkjRUXJA', 'expanded_url': 'http://bit.ly/SaveLivesAtSea2', 'display_url': 'bit.ly/SaveLivesAtSea2', 'indices': [0, 23]}]}, 'description': {'urls': []}}, 'protected': False, 'followers_count': 154797, 'friends_count': 11447, 'listed_count': 1237, 'created_at': 'Tue Mar 17 17:21:31 +0000 2009', 'favourites_count': 94000, 'utc_offset': None, 'time_zone': None, 'geo_enabled': True, 'verified': True, 'statuses_count': 70946, 'lang': None, 'contributors_enabled': False, 'is_translator': False, 'is_translation_enabled': False, 'profile_background_color': 'FFFFFF', 'profile_background_image_url': 'http://abs.twimg.com/images/themes/theme1/bg.png', 'profile_background_image_url_https': 'https://abs.twimg.com/images/themes/theme1/bg.png', 'profile_background_tile': False, 'profile_image_url': 'http://pbs.twimg.com/profile_images/517948939182428160/b9fMWRqF_normal.png', 'profile_image_url_https': 'https://pbs.twimg.com/profile_images/517948939182428160/b9fMWRqF_normal.png', 'profile_banner_url': 'https://pbs.twimg.com/profile_banners/24916036/1599571460', 'profile_link_color': 'FF691F', 'profile_sidebar_border_color': '000000', 'profile_sidebar_fill_color': 'D6EBFF', 'profile_text_color': '333333', 'profile_use_background_image': False, 'has_extended_profile': True, 'default_profile': False, 'default_profile_image': False, 'following': None, 'follow_request_sent': None, 'notifications': None, 'translator_type': 'none'}, 'geo': None, 'coordinates': None, 'place': None, 'contributors': None, 'is_quote_status': False, 'retweet_count': 0, 'favorite_count': 14, 'favorited': False, 'retweeted': False, 'possibly_sensitive': False, 'lang': 'en'}, created_at=datetime.datetime(2020, 9, 15, 11, 51, 19), id=1305836591013912578, id_str='1305836591013912578', text='In 1942, Wells crew members went to the aid of a Lancaster Bomber. Despite the dangers of being submerged, Coxswain… https://t.co/G4M4q50DqF', truncated=True, entities={'hashtags': [], 'symbols': [], 'user_mentions': [], 'urls': [{'url': 'https://t.co/G4M4q50DqF', 'expanded_url': 'https://twitter.com/i/web/status/1305836591013912578', 'display_url': 'twitter.com/i/web/status/1…', 'indices': [117, 140]}]}, source='Twitter Web App', source_url='https://mobile.twitter.com', in_reply_to_status_id=1305836586903515136, in_reply_to_status_id_str='1305836586903515136', in_reply_to_user_id=24916036, in_reply_to_user_id_str='24916036', in_reply_to_screen_name='RNLI', author=User(_api=<tweepy.api.API object at 0x00000211D7ADE358>, _json={'id': 24916036, 'id_str': '24916036', 'name': 'RNLI', 'screen_name': 'RNLI', 'location': 'The UK & Republic of Ireland', 'description': 'The charity that saves lives at sea.', 'url': 'https://t.co/q5FkjRUXJA', 'entities': {'url': {'urls': [{'url': 'https://t.co/q5FkjRUXJA', 'expanded_url': 'http://bit.ly/SaveLivesAtSea2', 'display_url': 'bit.ly/SaveLivesAtSea2', 'indices': [0, 23]}]}, 'description': {'urls': []}}, 'protected': False, 'followers_count': 154797, 'friends_count': 11447, 'listed_count': 1237, 'created_at': 'Tue Mar 17 17:21:31 +0000 2009', 'favourites_count': 94000, 'utc_offset': None, 'time_zone': None, 'geo_enabled': True, 'verified': True, 'statuses_count': 70946, 'lang': None, 'contributors_enabled': False, 'is_translator': False, 'is_translation_enabled': False, 'profile_background_color': 'FFFFFF', 'profile_background_image_url': 'http://abs.twimg.com/images/themes/theme1/bg.png', 'profile_background_image_url_https': 'https://abs.twimg.com/images/themes/theme1/bg.png', 'profile_background_tile': False, 'profile_image_url': 'http://pbs.twimg.com/profile_images/517948939182428160/b9fMWRqF_normal.png', 'profile_image_url_https': 'https://pbs.twimg.com/profile_images/517948939182428160/b9fMWRqF_normal.png', 'profile_banner_url': 'https://pbs.twimg.com/profile_banners/24916036/1599571460', 'profile_link_color': 'FF691F', 'profile_sidebar_border_color': '000000', 'profile_sidebar_fill_color': 'D6EBFF', 'profile_text_color': '333333', 'profile_use_background_image': False, 'has_extended_profile': True, 'default_profile': False, 'default_profile_image': False, 'following': None, 'follow_request_sent': None, 'notifications': None, 'translator_type': 'none'}, id=24916036, id_str='24916036', name='RNLI', screen_name='RNLI', location='The UK & Republic of Ireland', description='The charity that saves lives at sea.', url='https://t.co/q5FkjRUXJA', entities={'url': {'urls': [{'url': 'https://t.co/q5FkjRUXJA', 'expanded_url': 'http://bit.ly/SaveLivesAtSea2', 'display_url': 'bit.ly/SaveLivesAtSea2', 'indices': [0, 23]}]}, 'description': {'urls': []}}, protected=False, followers_count=154797, friends_count=11447, listed_count=1237, created_at=datetime.datetime(2009, 3, 17, 17, 21, 31), favourites_count=94000, utc_offset=None, time_zone=None, geo_enabled=True, verified=True, statuses_count=70946, lang=None, contributors_enabled=False, is_translator=False, is_translation_enabled=False, profile_background_color='FFFFFF', profile_background_image_url='http://abs.twimg.com/images/themes/theme1/bg.png', profile_background_image_url_https='https://abs.twimg.com/images/themes/theme1/bg.png', profile_background_tile=False, profile_image_url='http://pbs.twimg.com/profile_images/517948939182428160/b9fMWRqF_normal.png', profile_image_url_https='https://pbs.twimg.com/profile_images/517948939182428160/b9fMWRqF_normal.png', profile_banner_url='https://pbs.twimg.com/profile_banners/24916036/1599571460', profile_link_color='FF691F', profile_sidebar_border_color='000000', profile_sidebar_fill_color='D6EBFF', profile_text_color='333333', profile_use_background_image=False, has_extended_profile=True, default_profile=False, default_profile_image=False, following=False, follow_request_sent=None, notifications=None, translator_type='none'), user=User(_api=<tweepy.api.API object at 0x00000211D7ADE358>, _json={'id': 24916036, 'id_str': '24916036', 'name': 'RNLI', 'screen_name': 'RNLI', 'location': 'The UK & Republic of Ireland', 'description': 'The charity that saves lives at sea.', 'url': 'https://t.co/q5FkjRUXJA', 'entities': {'url': {'urls': [{'url': 'https://t.co/q5FkjRUXJA', 'expanded_url': 'http://bit.ly/SaveLivesAtSea2', 'display_url': 'bit.ly/SaveLivesAtSea2', 'indices': [0, 23]}]}, 'description': {'urls': []}}, 'protected': False, 'followers_count': 154797, 'friends_count': 11447, 'listed_count': 1237, 'created_at': 'Tue Mar 17 17:21:31 +0000 2009', 'favourites_count': 94000, 'utc_offset': None, 'time_zone': None, 'geo_enabled': True, 'verified': True, 'statuses_count': 70946, 'lang': None, 'contributors_enabled': False, 'is_translator': False, 'is_translation_enabled': False, 'profile_background_color': 'FFFFFF', 'profile_background_image_url': 'http://abs.twimg.com/images/themes/theme1/bg.png', 'profile_background_image_url_https': 'https://abs.twimg.com/images/themes/theme1/bg.png', 'profile_background_tile': False, 'profile_image_url': 'http://pbs.twimg.com/profile_images/517948939182428160/b9fMWRqF_normal.png', 'profile_image_url_https': 'https://pbs.twimg.com/profile_images/517948939182428160/b9fMWRqF_normal.png', 'profile_banner_url': 'https://pbs.twimg.com/profile_banners/24916036/1599571460', 'profile_link_color': 'FF691F', 'profile_sidebar_border_color': '000000', 'profile_sidebar_fill_color': 'D6EBFF', 'profile_text_color': '333333', 'profile_use_background_image': False, 'has_extended_profile': True, 'default_profile': False, 'default_profile_image': False, 'following': None, 'follow_request_sent': None, 'notifications': None, 'translator_type': 'none'}, id=24916036, id_str='24916036', name='RNLI', screen_name='RNLI', location='The UK & Republic of Ireland', description='The charity that saves lives at sea.', url='https://t.co/q5FkjRUXJA', entities={'url': {'urls': [{'url': 'https://t.co/q5FkjRUXJA', 'expanded_url': 'http://bit.ly/SaveLivesAtSea2', 'display_url': 'bit.ly/SaveLivesAtSea2', 'indices': [0, 23]}]}, 'description': {'urls': []}}, protected=False, followers_count=154797, friends_count=11447, listed_count=1237, created_at=datetime.datetime(2009, 3, 17, 17, 21, 31), favourites_count=94000, utc_offset=None, time_zone=None, geo_enabled=True, verified=True, statuses_count=70946, lang=None, contributors_enabled=False, is_translator=False, is_translation_enabled=False, profile_background_color='FFFFFF', profile_background_image_url='http://abs.twimg.com/images/themes/theme1/bg.png', profile_background_image_url_https='https://abs.twimg.com/images/themes/theme1/bg.png', profile_background_tile=False, profile_image_url='http://pbs.twimg.com/profile_images/517948939182428160/b9fMWRqF_normal.png', profile_image_url_https='https://pbs.twimg.com/profile_images/517948939182428160/b9fMWRqF_normal.png', profile_banner_url='https://pbs.twimg.com/profile_banners/24916036/1599571460', profile_link_color='FF691F', profile_sidebar_border_color='000000', profile_sidebar_fill_color='D6EBFF', profile_text_color='333333', profile_use_background_image=False, has_extended_profile=True, default_profile=False, default_profile_image=False, following=False, follow_request_sent=None, notifications=None, translator_type='none'), geo=None, coordinates=None, place=None, contributors=None, is_quote_status=False, retweet_count=0, favorite_count=14, favorited=False, retweeted=False, possibly_sensitive=False, lang='en'),\n",
       " Status(_api=<tweepy.api.API object at 0x00000211D7ADE358>, _json={'created_at': 'Tue Sep 15 11:51:18 +0000 2020', 'id': 1305836586903515136, 'id_str': '1305836586903515136', 'text': \"A service report from @RNLIWeymouth during WW2 describes 'a big air fight' taking place above 'between very numerou… https://t.co/eB4Au0g9PI\", 'truncated': True, 'entities': {'hashtags': [], 'symbols': [], 'user_mentions': [{'screen_name': 'RNLIWeymouth', 'name': 'Weymouth Lifeboat', 'id': 1605397027, 'id_str': '1605397027', 'indices': [22, 35]}], 'urls': [{'url': 'https://t.co/eB4Au0g9PI', 'expanded_url': 'https://twitter.com/i/web/status/1305836586903515136', 'display_url': 'twitter.com/i/web/status/1…', 'indices': [117, 140]}]}, 'source': '<a href=\"https://mobile.twitter.com\" rel=\"nofollow\">Twitter Web App</a>', 'in_reply_to_status_id': 1305836583212462081, 'in_reply_to_status_id_str': '1305836583212462081', 'in_reply_to_user_id': 24916036, 'in_reply_to_user_id_str': '24916036', 'in_reply_to_screen_name': 'RNLI', 'user': {'id': 24916036, 'id_str': '24916036', 'name': 'RNLI', 'screen_name': 'RNLI', 'location': 'The UK & Republic of Ireland', 'description': 'The charity that saves lives at sea.', 'url': 'https://t.co/q5FkjRUXJA', 'entities': {'url': {'urls': [{'url': 'https://t.co/q5FkjRUXJA', 'expanded_url': 'http://bit.ly/SaveLivesAtSea2', 'display_url': 'bit.ly/SaveLivesAtSea2', 'indices': [0, 23]}]}, 'description': {'urls': []}}, 'protected': False, 'followers_count': 154797, 'friends_count': 11447, 'listed_count': 1237, 'created_at': 'Tue Mar 17 17:21:31 +0000 2009', 'favourites_count': 94000, 'utc_offset': None, 'time_zone': None, 'geo_enabled': True, 'verified': True, 'statuses_count': 70946, 'lang': None, 'contributors_enabled': False, 'is_translator': False, 'is_translation_enabled': False, 'profile_background_color': 'FFFFFF', 'profile_background_image_url': 'http://abs.twimg.com/images/themes/theme1/bg.png', 'profile_background_image_url_https': 'https://abs.twimg.com/images/themes/theme1/bg.png', 'profile_background_tile': False, 'profile_image_url': 'http://pbs.twimg.com/profile_images/517948939182428160/b9fMWRqF_normal.png', 'profile_image_url_https': 'https://pbs.twimg.com/profile_images/517948939182428160/b9fMWRqF_normal.png', 'profile_banner_url': 'https://pbs.twimg.com/profile_banners/24916036/1599571460', 'profile_link_color': 'FF691F', 'profile_sidebar_border_color': '000000', 'profile_sidebar_fill_color': 'D6EBFF', 'profile_text_color': '333333', 'profile_use_background_image': False, 'has_extended_profile': True, 'default_profile': False, 'default_profile_image': False, 'following': None, 'follow_request_sent': None, 'notifications': None, 'translator_type': 'none'}, 'geo': None, 'coordinates': None, 'place': None, 'contributors': None, 'is_quote_status': False, 'retweet_count': 0, 'favorite_count': 10, 'favorited': False, 'retweeted': False, 'lang': 'en'}, created_at=datetime.datetime(2020, 9, 15, 11, 51, 18), id=1305836586903515136, id_str='1305836586903515136', text=\"A service report from @RNLIWeymouth during WW2 describes 'a big air fight' taking place above 'between very numerou… https://t.co/eB4Au0g9PI\", truncated=True, entities={'hashtags': [], 'symbols': [], 'user_mentions': [{'screen_name': 'RNLIWeymouth', 'name': 'Weymouth Lifeboat', 'id': 1605397027, 'id_str': '1605397027', 'indices': [22, 35]}], 'urls': [{'url': 'https://t.co/eB4Au0g9PI', 'expanded_url': 'https://twitter.com/i/web/status/1305836586903515136', 'display_url': 'twitter.com/i/web/status/1…', 'indices': [117, 140]}]}, source='Twitter Web App', source_url='https://mobile.twitter.com', in_reply_to_status_id=1305836583212462081, in_reply_to_status_id_str='1305836583212462081', in_reply_to_user_id=24916036, in_reply_to_user_id_str='24916036', in_reply_to_screen_name='RNLI', author=User(_api=<tweepy.api.API object at 0x00000211D7ADE358>, _json={'id': 24916036, 'id_str': '24916036', 'name': 'RNLI', 'screen_name': 'RNLI', 'location': 'The UK & Republic of Ireland', 'description': 'The charity that saves lives at sea.', 'url': 'https://t.co/q5FkjRUXJA', 'entities': {'url': {'urls': [{'url': 'https://t.co/q5FkjRUXJA', 'expanded_url': 'http://bit.ly/SaveLivesAtSea2', 'display_url': 'bit.ly/SaveLivesAtSea2', 'indices': [0, 23]}]}, 'description': {'urls': []}}, 'protected': False, 'followers_count': 154797, 'friends_count': 11447, 'listed_count': 1237, 'created_at': 'Tue Mar 17 17:21:31 +0000 2009', 'favourites_count': 94000, 'utc_offset': None, 'time_zone': None, 'geo_enabled': True, 'verified': True, 'statuses_count': 70946, 'lang': None, 'contributors_enabled': False, 'is_translator': False, 'is_translation_enabled': False, 'profile_background_color': 'FFFFFF', 'profile_background_image_url': 'http://abs.twimg.com/images/themes/theme1/bg.png', 'profile_background_image_url_https': 'https://abs.twimg.com/images/themes/theme1/bg.png', 'profile_background_tile': False, 'profile_image_url': 'http://pbs.twimg.com/profile_images/517948939182428160/b9fMWRqF_normal.png', 'profile_image_url_https': 'https://pbs.twimg.com/profile_images/517948939182428160/b9fMWRqF_normal.png', 'profile_banner_url': 'https://pbs.twimg.com/profile_banners/24916036/1599571460', 'profile_link_color': 'FF691F', 'profile_sidebar_border_color': '000000', 'profile_sidebar_fill_color': 'D6EBFF', 'profile_text_color': '333333', 'profile_use_background_image': False, 'has_extended_profile': True, 'default_profile': False, 'default_profile_image': False, 'following': None, 'follow_request_sent': None, 'notifications': None, 'translator_type': 'none'}, id=24916036, id_str='24916036', name='RNLI', screen_name='RNLI', location='The UK & Republic of Ireland', description='The charity that saves lives at sea.', url='https://t.co/q5FkjRUXJA', entities={'url': {'urls': [{'url': 'https://t.co/q5FkjRUXJA', 'expanded_url': 'http://bit.ly/SaveLivesAtSea2', 'display_url': 'bit.ly/SaveLivesAtSea2', 'indices': [0, 23]}]}, 'description': {'urls': []}}, protected=False, followers_count=154797, friends_count=11447, listed_count=1237, created_at=datetime.datetime(2009, 3, 17, 17, 21, 31), favourites_count=94000, utc_offset=None, time_zone=None, geo_enabled=True, verified=True, statuses_count=70946, lang=None, contributors_enabled=False, is_translator=False, is_translation_enabled=False, profile_background_color='FFFFFF', profile_background_image_url='http://abs.twimg.com/images/themes/theme1/bg.png', profile_background_image_url_https='https://abs.twimg.com/images/themes/theme1/bg.png', profile_background_tile=False, profile_image_url='http://pbs.twimg.com/profile_images/517948939182428160/b9fMWRqF_normal.png', profile_image_url_https='https://pbs.twimg.com/profile_images/517948939182428160/b9fMWRqF_normal.png', profile_banner_url='https://pbs.twimg.com/profile_banners/24916036/1599571460', profile_link_color='FF691F', profile_sidebar_border_color='000000', profile_sidebar_fill_color='D6EBFF', profile_text_color='333333', profile_use_background_image=False, has_extended_profile=True, default_profile=False, default_profile_image=False, following=False, follow_request_sent=None, notifications=None, translator_type='none'), user=User(_api=<tweepy.api.API object at 0x00000211D7ADE358>, _json={'id': 24916036, 'id_str': '24916036', 'name': 'RNLI', 'screen_name': 'RNLI', 'location': 'The UK & Republic of Ireland', 'description': 'The charity that saves lives at sea.', 'url': 'https://t.co/q5FkjRUXJA', 'entities': {'url': {'urls': [{'url': 'https://t.co/q5FkjRUXJA', 'expanded_url': 'http://bit.ly/SaveLivesAtSea2', 'display_url': 'bit.ly/SaveLivesAtSea2', 'indices': [0, 23]}]}, 'description': {'urls': []}}, 'protected': False, 'followers_count': 154797, 'friends_count': 11447, 'listed_count': 1237, 'created_at': 'Tue Mar 17 17:21:31 +0000 2009', 'favourites_count': 94000, 'utc_offset': None, 'time_zone': None, 'geo_enabled': True, 'verified': True, 'statuses_count': 70946, 'lang': None, 'contributors_enabled': False, 'is_translator': False, 'is_translation_enabled': False, 'profile_background_color': 'FFFFFF', 'profile_background_image_url': 'http://abs.twimg.com/images/themes/theme1/bg.png', 'profile_background_image_url_https': 'https://abs.twimg.com/images/themes/theme1/bg.png', 'profile_background_tile': False, 'profile_image_url': 'http://pbs.twimg.com/profile_images/517948939182428160/b9fMWRqF_normal.png', 'profile_image_url_https': 'https://pbs.twimg.com/profile_images/517948939182428160/b9fMWRqF_normal.png', 'profile_banner_url': 'https://pbs.twimg.com/profile_banners/24916036/1599571460', 'profile_link_color': 'FF691F', 'profile_sidebar_border_color': '000000', 'profile_sidebar_fill_color': 'D6EBFF', 'profile_text_color': '333333', 'profile_use_background_image': False, 'has_extended_profile': True, 'default_profile': False, 'default_profile_image': False, 'following': None, 'follow_request_sent': None, 'notifications': None, 'translator_type': 'none'}, id=24916036, id_str='24916036', name='RNLI', screen_name='RNLI', location='The UK & Republic of Ireland', description='The charity that saves lives at sea.', url='https://t.co/q5FkjRUXJA', entities={'url': {'urls': [{'url': 'https://t.co/q5FkjRUXJA', 'expanded_url': 'http://bit.ly/SaveLivesAtSea2', 'display_url': 'bit.ly/SaveLivesAtSea2', 'indices': [0, 23]}]}, 'description': {'urls': []}}, protected=False, followers_count=154797, friends_count=11447, listed_count=1237, created_at=datetime.datetime(2009, 3, 17, 17, 21, 31), favourites_count=94000, utc_offset=None, time_zone=None, geo_enabled=True, verified=True, statuses_count=70946, lang=None, contributors_enabled=False, is_translator=False, is_translation_enabled=False, profile_background_color='FFFFFF', profile_background_image_url='http://abs.twimg.com/images/themes/theme1/bg.png', profile_background_image_url_https='https://abs.twimg.com/images/themes/theme1/bg.png', profile_background_tile=False, profile_image_url='http://pbs.twimg.com/profile_images/517948939182428160/b9fMWRqF_normal.png', profile_image_url_https='https://pbs.twimg.com/profile_images/517948939182428160/b9fMWRqF_normal.png', profile_banner_url='https://pbs.twimg.com/profile_banners/24916036/1599571460', profile_link_color='FF691F', profile_sidebar_border_color='000000', profile_sidebar_fill_color='D6EBFF', profile_text_color='333333', profile_use_background_image=False, has_extended_profile=True, default_profile=False, default_profile_image=False, following=False, follow_request_sent=None, notifications=None, translator_type='none'), geo=None, coordinates=None, place=None, contributors=None, is_quote_status=False, retweet_count=0, favorite_count=10, favorited=False, retweeted=False, lang='en'),\n",
       " Status(_api=<tweepy.api.API object at 0x00000211D7ADE358>, _json={'created_at': 'Tue Sep 15 11:51:17 +0000 2020', 'id': 1305836583212462081, 'id_str': '1305836583212462081', 'text': 'Arguably the most famous pilot rescued by our crews was Officer Richard Hillary, who later went on to write The Las… https://t.co/Svrxopw4vE', 'truncated': True, 'entities': {'hashtags': [], 'symbols': [], 'user_mentions': [], 'urls': [{'url': 'https://t.co/Svrxopw4vE', 'expanded_url': 'https://twitter.com/i/web/status/1305836583212462081', 'display_url': 'twitter.com/i/web/status/1…', 'indices': [117, 140]}]}, 'source': '<a href=\"https://mobile.twitter.com\" rel=\"nofollow\">Twitter Web App</a>', 'in_reply_to_status_id': 1305836580440092673, 'in_reply_to_status_id_str': '1305836580440092673', 'in_reply_to_user_id': 24916036, 'in_reply_to_user_id_str': '24916036', 'in_reply_to_screen_name': 'RNLI', 'user': {'id': 24916036, 'id_str': '24916036', 'name': 'RNLI', 'screen_name': 'RNLI', 'location': 'The UK & Republic of Ireland', 'description': 'The charity that saves lives at sea.', 'url': 'https://t.co/q5FkjRUXJA', 'entities': {'url': {'urls': [{'url': 'https://t.co/q5FkjRUXJA', 'expanded_url': 'http://bit.ly/SaveLivesAtSea2', 'display_url': 'bit.ly/SaveLivesAtSea2', 'indices': [0, 23]}]}, 'description': {'urls': []}}, 'protected': False, 'followers_count': 154797, 'friends_count': 11447, 'listed_count': 1237, 'created_at': 'Tue Mar 17 17:21:31 +0000 2009', 'favourites_count': 94000, 'utc_offset': None, 'time_zone': None, 'geo_enabled': True, 'verified': True, 'statuses_count': 70946, 'lang': None, 'contributors_enabled': False, 'is_translator': False, 'is_translation_enabled': False, 'profile_background_color': 'FFFFFF', 'profile_background_image_url': 'http://abs.twimg.com/images/themes/theme1/bg.png', 'profile_background_image_url_https': 'https://abs.twimg.com/images/themes/theme1/bg.png', 'profile_background_tile': False, 'profile_image_url': 'http://pbs.twimg.com/profile_images/517948939182428160/b9fMWRqF_normal.png', 'profile_image_url_https': 'https://pbs.twimg.com/profile_images/517948939182428160/b9fMWRqF_normal.png', 'profile_banner_url': 'https://pbs.twimg.com/profile_banners/24916036/1599571460', 'profile_link_color': 'FF691F', 'profile_sidebar_border_color': '000000', 'profile_sidebar_fill_color': 'D6EBFF', 'profile_text_color': '333333', 'profile_use_background_image': False, 'has_extended_profile': True, 'default_profile': False, 'default_profile_image': False, 'following': None, 'follow_request_sent': None, 'notifications': None, 'translator_type': 'none'}, 'geo': None, 'coordinates': None, 'place': None, 'contributors': None, 'is_quote_status': False, 'retweet_count': 1, 'favorite_count': 6, 'favorited': False, 'retweeted': False, 'possibly_sensitive': False, 'lang': 'en'}, created_at=datetime.datetime(2020, 9, 15, 11, 51, 17), id=1305836583212462081, id_str='1305836583212462081', text='Arguably the most famous pilot rescued by our crews was Officer Richard Hillary, who later went on to write The Las… https://t.co/Svrxopw4vE', truncated=True, entities={'hashtags': [], 'symbols': [], 'user_mentions': [], 'urls': [{'url': 'https://t.co/Svrxopw4vE', 'expanded_url': 'https://twitter.com/i/web/status/1305836583212462081', 'display_url': 'twitter.com/i/web/status/1…', 'indices': [117, 140]}]}, source='Twitter Web App', source_url='https://mobile.twitter.com', in_reply_to_status_id=1305836580440092673, in_reply_to_status_id_str='1305836580440092673', in_reply_to_user_id=24916036, in_reply_to_user_id_str='24916036', in_reply_to_screen_name='RNLI', author=User(_api=<tweepy.api.API object at 0x00000211D7ADE358>, _json={'id': 24916036, 'id_str': '24916036', 'name': 'RNLI', 'screen_name': 'RNLI', 'location': 'The UK & Republic of Ireland', 'description': 'The charity that saves lives at sea.', 'url': 'https://t.co/q5FkjRUXJA', 'entities': {'url': {'urls': [{'url': 'https://t.co/q5FkjRUXJA', 'expanded_url': 'http://bit.ly/SaveLivesAtSea2', 'display_url': 'bit.ly/SaveLivesAtSea2', 'indices': [0, 23]}]}, 'description': {'urls': []}}, 'protected': False, 'followers_count': 154797, 'friends_count': 11447, 'listed_count': 1237, 'created_at': 'Tue Mar 17 17:21:31 +0000 2009', 'favourites_count': 94000, 'utc_offset': None, 'time_zone': None, 'geo_enabled': True, 'verified': True, 'statuses_count': 70946, 'lang': None, 'contributors_enabled': False, 'is_translator': False, 'is_translation_enabled': False, 'profile_background_color': 'FFFFFF', 'profile_background_image_url': 'http://abs.twimg.com/images/themes/theme1/bg.png', 'profile_background_image_url_https': 'https://abs.twimg.com/images/themes/theme1/bg.png', 'profile_background_tile': False, 'profile_image_url': 'http://pbs.twimg.com/profile_images/517948939182428160/b9fMWRqF_normal.png', 'profile_image_url_https': 'https://pbs.twimg.com/profile_images/517948939182428160/b9fMWRqF_normal.png', 'profile_banner_url': 'https://pbs.twimg.com/profile_banners/24916036/1599571460', 'profile_link_color': 'FF691F', 'profile_sidebar_border_color': '000000', 'profile_sidebar_fill_color': 'D6EBFF', 'profile_text_color': '333333', 'profile_use_background_image': False, 'has_extended_profile': True, 'default_profile': False, 'default_profile_image': False, 'following': None, 'follow_request_sent': None, 'notifications': None, 'translator_type': 'none'}, id=24916036, id_str='24916036', name='RNLI', screen_name='RNLI', location='The UK & Republic of Ireland', description='The charity that saves lives at sea.', url='https://t.co/q5FkjRUXJA', entities={'url': {'urls': [{'url': 'https://t.co/q5FkjRUXJA', 'expanded_url': 'http://bit.ly/SaveLivesAtSea2', 'display_url': 'bit.ly/SaveLivesAtSea2', 'indices': [0, 23]}]}, 'description': {'urls': []}}, protected=False, followers_count=154797, friends_count=11447, listed_count=1237, created_at=datetime.datetime(2009, 3, 17, 17, 21, 31), favourites_count=94000, utc_offset=None, time_zone=None, geo_enabled=True, verified=True, statuses_count=70946, lang=None, contributors_enabled=False, is_translator=False, is_translation_enabled=False, profile_background_color='FFFFFF', profile_background_image_url='http://abs.twimg.com/images/themes/theme1/bg.png', profile_background_image_url_https='https://abs.twimg.com/images/themes/theme1/bg.png', profile_background_tile=False, profile_image_url='http://pbs.twimg.com/profile_images/517948939182428160/b9fMWRqF_normal.png', profile_image_url_https='https://pbs.twimg.com/profile_images/517948939182428160/b9fMWRqF_normal.png', profile_banner_url='https://pbs.twimg.com/profile_banners/24916036/1599571460', profile_link_color='FF691F', profile_sidebar_border_color='000000', profile_sidebar_fill_color='D6EBFF', profile_text_color='333333', profile_use_background_image=False, has_extended_profile=True, default_profile=False, default_profile_image=False, following=False, follow_request_sent=None, notifications=None, translator_type='none'), user=User(_api=<tweepy.api.API object at 0x00000211D7ADE358>, _json={'id': 24916036, 'id_str': '24916036', 'name': 'RNLI', 'screen_name': 'RNLI', 'location': 'The UK & Republic of Ireland', 'description': 'The charity that saves lives at sea.', 'url': 'https://t.co/q5FkjRUXJA', 'entities': {'url': {'urls': [{'url': 'https://t.co/q5FkjRUXJA', 'expanded_url': 'http://bit.ly/SaveLivesAtSea2', 'display_url': 'bit.ly/SaveLivesAtSea2', 'indices': [0, 23]}]}, 'description': {'urls': []}}, 'protected': False, 'followers_count': 154797, 'friends_count': 11447, 'listed_count': 1237, 'created_at': 'Tue Mar 17 17:21:31 +0000 2009', 'favourites_count': 94000, 'utc_offset': None, 'time_zone': None, 'geo_enabled': True, 'verified': True, 'statuses_count': 70946, 'lang': None, 'contributors_enabled': False, 'is_translator': False, 'is_translation_enabled': False, 'profile_background_color': 'FFFFFF', 'profile_background_image_url': 'http://abs.twimg.com/images/themes/theme1/bg.png', 'profile_background_image_url_https': 'https://abs.twimg.com/images/themes/theme1/bg.png', 'profile_background_tile': False, 'profile_image_url': 'http://pbs.twimg.com/profile_images/517948939182428160/b9fMWRqF_normal.png', 'profile_image_url_https': 'https://pbs.twimg.com/profile_images/517948939182428160/b9fMWRqF_normal.png', 'profile_banner_url': 'https://pbs.twimg.com/profile_banners/24916036/1599571460', 'profile_link_color': 'FF691F', 'profile_sidebar_border_color': '000000', 'profile_sidebar_fill_color': 'D6EBFF', 'profile_text_color': '333333', 'profile_use_background_image': False, 'has_extended_profile': True, 'default_profile': False, 'default_profile_image': False, 'following': None, 'follow_request_sent': None, 'notifications': None, 'translator_type': 'none'}, id=24916036, id_str='24916036', name='RNLI', screen_name='RNLI', location='The UK & Republic of Ireland', description='The charity that saves lives at sea.', url='https://t.co/q5FkjRUXJA', entities={'url': {'urls': [{'url': 'https://t.co/q5FkjRUXJA', 'expanded_url': 'http://bit.ly/SaveLivesAtSea2', 'display_url': 'bit.ly/SaveLivesAtSea2', 'indices': [0, 23]}]}, 'description': {'urls': []}}, protected=False, followers_count=154797, friends_count=11447, listed_count=1237, created_at=datetime.datetime(2009, 3, 17, 17, 21, 31), favourites_count=94000, utc_offset=None, time_zone=None, geo_enabled=True, verified=True, statuses_count=70946, lang=None, contributors_enabled=False, is_translator=False, is_translation_enabled=False, profile_background_color='FFFFFF', profile_background_image_url='http://abs.twimg.com/images/themes/theme1/bg.png', profile_background_image_url_https='https://abs.twimg.com/images/themes/theme1/bg.png', profile_background_tile=False, profile_image_url='http://pbs.twimg.com/profile_images/517948939182428160/b9fMWRqF_normal.png', profile_image_url_https='https://pbs.twimg.com/profile_images/517948939182428160/b9fMWRqF_normal.png', profile_banner_url='https://pbs.twimg.com/profile_banners/24916036/1599571460', profile_link_color='FF691F', profile_sidebar_border_color='000000', profile_sidebar_fill_color='D6EBFF', profile_text_color='333333', profile_use_background_image=False, has_extended_profile=True, default_profile=False, default_profile_image=False, following=False, follow_request_sent=None, notifications=None, translator_type='none'), geo=None, coordinates=None, place=None, contributors=None, is_quote_status=False, retweet_count=1, favorite_count=6, favorited=False, retweeted=False, possibly_sensitive=False, lang='en'),\n",
       " Status(_api=<tweepy.api.API object at 0x00000211D7ADE358>, _json={'created_at': 'Tue Sep 15 11:51:16 +0000 2020', 'id': 1305836580440092673, 'id_str': '1305836580440092673', 'text': 'Between 8 August and 31 October 1940, our lifeboats were launched to the rescue 264 times, of which 131 were to air… https://t.co/Ds3JUOWEWg', 'truncated': True, 'entities': {'hashtags': [], 'symbols': [], 'user_mentions': [], 'urls': [{'url': 'https://t.co/Ds3JUOWEWg', 'expanded_url': 'https://twitter.com/i/web/status/1305836580440092673', 'display_url': 'twitter.com/i/web/status/1…', 'indices': [117, 140]}]}, 'source': '<a href=\"https://mobile.twitter.com\" rel=\"nofollow\">Twitter Web App</a>', 'in_reply_to_status_id': 1305836577537613824, 'in_reply_to_status_id_str': '1305836577537613824', 'in_reply_to_user_id': 24916036, 'in_reply_to_user_id_str': '24916036', 'in_reply_to_screen_name': 'RNLI', 'user': {'id': 24916036, 'id_str': '24916036', 'name': 'RNLI', 'screen_name': 'RNLI', 'location': 'The UK & Republic of Ireland', 'description': 'The charity that saves lives at sea.', 'url': 'https://t.co/q5FkjRUXJA', 'entities': {'url': {'urls': [{'url': 'https://t.co/q5FkjRUXJA', 'expanded_url': 'http://bit.ly/SaveLivesAtSea2', 'display_url': 'bit.ly/SaveLivesAtSea2', 'indices': [0, 23]}]}, 'description': {'urls': []}}, 'protected': False, 'followers_count': 154797, 'friends_count': 11447, 'listed_count': 1237, 'created_at': 'Tue Mar 17 17:21:31 +0000 2009', 'favourites_count': 94000, 'utc_offset': None, 'time_zone': None, 'geo_enabled': True, 'verified': True, 'statuses_count': 70946, 'lang': None, 'contributors_enabled': False, 'is_translator': False, 'is_translation_enabled': False, 'profile_background_color': 'FFFFFF', 'profile_background_image_url': 'http://abs.twimg.com/images/themes/theme1/bg.png', 'profile_background_image_url_https': 'https://abs.twimg.com/images/themes/theme1/bg.png', 'profile_background_tile': False, 'profile_image_url': 'http://pbs.twimg.com/profile_images/517948939182428160/b9fMWRqF_normal.png', 'profile_image_url_https': 'https://pbs.twimg.com/profile_images/517948939182428160/b9fMWRqF_normal.png', 'profile_banner_url': 'https://pbs.twimg.com/profile_banners/24916036/1599571460', 'profile_link_color': 'FF691F', 'profile_sidebar_border_color': '000000', 'profile_sidebar_fill_color': 'D6EBFF', 'profile_text_color': '333333', 'profile_use_background_image': False, 'has_extended_profile': True, 'default_profile': False, 'default_profile_image': False, 'following': None, 'follow_request_sent': None, 'notifications': None, 'translator_type': 'none'}, 'geo': None, 'coordinates': None, 'place': None, 'contributors': None, 'is_quote_status': False, 'retweet_count': 0, 'favorite_count': 6, 'favorited': False, 'retweeted': False, 'lang': 'en'}, created_at=datetime.datetime(2020, 9, 15, 11, 51, 16), id=1305836580440092673, id_str='1305836580440092673', text='Between 8 August and 31 October 1940, our lifeboats were launched to the rescue 264 times, of which 131 were to air… https://t.co/Ds3JUOWEWg', truncated=True, entities={'hashtags': [], 'symbols': [], 'user_mentions': [], 'urls': [{'url': 'https://t.co/Ds3JUOWEWg', 'expanded_url': 'https://twitter.com/i/web/status/1305836580440092673', 'display_url': 'twitter.com/i/web/status/1…', 'indices': [117, 140]}]}, source='Twitter Web App', source_url='https://mobile.twitter.com', in_reply_to_status_id=1305836577537613824, in_reply_to_status_id_str='1305836577537613824', in_reply_to_user_id=24916036, in_reply_to_user_id_str='24916036', in_reply_to_screen_name='RNLI', author=User(_api=<tweepy.api.API object at 0x00000211D7ADE358>, _json={'id': 24916036, 'id_str': '24916036', 'name': 'RNLI', 'screen_name': 'RNLI', 'location': 'The UK & Republic of Ireland', 'description': 'The charity that saves lives at sea.', 'url': 'https://t.co/q5FkjRUXJA', 'entities': {'url': {'urls': [{'url': 'https://t.co/q5FkjRUXJA', 'expanded_url': 'http://bit.ly/SaveLivesAtSea2', 'display_url': 'bit.ly/SaveLivesAtSea2', 'indices': [0, 23]}]}, 'description': {'urls': []}}, 'protected': False, 'followers_count': 154797, 'friends_count': 11447, 'listed_count': 1237, 'created_at': 'Tue Mar 17 17:21:31 +0000 2009', 'favourites_count': 94000, 'utc_offset': None, 'time_zone': None, 'geo_enabled': True, 'verified': True, 'statuses_count': 70946, 'lang': None, 'contributors_enabled': False, 'is_translator': False, 'is_translation_enabled': False, 'profile_background_color': 'FFFFFF', 'profile_background_image_url': 'http://abs.twimg.com/images/themes/theme1/bg.png', 'profile_background_image_url_https': 'https://abs.twimg.com/images/themes/theme1/bg.png', 'profile_background_tile': False, 'profile_image_url': 'http://pbs.twimg.com/profile_images/517948939182428160/b9fMWRqF_normal.png', 'profile_image_url_https': 'https://pbs.twimg.com/profile_images/517948939182428160/b9fMWRqF_normal.png', 'profile_banner_url': 'https://pbs.twimg.com/profile_banners/24916036/1599571460', 'profile_link_color': 'FF691F', 'profile_sidebar_border_color': '000000', 'profile_sidebar_fill_color': 'D6EBFF', 'profile_text_color': '333333', 'profile_use_background_image': False, 'has_extended_profile': True, 'default_profile': False, 'default_profile_image': False, 'following': None, 'follow_request_sent': None, 'notifications': None, 'translator_type': 'none'}, id=24916036, id_str='24916036', name='RNLI', screen_name='RNLI', location='The UK & Republic of Ireland', description='The charity that saves lives at sea.', url='https://t.co/q5FkjRUXJA', entities={'url': {'urls': [{'url': 'https://t.co/q5FkjRUXJA', 'expanded_url': 'http://bit.ly/SaveLivesAtSea2', 'display_url': 'bit.ly/SaveLivesAtSea2', 'indices': [0, 23]}]}, 'description': {'urls': []}}, protected=False, followers_count=154797, friends_count=11447, listed_count=1237, created_at=datetime.datetime(2009, 3, 17, 17, 21, 31), favourites_count=94000, utc_offset=None, time_zone=None, geo_enabled=True, verified=True, statuses_count=70946, lang=None, contributors_enabled=False, is_translator=False, is_translation_enabled=False, profile_background_color='FFFFFF', profile_background_image_url='http://abs.twimg.com/images/themes/theme1/bg.png', profile_background_image_url_https='https://abs.twimg.com/images/themes/theme1/bg.png', profile_background_tile=False, profile_image_url='http://pbs.twimg.com/profile_images/517948939182428160/b9fMWRqF_normal.png', profile_image_url_https='https://pbs.twimg.com/profile_images/517948939182428160/b9fMWRqF_normal.png', profile_banner_url='https://pbs.twimg.com/profile_banners/24916036/1599571460', profile_link_color='FF691F', profile_sidebar_border_color='000000', profile_sidebar_fill_color='D6EBFF', profile_text_color='333333', profile_use_background_image=False, has_extended_profile=True, default_profile=False, default_profile_image=False, following=False, follow_request_sent=None, notifications=None, translator_type='none'), user=User(_api=<tweepy.api.API object at 0x00000211D7ADE358>, _json={'id': 24916036, 'id_str': '24916036', 'name': 'RNLI', 'screen_name': 'RNLI', 'location': 'The UK & Republic of Ireland', 'description': 'The charity that saves lives at sea.', 'url': 'https://t.co/q5FkjRUXJA', 'entities': {'url': {'urls': [{'url': 'https://t.co/q5FkjRUXJA', 'expanded_url': 'http://bit.ly/SaveLivesAtSea2', 'display_url': 'bit.ly/SaveLivesAtSea2', 'indices': [0, 23]}]}, 'description': {'urls': []}}, 'protected': False, 'followers_count': 154797, 'friends_count': 11447, 'listed_count': 1237, 'created_at': 'Tue Mar 17 17:21:31 +0000 2009', 'favourites_count': 94000, 'utc_offset': None, 'time_zone': None, 'geo_enabled': True, 'verified': True, 'statuses_count': 70946, 'lang': None, 'contributors_enabled': False, 'is_translator': False, 'is_translation_enabled': False, 'profile_background_color': 'FFFFFF', 'profile_background_image_url': 'http://abs.twimg.com/images/themes/theme1/bg.png', 'profile_background_image_url_https': 'https://abs.twimg.com/images/themes/theme1/bg.png', 'profile_background_tile': False, 'profile_image_url': 'http://pbs.twimg.com/profile_images/517948939182428160/b9fMWRqF_normal.png', 'profile_image_url_https': 'https://pbs.twimg.com/profile_images/517948939182428160/b9fMWRqF_normal.png', 'profile_banner_url': 'https://pbs.twimg.com/profile_banners/24916036/1599571460', 'profile_link_color': 'FF691F', 'profile_sidebar_border_color': '000000', 'profile_sidebar_fill_color': 'D6EBFF', 'profile_text_color': '333333', 'profile_use_background_image': False, 'has_extended_profile': True, 'default_profile': False, 'default_profile_image': False, 'following': None, 'follow_request_sent': None, 'notifications': None, 'translator_type': 'none'}, id=24916036, id_str='24916036', name='RNLI', screen_name='RNLI', location='The UK & Republic of Ireland', description='The charity that saves lives at sea.', url='https://t.co/q5FkjRUXJA', entities={'url': {'urls': [{'url': 'https://t.co/q5FkjRUXJA', 'expanded_url': 'http://bit.ly/SaveLivesAtSea2', 'display_url': 'bit.ly/SaveLivesAtSea2', 'indices': [0, 23]}]}, 'description': {'urls': []}}, protected=False, followers_count=154797, friends_count=11447, listed_count=1237, created_at=datetime.datetime(2009, 3, 17, 17, 21, 31), favourites_count=94000, utc_offset=None, time_zone=None, geo_enabled=True, verified=True, statuses_count=70946, lang=None, contributors_enabled=False, is_translator=False, is_translation_enabled=False, profile_background_color='FFFFFF', profile_background_image_url='http://abs.twimg.com/images/themes/theme1/bg.png', profile_background_image_url_https='https://abs.twimg.com/images/themes/theme1/bg.png', profile_background_tile=False, profile_image_url='http://pbs.twimg.com/profile_images/517948939182428160/b9fMWRqF_normal.png', profile_image_url_https='https://pbs.twimg.com/profile_images/517948939182428160/b9fMWRqF_normal.png', profile_banner_url='https://pbs.twimg.com/profile_banners/24916036/1599571460', profile_link_color='FF691F', profile_sidebar_border_color='000000', profile_sidebar_fill_color='D6EBFF', profile_text_color='333333', profile_use_background_image=False, has_extended_profile=True, default_profile=False, default_profile_image=False, following=False, follow_request_sent=None, notifications=None, translator_type='none'), geo=None, coordinates=None, place=None, contributors=None, is_quote_status=False, retweet_count=0, favorite_count=6, favorited=False, retweeted=False, lang='en'),\n",
       " Status(_api=<tweepy.api.API object at 0x00000211D7ADE358>, _json={'created_at': 'Tue Sep 15 11:51:16 +0000 2020', 'id': 1305836577537613824, 'id_str': '1305836577537613824', 'text': 'To mark #BattleOfBritain80 we are remembering the unsung contributions of our volunteer lifeboat crews, who went to… https://t.co/esToVYwR57', 'truncated': True, 'entities': {'hashtags': [{'text': 'BattleOfBritain80', 'indices': [8, 26]}], 'symbols': [], 'user_mentions': [], 'urls': [{'url': 'https://t.co/esToVYwR57', 'expanded_url': 'https://twitter.com/i/web/status/1305836577537613824', 'display_url': 'twitter.com/i/web/status/1…', 'indices': [117, 140]}]}, 'source': '<a href=\"https://mobile.twitter.com\" rel=\"nofollow\">Twitter Web App</a>', 'in_reply_to_status_id': None, 'in_reply_to_status_id_str': None, 'in_reply_to_user_id': None, 'in_reply_to_user_id_str': None, 'in_reply_to_screen_name': None, 'user': {'id': 24916036, 'id_str': '24916036', 'name': 'RNLI', 'screen_name': 'RNLI', 'location': 'The UK & Republic of Ireland', 'description': 'The charity that saves lives at sea.', 'url': 'https://t.co/q5FkjRUXJA', 'entities': {'url': {'urls': [{'url': 'https://t.co/q5FkjRUXJA', 'expanded_url': 'http://bit.ly/SaveLivesAtSea2', 'display_url': 'bit.ly/SaveLivesAtSea2', 'indices': [0, 23]}]}, 'description': {'urls': []}}, 'protected': False, 'followers_count': 154797, 'friends_count': 11447, 'listed_count': 1237, 'created_at': 'Tue Mar 17 17:21:31 +0000 2009', 'favourites_count': 94000, 'utc_offset': None, 'time_zone': None, 'geo_enabled': True, 'verified': True, 'statuses_count': 70946, 'lang': None, 'contributors_enabled': False, 'is_translator': False, 'is_translation_enabled': False, 'profile_background_color': 'FFFFFF', 'profile_background_image_url': 'http://abs.twimg.com/images/themes/theme1/bg.png', 'profile_background_image_url_https': 'https://abs.twimg.com/images/themes/theme1/bg.png', 'profile_background_tile': False, 'profile_image_url': 'http://pbs.twimg.com/profile_images/517948939182428160/b9fMWRqF_normal.png', 'profile_image_url_https': 'https://pbs.twimg.com/profile_images/517948939182428160/b9fMWRqF_normal.png', 'profile_banner_url': 'https://pbs.twimg.com/profile_banners/24916036/1599571460', 'profile_link_color': 'FF691F', 'profile_sidebar_border_color': '000000', 'profile_sidebar_fill_color': 'D6EBFF', 'profile_text_color': '333333', 'profile_use_background_image': False, 'has_extended_profile': True, 'default_profile': False, 'default_profile_image': False, 'following': None, 'follow_request_sent': None, 'notifications': None, 'translator_type': 'none'}, 'geo': None, 'coordinates': None, 'place': None, 'contributors': None, 'is_quote_status': False, 'retweet_count': 6, 'favorite_count': 37, 'favorited': False, 'retweeted': False, 'possibly_sensitive': False, 'lang': 'en'}, created_at=datetime.datetime(2020, 9, 15, 11, 51, 16), id=1305836577537613824, id_str='1305836577537613824', text='To mark #BattleOfBritain80 we are remembering the unsung contributions of our volunteer lifeboat crews, who went to… https://t.co/esToVYwR57', truncated=True, entities={'hashtags': [{'text': 'BattleOfBritain80', 'indices': [8, 26]}], 'symbols': [], 'user_mentions': [], 'urls': [{'url': 'https://t.co/esToVYwR57', 'expanded_url': 'https://twitter.com/i/web/status/1305836577537613824', 'display_url': 'twitter.com/i/web/status/1…', 'indices': [117, 140]}]}, source='Twitter Web App', source_url='https://mobile.twitter.com', in_reply_to_status_id=None, in_reply_to_status_id_str=None, in_reply_to_user_id=None, in_reply_to_user_id_str=None, in_reply_to_screen_name=None, author=User(_api=<tweepy.api.API object at 0x00000211D7ADE358>, _json={'id': 24916036, 'id_str': '24916036', 'name': 'RNLI', 'screen_name': 'RNLI', 'location': 'The UK & Republic of Ireland', 'description': 'The charity that saves lives at sea.', 'url': 'https://t.co/q5FkjRUXJA', 'entities': {'url': {'urls': [{'url': 'https://t.co/q5FkjRUXJA', 'expanded_url': 'http://bit.ly/SaveLivesAtSea2', 'display_url': 'bit.ly/SaveLivesAtSea2', 'indices': [0, 23]}]}, 'description': {'urls': []}}, 'protected': False, 'followers_count': 154797, 'friends_count': 11447, 'listed_count': 1237, 'created_at': 'Tue Mar 17 17:21:31 +0000 2009', 'favourites_count': 94000, 'utc_offset': None, 'time_zone': None, 'geo_enabled': True, 'verified': True, 'statuses_count': 70946, 'lang': None, 'contributors_enabled': False, 'is_translator': False, 'is_translation_enabled': False, 'profile_background_color': 'FFFFFF', 'profile_background_image_url': 'http://abs.twimg.com/images/themes/theme1/bg.png', 'profile_background_image_url_https': 'https://abs.twimg.com/images/themes/theme1/bg.png', 'profile_background_tile': False, 'profile_image_url': 'http://pbs.twimg.com/profile_images/517948939182428160/b9fMWRqF_normal.png', 'profile_image_url_https': 'https://pbs.twimg.com/profile_images/517948939182428160/b9fMWRqF_normal.png', 'profile_banner_url': 'https://pbs.twimg.com/profile_banners/24916036/1599571460', 'profile_link_color': 'FF691F', 'profile_sidebar_border_color': '000000', 'profile_sidebar_fill_color': 'D6EBFF', 'profile_text_color': '333333', 'profile_use_background_image': False, 'has_extended_profile': True, 'default_profile': False, 'default_profile_image': False, 'following': None, 'follow_request_sent': None, 'notifications': None, 'translator_type': 'none'}, id=24916036, id_str='24916036', name='RNLI', screen_name='RNLI', location='The UK & Republic of Ireland', description='The charity that saves lives at sea.', url='https://t.co/q5FkjRUXJA', entities={'url': {'urls': [{'url': 'https://t.co/q5FkjRUXJA', 'expanded_url': 'http://bit.ly/SaveLivesAtSea2', 'display_url': 'bit.ly/SaveLivesAtSea2', 'indices': [0, 23]}]}, 'description': {'urls': []}}, protected=False, followers_count=154797, friends_count=11447, listed_count=1237, created_at=datetime.datetime(2009, 3, 17, 17, 21, 31), favourites_count=94000, utc_offset=None, time_zone=None, geo_enabled=True, verified=True, statuses_count=70946, lang=None, contributors_enabled=False, is_translator=False, is_translation_enabled=False, profile_background_color='FFFFFF', profile_background_image_url='http://abs.twimg.com/images/themes/theme1/bg.png', profile_background_image_url_https='https://abs.twimg.com/images/themes/theme1/bg.png', profile_background_tile=False, profile_image_url='http://pbs.twimg.com/profile_images/517948939182428160/b9fMWRqF_normal.png', profile_image_url_https='https://pbs.twimg.com/profile_images/517948939182428160/b9fMWRqF_normal.png', profile_banner_url='https://pbs.twimg.com/profile_banners/24916036/1599571460', profile_link_color='FF691F', profile_sidebar_border_color='000000', profile_sidebar_fill_color='D6EBFF', profile_text_color='333333', profile_use_background_image=False, has_extended_profile=True, default_profile=False, default_profile_image=False, following=False, follow_request_sent=None, notifications=None, translator_type='none'), user=User(_api=<tweepy.api.API object at 0x00000211D7ADE358>, _json={'id': 24916036, 'id_str': '24916036', 'name': 'RNLI', 'screen_name': 'RNLI', 'location': 'The UK & Republic of Ireland', 'description': 'The charity that saves lives at sea.', 'url': 'https://t.co/q5FkjRUXJA', 'entities': {'url': {'urls': [{'url': 'https://t.co/q5FkjRUXJA', 'expanded_url': 'http://bit.ly/SaveLivesAtSea2', 'display_url': 'bit.ly/SaveLivesAtSea2', 'indices': [0, 23]}]}, 'description': {'urls': []}}, 'protected': False, 'followers_count': 154797, 'friends_count': 11447, 'listed_count': 1237, 'created_at': 'Tue Mar 17 17:21:31 +0000 2009', 'favourites_count': 94000, 'utc_offset': None, 'time_zone': None, 'geo_enabled': True, 'verified': True, 'statuses_count': 70946, 'lang': None, 'contributors_enabled': False, 'is_translator': False, 'is_translation_enabled': False, 'profile_background_color': 'FFFFFF', 'profile_background_image_url': 'http://abs.twimg.com/images/themes/theme1/bg.png', 'profile_background_image_url_https': 'https://abs.twimg.com/images/themes/theme1/bg.png', 'profile_background_tile': False, 'profile_image_url': 'http://pbs.twimg.com/profile_images/517948939182428160/b9fMWRqF_normal.png', 'profile_image_url_https': 'https://pbs.twimg.com/profile_images/517948939182428160/b9fMWRqF_normal.png', 'profile_banner_url': 'https://pbs.twimg.com/profile_banners/24916036/1599571460', 'profile_link_color': 'FF691F', 'profile_sidebar_border_color': '000000', 'profile_sidebar_fill_color': 'D6EBFF', 'profile_text_color': '333333', 'profile_use_background_image': False, 'has_extended_profile': True, 'default_profile': False, 'default_profile_image': False, 'following': None, 'follow_request_sent': None, 'notifications': None, 'translator_type': 'none'}, id=24916036, id_str='24916036', name='RNLI', screen_name='RNLI', location='The UK & Republic of Ireland', description='The charity that saves lives at sea.', url='https://t.co/q5FkjRUXJA', entities={'url': {'urls': [{'url': 'https://t.co/q5FkjRUXJA', 'expanded_url': 'http://bit.ly/SaveLivesAtSea2', 'display_url': 'bit.ly/SaveLivesAtSea2', 'indices': [0, 23]}]}, 'description': {'urls': []}}, protected=False, followers_count=154797, friends_count=11447, listed_count=1237, created_at=datetime.datetime(2009, 3, 17, 17, 21, 31), favourites_count=94000, utc_offset=None, time_zone=None, geo_enabled=True, verified=True, statuses_count=70946, lang=None, contributors_enabled=False, is_translator=False, is_translation_enabled=False, profile_background_color='FFFFFF', profile_background_image_url='http://abs.twimg.com/images/themes/theme1/bg.png', profile_background_image_url_https='https://abs.twimg.com/images/themes/theme1/bg.png', profile_background_tile=False, profile_image_url='http://pbs.twimg.com/profile_images/517948939182428160/b9fMWRqF_normal.png', profile_image_url_https='https://pbs.twimg.com/profile_images/517948939182428160/b9fMWRqF_normal.png', profile_banner_url='https://pbs.twimg.com/profile_banners/24916036/1599571460', profile_link_color='FF691F', profile_sidebar_border_color='000000', profile_sidebar_fill_color='D6EBFF', profile_text_color='333333', profile_use_background_image=False, has_extended_profile=True, default_profile=False, default_profile_image=False, following=False, follow_request_sent=None, notifications=None, translator_type='none'), geo=None, coordinates=None, place=None, contributors=None, is_quote_status=False, retweet_count=6, favorite_count=37, favorited=False, retweeted=False, possibly_sensitive=False, lang='en'),\n",
       " Status(_api=<tweepy.api.API object at 0x00000211D7ADE358>, _json={'created_at': 'Mon Sep 14 16:30:28 +0000 2020', 'id': 1305544455714410497, 'id_str': '1305544455714410497', 'text': \"@Vanessa21348532 Sorry Vanessa! We'll drop our shop team a line and find out for you \\U0001fad6 #prioritea\", 'truncated': False, 'entities': {'hashtags': [{'text': 'prioritea', 'indices': [87, 97]}], 'symbols': [], 'user_mentions': [{'screen_name': 'Vanessa21348532', 'name': 'Vanessa', 'id': 1136384808995700736, 'id_str': '1136384808995700736', 'indices': [0, 16]}], 'urls': []}, 'source': '<a href=\"https://mobile.twitter.com\" rel=\"nofollow\">Twitter Web App</a>', 'in_reply_to_status_id': 1305098822843019264, 'in_reply_to_status_id_str': '1305098822843019264', 'in_reply_to_user_id': 1136384808995700736, 'in_reply_to_user_id_str': '1136384808995700736', 'in_reply_to_screen_name': 'Vanessa21348532', 'user': {'id': 24916036, 'id_str': '24916036', 'name': 'RNLI', 'screen_name': 'RNLI', 'location': 'The UK & Republic of Ireland', 'description': 'The charity that saves lives at sea.', 'url': 'https://t.co/q5FkjRUXJA', 'entities': {'url': {'urls': [{'url': 'https://t.co/q5FkjRUXJA', 'expanded_url': 'http://bit.ly/SaveLivesAtSea2', 'display_url': 'bit.ly/SaveLivesAtSea2', 'indices': [0, 23]}]}, 'description': {'urls': []}}, 'protected': False, 'followers_count': 154797, 'friends_count': 11447, 'listed_count': 1237, 'created_at': 'Tue Mar 17 17:21:31 +0000 2009', 'favourites_count': 94000, 'utc_offset': None, 'time_zone': None, 'geo_enabled': True, 'verified': True, 'statuses_count': 70946, 'lang': None, 'contributors_enabled': False, 'is_translator': False, 'is_translation_enabled': False, 'profile_background_color': 'FFFFFF', 'profile_background_image_url': 'http://abs.twimg.com/images/themes/theme1/bg.png', 'profile_background_image_url_https': 'https://abs.twimg.com/images/themes/theme1/bg.png', 'profile_background_tile': False, 'profile_image_url': 'http://pbs.twimg.com/profile_images/517948939182428160/b9fMWRqF_normal.png', 'profile_image_url_https': 'https://pbs.twimg.com/profile_images/517948939182428160/b9fMWRqF_normal.png', 'profile_banner_url': 'https://pbs.twimg.com/profile_banners/24916036/1599571460', 'profile_link_color': 'FF691F', 'profile_sidebar_border_color': '000000', 'profile_sidebar_fill_color': 'D6EBFF', 'profile_text_color': '333333', 'profile_use_background_image': False, 'has_extended_profile': True, 'default_profile': False, 'default_profile_image': False, 'following': None, 'follow_request_sent': None, 'notifications': None, 'translator_type': 'none'}, 'geo': None, 'coordinates': None, 'place': None, 'contributors': None, 'is_quote_status': False, 'retweet_count': 0, 'favorite_count': 0, 'favorited': False, 'retweeted': False, 'lang': 'en'}, created_at=datetime.datetime(2020, 9, 14, 16, 30, 28), id=1305544455714410497, id_str='1305544455714410497', text=\"@Vanessa21348532 Sorry Vanessa! We'll drop our shop team a line and find out for you \\U0001fad6 #prioritea\", truncated=False, entities={'hashtags': [{'text': 'prioritea', 'indices': [87, 97]}], 'symbols': [], 'user_mentions': [{'screen_name': 'Vanessa21348532', 'name': 'Vanessa', 'id': 1136384808995700736, 'id_str': '1136384808995700736', 'indices': [0, 16]}], 'urls': []}, source='Twitter Web App', source_url='https://mobile.twitter.com', in_reply_to_status_id=1305098822843019264, in_reply_to_status_id_str='1305098822843019264', in_reply_to_user_id=1136384808995700736, in_reply_to_user_id_str='1136384808995700736', in_reply_to_screen_name='Vanessa21348532', author=User(_api=<tweepy.api.API object at 0x00000211D7ADE358>, _json={'id': 24916036, 'id_str': '24916036', 'name': 'RNLI', 'screen_name': 'RNLI', 'location': 'The UK & Republic of Ireland', 'description': 'The charity that saves lives at sea.', 'url': 'https://t.co/q5FkjRUXJA', 'entities': {'url': {'urls': [{'url': 'https://t.co/q5FkjRUXJA', 'expanded_url': 'http://bit.ly/SaveLivesAtSea2', 'display_url': 'bit.ly/SaveLivesAtSea2', 'indices': [0, 23]}]}, 'description': {'urls': []}}, 'protected': False, 'followers_count': 154797, 'friends_count': 11447, 'listed_count': 1237, 'created_at': 'Tue Mar 17 17:21:31 +0000 2009', 'favourites_count': 94000, 'utc_offset': None, 'time_zone': None, 'geo_enabled': True, 'verified': True, 'statuses_count': 70946, 'lang': None, 'contributors_enabled': False, 'is_translator': False, 'is_translation_enabled': False, 'profile_background_color': 'FFFFFF', 'profile_background_image_url': 'http://abs.twimg.com/images/themes/theme1/bg.png', 'profile_background_image_url_https': 'https://abs.twimg.com/images/themes/theme1/bg.png', 'profile_background_tile': False, 'profile_image_url': 'http://pbs.twimg.com/profile_images/517948939182428160/b9fMWRqF_normal.png', 'profile_image_url_https': 'https://pbs.twimg.com/profile_images/517948939182428160/b9fMWRqF_normal.png', 'profile_banner_url': 'https://pbs.twimg.com/profile_banners/24916036/1599571460', 'profile_link_color': 'FF691F', 'profile_sidebar_border_color': '000000', 'profile_sidebar_fill_color': 'D6EBFF', 'profile_text_color': '333333', 'profile_use_background_image': False, 'has_extended_profile': True, 'default_profile': False, 'default_profile_image': False, 'following': None, 'follow_request_sent': None, 'notifications': None, 'translator_type': 'none'}, id=24916036, id_str='24916036', name='RNLI', screen_name='RNLI', location='The UK & Republic of Ireland', description='The charity that saves lives at sea.', url='https://t.co/q5FkjRUXJA', entities={'url': {'urls': [{'url': 'https://t.co/q5FkjRUXJA', 'expanded_url': 'http://bit.ly/SaveLivesAtSea2', 'display_url': 'bit.ly/SaveLivesAtSea2', 'indices': [0, 23]}]}, 'description': {'urls': []}}, protected=False, followers_count=154797, friends_count=11447, listed_count=1237, created_at=datetime.datetime(2009, 3, 17, 17, 21, 31), favourites_count=94000, utc_offset=None, time_zone=None, geo_enabled=True, verified=True, statuses_count=70946, lang=None, contributors_enabled=False, is_translator=False, is_translation_enabled=False, profile_background_color='FFFFFF', profile_background_image_url='http://abs.twimg.com/images/themes/theme1/bg.png', profile_background_image_url_https='https://abs.twimg.com/images/themes/theme1/bg.png', profile_background_tile=False, profile_image_url='http://pbs.twimg.com/profile_images/517948939182428160/b9fMWRqF_normal.png', profile_image_url_https='https://pbs.twimg.com/profile_images/517948939182428160/b9fMWRqF_normal.png', profile_banner_url='https://pbs.twimg.com/profile_banners/24916036/1599571460', profile_link_color='FF691F', profile_sidebar_border_color='000000', profile_sidebar_fill_color='D6EBFF', profile_text_color='333333', profile_use_background_image=False, has_extended_profile=True, default_profile=False, default_profile_image=False, following=False, follow_request_sent=None, notifications=None, translator_type='none'), user=User(_api=<tweepy.api.API object at 0x00000211D7ADE358>, _json={'id': 24916036, 'id_str': '24916036', 'name': 'RNLI', 'screen_name': 'RNLI', 'location': 'The UK & Republic of Ireland', 'description': 'The charity that saves lives at sea.', 'url': 'https://t.co/q5FkjRUXJA', 'entities': {'url': {'urls': [{'url': 'https://t.co/q5FkjRUXJA', 'expanded_url': 'http://bit.ly/SaveLivesAtSea2', 'display_url': 'bit.ly/SaveLivesAtSea2', 'indices': [0, 23]}]}, 'description': {'urls': []}}, 'protected': False, 'followers_count': 154797, 'friends_count': 11447, 'listed_count': 1237, 'created_at': 'Tue Mar 17 17:21:31 +0000 2009', 'favourites_count': 94000, 'utc_offset': None, 'time_zone': None, 'geo_enabled': True, 'verified': True, 'statuses_count': 70946, 'lang': None, 'contributors_enabled': False, 'is_translator': False, 'is_translation_enabled': False, 'profile_background_color': 'FFFFFF', 'profile_background_image_url': 'http://abs.twimg.com/images/themes/theme1/bg.png', 'profile_background_image_url_https': 'https://abs.twimg.com/images/themes/theme1/bg.png', 'profile_background_tile': False, 'profile_image_url': 'http://pbs.twimg.com/profile_images/517948939182428160/b9fMWRqF_normal.png', 'profile_image_url_https': 'https://pbs.twimg.com/profile_images/517948939182428160/b9fMWRqF_normal.png', 'profile_banner_url': 'https://pbs.twimg.com/profile_banners/24916036/1599571460', 'profile_link_color': 'FF691F', 'profile_sidebar_border_color': '000000', 'profile_sidebar_fill_color': 'D6EBFF', 'profile_text_color': '333333', 'profile_use_background_image': False, 'has_extended_profile': True, 'default_profile': False, 'default_profile_image': False, 'following': None, 'follow_request_sent': None, 'notifications': None, 'translator_type': 'none'}, id=24916036, id_str='24916036', name='RNLI', screen_name='RNLI', location='The UK & Republic of Ireland', description='The charity that saves lives at sea.', url='https://t.co/q5FkjRUXJA', entities={'url': {'urls': [{'url': 'https://t.co/q5FkjRUXJA', 'expanded_url': 'http://bit.ly/SaveLivesAtSea2', 'display_url': 'bit.ly/SaveLivesAtSea2', 'indices': [0, 23]}]}, 'description': {'urls': []}}, protected=False, followers_count=154797, friends_count=11447, listed_count=1237, created_at=datetime.datetime(2009, 3, 17, 17, 21, 31), favourites_count=94000, utc_offset=None, time_zone=None, geo_enabled=True, verified=True, statuses_count=70946, lang=None, contributors_enabled=False, is_translator=False, is_translation_enabled=False, profile_background_color='FFFFFF', profile_background_image_url='http://abs.twimg.com/images/themes/theme1/bg.png', profile_background_image_url_https='https://abs.twimg.com/images/themes/theme1/bg.png', profile_background_tile=False, profile_image_url='http://pbs.twimg.com/profile_images/517948939182428160/b9fMWRqF_normal.png', profile_image_url_https='https://pbs.twimg.com/profile_images/517948939182428160/b9fMWRqF_normal.png', profile_banner_url='https://pbs.twimg.com/profile_banners/24916036/1599571460', profile_link_color='FF691F', profile_sidebar_border_color='000000', profile_sidebar_fill_color='D6EBFF', profile_text_color='333333', profile_use_background_image=False, has_extended_profile=True, default_profile=False, default_profile_image=False, following=False, follow_request_sent=None, notifications=None, translator_type='none'), geo=None, coordinates=None, place=None, contributors=None, is_quote_status=False, retweet_count=0, favorite_count=0, favorited=False, retweeted=False, lang='en'),\n",
       " Status(_api=<tweepy.api.API object at 0x00000211D7ADE358>, _json={'created_at': 'Mon Sep 14 15:57:07 +0000 2020', 'id': 1305536061167333378, 'id_str': '1305536061167333378', 'text': 'You can sponsor him at https://t.co/2EI12AZjMr. Best of luck Simon!', 'truncated': False, 'entities': {'hashtags': [], 'symbols': [], 'user_mentions': [], 'urls': [{'url': 'https://t.co/2EI12AZjMr', 'expanded_url': 'http://bit.ly/SimonMarchantRNLI', 'display_url': 'bit.ly/SimonMarchantR…', 'indices': [23, 46]}]}, 'source': '<a href=\"https://mobile.twitter.com\" rel=\"nofollow\">Twitter Web App</a>', 'in_reply_to_status_id': 1305536058776588288, 'in_reply_to_status_id_str': '1305536058776588288', 'in_reply_to_user_id': 24916036, 'in_reply_to_user_id_str': '24916036', 'in_reply_to_screen_name': 'RNLI', 'user': {'id': 24916036, 'id_str': '24916036', 'name': 'RNLI', 'screen_name': 'RNLI', 'location': 'The UK & Republic of Ireland', 'description': 'The charity that saves lives at sea.', 'url': 'https://t.co/q5FkjRUXJA', 'entities': {'url': {'urls': [{'url': 'https://t.co/q5FkjRUXJA', 'expanded_url': 'http://bit.ly/SaveLivesAtSea2', 'display_url': 'bit.ly/SaveLivesAtSea2', 'indices': [0, 23]}]}, 'description': {'urls': []}}, 'protected': False, 'followers_count': 154797, 'friends_count': 11447, 'listed_count': 1237, 'created_at': 'Tue Mar 17 17:21:31 +0000 2009', 'favourites_count': 94000, 'utc_offset': None, 'time_zone': None, 'geo_enabled': True, 'verified': True, 'statuses_count': 70946, 'lang': None, 'contributors_enabled': False, 'is_translator': False, 'is_translation_enabled': False, 'profile_background_color': 'FFFFFF', 'profile_background_image_url': 'http://abs.twimg.com/images/themes/theme1/bg.png', 'profile_background_image_url_https': 'https://abs.twimg.com/images/themes/theme1/bg.png', 'profile_background_tile': False, 'profile_image_url': 'http://pbs.twimg.com/profile_images/517948939182428160/b9fMWRqF_normal.png', 'profile_image_url_https': 'https://pbs.twimg.com/profile_images/517948939182428160/b9fMWRqF_normal.png', 'profile_banner_url': 'https://pbs.twimg.com/profile_banners/24916036/1599571460', 'profile_link_color': 'FF691F', 'profile_sidebar_border_color': '000000', 'profile_sidebar_fill_color': 'D6EBFF', 'profile_text_color': '333333', 'profile_use_background_image': False, 'has_extended_profile': True, 'default_profile': False, 'default_profile_image': False, 'following': None, 'follow_request_sent': None, 'notifications': None, 'translator_type': 'none'}, 'geo': None, 'coordinates': None, 'place': None, 'contributors': None, 'is_quote_status': False, 'retweet_count': 3, 'favorite_count': 10, 'favorited': False, 'retweeted': False, 'possibly_sensitive': False, 'lang': 'en'}, created_at=datetime.datetime(2020, 9, 14, 15, 57, 7), id=1305536061167333378, id_str='1305536061167333378', text='You can sponsor him at https://t.co/2EI12AZjMr. Best of luck Simon!', truncated=False, entities={'hashtags': [], 'symbols': [], 'user_mentions': [], 'urls': [{'url': 'https://t.co/2EI12AZjMr', 'expanded_url': 'http://bit.ly/SimonMarchantRNLI', 'display_url': 'bit.ly/SimonMarchantR…', 'indices': [23, 46]}]}, source='Twitter Web App', source_url='https://mobile.twitter.com', in_reply_to_status_id=1305536058776588288, in_reply_to_status_id_str='1305536058776588288', in_reply_to_user_id=24916036, in_reply_to_user_id_str='24916036', in_reply_to_screen_name='RNLI', author=User(_api=<tweepy.api.API object at 0x00000211D7ADE358>, _json={'id': 24916036, 'id_str': '24916036', 'name': 'RNLI', 'screen_name': 'RNLI', 'location': 'The UK & Republic of Ireland', 'description': 'The charity that saves lives at sea.', 'url': 'https://t.co/q5FkjRUXJA', 'entities': {'url': {'urls': [{'url': 'https://t.co/q5FkjRUXJA', 'expanded_url': 'http://bit.ly/SaveLivesAtSea2', 'display_url': 'bit.ly/SaveLivesAtSea2', 'indices': [0, 23]}]}, 'description': {'urls': []}}, 'protected': False, 'followers_count': 154797, 'friends_count': 11447, 'listed_count': 1237, 'created_at': 'Tue Mar 17 17:21:31 +0000 2009', 'favourites_count': 94000, 'utc_offset': None, 'time_zone': None, 'geo_enabled': True, 'verified': True, 'statuses_count': 70946, 'lang': None, 'contributors_enabled': False, 'is_translator': False, 'is_translation_enabled': False, 'profile_background_color': 'FFFFFF', 'profile_background_image_url': 'http://abs.twimg.com/images/themes/theme1/bg.png', 'profile_background_image_url_https': 'https://abs.twimg.com/images/themes/theme1/bg.png', 'profile_background_tile': False, 'profile_image_url': 'http://pbs.twimg.com/profile_images/517948939182428160/b9fMWRqF_normal.png', 'profile_image_url_https': 'https://pbs.twimg.com/profile_images/517948939182428160/b9fMWRqF_normal.png', 'profile_banner_url': 'https://pbs.twimg.com/profile_banners/24916036/1599571460', 'profile_link_color': 'FF691F', 'profile_sidebar_border_color': '000000', 'profile_sidebar_fill_color': 'D6EBFF', 'profile_text_color': '333333', 'profile_use_background_image': False, 'has_extended_profile': True, 'default_profile': False, 'default_profile_image': False, 'following': None, 'follow_request_sent': None, 'notifications': None, 'translator_type': 'none'}, id=24916036, id_str='24916036', name='RNLI', screen_name='RNLI', location='The UK & Republic of Ireland', description='The charity that saves lives at sea.', url='https://t.co/q5FkjRUXJA', entities={'url': {'urls': [{'url': 'https://t.co/q5FkjRUXJA', 'expanded_url': 'http://bit.ly/SaveLivesAtSea2', 'display_url': 'bit.ly/SaveLivesAtSea2', 'indices': [0, 23]}]}, 'description': {'urls': []}}, protected=False, followers_count=154797, friends_count=11447, listed_count=1237, created_at=datetime.datetime(2009, 3, 17, 17, 21, 31), favourites_count=94000, utc_offset=None, time_zone=None, geo_enabled=True, verified=True, statuses_count=70946, lang=None, contributors_enabled=False, is_translator=False, is_translation_enabled=False, profile_background_color='FFFFFF', profile_background_image_url='http://abs.twimg.com/images/themes/theme1/bg.png', profile_background_image_url_https='https://abs.twimg.com/images/themes/theme1/bg.png', profile_background_tile=False, profile_image_url='http://pbs.twimg.com/profile_images/517948939182428160/b9fMWRqF_normal.png', profile_image_url_https='https://pbs.twimg.com/profile_images/517948939182428160/b9fMWRqF_normal.png', profile_banner_url='https://pbs.twimg.com/profile_banners/24916036/1599571460', profile_link_color='FF691F', profile_sidebar_border_color='000000', profile_sidebar_fill_color='D6EBFF', profile_text_color='333333', profile_use_background_image=False, has_extended_profile=True, default_profile=False, default_profile_image=False, following=False, follow_request_sent=None, notifications=None, translator_type='none'), user=User(_api=<tweepy.api.API object at 0x00000211D7ADE358>, _json={'id': 24916036, 'id_str': '24916036', 'name': 'RNLI', 'screen_name': 'RNLI', 'location': 'The UK & Republic of Ireland', 'description': 'The charity that saves lives at sea.', 'url': 'https://t.co/q5FkjRUXJA', 'entities': {'url': {'urls': [{'url': 'https://t.co/q5FkjRUXJA', 'expanded_url': 'http://bit.ly/SaveLivesAtSea2', 'display_url': 'bit.ly/SaveLivesAtSea2', 'indices': [0, 23]}]}, 'description': {'urls': []}}, 'protected': False, 'followers_count': 154797, 'friends_count': 11447, 'listed_count': 1237, 'created_at': 'Tue Mar 17 17:21:31 +0000 2009', 'favourites_count': 94000, 'utc_offset': None, 'time_zone': None, 'geo_enabled': True, 'verified': True, 'statuses_count': 70946, 'lang': None, 'contributors_enabled': False, 'is_translator': False, 'is_translation_enabled': False, 'profile_background_color': 'FFFFFF', 'profile_background_image_url': 'http://abs.twimg.com/images/themes/theme1/bg.png', 'profile_background_image_url_https': 'https://abs.twimg.com/images/themes/theme1/bg.png', 'profile_background_tile': False, 'profile_image_url': 'http://pbs.twimg.com/profile_images/517948939182428160/b9fMWRqF_normal.png', 'profile_image_url_https': 'https://pbs.twimg.com/profile_images/517948939182428160/b9fMWRqF_normal.png', 'profile_banner_url': 'https://pbs.twimg.com/profile_banners/24916036/1599571460', 'profile_link_color': 'FF691F', 'profile_sidebar_border_color': '000000', 'profile_sidebar_fill_color': 'D6EBFF', 'profile_text_color': '333333', 'profile_use_background_image': False, 'has_extended_profile': True, 'default_profile': False, 'default_profile_image': False, 'following': None, 'follow_request_sent': None, 'notifications': None, 'translator_type': 'none'}, id=24916036, id_str='24916036', name='RNLI', screen_name='RNLI', location='The UK & Republic of Ireland', description='The charity that saves lives at sea.', url='https://t.co/q5FkjRUXJA', entities={'url': {'urls': [{'url': 'https://t.co/q5FkjRUXJA', 'expanded_url': 'http://bit.ly/SaveLivesAtSea2', 'display_url': 'bit.ly/SaveLivesAtSea2', 'indices': [0, 23]}]}, 'description': {'urls': []}}, protected=False, followers_count=154797, friends_count=11447, listed_count=1237, created_at=datetime.datetime(2009, 3, 17, 17, 21, 31), favourites_count=94000, utc_offset=None, time_zone=None, geo_enabled=True, verified=True, statuses_count=70946, lang=None, contributors_enabled=False, is_translator=False, is_translation_enabled=False, profile_background_color='FFFFFF', profile_background_image_url='http://abs.twimg.com/images/themes/theme1/bg.png', profile_background_image_url_https='https://abs.twimg.com/images/themes/theme1/bg.png', profile_background_tile=False, profile_image_url='http://pbs.twimg.com/profile_images/517948939182428160/b9fMWRqF_normal.png', profile_image_url_https='https://pbs.twimg.com/profile_images/517948939182428160/b9fMWRqF_normal.png', profile_banner_url='https://pbs.twimg.com/profile_banners/24916036/1599571460', profile_link_color='FF691F', profile_sidebar_border_color='000000', profile_sidebar_fill_color='D6EBFF', profile_text_color='333333', profile_use_background_image=False, has_extended_profile=True, default_profile=False, default_profile_image=False, following=False, follow_request_sent=None, notifications=None, translator_type='none'), geo=None, coordinates=None, place=None, contributors=None, is_quote_status=False, retweet_count=3, favorite_count=10, favorited=False, retweeted=False, possibly_sensitive=False, lang='en'),\n",
       " Status(_api=<tweepy.api.API object at 0x00000211D7ADE358>, _json={'created_at': 'Mon Sep 14 15:57:06 +0000 2020', 'id': 1305536058776588288, 'id_str': '1305536058776588288', 'text': 'Dedicated fundraiser Simon Marchant is currently running the entire South West Coast Path to raise money for the RN… https://t.co/JOolkxD8A4', 'truncated': True, 'entities': {'hashtags': [], 'symbols': [], 'user_mentions': [], 'urls': [{'url': 'https://t.co/JOolkxD8A4', 'expanded_url': 'https://twitter.com/i/web/status/1305536058776588288', 'display_url': 'twitter.com/i/web/status/1…', 'indices': [117, 140]}]}, 'source': '<a href=\"https://mobile.twitter.com\" rel=\"nofollow\">Twitter Web App</a>', 'in_reply_to_status_id': None, 'in_reply_to_status_id_str': None, 'in_reply_to_user_id': None, 'in_reply_to_user_id_str': None, 'in_reply_to_screen_name': None, 'user': {'id': 24916036, 'id_str': '24916036', 'name': 'RNLI', 'screen_name': 'RNLI', 'location': 'The UK & Republic of Ireland', 'description': 'The charity that saves lives at sea.', 'url': 'https://t.co/q5FkjRUXJA', 'entities': {'url': {'urls': [{'url': 'https://t.co/q5FkjRUXJA', 'expanded_url': 'http://bit.ly/SaveLivesAtSea2', 'display_url': 'bit.ly/SaveLivesAtSea2', 'indices': [0, 23]}]}, 'description': {'urls': []}}, 'protected': False, 'followers_count': 154797, 'friends_count': 11447, 'listed_count': 1237, 'created_at': 'Tue Mar 17 17:21:31 +0000 2009', 'favourites_count': 94000, 'utc_offset': None, 'time_zone': None, 'geo_enabled': True, 'verified': True, 'statuses_count': 70946, 'lang': None, 'contributors_enabled': False, 'is_translator': False, 'is_translation_enabled': False, 'profile_background_color': 'FFFFFF', 'profile_background_image_url': 'http://abs.twimg.com/images/themes/theme1/bg.png', 'profile_background_image_url_https': 'https://abs.twimg.com/images/themes/theme1/bg.png', 'profile_background_tile': False, 'profile_image_url': 'http://pbs.twimg.com/profile_images/517948939182428160/b9fMWRqF_normal.png', 'profile_image_url_https': 'https://pbs.twimg.com/profile_images/517948939182428160/b9fMWRqF_normal.png', 'profile_banner_url': 'https://pbs.twimg.com/profile_banners/24916036/1599571460', 'profile_link_color': 'FF691F', 'profile_sidebar_border_color': '000000', 'profile_sidebar_fill_color': 'D6EBFF', 'profile_text_color': '333333', 'profile_use_background_image': False, 'has_extended_profile': True, 'default_profile': False, 'default_profile_image': False, 'following': None, 'follow_request_sent': None, 'notifications': None, 'translator_type': 'none'}, 'geo': None, 'coordinates': None, 'place': None, 'contributors': None, 'is_quote_status': False, 'retweet_count': 10, 'favorite_count': 65, 'favorited': False, 'retweeted': False, 'possibly_sensitive': False, 'lang': 'en'}, created_at=datetime.datetime(2020, 9, 14, 15, 57, 6), id=1305536058776588288, id_str='1305536058776588288', text='Dedicated fundraiser Simon Marchant is currently running the entire South West Coast Path to raise money for the RN… https://t.co/JOolkxD8A4', truncated=True, entities={'hashtags': [], 'symbols': [], 'user_mentions': [], 'urls': [{'url': 'https://t.co/JOolkxD8A4', 'expanded_url': 'https://twitter.com/i/web/status/1305536058776588288', 'display_url': 'twitter.com/i/web/status/1…', 'indices': [117, 140]}]}, source='Twitter Web App', source_url='https://mobile.twitter.com', in_reply_to_status_id=None, in_reply_to_status_id_str=None, in_reply_to_user_id=None, in_reply_to_user_id_str=None, in_reply_to_screen_name=None, author=User(_api=<tweepy.api.API object at 0x00000211D7ADE358>, _json={'id': 24916036, 'id_str': '24916036', 'name': 'RNLI', 'screen_name': 'RNLI', 'location': 'The UK & Republic of Ireland', 'description': 'The charity that saves lives at sea.', 'url': 'https://t.co/q5FkjRUXJA', 'entities': {'url': {'urls': [{'url': 'https://t.co/q5FkjRUXJA', 'expanded_url': 'http://bit.ly/SaveLivesAtSea2', 'display_url': 'bit.ly/SaveLivesAtSea2', 'indices': [0, 23]}]}, 'description': {'urls': []}}, 'protected': False, 'followers_count': 154797, 'friends_count': 11447, 'listed_count': 1237, 'created_at': 'Tue Mar 17 17:21:31 +0000 2009', 'favourites_count': 94000, 'utc_offset': None, 'time_zone': None, 'geo_enabled': True, 'verified': True, 'statuses_count': 70946, 'lang': None, 'contributors_enabled': False, 'is_translator': False, 'is_translation_enabled': False, 'profile_background_color': 'FFFFFF', 'profile_background_image_url': 'http://abs.twimg.com/images/themes/theme1/bg.png', 'profile_background_image_url_https': 'https://abs.twimg.com/images/themes/theme1/bg.png', 'profile_background_tile': False, 'profile_image_url': 'http://pbs.twimg.com/profile_images/517948939182428160/b9fMWRqF_normal.png', 'profile_image_url_https': 'https://pbs.twimg.com/profile_images/517948939182428160/b9fMWRqF_normal.png', 'profile_banner_url': 'https://pbs.twimg.com/profile_banners/24916036/1599571460', 'profile_link_color': 'FF691F', 'profile_sidebar_border_color': '000000', 'profile_sidebar_fill_color': 'D6EBFF', 'profile_text_color': '333333', 'profile_use_background_image': False, 'has_extended_profile': True, 'default_profile': False, 'default_profile_image': False, 'following': None, 'follow_request_sent': None, 'notifications': None, 'translator_type': 'none'}, id=24916036, id_str='24916036', name='RNLI', screen_name='RNLI', location='The UK & Republic of Ireland', description='The charity that saves lives at sea.', url='https://t.co/q5FkjRUXJA', entities={'url': {'urls': [{'url': 'https://t.co/q5FkjRUXJA', 'expanded_url': 'http://bit.ly/SaveLivesAtSea2', 'display_url': 'bit.ly/SaveLivesAtSea2', 'indices': [0, 23]}]}, 'description': {'urls': []}}, protected=False, followers_count=154797, friends_count=11447, listed_count=1237, created_at=datetime.datetime(2009, 3, 17, 17, 21, 31), favourites_count=94000, utc_offset=None, time_zone=None, geo_enabled=True, verified=True, statuses_count=70946, lang=None, contributors_enabled=False, is_translator=False, is_translation_enabled=False, profile_background_color='FFFFFF', profile_background_image_url='http://abs.twimg.com/images/themes/theme1/bg.png', profile_background_image_url_https='https://abs.twimg.com/images/themes/theme1/bg.png', profile_background_tile=False, profile_image_url='http://pbs.twimg.com/profile_images/517948939182428160/b9fMWRqF_normal.png', profile_image_url_https='https://pbs.twimg.com/profile_images/517948939182428160/b9fMWRqF_normal.png', profile_banner_url='https://pbs.twimg.com/profile_banners/24916036/1599571460', profile_link_color='FF691F', profile_sidebar_border_color='000000', profile_sidebar_fill_color='D6EBFF', profile_text_color='333333', profile_use_background_image=False, has_extended_profile=True, default_profile=False, default_profile_image=False, following=False, follow_request_sent=None, notifications=None, translator_type='none'), user=User(_api=<tweepy.api.API object at 0x00000211D7ADE358>, _json={'id': 24916036, 'id_str': '24916036', 'name': 'RNLI', 'screen_name': 'RNLI', 'location': 'The UK & Republic of Ireland', 'description': 'The charity that saves lives at sea.', 'url': 'https://t.co/q5FkjRUXJA', 'entities': {'url': {'urls': [{'url': 'https://t.co/q5FkjRUXJA', 'expanded_url': 'http://bit.ly/SaveLivesAtSea2', 'display_url': 'bit.ly/SaveLivesAtSea2', 'indices': [0, 23]}]}, 'description': {'urls': []}}, 'protected': False, 'followers_count': 154797, 'friends_count': 11447, 'listed_count': 1237, 'created_at': 'Tue Mar 17 17:21:31 +0000 2009', 'favourites_count': 94000, 'utc_offset': None, 'time_zone': None, 'geo_enabled': True, 'verified': True, 'statuses_count': 70946, 'lang': None, 'contributors_enabled': False, 'is_translator': False, 'is_translation_enabled': False, 'profile_background_color': 'FFFFFF', 'profile_background_image_url': 'http://abs.twimg.com/images/themes/theme1/bg.png', 'profile_background_image_url_https': 'https://abs.twimg.com/images/themes/theme1/bg.png', 'profile_background_tile': False, 'profile_image_url': 'http://pbs.twimg.com/profile_images/517948939182428160/b9fMWRqF_normal.png', 'profile_image_url_https': 'https://pbs.twimg.com/profile_images/517948939182428160/b9fMWRqF_normal.png', 'profile_banner_url': 'https://pbs.twimg.com/profile_banners/24916036/1599571460', 'profile_link_color': 'FF691F', 'profile_sidebar_border_color': '000000', 'profile_sidebar_fill_color': 'D6EBFF', 'profile_text_color': '333333', 'profile_use_background_image': False, 'has_extended_profile': True, 'default_profile': False, 'default_profile_image': False, 'following': None, 'follow_request_sent': None, 'notifications': None, 'translator_type': 'none'}, id=24916036, id_str='24916036', name='RNLI', screen_name='RNLI', location='The UK & Republic of Ireland', description='The charity that saves lives at sea.', url='https://t.co/q5FkjRUXJA', entities={'url': {'urls': [{'url': 'https://t.co/q5FkjRUXJA', 'expanded_url': 'http://bit.ly/SaveLivesAtSea2', 'display_url': 'bit.ly/SaveLivesAtSea2', 'indices': [0, 23]}]}, 'description': {'urls': []}}, protected=False, followers_count=154797, friends_count=11447, listed_count=1237, created_at=datetime.datetime(2009, 3, 17, 17, 21, 31), favourites_count=94000, utc_offset=None, time_zone=None, geo_enabled=True, verified=True, statuses_count=70946, lang=None, contributors_enabled=False, is_translator=False, is_translation_enabled=False, profile_background_color='FFFFFF', profile_background_image_url='http://abs.twimg.com/images/themes/theme1/bg.png', profile_background_image_url_https='https://abs.twimg.com/images/themes/theme1/bg.png', profile_background_tile=False, profile_image_url='http://pbs.twimg.com/profile_images/517948939182428160/b9fMWRqF_normal.png', profile_image_url_https='https://pbs.twimg.com/profile_images/517948939182428160/b9fMWRqF_normal.png', profile_banner_url='https://pbs.twimg.com/profile_banners/24916036/1599571460', profile_link_color='FF691F', profile_sidebar_border_color='000000', profile_sidebar_fill_color='D6EBFF', profile_text_color='333333', profile_use_background_image=False, has_extended_profile=True, default_profile=False, default_profile_image=False, following=False, follow_request_sent=None, notifications=None, translator_type='none'), geo=None, coordinates=None, place=None, contributors=None, is_quote_status=False, retweet_count=10, favorite_count=65, favorited=False, retweeted=False, possibly_sensitive=False, lang='en'),\n",
       " Status(_api=<tweepy.api.API object at 0x00000211D7ADE358>, _json={'created_at': 'Mon Sep 14 15:38:07 +0000 2020', 'id': 1305531280168280073, 'id_str': '1305531280168280073', 'text': 'Great to see @towerrnli, one of four RNLI stations on the River Thames, captured in @graffeg_books new compilation… https://t.co/GKR33m0kn5', 'truncated': True, 'entities': {'hashtags': [], 'symbols': [], 'user_mentions': [{'screen_name': 'TowerRNLI', 'name': 'Tower RNLI', 'id': 348385397, 'id_str': '348385397', 'indices': [13, 23]}, {'screen_name': 'graffeg_books', 'name': 'Graffeg', 'id': 140462100, 'id_str': '140462100', 'indices': [84, 98]}], 'urls': [{'url': 'https://t.co/GKR33m0kn5', 'expanded_url': 'https://twitter.com/i/web/status/1305531280168280073', 'display_url': 'twitter.com/i/web/status/1…', 'indices': [116, 139]}]}, 'source': '<a href=\"https://www.spredfast.com/\" rel=\"nofollow\">Khoros</a>', 'in_reply_to_status_id': None, 'in_reply_to_status_id_str': None, 'in_reply_to_user_id': None, 'in_reply_to_user_id_str': None, 'in_reply_to_screen_name': None, 'user': {'id': 24916036, 'id_str': '24916036', 'name': 'RNLI', 'screen_name': 'RNLI', 'location': 'The UK & Republic of Ireland', 'description': 'The charity that saves lives at sea.', 'url': 'https://t.co/q5FkjRUXJA', 'entities': {'url': {'urls': [{'url': 'https://t.co/q5FkjRUXJA', 'expanded_url': 'http://bit.ly/SaveLivesAtSea2', 'display_url': 'bit.ly/SaveLivesAtSea2', 'indices': [0, 23]}]}, 'description': {'urls': []}}, 'protected': False, 'followers_count': 154797, 'friends_count': 11447, 'listed_count': 1237, 'created_at': 'Tue Mar 17 17:21:31 +0000 2009', 'favourites_count': 94000, 'utc_offset': None, 'time_zone': None, 'geo_enabled': True, 'verified': True, 'statuses_count': 70946, 'lang': None, 'contributors_enabled': False, 'is_translator': False, 'is_translation_enabled': False, 'profile_background_color': 'FFFFFF', 'profile_background_image_url': 'http://abs.twimg.com/images/themes/theme1/bg.png', 'profile_background_image_url_https': 'https://abs.twimg.com/images/themes/theme1/bg.png', 'profile_background_tile': False, 'profile_image_url': 'http://pbs.twimg.com/profile_images/517948939182428160/b9fMWRqF_normal.png', 'profile_image_url_https': 'https://pbs.twimg.com/profile_images/517948939182428160/b9fMWRqF_normal.png', 'profile_banner_url': 'https://pbs.twimg.com/profile_banners/24916036/1599571460', 'profile_link_color': 'FF691F', 'profile_sidebar_border_color': '000000', 'profile_sidebar_fill_color': 'D6EBFF', 'profile_text_color': '333333', 'profile_use_background_image': False, 'has_extended_profile': True, 'default_profile': False, 'default_profile_image': False, 'following': None, 'follow_request_sent': None, 'notifications': None, 'translator_type': 'none'}, 'geo': None, 'coordinates': None, 'place': None, 'contributors': None, 'is_quote_status': False, 'retweet_count': 8, 'favorite_count': 55, 'favorited': False, 'retweeted': False, 'possibly_sensitive': False, 'lang': 'en'}, created_at=datetime.datetime(2020, 9, 14, 15, 38, 7), id=1305531280168280073, id_str='1305531280168280073', text='Great to see @towerrnli, one of four RNLI stations on the River Thames, captured in @graffeg_books new compilation… https://t.co/GKR33m0kn5', truncated=True, entities={'hashtags': [], 'symbols': [], 'user_mentions': [{'screen_name': 'TowerRNLI', 'name': 'Tower RNLI', 'id': 348385397, 'id_str': '348385397', 'indices': [13, 23]}, {'screen_name': 'graffeg_books', 'name': 'Graffeg', 'id': 140462100, 'id_str': '140462100', 'indices': [84, 98]}], 'urls': [{'url': 'https://t.co/GKR33m0kn5', 'expanded_url': 'https://twitter.com/i/web/status/1305531280168280073', 'display_url': 'twitter.com/i/web/status/1…', 'indices': [116, 139]}]}, source='Khoros', source_url='https://www.spredfast.com/', in_reply_to_status_id=None, in_reply_to_status_id_str=None, in_reply_to_user_id=None, in_reply_to_user_id_str=None, in_reply_to_screen_name=None, author=User(_api=<tweepy.api.API object at 0x00000211D7ADE358>, _json={'id': 24916036, 'id_str': '24916036', 'name': 'RNLI', 'screen_name': 'RNLI', 'location': 'The UK & Republic of Ireland', 'description': 'The charity that saves lives at sea.', 'url': 'https://t.co/q5FkjRUXJA', 'entities': {'url': {'urls': [{'url': 'https://t.co/q5FkjRUXJA', 'expanded_url': 'http://bit.ly/SaveLivesAtSea2', 'display_url': 'bit.ly/SaveLivesAtSea2', 'indices': [0, 23]}]}, 'description': {'urls': []}}, 'protected': False, 'followers_count': 154797, 'friends_count': 11447, 'listed_count': 1237, 'created_at': 'Tue Mar 17 17:21:31 +0000 2009', 'favourites_count': 94000, 'utc_offset': None, 'time_zone': None, 'geo_enabled': True, 'verified': True, 'statuses_count': 70946, 'lang': None, 'contributors_enabled': False, 'is_translator': False, 'is_translation_enabled': False, 'profile_background_color': 'FFFFFF', 'profile_background_image_url': 'http://abs.twimg.com/images/themes/theme1/bg.png', 'profile_background_image_url_https': 'https://abs.twimg.com/images/themes/theme1/bg.png', 'profile_background_tile': False, 'profile_image_url': 'http://pbs.twimg.com/profile_images/517948939182428160/b9fMWRqF_normal.png', 'profile_image_url_https': 'https://pbs.twimg.com/profile_images/517948939182428160/b9fMWRqF_normal.png', 'profile_banner_url': 'https://pbs.twimg.com/profile_banners/24916036/1599571460', 'profile_link_color': 'FF691F', 'profile_sidebar_border_color': '000000', 'profile_sidebar_fill_color': 'D6EBFF', 'profile_text_color': '333333', 'profile_use_background_image': False, 'has_extended_profile': True, 'default_profile': False, 'default_profile_image': False, 'following': None, 'follow_request_sent': None, 'notifications': None, 'translator_type': 'none'}, id=24916036, id_str='24916036', name='RNLI', screen_name='RNLI', location='The UK & Republic of Ireland', description='The charity that saves lives at sea.', url='https://t.co/q5FkjRUXJA', entities={'url': {'urls': [{'url': 'https://t.co/q5FkjRUXJA', 'expanded_url': 'http://bit.ly/SaveLivesAtSea2', 'display_url': 'bit.ly/SaveLivesAtSea2', 'indices': [0, 23]}]}, 'description': {'urls': []}}, protected=False, followers_count=154797, friends_count=11447, listed_count=1237, created_at=datetime.datetime(2009, 3, 17, 17, 21, 31), favourites_count=94000, utc_offset=None, time_zone=None, geo_enabled=True, verified=True, statuses_count=70946, lang=None, contributors_enabled=False, is_translator=False, is_translation_enabled=False, profile_background_color='FFFFFF', profile_background_image_url='http://abs.twimg.com/images/themes/theme1/bg.png', profile_background_image_url_https='https://abs.twimg.com/images/themes/theme1/bg.png', profile_background_tile=False, profile_image_url='http://pbs.twimg.com/profile_images/517948939182428160/b9fMWRqF_normal.png', profile_image_url_https='https://pbs.twimg.com/profile_images/517948939182428160/b9fMWRqF_normal.png', profile_banner_url='https://pbs.twimg.com/profile_banners/24916036/1599571460', profile_link_color='FF691F', profile_sidebar_border_color='000000', profile_sidebar_fill_color='D6EBFF', profile_text_color='333333', profile_use_background_image=False, has_extended_profile=True, default_profile=False, default_profile_image=False, following=False, follow_request_sent=None, notifications=None, translator_type='none'), user=User(_api=<tweepy.api.API object at 0x00000211D7ADE358>, _json={'id': 24916036, 'id_str': '24916036', 'name': 'RNLI', 'screen_name': 'RNLI', 'location': 'The UK & Republic of Ireland', 'description': 'The charity that saves lives at sea.', 'url': 'https://t.co/q5FkjRUXJA', 'entities': {'url': {'urls': [{'url': 'https://t.co/q5FkjRUXJA', 'expanded_url': 'http://bit.ly/SaveLivesAtSea2', 'display_url': 'bit.ly/SaveLivesAtSea2', 'indices': [0, 23]}]}, 'description': {'urls': []}}, 'protected': False, 'followers_count': 154797, 'friends_count': 11447, 'listed_count': 1237, 'created_at': 'Tue Mar 17 17:21:31 +0000 2009', 'favourites_count': 94000, 'utc_offset': None, 'time_zone': None, 'geo_enabled': True, 'verified': True, 'statuses_count': 70946, 'lang': None, 'contributors_enabled': False, 'is_translator': False, 'is_translation_enabled': False, 'profile_background_color': 'FFFFFF', 'profile_background_image_url': 'http://abs.twimg.com/images/themes/theme1/bg.png', 'profile_background_image_url_https': 'https://abs.twimg.com/images/themes/theme1/bg.png', 'profile_background_tile': False, 'profile_image_url': 'http://pbs.twimg.com/profile_images/517948939182428160/b9fMWRqF_normal.png', 'profile_image_url_https': 'https://pbs.twimg.com/profile_images/517948939182428160/b9fMWRqF_normal.png', 'profile_banner_url': 'https://pbs.twimg.com/profile_banners/24916036/1599571460', 'profile_link_color': 'FF691F', 'profile_sidebar_border_color': '000000', 'profile_sidebar_fill_color': 'D6EBFF', 'profile_text_color': '333333', 'profile_use_background_image': False, 'has_extended_profile': True, 'default_profile': False, 'default_profile_image': False, 'following': None, 'follow_request_sent': None, 'notifications': None, 'translator_type': 'none'}, id=24916036, id_str='24916036', name='RNLI', screen_name='RNLI', location='The UK & Republic of Ireland', description='The charity that saves lives at sea.', url='https://t.co/q5FkjRUXJA', entities={'url': {'urls': [{'url': 'https://t.co/q5FkjRUXJA', 'expanded_url': 'http://bit.ly/SaveLivesAtSea2', 'display_url': 'bit.ly/SaveLivesAtSea2', 'indices': [0, 23]}]}, 'description': {'urls': []}}, protected=False, followers_count=154797, friends_count=11447, listed_count=1237, created_at=datetime.datetime(2009, 3, 17, 17, 21, 31), favourites_count=94000, utc_offset=None, time_zone=None, geo_enabled=True, verified=True, statuses_count=70946, lang=None, contributors_enabled=False, is_translator=False, is_translation_enabled=False, profile_background_color='FFFFFF', profile_background_image_url='http://abs.twimg.com/images/themes/theme1/bg.png', profile_background_image_url_https='https://abs.twimg.com/images/themes/theme1/bg.png', profile_background_tile=False, profile_image_url='http://pbs.twimg.com/profile_images/517948939182428160/b9fMWRqF_normal.png', profile_image_url_https='https://pbs.twimg.com/profile_images/517948939182428160/b9fMWRqF_normal.png', profile_banner_url='https://pbs.twimg.com/profile_banners/24916036/1599571460', profile_link_color='FF691F', profile_sidebar_border_color='000000', profile_sidebar_fill_color='D6EBFF', profile_text_color='333333', profile_use_background_image=False, has_extended_profile=True, default_profile=False, default_profile_image=False, following=False, follow_request_sent=None, notifications=None, translator_type='none'), geo=None, coordinates=None, place=None, contributors=None, is_quote_status=False, retweet_count=8, favorite_count=55, favorited=False, retweeted=False, possibly_sensitive=False, lang='en'),\n",
       " Status(_api=<tweepy.api.API object at 0x00000211D7ADE358>, _json={'created_at': 'Mon Sep 14 15:37:40 +0000 2020', 'id': 1305531169027559425, 'id_str': '1305531169027559425', 'text': \"@Richard55124542 Sounds like an interesting ride! Different shops stock different items, so there's no easy way of… https://t.co/6Xhf0192ib\", 'truncated': True, 'entities': {'hashtags': [], 'symbols': [], 'user_mentions': [{'screen_name': 'Richard55124542', 'name': 'Richard_Sharp_Photography', 'id': 1256268040431439874, 'id_str': '1256268040431439874', 'indices': [0, 16]}], 'urls': [{'url': 'https://t.co/6Xhf0192ib', 'expanded_url': 'https://twitter.com/i/web/status/1305531169027559425', 'display_url': 'twitter.com/i/web/status/1…', 'indices': [116, 139]}]}, 'source': '<a href=\"https://www.spredfast.com/\" rel=\"nofollow\">Khoros</a>', 'in_reply_to_status_id': 1305472915232747522, 'in_reply_to_status_id_str': '1305472915232747522', 'in_reply_to_user_id': 1256268040431439874, 'in_reply_to_user_id_str': '1256268040431439874', 'in_reply_to_screen_name': 'Richard55124542', 'user': {'id': 24916036, 'id_str': '24916036', 'name': 'RNLI', 'screen_name': 'RNLI', 'location': 'The UK & Republic of Ireland', 'description': 'The charity that saves lives at sea.', 'url': 'https://t.co/q5FkjRUXJA', 'entities': {'url': {'urls': [{'url': 'https://t.co/q5FkjRUXJA', 'expanded_url': 'http://bit.ly/SaveLivesAtSea2', 'display_url': 'bit.ly/SaveLivesAtSea2', 'indices': [0, 23]}]}, 'description': {'urls': []}}, 'protected': False, 'followers_count': 154797, 'friends_count': 11447, 'listed_count': 1237, 'created_at': 'Tue Mar 17 17:21:31 +0000 2009', 'favourites_count': 94000, 'utc_offset': None, 'time_zone': None, 'geo_enabled': True, 'verified': True, 'statuses_count': 70946, 'lang': None, 'contributors_enabled': False, 'is_translator': False, 'is_translation_enabled': False, 'profile_background_color': 'FFFFFF', 'profile_background_image_url': 'http://abs.twimg.com/images/themes/theme1/bg.png', 'profile_background_image_url_https': 'https://abs.twimg.com/images/themes/theme1/bg.png', 'profile_background_tile': False, 'profile_image_url': 'http://pbs.twimg.com/profile_images/517948939182428160/b9fMWRqF_normal.png', 'profile_image_url_https': 'https://pbs.twimg.com/profile_images/517948939182428160/b9fMWRqF_normal.png', 'profile_banner_url': 'https://pbs.twimg.com/profile_banners/24916036/1599571460', 'profile_link_color': 'FF691F', 'profile_sidebar_border_color': '000000', 'profile_sidebar_fill_color': 'D6EBFF', 'profile_text_color': '333333', 'profile_use_background_image': False, 'has_extended_profile': True, 'default_profile': False, 'default_profile_image': False, 'following': None, 'follow_request_sent': None, 'notifications': None, 'translator_type': 'none'}, 'geo': None, 'coordinates': None, 'place': None, 'contributors': None, 'is_quote_status': False, 'retweet_count': 0, 'favorite_count': 1, 'favorited': False, 'retweeted': False, 'lang': 'en'}, created_at=datetime.datetime(2020, 9, 14, 15, 37, 40), id=1305531169027559425, id_str='1305531169027559425', text=\"@Richard55124542 Sounds like an interesting ride! Different shops stock different items, so there's no easy way of… https://t.co/6Xhf0192ib\", truncated=True, entities={'hashtags': [], 'symbols': [], 'user_mentions': [{'screen_name': 'Richard55124542', 'name': 'Richard_Sharp_Photography', 'id': 1256268040431439874, 'id_str': '1256268040431439874', 'indices': [0, 16]}], 'urls': [{'url': 'https://t.co/6Xhf0192ib', 'expanded_url': 'https://twitter.com/i/web/status/1305531169027559425', 'display_url': 'twitter.com/i/web/status/1…', 'indices': [116, 139]}]}, source='Khoros', source_url='https://www.spredfast.com/', in_reply_to_status_id=1305472915232747522, in_reply_to_status_id_str='1305472915232747522', in_reply_to_user_id=1256268040431439874, in_reply_to_user_id_str='1256268040431439874', in_reply_to_screen_name='Richard55124542', author=User(_api=<tweepy.api.API object at 0x00000211D7ADE358>, _json={'id': 24916036, 'id_str': '24916036', 'name': 'RNLI', 'screen_name': 'RNLI', 'location': 'The UK & Republic of Ireland', 'description': 'The charity that saves lives at sea.', 'url': 'https://t.co/q5FkjRUXJA', 'entities': {'url': {'urls': [{'url': 'https://t.co/q5FkjRUXJA', 'expanded_url': 'http://bit.ly/SaveLivesAtSea2', 'display_url': 'bit.ly/SaveLivesAtSea2', 'indices': [0, 23]}]}, 'description': {'urls': []}}, 'protected': False, 'followers_count': 154797, 'friends_count': 11447, 'listed_count': 1237, 'created_at': 'Tue Mar 17 17:21:31 +0000 2009', 'favourites_count': 94000, 'utc_offset': None, 'time_zone': None, 'geo_enabled': True, 'verified': True, 'statuses_count': 70946, 'lang': None, 'contributors_enabled': False, 'is_translator': False, 'is_translation_enabled': False, 'profile_background_color': 'FFFFFF', 'profile_background_image_url': 'http://abs.twimg.com/images/themes/theme1/bg.png', 'profile_background_image_url_https': 'https://abs.twimg.com/images/themes/theme1/bg.png', 'profile_background_tile': False, 'profile_image_url': 'http://pbs.twimg.com/profile_images/517948939182428160/b9fMWRqF_normal.png', 'profile_image_url_https': 'https://pbs.twimg.com/profile_images/517948939182428160/b9fMWRqF_normal.png', 'profile_banner_url': 'https://pbs.twimg.com/profile_banners/24916036/1599571460', 'profile_link_color': 'FF691F', 'profile_sidebar_border_color': '000000', 'profile_sidebar_fill_color': 'D6EBFF', 'profile_text_color': '333333', 'profile_use_background_image': False, 'has_extended_profile': True, 'default_profile': False, 'default_profile_image': False, 'following': None, 'follow_request_sent': None, 'notifications': None, 'translator_type': 'none'}, id=24916036, id_str='24916036', name='RNLI', screen_name='RNLI', location='The UK & Republic of Ireland', description='The charity that saves lives at sea.', url='https://t.co/q5FkjRUXJA', entities={'url': {'urls': [{'url': 'https://t.co/q5FkjRUXJA', 'expanded_url': 'http://bit.ly/SaveLivesAtSea2', 'display_url': 'bit.ly/SaveLivesAtSea2', 'indices': [0, 23]}]}, 'description': {'urls': []}}, protected=False, followers_count=154797, friends_count=11447, listed_count=1237, created_at=datetime.datetime(2009, 3, 17, 17, 21, 31), favourites_count=94000, utc_offset=None, time_zone=None, geo_enabled=True, verified=True, statuses_count=70946, lang=None, contributors_enabled=False, is_translator=False, is_translation_enabled=False, profile_background_color='FFFFFF', profile_background_image_url='http://abs.twimg.com/images/themes/theme1/bg.png', profile_background_image_url_https='https://abs.twimg.com/images/themes/theme1/bg.png', profile_background_tile=False, profile_image_url='http://pbs.twimg.com/profile_images/517948939182428160/b9fMWRqF_normal.png', profile_image_url_https='https://pbs.twimg.com/profile_images/517948939182428160/b9fMWRqF_normal.png', profile_banner_url='https://pbs.twimg.com/profile_banners/24916036/1599571460', profile_link_color='FF691F', profile_sidebar_border_color='000000', profile_sidebar_fill_color='D6EBFF', profile_text_color='333333', profile_use_background_image=False, has_extended_profile=True, default_profile=False, default_profile_image=False, following=False, follow_request_sent=None, notifications=None, translator_type='none'), user=User(_api=<tweepy.api.API object at 0x00000211D7ADE358>, _json={'id': 24916036, 'id_str': '24916036', 'name': 'RNLI', 'screen_name': 'RNLI', 'location': 'The UK & Republic of Ireland', 'description': 'The charity that saves lives at sea.', 'url': 'https://t.co/q5FkjRUXJA', 'entities': {'url': {'urls': [{'url': 'https://t.co/q5FkjRUXJA', 'expanded_url': 'http://bit.ly/SaveLivesAtSea2', 'display_url': 'bit.ly/SaveLivesAtSea2', 'indices': [0, 23]}]}, 'description': {'urls': []}}, 'protected': False, 'followers_count': 154797, 'friends_count': 11447, 'listed_count': 1237, 'created_at': 'Tue Mar 17 17:21:31 +0000 2009', 'favourites_count': 94000, 'utc_offset': None, 'time_zone': None, 'geo_enabled': True, 'verified': True, 'statuses_count': 70946, 'lang': None, 'contributors_enabled': False, 'is_translator': False, 'is_translation_enabled': False, 'profile_background_color': 'FFFFFF', 'profile_background_image_url': 'http://abs.twimg.com/images/themes/theme1/bg.png', 'profile_background_image_url_https': 'https://abs.twimg.com/images/themes/theme1/bg.png', 'profile_background_tile': False, 'profile_image_url': 'http://pbs.twimg.com/profile_images/517948939182428160/b9fMWRqF_normal.png', 'profile_image_url_https': 'https://pbs.twimg.com/profile_images/517948939182428160/b9fMWRqF_normal.png', 'profile_banner_url': 'https://pbs.twimg.com/profile_banners/24916036/1599571460', 'profile_link_color': 'FF691F', 'profile_sidebar_border_color': '000000', 'profile_sidebar_fill_color': 'D6EBFF', 'profile_text_color': '333333', 'profile_use_background_image': False, 'has_extended_profile': True, 'default_profile': False, 'default_profile_image': False, 'following': None, 'follow_request_sent': None, 'notifications': None, 'translator_type': 'none'}, id=24916036, id_str='24916036', name='RNLI', screen_name='RNLI', location='The UK & Republic of Ireland', description='The charity that saves lives at sea.', url='https://t.co/q5FkjRUXJA', entities={'url': {'urls': [{'url': 'https://t.co/q5FkjRUXJA', 'expanded_url': 'http://bit.ly/SaveLivesAtSea2', 'display_url': 'bit.ly/SaveLivesAtSea2', 'indices': [0, 23]}]}, 'description': {'urls': []}}, protected=False, followers_count=154797, friends_count=11447, listed_count=1237, created_at=datetime.datetime(2009, 3, 17, 17, 21, 31), favourites_count=94000, utc_offset=None, time_zone=None, geo_enabled=True, verified=True, statuses_count=70946, lang=None, contributors_enabled=False, is_translator=False, is_translation_enabled=False, profile_background_color='FFFFFF', profile_background_image_url='http://abs.twimg.com/images/themes/theme1/bg.png', profile_background_image_url_https='https://abs.twimg.com/images/themes/theme1/bg.png', profile_background_tile=False, profile_image_url='http://pbs.twimg.com/profile_images/517948939182428160/b9fMWRqF_normal.png', profile_image_url_https='https://pbs.twimg.com/profile_images/517948939182428160/b9fMWRqF_normal.png', profile_banner_url='https://pbs.twimg.com/profile_banners/24916036/1599571460', profile_link_color='FF691F', profile_sidebar_border_color='000000', profile_sidebar_fill_color='D6EBFF', profile_text_color='333333', profile_use_background_image=False, has_extended_profile=True, default_profile=False, default_profile_image=False, following=False, follow_request_sent=None, notifications=None, translator_type='none'), geo=None, coordinates=None, place=None, contributors=None, is_quote_status=False, retweet_count=0, favorite_count=1, favorited=False, retweeted=False, lang='en'),\n",
       " Status(_api=<tweepy.api.API object at 0x00000211D7ADE358>, _json={'created_at': 'Mon Sep 14 13:08:32 +0000 2020', 'id': 1305493637338468359, 'id_str': '1305493637338468359', 'text': \"Don't have any RNLI merch? Head on over to our shop where every purchase you make helps save lives at sea:… https://t.co/xUJENPEhlG\", 'truncated': True, 'entities': {'hashtags': [], 'symbols': [], 'user_mentions': [], 'urls': [{'url': 'https://t.co/xUJENPEhlG', 'expanded_url': 'https://twitter.com/i/web/status/1305493637338468359', 'display_url': 'twitter.com/i/web/status/1…', 'indices': [108, 131]}]}, 'source': '<a href=\"https://mobile.twitter.com\" rel=\"nofollow\">Twitter Web App</a>', 'in_reply_to_status_id': 1305493635849428993, 'in_reply_to_status_id_str': '1305493635849428993', 'in_reply_to_user_id': 24916036, 'in_reply_to_user_id_str': '24916036', 'in_reply_to_screen_name': 'RNLI', 'user': {'id': 24916036, 'id_str': '24916036', 'name': 'RNLI', 'screen_name': 'RNLI', 'location': 'The UK & Republic of Ireland', 'description': 'The charity that saves lives at sea.', 'url': 'https://t.co/q5FkjRUXJA', 'entities': {'url': {'urls': [{'url': 'https://t.co/q5FkjRUXJA', 'expanded_url': 'http://bit.ly/SaveLivesAtSea2', 'display_url': 'bit.ly/SaveLivesAtSea2', 'indices': [0, 23]}]}, 'description': {'urls': []}}, 'protected': False, 'followers_count': 154797, 'friends_count': 11447, 'listed_count': 1237, 'created_at': 'Tue Mar 17 17:21:31 +0000 2009', 'favourites_count': 94000, 'utc_offset': None, 'time_zone': None, 'geo_enabled': True, 'verified': True, 'statuses_count': 70946, 'lang': None, 'contributors_enabled': False, 'is_translator': False, 'is_translation_enabled': False, 'profile_background_color': 'FFFFFF', 'profile_background_image_url': 'http://abs.twimg.com/images/themes/theme1/bg.png', 'profile_background_image_url_https': 'https://abs.twimg.com/images/themes/theme1/bg.png', 'profile_background_tile': False, 'profile_image_url': 'http://pbs.twimg.com/profile_images/517948939182428160/b9fMWRqF_normal.png', 'profile_image_url_https': 'https://pbs.twimg.com/profile_images/517948939182428160/b9fMWRqF_normal.png', 'profile_banner_url': 'https://pbs.twimg.com/profile_banners/24916036/1599571460', 'profile_link_color': 'FF691F', 'profile_sidebar_border_color': '000000', 'profile_sidebar_fill_color': 'D6EBFF', 'profile_text_color': '333333', 'profile_use_background_image': False, 'has_extended_profile': True, 'default_profile': False, 'default_profile_image': False, 'following': None, 'follow_request_sent': None, 'notifications': None, 'translator_type': 'none'}, 'geo': None, 'coordinates': None, 'place': None, 'contributors': None, 'is_quote_status': False, 'retweet_count': 5, 'favorite_count': 26, 'favorited': False, 'retweeted': False, 'possibly_sensitive': False, 'lang': 'en'}, created_at=datetime.datetime(2020, 9, 14, 13, 8, 32), id=1305493637338468359, id_str='1305493637338468359', text=\"Don't have any RNLI merch? Head on over to our shop where every purchase you make helps save lives at sea:… https://t.co/xUJENPEhlG\", truncated=True, entities={'hashtags': [], 'symbols': [], 'user_mentions': [], 'urls': [{'url': 'https://t.co/xUJENPEhlG', 'expanded_url': 'https://twitter.com/i/web/status/1305493637338468359', 'display_url': 'twitter.com/i/web/status/1…', 'indices': [108, 131]}]}, source='Twitter Web App', source_url='https://mobile.twitter.com', in_reply_to_status_id=1305493635849428993, in_reply_to_status_id_str='1305493635849428993', in_reply_to_user_id=24916036, in_reply_to_user_id_str='24916036', in_reply_to_screen_name='RNLI', author=User(_api=<tweepy.api.API object at 0x00000211D7ADE358>, _json={'id': 24916036, 'id_str': '24916036', 'name': 'RNLI', 'screen_name': 'RNLI', 'location': 'The UK & Republic of Ireland', 'description': 'The charity that saves lives at sea.', 'url': 'https://t.co/q5FkjRUXJA', 'entities': {'url': {'urls': [{'url': 'https://t.co/q5FkjRUXJA', 'expanded_url': 'http://bit.ly/SaveLivesAtSea2', 'display_url': 'bit.ly/SaveLivesAtSea2', 'indices': [0, 23]}]}, 'description': {'urls': []}}, 'protected': False, 'followers_count': 154797, 'friends_count': 11447, 'listed_count': 1237, 'created_at': 'Tue Mar 17 17:21:31 +0000 2009', 'favourites_count': 94000, 'utc_offset': None, 'time_zone': None, 'geo_enabled': True, 'verified': True, 'statuses_count': 70946, 'lang': None, 'contributors_enabled': False, 'is_translator': False, 'is_translation_enabled': False, 'profile_background_color': 'FFFFFF', 'profile_background_image_url': 'http://abs.twimg.com/images/themes/theme1/bg.png', 'profile_background_image_url_https': 'https://abs.twimg.com/images/themes/theme1/bg.png', 'profile_background_tile': False, 'profile_image_url': 'http://pbs.twimg.com/profile_images/517948939182428160/b9fMWRqF_normal.png', 'profile_image_url_https': 'https://pbs.twimg.com/profile_images/517948939182428160/b9fMWRqF_normal.png', 'profile_banner_url': 'https://pbs.twimg.com/profile_banners/24916036/1599571460', 'profile_link_color': 'FF691F', 'profile_sidebar_border_color': '000000', 'profile_sidebar_fill_color': 'D6EBFF', 'profile_text_color': '333333', 'profile_use_background_image': False, 'has_extended_profile': True, 'default_profile': False, 'default_profile_image': False, 'following': None, 'follow_request_sent': None, 'notifications': None, 'translator_type': 'none'}, id=24916036, id_str='24916036', name='RNLI', screen_name='RNLI', location='The UK & Republic of Ireland', description='The charity that saves lives at sea.', url='https://t.co/q5FkjRUXJA', entities={'url': {'urls': [{'url': 'https://t.co/q5FkjRUXJA', 'expanded_url': 'http://bit.ly/SaveLivesAtSea2', 'display_url': 'bit.ly/SaveLivesAtSea2', 'indices': [0, 23]}]}, 'description': {'urls': []}}, protected=False, followers_count=154797, friends_count=11447, listed_count=1237, created_at=datetime.datetime(2009, 3, 17, 17, 21, 31), favourites_count=94000, utc_offset=None, time_zone=None, geo_enabled=True, verified=True, statuses_count=70946, lang=None, contributors_enabled=False, is_translator=False, is_translation_enabled=False, profile_background_color='FFFFFF', profile_background_image_url='http://abs.twimg.com/images/themes/theme1/bg.png', profile_background_image_url_https='https://abs.twimg.com/images/themes/theme1/bg.png', profile_background_tile=False, profile_image_url='http://pbs.twimg.com/profile_images/517948939182428160/b9fMWRqF_normal.png', profile_image_url_https='https://pbs.twimg.com/profile_images/517948939182428160/b9fMWRqF_normal.png', profile_banner_url='https://pbs.twimg.com/profile_banners/24916036/1599571460', profile_link_color='FF691F', profile_sidebar_border_color='000000', profile_sidebar_fill_color='D6EBFF', profile_text_color='333333', profile_use_background_image=False, has_extended_profile=True, default_profile=False, default_profile_image=False, following=False, follow_request_sent=None, notifications=None, translator_type='none'), user=User(_api=<tweepy.api.API object at 0x00000211D7ADE358>, _json={'id': 24916036, 'id_str': '24916036', 'name': 'RNLI', 'screen_name': 'RNLI', 'location': 'The UK & Republic of Ireland', 'description': 'The charity that saves lives at sea.', 'url': 'https://t.co/q5FkjRUXJA', 'entities': {'url': {'urls': [{'url': 'https://t.co/q5FkjRUXJA', 'expanded_url': 'http://bit.ly/SaveLivesAtSea2', 'display_url': 'bit.ly/SaveLivesAtSea2', 'indices': [0, 23]}]}, 'description': {'urls': []}}, 'protected': False, 'followers_count': 154797, 'friends_count': 11447, 'listed_count': 1237, 'created_at': 'Tue Mar 17 17:21:31 +0000 2009', 'favourites_count': 94000, 'utc_offset': None, 'time_zone': None, 'geo_enabled': True, 'verified': True, 'statuses_count': 70946, 'lang': None, 'contributors_enabled': False, 'is_translator': False, 'is_translation_enabled': False, 'profile_background_color': 'FFFFFF', 'profile_background_image_url': 'http://abs.twimg.com/images/themes/theme1/bg.png', 'profile_background_image_url_https': 'https://abs.twimg.com/images/themes/theme1/bg.png', 'profile_background_tile': False, 'profile_image_url': 'http://pbs.twimg.com/profile_images/517948939182428160/b9fMWRqF_normal.png', 'profile_image_url_https': 'https://pbs.twimg.com/profile_images/517948939182428160/b9fMWRqF_normal.png', 'profile_banner_url': 'https://pbs.twimg.com/profile_banners/24916036/1599571460', 'profile_link_color': 'FF691F', 'profile_sidebar_border_color': '000000', 'profile_sidebar_fill_color': 'D6EBFF', 'profile_text_color': '333333', 'profile_use_background_image': False, 'has_extended_profile': True, 'default_profile': False, 'default_profile_image': False, 'following': None, 'follow_request_sent': None, 'notifications': None, 'translator_type': 'none'}, id=24916036, id_str='24916036', name='RNLI', screen_name='RNLI', location='The UK & Republic of Ireland', description='The charity that saves lives at sea.', url='https://t.co/q5FkjRUXJA', entities={'url': {'urls': [{'url': 'https://t.co/q5FkjRUXJA', 'expanded_url': 'http://bit.ly/SaveLivesAtSea2', 'display_url': 'bit.ly/SaveLivesAtSea2', 'indices': [0, 23]}]}, 'description': {'urls': []}}, protected=False, followers_count=154797, friends_count=11447, listed_count=1237, created_at=datetime.datetime(2009, 3, 17, 17, 21, 31), favourites_count=94000, utc_offset=None, time_zone=None, geo_enabled=True, verified=True, statuses_count=70946, lang=None, contributors_enabled=False, is_translator=False, is_translation_enabled=False, profile_background_color='FFFFFF', profile_background_image_url='http://abs.twimg.com/images/themes/theme1/bg.png', profile_background_image_url_https='https://abs.twimg.com/images/themes/theme1/bg.png', profile_background_tile=False, profile_image_url='http://pbs.twimg.com/profile_images/517948939182428160/b9fMWRqF_normal.png', profile_image_url_https='https://pbs.twimg.com/profile_images/517948939182428160/b9fMWRqF_normal.png', profile_banner_url='https://pbs.twimg.com/profile_banners/24916036/1599571460', profile_link_color='FF691F', profile_sidebar_border_color='000000', profile_sidebar_fill_color='D6EBFF', profile_text_color='333333', profile_use_background_image=False, has_extended_profile=True, default_profile=False, default_profile_image=False, following=False, follow_request_sent=None, notifications=None, translator_type='none'), geo=None, coordinates=None, place=None, contributors=None, is_quote_status=False, retweet_count=5, favorite_count=26, favorited=False, retweeted=False, possibly_sensitive=False, lang='en'),\n",
       " Status(_api=<tweepy.api.API object at 0x00000211D7ADE358>, _json={'created_at': 'Mon Sep 14 13:08:32 +0000 2020', 'id': 1305493635849428993, 'id_str': '1305493635849428993', 'text': 'Only three days to go until the return of a brand new series of Saving Lives at Sea! How do you watch it?\\n\\n📺🔜 8pm Thursday on @BBCTwo', 'truncated': False, 'entities': {'hashtags': [], 'symbols': [], 'user_mentions': [{'screen_name': 'BBCTwo', 'name': 'BBC Two', 'id': 1586183960, 'id_str': '1586183960', 'indices': [126, 133]}], 'urls': []}, 'source': '<a href=\"https://mobile.twitter.com\" rel=\"nofollow\">Twitter Web App</a>', 'in_reply_to_status_id': None, 'in_reply_to_status_id_str': None, 'in_reply_to_user_id': None, 'in_reply_to_user_id_str': None, 'in_reply_to_screen_name': None, 'user': {'id': 24916036, 'id_str': '24916036', 'name': 'RNLI', 'screen_name': 'RNLI', 'location': 'The UK & Republic of Ireland', 'description': 'The charity that saves lives at sea.', 'url': 'https://t.co/q5FkjRUXJA', 'entities': {'url': {'urls': [{'url': 'https://t.co/q5FkjRUXJA', 'expanded_url': 'http://bit.ly/SaveLivesAtSea2', 'display_url': 'bit.ly/SaveLivesAtSea2', 'indices': [0, 23]}]}, 'description': {'urls': []}}, 'protected': False, 'followers_count': 154797, 'friends_count': 11447, 'listed_count': 1237, 'created_at': 'Tue Mar 17 17:21:31 +0000 2009', 'favourites_count': 94000, 'utc_offset': None, 'time_zone': None, 'geo_enabled': True, 'verified': True, 'statuses_count': 70946, 'lang': None, 'contributors_enabled': False, 'is_translator': False, 'is_translation_enabled': False, 'profile_background_color': 'FFFFFF', 'profile_background_image_url': 'http://abs.twimg.com/images/themes/theme1/bg.png', 'profile_background_image_url_https': 'https://abs.twimg.com/images/themes/theme1/bg.png', 'profile_background_tile': False, 'profile_image_url': 'http://pbs.twimg.com/profile_images/517948939182428160/b9fMWRqF_normal.png', 'profile_image_url_https': 'https://pbs.twimg.com/profile_images/517948939182428160/b9fMWRqF_normal.png', 'profile_banner_url': 'https://pbs.twimg.com/profile_banners/24916036/1599571460', 'profile_link_color': 'FF691F', 'profile_sidebar_border_color': '000000', 'profile_sidebar_fill_color': 'D6EBFF', 'profile_text_color': '333333', 'profile_use_background_image': False, 'has_extended_profile': True, 'default_profile': False, 'default_profile_image': False, 'following': None, 'follow_request_sent': None, 'notifications': None, 'translator_type': 'none'}, 'geo': None, 'coordinates': None, 'place': None, 'contributors': None, 'is_quote_status': False, 'retweet_count': 12, 'favorite_count': 26, 'favorited': False, 'retweeted': False, 'lang': 'en'}, created_at=datetime.datetime(2020, 9, 14, 13, 8, 32), id=1305493635849428993, id_str='1305493635849428993', text='Only three days to go until the return of a brand new series of Saving Lives at Sea! How do you watch it?\\n\\n📺🔜 8pm Thursday on @BBCTwo', truncated=False, entities={'hashtags': [], 'symbols': [], 'user_mentions': [{'screen_name': 'BBCTwo', 'name': 'BBC Two', 'id': 1586183960, 'id_str': '1586183960', 'indices': [126, 133]}], 'urls': []}, source='Twitter Web App', source_url='https://mobile.twitter.com', in_reply_to_status_id=None, in_reply_to_status_id_str=None, in_reply_to_user_id=None, in_reply_to_user_id_str=None, in_reply_to_screen_name=None, author=User(_api=<tweepy.api.API object at 0x00000211D7ADE358>, _json={'id': 24916036, 'id_str': '24916036', 'name': 'RNLI', 'screen_name': 'RNLI', 'location': 'The UK & Republic of Ireland', 'description': 'The charity that saves lives at sea.', 'url': 'https://t.co/q5FkjRUXJA', 'entities': {'url': {'urls': [{'url': 'https://t.co/q5FkjRUXJA', 'expanded_url': 'http://bit.ly/SaveLivesAtSea2', 'display_url': 'bit.ly/SaveLivesAtSea2', 'indices': [0, 23]}]}, 'description': {'urls': []}}, 'protected': False, 'followers_count': 154797, 'friends_count': 11447, 'listed_count': 1237, 'created_at': 'Tue Mar 17 17:21:31 +0000 2009', 'favourites_count': 94000, 'utc_offset': None, 'time_zone': None, 'geo_enabled': True, 'verified': True, 'statuses_count': 70946, 'lang': None, 'contributors_enabled': False, 'is_translator': False, 'is_translation_enabled': False, 'profile_background_color': 'FFFFFF', 'profile_background_image_url': 'http://abs.twimg.com/images/themes/theme1/bg.png', 'profile_background_image_url_https': 'https://abs.twimg.com/images/themes/theme1/bg.png', 'profile_background_tile': False, 'profile_image_url': 'http://pbs.twimg.com/profile_images/517948939182428160/b9fMWRqF_normal.png', 'profile_image_url_https': 'https://pbs.twimg.com/profile_images/517948939182428160/b9fMWRqF_normal.png', 'profile_banner_url': 'https://pbs.twimg.com/profile_banners/24916036/1599571460', 'profile_link_color': 'FF691F', 'profile_sidebar_border_color': '000000', 'profile_sidebar_fill_color': 'D6EBFF', 'profile_text_color': '333333', 'profile_use_background_image': False, 'has_extended_profile': True, 'default_profile': False, 'default_profile_image': False, 'following': None, 'follow_request_sent': None, 'notifications': None, 'translator_type': 'none'}, id=24916036, id_str='24916036', name='RNLI', screen_name='RNLI', location='The UK & Republic of Ireland', description='The charity that saves lives at sea.', url='https://t.co/q5FkjRUXJA', entities={'url': {'urls': [{'url': 'https://t.co/q5FkjRUXJA', 'expanded_url': 'http://bit.ly/SaveLivesAtSea2', 'display_url': 'bit.ly/SaveLivesAtSea2', 'indices': [0, 23]}]}, 'description': {'urls': []}}, protected=False, followers_count=154797, friends_count=11447, listed_count=1237, created_at=datetime.datetime(2009, 3, 17, 17, 21, 31), favourites_count=94000, utc_offset=None, time_zone=None, geo_enabled=True, verified=True, statuses_count=70946, lang=None, contributors_enabled=False, is_translator=False, is_translation_enabled=False, profile_background_color='FFFFFF', profile_background_image_url='http://abs.twimg.com/images/themes/theme1/bg.png', profile_background_image_url_https='https://abs.twimg.com/images/themes/theme1/bg.png', profile_background_tile=False, profile_image_url='http://pbs.twimg.com/profile_images/517948939182428160/b9fMWRqF_normal.png', profile_image_url_https='https://pbs.twimg.com/profile_images/517948939182428160/b9fMWRqF_normal.png', profile_banner_url='https://pbs.twimg.com/profile_banners/24916036/1599571460', profile_link_color='FF691F', profile_sidebar_border_color='000000', profile_sidebar_fill_color='D6EBFF', profile_text_color='333333', profile_use_background_image=False, has_extended_profile=True, default_profile=False, default_profile_image=False, following=False, follow_request_sent=None, notifications=None, translator_type='none'), user=User(_api=<tweepy.api.API object at 0x00000211D7ADE358>, _json={'id': 24916036, 'id_str': '24916036', 'name': 'RNLI', 'screen_name': 'RNLI', 'location': 'The UK & Republic of Ireland', 'description': 'The charity that saves lives at sea.', 'url': 'https://t.co/q5FkjRUXJA', 'entities': {'url': {'urls': [{'url': 'https://t.co/q5FkjRUXJA', 'expanded_url': 'http://bit.ly/SaveLivesAtSea2', 'display_url': 'bit.ly/SaveLivesAtSea2', 'indices': [0, 23]}]}, 'description': {'urls': []}}, 'protected': False, 'followers_count': 154797, 'friends_count': 11447, 'listed_count': 1237, 'created_at': 'Tue Mar 17 17:21:31 +0000 2009', 'favourites_count': 94000, 'utc_offset': None, 'time_zone': None, 'geo_enabled': True, 'verified': True, 'statuses_count': 70946, 'lang': None, 'contributors_enabled': False, 'is_translator': False, 'is_translation_enabled': False, 'profile_background_color': 'FFFFFF', 'profile_background_image_url': 'http://abs.twimg.com/images/themes/theme1/bg.png', 'profile_background_image_url_https': 'https://abs.twimg.com/images/themes/theme1/bg.png', 'profile_background_tile': False, 'profile_image_url': 'http://pbs.twimg.com/profile_images/517948939182428160/b9fMWRqF_normal.png', 'profile_image_url_https': 'https://pbs.twimg.com/profile_images/517948939182428160/b9fMWRqF_normal.png', 'profile_banner_url': 'https://pbs.twimg.com/profile_banners/24916036/1599571460', 'profile_link_color': 'FF691F', 'profile_sidebar_border_color': '000000', 'profile_sidebar_fill_color': 'D6EBFF', 'profile_text_color': '333333', 'profile_use_background_image': False, 'has_extended_profile': True, 'default_profile': False, 'default_profile_image': False, 'following': None, 'follow_request_sent': None, 'notifications': None, 'translator_type': 'none'}, id=24916036, id_str='24916036', name='RNLI', screen_name='RNLI', location='The UK & Republic of Ireland', description='The charity that saves lives at sea.', url='https://t.co/q5FkjRUXJA', entities={'url': {'urls': [{'url': 'https://t.co/q5FkjRUXJA', 'expanded_url': 'http://bit.ly/SaveLivesAtSea2', 'display_url': 'bit.ly/SaveLivesAtSea2', 'indices': [0, 23]}]}, 'description': {'urls': []}}, protected=False, followers_count=154797, friends_count=11447, listed_count=1237, created_at=datetime.datetime(2009, 3, 17, 17, 21, 31), favourites_count=94000, utc_offset=None, time_zone=None, geo_enabled=True, verified=True, statuses_count=70946, lang=None, contributors_enabled=False, is_translator=False, is_translation_enabled=False, profile_background_color='FFFFFF', profile_background_image_url='http://abs.twimg.com/images/themes/theme1/bg.png', profile_background_image_url_https='https://abs.twimg.com/images/themes/theme1/bg.png', profile_background_tile=False, profile_image_url='http://pbs.twimg.com/profile_images/517948939182428160/b9fMWRqF_normal.png', profile_image_url_https='https://pbs.twimg.com/profile_images/517948939182428160/b9fMWRqF_normal.png', profile_banner_url='https://pbs.twimg.com/profile_banners/24916036/1599571460', profile_link_color='FF691F', profile_sidebar_border_color='000000', profile_sidebar_fill_color='D6EBFF', profile_text_color='333333', profile_use_background_image=False, has_extended_profile=True, default_profile=False, default_profile_image=False, following=False, follow_request_sent=None, notifications=None, translator_type='none'), geo=None, coordinates=None, place=None, contributors=None, is_quote_status=False, retweet_count=12, favorite_count=26, favorited=False, retweeted=False, lang='en'),\n",
       " Status(_api=<tweepy.api.API object at 0x00000211D7ADE358>, _json={'created_at': 'Mon Sep 14 10:53:20 +0000 2020', 'id': 1305459610833301505, 'id_str': '1305459610833301505', 'text': '@JP_Fenwick Thank you so much for supporting us!', 'truncated': False, 'entities': {'hashtags': [], 'symbols': [], 'user_mentions': [{'screen_name': 'JP_Fenwick', 'name': 'John Fenwick', 'id': 295273429, 'id_str': '295273429', 'indices': [0, 11]}], 'urls': []}, 'source': '<a href=\"https://www.spredfast.com/\" rel=\"nofollow\">Khoros</a>', 'in_reply_to_status_id': 1305078777458888704, 'in_reply_to_status_id_str': '1305078777458888704', 'in_reply_to_user_id': 295273429, 'in_reply_to_user_id_str': '295273429', 'in_reply_to_screen_name': 'JP_Fenwick', 'user': {'id': 24916036, 'id_str': '24916036', 'name': 'RNLI', 'screen_name': 'RNLI', 'location': 'The UK & Republic of Ireland', 'description': 'The charity that saves lives at sea.', 'url': 'https://t.co/q5FkjRUXJA', 'entities': {'url': {'urls': [{'url': 'https://t.co/q5FkjRUXJA', 'expanded_url': 'http://bit.ly/SaveLivesAtSea2', 'display_url': 'bit.ly/SaveLivesAtSea2', 'indices': [0, 23]}]}, 'description': {'urls': []}}, 'protected': False, 'followers_count': 154797, 'friends_count': 11447, 'listed_count': 1237, 'created_at': 'Tue Mar 17 17:21:31 +0000 2009', 'favourites_count': 94000, 'utc_offset': None, 'time_zone': None, 'geo_enabled': True, 'verified': True, 'statuses_count': 70946, 'lang': None, 'contributors_enabled': False, 'is_translator': False, 'is_translation_enabled': False, 'profile_background_color': 'FFFFFF', 'profile_background_image_url': 'http://abs.twimg.com/images/themes/theme1/bg.png', 'profile_background_image_url_https': 'https://abs.twimg.com/images/themes/theme1/bg.png', 'profile_background_tile': False, 'profile_image_url': 'http://pbs.twimg.com/profile_images/517948939182428160/b9fMWRqF_normal.png', 'profile_image_url_https': 'https://pbs.twimg.com/profile_images/517948939182428160/b9fMWRqF_normal.png', 'profile_banner_url': 'https://pbs.twimg.com/profile_banners/24916036/1599571460', 'profile_link_color': 'FF691F', 'profile_sidebar_border_color': '000000', 'profile_sidebar_fill_color': 'D6EBFF', 'profile_text_color': '333333', 'profile_use_background_image': False, 'has_extended_profile': True, 'default_profile': False, 'default_profile_image': False, 'following': None, 'follow_request_sent': None, 'notifications': None, 'translator_type': 'none'}, 'geo': None, 'coordinates': None, 'place': None, 'contributors': None, 'is_quote_status': False, 'retweet_count': 0, 'favorite_count': 0, 'favorited': False, 'retweeted': False, 'lang': 'en'}, created_at=datetime.datetime(2020, 9, 14, 10, 53, 20), id=1305459610833301505, id_str='1305459610833301505', text='@JP_Fenwick Thank you so much for supporting us!', truncated=False, entities={'hashtags': [], 'symbols': [], 'user_mentions': [{'screen_name': 'JP_Fenwick', 'name': 'John Fenwick', 'id': 295273429, 'id_str': '295273429', 'indices': [0, 11]}], 'urls': []}, source='Khoros', source_url='https://www.spredfast.com/', in_reply_to_status_id=1305078777458888704, in_reply_to_status_id_str='1305078777458888704', in_reply_to_user_id=295273429, in_reply_to_user_id_str='295273429', in_reply_to_screen_name='JP_Fenwick', author=User(_api=<tweepy.api.API object at 0x00000211D7ADE358>, _json={'id': 24916036, 'id_str': '24916036', 'name': 'RNLI', 'screen_name': 'RNLI', 'location': 'The UK & Republic of Ireland', 'description': 'The charity that saves lives at sea.', 'url': 'https://t.co/q5FkjRUXJA', 'entities': {'url': {'urls': [{'url': 'https://t.co/q5FkjRUXJA', 'expanded_url': 'http://bit.ly/SaveLivesAtSea2', 'display_url': 'bit.ly/SaveLivesAtSea2', 'indices': [0, 23]}]}, 'description': {'urls': []}}, 'protected': False, 'followers_count': 154797, 'friends_count': 11447, 'listed_count': 1237, 'created_at': 'Tue Mar 17 17:21:31 +0000 2009', 'favourites_count': 94000, 'utc_offset': None, 'time_zone': None, 'geo_enabled': True, 'verified': True, 'statuses_count': 70946, 'lang': None, 'contributors_enabled': False, 'is_translator': False, 'is_translation_enabled': False, 'profile_background_color': 'FFFFFF', 'profile_background_image_url': 'http://abs.twimg.com/images/themes/theme1/bg.png', 'profile_background_image_url_https': 'https://abs.twimg.com/images/themes/theme1/bg.png', 'profile_background_tile': False, 'profile_image_url': 'http://pbs.twimg.com/profile_images/517948939182428160/b9fMWRqF_normal.png', 'profile_image_url_https': 'https://pbs.twimg.com/profile_images/517948939182428160/b9fMWRqF_normal.png', 'profile_banner_url': 'https://pbs.twimg.com/profile_banners/24916036/1599571460', 'profile_link_color': 'FF691F', 'profile_sidebar_border_color': '000000', 'profile_sidebar_fill_color': 'D6EBFF', 'profile_text_color': '333333', 'profile_use_background_image': False, 'has_extended_profile': True, 'default_profile': False, 'default_profile_image': False, 'following': None, 'follow_request_sent': None, 'notifications': None, 'translator_type': 'none'}, id=24916036, id_str='24916036', name='RNLI', screen_name='RNLI', location='The UK & Republic of Ireland', description='The charity that saves lives at sea.', url='https://t.co/q5FkjRUXJA', entities={'url': {'urls': [{'url': 'https://t.co/q5FkjRUXJA', 'expanded_url': 'http://bit.ly/SaveLivesAtSea2', 'display_url': 'bit.ly/SaveLivesAtSea2', 'indices': [0, 23]}]}, 'description': {'urls': []}}, protected=False, followers_count=154797, friends_count=11447, listed_count=1237, created_at=datetime.datetime(2009, 3, 17, 17, 21, 31), favourites_count=94000, utc_offset=None, time_zone=None, geo_enabled=True, verified=True, statuses_count=70946, lang=None, contributors_enabled=False, is_translator=False, is_translation_enabled=False, profile_background_color='FFFFFF', profile_background_image_url='http://abs.twimg.com/images/themes/theme1/bg.png', profile_background_image_url_https='https://abs.twimg.com/images/themes/theme1/bg.png', profile_background_tile=False, profile_image_url='http://pbs.twimg.com/profile_images/517948939182428160/b9fMWRqF_normal.png', profile_image_url_https='https://pbs.twimg.com/profile_images/517948939182428160/b9fMWRqF_normal.png', profile_banner_url='https://pbs.twimg.com/profile_banners/24916036/1599571460', profile_link_color='FF691F', profile_sidebar_border_color='000000', profile_sidebar_fill_color='D6EBFF', profile_text_color='333333', profile_use_background_image=False, has_extended_profile=True, default_profile=False, default_profile_image=False, following=False, follow_request_sent=None, notifications=None, translator_type='none'), user=User(_api=<tweepy.api.API object at 0x00000211D7ADE358>, _json={'id': 24916036, 'id_str': '24916036', 'name': 'RNLI', 'screen_name': 'RNLI', 'location': 'The UK & Republic of Ireland', 'description': 'The charity that saves lives at sea.', 'url': 'https://t.co/q5FkjRUXJA', 'entities': {'url': {'urls': [{'url': 'https://t.co/q5FkjRUXJA', 'expanded_url': 'http://bit.ly/SaveLivesAtSea2', 'display_url': 'bit.ly/SaveLivesAtSea2', 'indices': [0, 23]}]}, 'description': {'urls': []}}, 'protected': False, 'followers_count': 154797, 'friends_count': 11447, 'listed_count': 1237, 'created_at': 'Tue Mar 17 17:21:31 +0000 2009', 'favourites_count': 94000, 'utc_offset': None, 'time_zone': None, 'geo_enabled': True, 'verified': True, 'statuses_count': 70946, 'lang': None, 'contributors_enabled': False, 'is_translator': False, 'is_translation_enabled': False, 'profile_background_color': 'FFFFFF', 'profile_background_image_url': 'http://abs.twimg.com/images/themes/theme1/bg.png', 'profile_background_image_url_https': 'https://abs.twimg.com/images/themes/theme1/bg.png', 'profile_background_tile': False, 'profile_image_url': 'http://pbs.twimg.com/profile_images/517948939182428160/b9fMWRqF_normal.png', 'profile_image_url_https': 'https://pbs.twimg.com/profile_images/517948939182428160/b9fMWRqF_normal.png', 'profile_banner_url': 'https://pbs.twimg.com/profile_banners/24916036/1599571460', 'profile_link_color': 'FF691F', 'profile_sidebar_border_color': '000000', 'profile_sidebar_fill_color': 'D6EBFF', 'profile_text_color': '333333', 'profile_use_background_image': False, 'has_extended_profile': True, 'default_profile': False, 'default_profile_image': False, 'following': None, 'follow_request_sent': None, 'notifications': None, 'translator_type': 'none'}, id=24916036, id_str='24916036', name='RNLI', screen_name='RNLI', location='The UK & Republic of Ireland', description='The charity that saves lives at sea.', url='https://t.co/q5FkjRUXJA', entities={'url': {'urls': [{'url': 'https://t.co/q5FkjRUXJA', 'expanded_url': 'http://bit.ly/SaveLivesAtSea2', 'display_url': 'bit.ly/SaveLivesAtSea2', 'indices': [0, 23]}]}, 'description': {'urls': []}}, protected=False, followers_count=154797, friends_count=11447, listed_count=1237, created_at=datetime.datetime(2009, 3, 17, 17, 21, 31), favourites_count=94000, utc_offset=None, time_zone=None, geo_enabled=True, verified=True, statuses_count=70946, lang=None, contributors_enabled=False, is_translator=False, is_translation_enabled=False, profile_background_color='FFFFFF', profile_background_image_url='http://abs.twimg.com/images/themes/theme1/bg.png', profile_background_image_url_https='https://abs.twimg.com/images/themes/theme1/bg.png', profile_background_tile=False, profile_image_url='http://pbs.twimg.com/profile_images/517948939182428160/b9fMWRqF_normal.png', profile_image_url_https='https://pbs.twimg.com/profile_images/517948939182428160/b9fMWRqF_normal.png', profile_banner_url='https://pbs.twimg.com/profile_banners/24916036/1599571460', profile_link_color='FF691F', profile_sidebar_border_color='000000', profile_sidebar_fill_color='D6EBFF', profile_text_color='333333', profile_use_background_image=False, has_extended_profile=True, default_profile=False, default_profile_image=False, following=False, follow_request_sent=None, notifications=None, translator_type='none'), geo=None, coordinates=None, place=None, contributors=None, is_quote_status=False, retweet_count=0, favorite_count=0, favorited=False, retweeted=False, lang='en'),\n",
       " Status(_api=<tweepy.api.API object at 0x00000211D7ADE358>, _json={'created_at': 'Mon Sep 14 10:42:11 +0000 2020', 'id': 1305456807528333312, 'id_str': '1305456807528333312', 'text': \"@MisterMarilyn Thank you so much for your kind words Marilyn. We're so proud of our lifesavers 💙\", 'truncated': False, 'entities': {'hashtags': [], 'symbols': [], 'user_mentions': [{'screen_name': 'MisterMarilyn', 'name': 'Marilyn', 'id': 218375593, 'id_str': '218375593', 'indices': [0, 14]}], 'urls': []}, 'source': '<a href=\"https://www.spredfast.com/\" rel=\"nofollow\">Khoros</a>', 'in_reply_to_status_id': 1304958151003975680, 'in_reply_to_status_id_str': '1304958151003975680', 'in_reply_to_user_id': 218375593, 'in_reply_to_user_id_str': '218375593', 'in_reply_to_screen_name': 'MisterMarilyn', 'user': {'id': 24916036, 'id_str': '24916036', 'name': 'RNLI', 'screen_name': 'RNLI', 'location': 'The UK & Republic of Ireland', 'description': 'The charity that saves lives at sea.', 'url': 'https://t.co/q5FkjRUXJA', 'entities': {'url': {'urls': [{'url': 'https://t.co/q5FkjRUXJA', 'expanded_url': 'http://bit.ly/SaveLivesAtSea2', 'display_url': 'bit.ly/SaveLivesAtSea2', 'indices': [0, 23]}]}, 'description': {'urls': []}}, 'protected': False, 'followers_count': 154797, 'friends_count': 11447, 'listed_count': 1237, 'created_at': 'Tue Mar 17 17:21:31 +0000 2009', 'favourites_count': 94000, 'utc_offset': None, 'time_zone': None, 'geo_enabled': True, 'verified': True, 'statuses_count': 70946, 'lang': None, 'contributors_enabled': False, 'is_translator': False, 'is_translation_enabled': False, 'profile_background_color': 'FFFFFF', 'profile_background_image_url': 'http://abs.twimg.com/images/themes/theme1/bg.png', 'profile_background_image_url_https': 'https://abs.twimg.com/images/themes/theme1/bg.png', 'profile_background_tile': False, 'profile_image_url': 'http://pbs.twimg.com/profile_images/517948939182428160/b9fMWRqF_normal.png', 'profile_image_url_https': 'https://pbs.twimg.com/profile_images/517948939182428160/b9fMWRqF_normal.png', 'profile_banner_url': 'https://pbs.twimg.com/profile_banners/24916036/1599571460', 'profile_link_color': 'FF691F', 'profile_sidebar_border_color': '000000', 'profile_sidebar_fill_color': 'D6EBFF', 'profile_text_color': '333333', 'profile_use_background_image': False, 'has_extended_profile': True, 'default_profile': False, 'default_profile_image': False, 'following': None, 'follow_request_sent': None, 'notifications': None, 'translator_type': 'none'}, 'geo': None, 'coordinates': None, 'place': None, 'contributors': None, 'is_quote_status': False, 'retweet_count': 0, 'favorite_count': 2, 'favorited': False, 'retweeted': False, 'lang': 'en'}, created_at=datetime.datetime(2020, 9, 14, 10, 42, 11), id=1305456807528333312, id_str='1305456807528333312', text=\"@MisterMarilyn Thank you so much for your kind words Marilyn. We're so proud of our lifesavers 💙\", truncated=False, entities={'hashtags': [], 'symbols': [], 'user_mentions': [{'screen_name': 'MisterMarilyn', 'name': 'Marilyn', 'id': 218375593, 'id_str': '218375593', 'indices': [0, 14]}], 'urls': []}, source='Khoros', source_url='https://www.spredfast.com/', in_reply_to_status_id=1304958151003975680, in_reply_to_status_id_str='1304958151003975680', in_reply_to_user_id=218375593, in_reply_to_user_id_str='218375593', in_reply_to_screen_name='MisterMarilyn', author=User(_api=<tweepy.api.API object at 0x00000211D7ADE358>, _json={'id': 24916036, 'id_str': '24916036', 'name': 'RNLI', 'screen_name': 'RNLI', 'location': 'The UK & Republic of Ireland', 'description': 'The charity that saves lives at sea.', 'url': 'https://t.co/q5FkjRUXJA', 'entities': {'url': {'urls': [{'url': 'https://t.co/q5FkjRUXJA', 'expanded_url': 'http://bit.ly/SaveLivesAtSea2', 'display_url': 'bit.ly/SaveLivesAtSea2', 'indices': [0, 23]}]}, 'description': {'urls': []}}, 'protected': False, 'followers_count': 154797, 'friends_count': 11447, 'listed_count': 1237, 'created_at': 'Tue Mar 17 17:21:31 +0000 2009', 'favourites_count': 94000, 'utc_offset': None, 'time_zone': None, 'geo_enabled': True, 'verified': True, 'statuses_count': 70946, 'lang': None, 'contributors_enabled': False, 'is_translator': False, 'is_translation_enabled': False, 'profile_background_color': 'FFFFFF', 'profile_background_image_url': 'http://abs.twimg.com/images/themes/theme1/bg.png', 'profile_background_image_url_https': 'https://abs.twimg.com/images/themes/theme1/bg.png', 'profile_background_tile': False, 'profile_image_url': 'http://pbs.twimg.com/profile_images/517948939182428160/b9fMWRqF_normal.png', 'profile_image_url_https': 'https://pbs.twimg.com/profile_images/517948939182428160/b9fMWRqF_normal.png', 'profile_banner_url': 'https://pbs.twimg.com/profile_banners/24916036/1599571460', 'profile_link_color': 'FF691F', 'profile_sidebar_border_color': '000000', 'profile_sidebar_fill_color': 'D6EBFF', 'profile_text_color': '333333', 'profile_use_background_image': False, 'has_extended_profile': True, 'default_profile': False, 'default_profile_image': False, 'following': None, 'follow_request_sent': None, 'notifications': None, 'translator_type': 'none'}, id=24916036, id_str='24916036', name='RNLI', screen_name='RNLI', location='The UK & Republic of Ireland', description='The charity that saves lives at sea.', url='https://t.co/q5FkjRUXJA', entities={'url': {'urls': [{'url': 'https://t.co/q5FkjRUXJA', 'expanded_url': 'http://bit.ly/SaveLivesAtSea2', 'display_url': 'bit.ly/SaveLivesAtSea2', 'indices': [0, 23]}]}, 'description': {'urls': []}}, protected=False, followers_count=154797, friends_count=11447, listed_count=1237, created_at=datetime.datetime(2009, 3, 17, 17, 21, 31), favourites_count=94000, utc_offset=None, time_zone=None, geo_enabled=True, verified=True, statuses_count=70946, lang=None, contributors_enabled=False, is_translator=False, is_translation_enabled=False, profile_background_color='FFFFFF', profile_background_image_url='http://abs.twimg.com/images/themes/theme1/bg.png', profile_background_image_url_https='https://abs.twimg.com/images/themes/theme1/bg.png', profile_background_tile=False, profile_image_url='http://pbs.twimg.com/profile_images/517948939182428160/b9fMWRqF_normal.png', profile_image_url_https='https://pbs.twimg.com/profile_images/517948939182428160/b9fMWRqF_normal.png', profile_banner_url='https://pbs.twimg.com/profile_banners/24916036/1599571460', profile_link_color='FF691F', profile_sidebar_border_color='000000', profile_sidebar_fill_color='D6EBFF', profile_text_color='333333', profile_use_background_image=False, has_extended_profile=True, default_profile=False, default_profile_image=False, following=False, follow_request_sent=None, notifications=None, translator_type='none'), user=User(_api=<tweepy.api.API object at 0x00000211D7ADE358>, _json={'id': 24916036, 'id_str': '24916036', 'name': 'RNLI', 'screen_name': 'RNLI', 'location': 'The UK & Republic of Ireland', 'description': 'The charity that saves lives at sea.', 'url': 'https://t.co/q5FkjRUXJA', 'entities': {'url': {'urls': [{'url': 'https://t.co/q5FkjRUXJA', 'expanded_url': 'http://bit.ly/SaveLivesAtSea2', 'display_url': 'bit.ly/SaveLivesAtSea2', 'indices': [0, 23]}]}, 'description': {'urls': []}}, 'protected': False, 'followers_count': 154797, 'friends_count': 11447, 'listed_count': 1237, 'created_at': 'Tue Mar 17 17:21:31 +0000 2009', 'favourites_count': 94000, 'utc_offset': None, 'time_zone': None, 'geo_enabled': True, 'verified': True, 'statuses_count': 70946, 'lang': None, 'contributors_enabled': False, 'is_translator': False, 'is_translation_enabled': False, 'profile_background_color': 'FFFFFF', 'profile_background_image_url': 'http://abs.twimg.com/images/themes/theme1/bg.png', 'profile_background_image_url_https': 'https://abs.twimg.com/images/themes/theme1/bg.png', 'profile_background_tile': False, 'profile_image_url': 'http://pbs.twimg.com/profile_images/517948939182428160/b9fMWRqF_normal.png', 'profile_image_url_https': 'https://pbs.twimg.com/profile_images/517948939182428160/b9fMWRqF_normal.png', 'profile_banner_url': 'https://pbs.twimg.com/profile_banners/24916036/1599571460', 'profile_link_color': 'FF691F', 'profile_sidebar_border_color': '000000', 'profile_sidebar_fill_color': 'D6EBFF', 'profile_text_color': '333333', 'profile_use_background_image': False, 'has_extended_profile': True, 'default_profile': False, 'default_profile_image': False, 'following': None, 'follow_request_sent': None, 'notifications': None, 'translator_type': 'none'}, id=24916036, id_str='24916036', name='RNLI', screen_name='RNLI', location='The UK & Republic of Ireland', description='The charity that saves lives at sea.', url='https://t.co/q5FkjRUXJA', entities={'url': {'urls': [{'url': 'https://t.co/q5FkjRUXJA', 'expanded_url': 'http://bit.ly/SaveLivesAtSea2', 'display_url': 'bit.ly/SaveLivesAtSea2', 'indices': [0, 23]}]}, 'description': {'urls': []}}, protected=False, followers_count=154797, friends_count=11447, listed_count=1237, created_at=datetime.datetime(2009, 3, 17, 17, 21, 31), favourites_count=94000, utc_offset=None, time_zone=None, geo_enabled=True, verified=True, statuses_count=70946, lang=None, contributors_enabled=False, is_translator=False, is_translation_enabled=False, profile_background_color='FFFFFF', profile_background_image_url='http://abs.twimg.com/images/themes/theme1/bg.png', profile_background_image_url_https='https://abs.twimg.com/images/themes/theme1/bg.png', profile_background_tile=False, profile_image_url='http://pbs.twimg.com/profile_images/517948939182428160/b9fMWRqF_normal.png', profile_image_url_https='https://pbs.twimg.com/profile_images/517948939182428160/b9fMWRqF_normal.png', profile_banner_url='https://pbs.twimg.com/profile_banners/24916036/1599571460', profile_link_color='FF691F', profile_sidebar_border_color='000000', profile_sidebar_fill_color='D6EBFF', profile_text_color='333333', profile_use_background_image=False, has_extended_profile=True, default_profile=False, default_profile_image=False, following=False, follow_request_sent=None, notifications=None, translator_type='none'), geo=None, coordinates=None, place=None, contributors=None, is_quote_status=False, retweet_count=0, favorite_count=2, favorited=False, retweeted=False, lang='en'),\n",
       " Status(_api=<tweepy.api.API object at 0x00000211D7ADE358>, _json={'created_at': 'Mon Sep 14 10:41:19 +0000 2020', 'id': 1305456587893604355, 'id_str': '1305456587893604355', 'text': \"@whelkaholism Thank you so so much for your continued support Rob - we wouldn't be able to continue saving lives at… https://t.co/M9ON3wnDrF\", 'truncated': True, 'entities': {'hashtags': [], 'symbols': [], 'user_mentions': [{'screen_name': 'whelkaholism', 'name': 'Rob Watkins', 'id': 238532940, 'id_str': '238532940', 'indices': [0, 13]}], 'urls': [{'url': 'https://t.co/M9ON3wnDrF', 'expanded_url': 'https://twitter.com/i/web/status/1305456587893604355', 'display_url': 'twitter.com/i/web/status/1…', 'indices': [117, 140]}]}, 'source': '<a href=\"https://www.spredfast.com/\" rel=\"nofollow\">Khoros</a>', 'in_reply_to_status_id': 1305455288447836161, 'in_reply_to_status_id_str': '1305455288447836161', 'in_reply_to_user_id': 238532940, 'in_reply_to_user_id_str': '238532940', 'in_reply_to_screen_name': 'whelkaholism', 'user': {'id': 24916036, 'id_str': '24916036', 'name': 'RNLI', 'screen_name': 'RNLI', 'location': 'The UK & Republic of Ireland', 'description': 'The charity that saves lives at sea.', 'url': 'https://t.co/q5FkjRUXJA', 'entities': {'url': {'urls': [{'url': 'https://t.co/q5FkjRUXJA', 'expanded_url': 'http://bit.ly/SaveLivesAtSea2', 'display_url': 'bit.ly/SaveLivesAtSea2', 'indices': [0, 23]}]}, 'description': {'urls': []}}, 'protected': False, 'followers_count': 154797, 'friends_count': 11447, 'listed_count': 1237, 'created_at': 'Tue Mar 17 17:21:31 +0000 2009', 'favourites_count': 94000, 'utc_offset': None, 'time_zone': None, 'geo_enabled': True, 'verified': True, 'statuses_count': 70946, 'lang': None, 'contributors_enabled': False, 'is_translator': False, 'is_translation_enabled': False, 'profile_background_color': 'FFFFFF', 'profile_background_image_url': 'http://abs.twimg.com/images/themes/theme1/bg.png', 'profile_background_image_url_https': 'https://abs.twimg.com/images/themes/theme1/bg.png', 'profile_background_tile': False, 'profile_image_url': 'http://pbs.twimg.com/profile_images/517948939182428160/b9fMWRqF_normal.png', 'profile_image_url_https': 'https://pbs.twimg.com/profile_images/517948939182428160/b9fMWRqF_normal.png', 'profile_banner_url': 'https://pbs.twimg.com/profile_banners/24916036/1599571460', 'profile_link_color': 'FF691F', 'profile_sidebar_border_color': '000000', 'profile_sidebar_fill_color': 'D6EBFF', 'profile_text_color': '333333', 'profile_use_background_image': False, 'has_extended_profile': True, 'default_profile': False, 'default_profile_image': False, 'following': None, 'follow_request_sent': None, 'notifications': None, 'translator_type': 'none'}, 'geo': None, 'coordinates': None, 'place': None, 'contributors': None, 'is_quote_status': False, 'retweet_count': 0, 'favorite_count': 1, 'favorited': False, 'retweeted': False, 'lang': 'en'}, created_at=datetime.datetime(2020, 9, 14, 10, 41, 19), id=1305456587893604355, id_str='1305456587893604355', text=\"@whelkaholism Thank you so so much for your continued support Rob - we wouldn't be able to continue saving lives at… https://t.co/M9ON3wnDrF\", truncated=True, entities={'hashtags': [], 'symbols': [], 'user_mentions': [{'screen_name': 'whelkaholism', 'name': 'Rob Watkins', 'id': 238532940, 'id_str': '238532940', 'indices': [0, 13]}], 'urls': [{'url': 'https://t.co/M9ON3wnDrF', 'expanded_url': 'https://twitter.com/i/web/status/1305456587893604355', 'display_url': 'twitter.com/i/web/status/1…', 'indices': [117, 140]}]}, source='Khoros', source_url='https://www.spredfast.com/', in_reply_to_status_id=1305455288447836161, in_reply_to_status_id_str='1305455288447836161', in_reply_to_user_id=238532940, in_reply_to_user_id_str='238532940', in_reply_to_screen_name='whelkaholism', author=User(_api=<tweepy.api.API object at 0x00000211D7ADE358>, _json={'id': 24916036, 'id_str': '24916036', 'name': 'RNLI', 'screen_name': 'RNLI', 'location': 'The UK & Republic of Ireland', 'description': 'The charity that saves lives at sea.', 'url': 'https://t.co/q5FkjRUXJA', 'entities': {'url': {'urls': [{'url': 'https://t.co/q5FkjRUXJA', 'expanded_url': 'http://bit.ly/SaveLivesAtSea2', 'display_url': 'bit.ly/SaveLivesAtSea2', 'indices': [0, 23]}]}, 'description': {'urls': []}}, 'protected': False, 'followers_count': 154797, 'friends_count': 11447, 'listed_count': 1237, 'created_at': 'Tue Mar 17 17:21:31 +0000 2009', 'favourites_count': 94000, 'utc_offset': None, 'time_zone': None, 'geo_enabled': True, 'verified': True, 'statuses_count': 70946, 'lang': None, 'contributors_enabled': False, 'is_translator': False, 'is_translation_enabled': False, 'profile_background_color': 'FFFFFF', 'profile_background_image_url': 'http://abs.twimg.com/images/themes/theme1/bg.png', 'profile_background_image_url_https': 'https://abs.twimg.com/images/themes/theme1/bg.png', 'profile_background_tile': False, 'profile_image_url': 'http://pbs.twimg.com/profile_images/517948939182428160/b9fMWRqF_normal.png', 'profile_image_url_https': 'https://pbs.twimg.com/profile_images/517948939182428160/b9fMWRqF_normal.png', 'profile_banner_url': 'https://pbs.twimg.com/profile_banners/24916036/1599571460', 'profile_link_color': 'FF691F', 'profile_sidebar_border_color': '000000', 'profile_sidebar_fill_color': 'D6EBFF', 'profile_text_color': '333333', 'profile_use_background_image': False, 'has_extended_profile': True, 'default_profile': False, 'default_profile_image': False, 'following': None, 'follow_request_sent': None, 'notifications': None, 'translator_type': 'none'}, id=24916036, id_str='24916036', name='RNLI', screen_name='RNLI', location='The UK & Republic of Ireland', description='The charity that saves lives at sea.', url='https://t.co/q5FkjRUXJA', entities={'url': {'urls': [{'url': 'https://t.co/q5FkjRUXJA', 'expanded_url': 'http://bit.ly/SaveLivesAtSea2', 'display_url': 'bit.ly/SaveLivesAtSea2', 'indices': [0, 23]}]}, 'description': {'urls': []}}, protected=False, followers_count=154797, friends_count=11447, listed_count=1237, created_at=datetime.datetime(2009, 3, 17, 17, 21, 31), favourites_count=94000, utc_offset=None, time_zone=None, geo_enabled=True, verified=True, statuses_count=70946, lang=None, contributors_enabled=False, is_translator=False, is_translation_enabled=False, profile_background_color='FFFFFF', profile_background_image_url='http://abs.twimg.com/images/themes/theme1/bg.png', profile_background_image_url_https='https://abs.twimg.com/images/themes/theme1/bg.png', profile_background_tile=False, profile_image_url='http://pbs.twimg.com/profile_images/517948939182428160/b9fMWRqF_normal.png', profile_image_url_https='https://pbs.twimg.com/profile_images/517948939182428160/b9fMWRqF_normal.png', profile_banner_url='https://pbs.twimg.com/profile_banners/24916036/1599571460', profile_link_color='FF691F', profile_sidebar_border_color='000000', profile_sidebar_fill_color='D6EBFF', profile_text_color='333333', profile_use_background_image=False, has_extended_profile=True, default_profile=False, default_profile_image=False, following=False, follow_request_sent=None, notifications=None, translator_type='none'), user=User(_api=<tweepy.api.API object at 0x00000211D7ADE358>, _json={'id': 24916036, 'id_str': '24916036', 'name': 'RNLI', 'screen_name': 'RNLI', 'location': 'The UK & Republic of Ireland', 'description': 'The charity that saves lives at sea.', 'url': 'https://t.co/q5FkjRUXJA', 'entities': {'url': {'urls': [{'url': 'https://t.co/q5FkjRUXJA', 'expanded_url': 'http://bit.ly/SaveLivesAtSea2', 'display_url': 'bit.ly/SaveLivesAtSea2', 'indices': [0, 23]}]}, 'description': {'urls': []}}, 'protected': False, 'followers_count': 154797, 'friends_count': 11447, 'listed_count': 1237, 'created_at': 'Tue Mar 17 17:21:31 +0000 2009', 'favourites_count': 94000, 'utc_offset': None, 'time_zone': None, 'geo_enabled': True, 'verified': True, 'statuses_count': 70946, 'lang': None, 'contributors_enabled': False, 'is_translator': False, 'is_translation_enabled': False, 'profile_background_color': 'FFFFFF', 'profile_background_image_url': 'http://abs.twimg.com/images/themes/theme1/bg.png', 'profile_background_image_url_https': 'https://abs.twimg.com/images/themes/theme1/bg.png', 'profile_background_tile': False, 'profile_image_url': 'http://pbs.twimg.com/profile_images/517948939182428160/b9fMWRqF_normal.png', 'profile_image_url_https': 'https://pbs.twimg.com/profile_images/517948939182428160/b9fMWRqF_normal.png', 'profile_banner_url': 'https://pbs.twimg.com/profile_banners/24916036/1599571460', 'profile_link_color': 'FF691F', 'profile_sidebar_border_color': '000000', 'profile_sidebar_fill_color': 'D6EBFF', 'profile_text_color': '333333', 'profile_use_background_image': False, 'has_extended_profile': True, 'default_profile': False, 'default_profile_image': False, 'following': None, 'follow_request_sent': None, 'notifications': None, 'translator_type': 'none'}, id=24916036, id_str='24916036', name='RNLI', screen_name='RNLI', location='The UK & Republic of Ireland', description='The charity that saves lives at sea.', url='https://t.co/q5FkjRUXJA', entities={'url': {'urls': [{'url': 'https://t.co/q5FkjRUXJA', 'expanded_url': 'http://bit.ly/SaveLivesAtSea2', 'display_url': 'bit.ly/SaveLivesAtSea2', 'indices': [0, 23]}]}, 'description': {'urls': []}}, protected=False, followers_count=154797, friends_count=11447, listed_count=1237, created_at=datetime.datetime(2009, 3, 17, 17, 21, 31), favourites_count=94000, utc_offset=None, time_zone=None, geo_enabled=True, verified=True, statuses_count=70946, lang=None, contributors_enabled=False, is_translator=False, is_translation_enabled=False, profile_background_color='FFFFFF', profile_background_image_url='http://abs.twimg.com/images/themes/theme1/bg.png', profile_background_image_url_https='https://abs.twimg.com/images/themes/theme1/bg.png', profile_background_tile=False, profile_image_url='http://pbs.twimg.com/profile_images/517948939182428160/b9fMWRqF_normal.png', profile_image_url_https='https://pbs.twimg.com/profile_images/517948939182428160/b9fMWRqF_normal.png', profile_banner_url='https://pbs.twimg.com/profile_banners/24916036/1599571460', profile_link_color='FF691F', profile_sidebar_border_color='000000', profile_sidebar_fill_color='D6EBFF', profile_text_color='333333', profile_use_background_image=False, has_extended_profile=True, default_profile=False, default_profile_image=False, following=False, follow_request_sent=None, notifications=None, translator_type='none'), geo=None, coordinates=None, place=None, contributors=None, is_quote_status=False, retweet_count=0, favorite_count=1, favorited=False, retweeted=False, lang='en'),\n",
       " Status(_api=<tweepy.api.API object at 0x00000211D7ADE358>, _json={'created_at': 'Mon Sep 14 10:29:55 +0000 2020', 'id': 1305453718461087745, 'id_str': '1305453718461087745', 'text': \"@AmiNicholas That's amazing, thank you so much for supporting us Alfie! Good luck with the cycle 😊\", 'truncated': False, 'entities': {'hashtags': [], 'symbols': [], 'user_mentions': [{'screen_name': 'AmiNicholas', 'name': '#hellomynameisAmy👩\\u200d⚕️', 'id': 109355397, 'id_str': '109355397', 'indices': [0, 12]}], 'urls': []}, 'source': '<a href=\"https://www.spredfast.com/\" rel=\"nofollow\">Khoros</a>', 'in_reply_to_status_id': 1304846870699794432, 'in_reply_to_status_id_str': '1304846870699794432', 'in_reply_to_user_id': 109355397, 'in_reply_to_user_id_str': '109355397', 'in_reply_to_screen_name': 'AmiNicholas', 'user': {'id': 24916036, 'id_str': '24916036', 'name': 'RNLI', 'screen_name': 'RNLI', 'location': 'The UK & Republic of Ireland', 'description': 'The charity that saves lives at sea.', 'url': 'https://t.co/q5FkjRUXJA', 'entities': {'url': {'urls': [{'url': 'https://t.co/q5FkjRUXJA', 'expanded_url': 'http://bit.ly/SaveLivesAtSea2', 'display_url': 'bit.ly/SaveLivesAtSea2', 'indices': [0, 23]}]}, 'description': {'urls': []}}, 'protected': False, 'followers_count': 154797, 'friends_count': 11447, 'listed_count': 1237, 'created_at': 'Tue Mar 17 17:21:31 +0000 2009', 'favourites_count': 94000, 'utc_offset': None, 'time_zone': None, 'geo_enabled': True, 'verified': True, 'statuses_count': 70946, 'lang': None, 'contributors_enabled': False, 'is_translator': False, 'is_translation_enabled': False, 'profile_background_color': 'FFFFFF', 'profile_background_image_url': 'http://abs.twimg.com/images/themes/theme1/bg.png', 'profile_background_image_url_https': 'https://abs.twimg.com/images/themes/theme1/bg.png', 'profile_background_tile': False, 'profile_image_url': 'http://pbs.twimg.com/profile_images/517948939182428160/b9fMWRqF_normal.png', 'profile_image_url_https': 'https://pbs.twimg.com/profile_images/517948939182428160/b9fMWRqF_normal.png', 'profile_banner_url': 'https://pbs.twimg.com/profile_banners/24916036/1599571460', 'profile_link_color': 'FF691F', 'profile_sidebar_border_color': '000000', 'profile_sidebar_fill_color': 'D6EBFF', 'profile_text_color': '333333', 'profile_use_background_image': False, 'has_extended_profile': True, 'default_profile': False, 'default_profile_image': False, 'following': None, 'follow_request_sent': None, 'notifications': None, 'translator_type': 'none'}, 'geo': None, 'coordinates': None, 'place': None, 'contributors': None, 'is_quote_status': False, 'retweet_count': 0, 'favorite_count': 1, 'favorited': False, 'retweeted': False, 'lang': 'en'}, created_at=datetime.datetime(2020, 9, 14, 10, 29, 55), id=1305453718461087745, id_str='1305453718461087745', text=\"@AmiNicholas That's amazing, thank you so much for supporting us Alfie! Good luck with the cycle 😊\", truncated=False, entities={'hashtags': [], 'symbols': [], 'user_mentions': [{'screen_name': 'AmiNicholas', 'name': '#hellomynameisAmy👩\\u200d⚕️', 'id': 109355397, 'id_str': '109355397', 'indices': [0, 12]}], 'urls': []}, source='Khoros', source_url='https://www.spredfast.com/', in_reply_to_status_id=1304846870699794432, in_reply_to_status_id_str='1304846870699794432', in_reply_to_user_id=109355397, in_reply_to_user_id_str='109355397', in_reply_to_screen_name='AmiNicholas', author=User(_api=<tweepy.api.API object at 0x00000211D7ADE358>, _json={'id': 24916036, 'id_str': '24916036', 'name': 'RNLI', 'screen_name': 'RNLI', 'location': 'The UK & Republic of Ireland', 'description': 'The charity that saves lives at sea.', 'url': 'https://t.co/q5FkjRUXJA', 'entities': {'url': {'urls': [{'url': 'https://t.co/q5FkjRUXJA', 'expanded_url': 'http://bit.ly/SaveLivesAtSea2', 'display_url': 'bit.ly/SaveLivesAtSea2', 'indices': [0, 23]}]}, 'description': {'urls': []}}, 'protected': False, 'followers_count': 154797, 'friends_count': 11447, 'listed_count': 1237, 'created_at': 'Tue Mar 17 17:21:31 +0000 2009', 'favourites_count': 94000, 'utc_offset': None, 'time_zone': None, 'geo_enabled': True, 'verified': True, 'statuses_count': 70946, 'lang': None, 'contributors_enabled': False, 'is_translator': False, 'is_translation_enabled': False, 'profile_background_color': 'FFFFFF', 'profile_background_image_url': 'http://abs.twimg.com/images/themes/theme1/bg.png', 'profile_background_image_url_https': 'https://abs.twimg.com/images/themes/theme1/bg.png', 'profile_background_tile': False, 'profile_image_url': 'http://pbs.twimg.com/profile_images/517948939182428160/b9fMWRqF_normal.png', 'profile_image_url_https': 'https://pbs.twimg.com/profile_images/517948939182428160/b9fMWRqF_normal.png', 'profile_banner_url': 'https://pbs.twimg.com/profile_banners/24916036/1599571460', 'profile_link_color': 'FF691F', 'profile_sidebar_border_color': '000000', 'profile_sidebar_fill_color': 'D6EBFF', 'profile_text_color': '333333', 'profile_use_background_image': False, 'has_extended_profile': True, 'default_profile': False, 'default_profile_image': False, 'following': None, 'follow_request_sent': None, 'notifications': None, 'translator_type': 'none'}, id=24916036, id_str='24916036', name='RNLI', screen_name='RNLI', location='The UK & Republic of Ireland', description='The charity that saves lives at sea.', url='https://t.co/q5FkjRUXJA', entities={'url': {'urls': [{'url': 'https://t.co/q5FkjRUXJA', 'expanded_url': 'http://bit.ly/SaveLivesAtSea2', 'display_url': 'bit.ly/SaveLivesAtSea2', 'indices': [0, 23]}]}, 'description': {'urls': []}}, protected=False, followers_count=154797, friends_count=11447, listed_count=1237, created_at=datetime.datetime(2009, 3, 17, 17, 21, 31), favourites_count=94000, utc_offset=None, time_zone=None, geo_enabled=True, verified=True, statuses_count=70946, lang=None, contributors_enabled=False, is_translator=False, is_translation_enabled=False, profile_background_color='FFFFFF', profile_background_image_url='http://abs.twimg.com/images/themes/theme1/bg.png', profile_background_image_url_https='https://abs.twimg.com/images/themes/theme1/bg.png', profile_background_tile=False, profile_image_url='http://pbs.twimg.com/profile_images/517948939182428160/b9fMWRqF_normal.png', profile_image_url_https='https://pbs.twimg.com/profile_images/517948939182428160/b9fMWRqF_normal.png', profile_banner_url='https://pbs.twimg.com/profile_banners/24916036/1599571460', profile_link_color='FF691F', profile_sidebar_border_color='000000', profile_sidebar_fill_color='D6EBFF', profile_text_color='333333', profile_use_background_image=False, has_extended_profile=True, default_profile=False, default_profile_image=False, following=False, follow_request_sent=None, notifications=None, translator_type='none'), user=User(_api=<tweepy.api.API object at 0x00000211D7ADE358>, _json={'id': 24916036, 'id_str': '24916036', 'name': 'RNLI', 'screen_name': 'RNLI', 'location': 'The UK & Republic of Ireland', 'description': 'The charity that saves lives at sea.', 'url': 'https://t.co/q5FkjRUXJA', 'entities': {'url': {'urls': [{'url': 'https://t.co/q5FkjRUXJA', 'expanded_url': 'http://bit.ly/SaveLivesAtSea2', 'display_url': 'bit.ly/SaveLivesAtSea2', 'indices': [0, 23]}]}, 'description': {'urls': []}}, 'protected': False, 'followers_count': 154797, 'friends_count': 11447, 'listed_count': 1237, 'created_at': 'Tue Mar 17 17:21:31 +0000 2009', 'favourites_count': 94000, 'utc_offset': None, 'time_zone': None, 'geo_enabled': True, 'verified': True, 'statuses_count': 70946, 'lang': None, 'contributors_enabled': False, 'is_translator': False, 'is_translation_enabled': False, 'profile_background_color': 'FFFFFF', 'profile_background_image_url': 'http://abs.twimg.com/images/themes/theme1/bg.png', 'profile_background_image_url_https': 'https://abs.twimg.com/images/themes/theme1/bg.png', 'profile_background_tile': False, 'profile_image_url': 'http://pbs.twimg.com/profile_images/517948939182428160/b9fMWRqF_normal.png', 'profile_image_url_https': 'https://pbs.twimg.com/profile_images/517948939182428160/b9fMWRqF_normal.png', 'profile_banner_url': 'https://pbs.twimg.com/profile_banners/24916036/1599571460', 'profile_link_color': 'FF691F', 'profile_sidebar_border_color': '000000', 'profile_sidebar_fill_color': 'D6EBFF', 'profile_text_color': '333333', 'profile_use_background_image': False, 'has_extended_profile': True, 'default_profile': False, 'default_profile_image': False, 'following': None, 'follow_request_sent': None, 'notifications': None, 'translator_type': 'none'}, id=24916036, id_str='24916036', name='RNLI', screen_name='RNLI', location='The UK & Republic of Ireland', description='The charity that saves lives at sea.', url='https://t.co/q5FkjRUXJA', entities={'url': {'urls': [{'url': 'https://t.co/q5FkjRUXJA', 'expanded_url': 'http://bit.ly/SaveLivesAtSea2', 'display_url': 'bit.ly/SaveLivesAtSea2', 'indices': [0, 23]}]}, 'description': {'urls': []}}, protected=False, followers_count=154797, friends_count=11447, listed_count=1237, created_at=datetime.datetime(2009, 3, 17, 17, 21, 31), favourites_count=94000, utc_offset=None, time_zone=None, geo_enabled=True, verified=True, statuses_count=70946, lang=None, contributors_enabled=False, is_translator=False, is_translation_enabled=False, profile_background_color='FFFFFF', profile_background_image_url='http://abs.twimg.com/images/themes/theme1/bg.png', profile_background_image_url_https='https://abs.twimg.com/images/themes/theme1/bg.png', profile_background_tile=False, profile_image_url='http://pbs.twimg.com/profile_images/517948939182428160/b9fMWRqF_normal.png', profile_image_url_https='https://pbs.twimg.com/profile_images/517948939182428160/b9fMWRqF_normal.png', profile_banner_url='https://pbs.twimg.com/profile_banners/24916036/1599571460', profile_link_color='FF691F', profile_sidebar_border_color='000000', profile_sidebar_fill_color='D6EBFF', profile_text_color='333333', profile_use_background_image=False, has_extended_profile=True, default_profile=False, default_profile_image=False, following=False, follow_request_sent=None, notifications=None, translator_type='none'), geo=None, coordinates=None, place=None, contributors=None, is_quote_status=False, retweet_count=0, favorite_count=1, favorited=False, retweeted=False, lang='en'),\n",
       " Status(_api=<tweepy.api.API object at 0x00000211D7ADE358>, _json={'created_at': 'Mon Sep 14 10:11:11 +0000 2020', 'id': 1305449006756175872, 'id_str': '1305449006756175872', 'text': '@mcgoo72 Thanks so much for supporting us! 😊', 'truncated': False, 'entities': {'hashtags': [], 'symbols': [], 'user_mentions': [{'screen_name': 'mcgoo72', 'name': 'karen mcguinness', 'id': 2252539954, 'id_str': '2252539954', 'indices': [0, 8]}], 'urls': []}, 'source': '<a href=\"https://www.spredfast.com/\" rel=\"nofollow\">Khoros</a>', 'in_reply_to_status_id': 1304824974121857030, 'in_reply_to_status_id_str': '1304824974121857030', 'in_reply_to_user_id': 2252539954, 'in_reply_to_user_id_str': '2252539954', 'in_reply_to_screen_name': 'mcgoo72', 'user': {'id': 24916036, 'id_str': '24916036', 'name': 'RNLI', 'screen_name': 'RNLI', 'location': 'The UK & Republic of Ireland', 'description': 'The charity that saves lives at sea.', 'url': 'https://t.co/q5FkjRUXJA', 'entities': {'url': {'urls': [{'url': 'https://t.co/q5FkjRUXJA', 'expanded_url': 'http://bit.ly/SaveLivesAtSea2', 'display_url': 'bit.ly/SaveLivesAtSea2', 'indices': [0, 23]}]}, 'description': {'urls': []}}, 'protected': False, 'followers_count': 154797, 'friends_count': 11447, 'listed_count': 1237, 'created_at': 'Tue Mar 17 17:21:31 +0000 2009', 'favourites_count': 94000, 'utc_offset': None, 'time_zone': None, 'geo_enabled': True, 'verified': True, 'statuses_count': 70946, 'lang': None, 'contributors_enabled': False, 'is_translator': False, 'is_translation_enabled': False, 'profile_background_color': 'FFFFFF', 'profile_background_image_url': 'http://abs.twimg.com/images/themes/theme1/bg.png', 'profile_background_image_url_https': 'https://abs.twimg.com/images/themes/theme1/bg.png', 'profile_background_tile': False, 'profile_image_url': 'http://pbs.twimg.com/profile_images/517948939182428160/b9fMWRqF_normal.png', 'profile_image_url_https': 'https://pbs.twimg.com/profile_images/517948939182428160/b9fMWRqF_normal.png', 'profile_banner_url': 'https://pbs.twimg.com/profile_banners/24916036/1599571460', 'profile_link_color': 'FF691F', 'profile_sidebar_border_color': '000000', 'profile_sidebar_fill_color': 'D6EBFF', 'profile_text_color': '333333', 'profile_use_background_image': False, 'has_extended_profile': True, 'default_profile': False, 'default_profile_image': False, 'following': None, 'follow_request_sent': None, 'notifications': None, 'translator_type': 'none'}, 'geo': None, 'coordinates': None, 'place': None, 'contributors': None, 'is_quote_status': False, 'retweet_count': 0, 'favorite_count': 0, 'favorited': False, 'retweeted': False, 'lang': 'en'}, created_at=datetime.datetime(2020, 9, 14, 10, 11, 11), id=1305449006756175872, id_str='1305449006756175872', text='@mcgoo72 Thanks so much for supporting us! 😊', truncated=False, entities={'hashtags': [], 'symbols': [], 'user_mentions': [{'screen_name': 'mcgoo72', 'name': 'karen mcguinness', 'id': 2252539954, 'id_str': '2252539954', 'indices': [0, 8]}], 'urls': []}, source='Khoros', source_url='https://www.spredfast.com/', in_reply_to_status_id=1304824974121857030, in_reply_to_status_id_str='1304824974121857030', in_reply_to_user_id=2252539954, in_reply_to_user_id_str='2252539954', in_reply_to_screen_name='mcgoo72', author=User(_api=<tweepy.api.API object at 0x00000211D7ADE358>, _json={'id': 24916036, 'id_str': '24916036', 'name': 'RNLI', 'screen_name': 'RNLI', 'location': 'The UK & Republic of Ireland', 'description': 'The charity that saves lives at sea.', 'url': 'https://t.co/q5FkjRUXJA', 'entities': {'url': {'urls': [{'url': 'https://t.co/q5FkjRUXJA', 'expanded_url': 'http://bit.ly/SaveLivesAtSea2', 'display_url': 'bit.ly/SaveLivesAtSea2', 'indices': [0, 23]}]}, 'description': {'urls': []}}, 'protected': False, 'followers_count': 154797, 'friends_count': 11447, 'listed_count': 1237, 'created_at': 'Tue Mar 17 17:21:31 +0000 2009', 'favourites_count': 94000, 'utc_offset': None, 'time_zone': None, 'geo_enabled': True, 'verified': True, 'statuses_count': 70946, 'lang': None, 'contributors_enabled': False, 'is_translator': False, 'is_translation_enabled': False, 'profile_background_color': 'FFFFFF', 'profile_background_image_url': 'http://abs.twimg.com/images/themes/theme1/bg.png', 'profile_background_image_url_https': 'https://abs.twimg.com/images/themes/theme1/bg.png', 'profile_background_tile': False, 'profile_image_url': 'http://pbs.twimg.com/profile_images/517948939182428160/b9fMWRqF_normal.png', 'profile_image_url_https': 'https://pbs.twimg.com/profile_images/517948939182428160/b9fMWRqF_normal.png', 'profile_banner_url': 'https://pbs.twimg.com/profile_banners/24916036/1599571460', 'profile_link_color': 'FF691F', 'profile_sidebar_border_color': '000000', 'profile_sidebar_fill_color': 'D6EBFF', 'profile_text_color': '333333', 'profile_use_background_image': False, 'has_extended_profile': True, 'default_profile': False, 'default_profile_image': False, 'following': None, 'follow_request_sent': None, 'notifications': None, 'translator_type': 'none'}, id=24916036, id_str='24916036', name='RNLI', screen_name='RNLI', location='The UK & Republic of Ireland', description='The charity that saves lives at sea.', url='https://t.co/q5FkjRUXJA', entities={'url': {'urls': [{'url': 'https://t.co/q5FkjRUXJA', 'expanded_url': 'http://bit.ly/SaveLivesAtSea2', 'display_url': 'bit.ly/SaveLivesAtSea2', 'indices': [0, 23]}]}, 'description': {'urls': []}}, protected=False, followers_count=154797, friends_count=11447, listed_count=1237, created_at=datetime.datetime(2009, 3, 17, 17, 21, 31), favourites_count=94000, utc_offset=None, time_zone=None, geo_enabled=True, verified=True, statuses_count=70946, lang=None, contributors_enabled=False, is_translator=False, is_translation_enabled=False, profile_background_color='FFFFFF', profile_background_image_url='http://abs.twimg.com/images/themes/theme1/bg.png', profile_background_image_url_https='https://abs.twimg.com/images/themes/theme1/bg.png', profile_background_tile=False, profile_image_url='http://pbs.twimg.com/profile_images/517948939182428160/b9fMWRqF_normal.png', profile_image_url_https='https://pbs.twimg.com/profile_images/517948939182428160/b9fMWRqF_normal.png', profile_banner_url='https://pbs.twimg.com/profile_banners/24916036/1599571460', profile_link_color='FF691F', profile_sidebar_border_color='000000', profile_sidebar_fill_color='D6EBFF', profile_text_color='333333', profile_use_background_image=False, has_extended_profile=True, default_profile=False, default_profile_image=False, following=False, follow_request_sent=None, notifications=None, translator_type='none'), user=User(_api=<tweepy.api.API object at 0x00000211D7ADE358>, _json={'id': 24916036, 'id_str': '24916036', 'name': 'RNLI', 'screen_name': 'RNLI', 'location': 'The UK & Republic of Ireland', 'description': 'The charity that saves lives at sea.', 'url': 'https://t.co/q5FkjRUXJA', 'entities': {'url': {'urls': [{'url': 'https://t.co/q5FkjRUXJA', 'expanded_url': 'http://bit.ly/SaveLivesAtSea2', 'display_url': 'bit.ly/SaveLivesAtSea2', 'indices': [0, 23]}]}, 'description': {'urls': []}}, 'protected': False, 'followers_count': 154797, 'friends_count': 11447, 'listed_count': 1237, 'created_at': 'Tue Mar 17 17:21:31 +0000 2009', 'favourites_count': 94000, 'utc_offset': None, 'time_zone': None, 'geo_enabled': True, 'verified': True, 'statuses_count': 70946, 'lang': None, 'contributors_enabled': False, 'is_translator': False, 'is_translation_enabled': False, 'profile_background_color': 'FFFFFF', 'profile_background_image_url': 'http://abs.twimg.com/images/themes/theme1/bg.png', 'profile_background_image_url_https': 'https://abs.twimg.com/images/themes/theme1/bg.png', 'profile_background_tile': False, 'profile_image_url': 'http://pbs.twimg.com/profile_images/517948939182428160/b9fMWRqF_normal.png', 'profile_image_url_https': 'https://pbs.twimg.com/profile_images/517948939182428160/b9fMWRqF_normal.png', 'profile_banner_url': 'https://pbs.twimg.com/profile_banners/24916036/1599571460', 'profile_link_color': 'FF691F', 'profile_sidebar_border_color': '000000', 'profile_sidebar_fill_color': 'D6EBFF', 'profile_text_color': '333333', 'profile_use_background_image': False, 'has_extended_profile': True, 'default_profile': False, 'default_profile_image': False, 'following': None, 'follow_request_sent': None, 'notifications': None, 'translator_type': 'none'}, id=24916036, id_str='24916036', name='RNLI', screen_name='RNLI', location='The UK & Republic of Ireland', description='The charity that saves lives at sea.', url='https://t.co/q5FkjRUXJA', entities={'url': {'urls': [{'url': 'https://t.co/q5FkjRUXJA', 'expanded_url': 'http://bit.ly/SaveLivesAtSea2', 'display_url': 'bit.ly/SaveLivesAtSea2', 'indices': [0, 23]}]}, 'description': {'urls': []}}, protected=False, followers_count=154797, friends_count=11447, listed_count=1237, created_at=datetime.datetime(2009, 3, 17, 17, 21, 31), favourites_count=94000, utc_offset=None, time_zone=None, geo_enabled=True, verified=True, statuses_count=70946, lang=None, contributors_enabled=False, is_translator=False, is_translation_enabled=False, profile_background_color='FFFFFF', profile_background_image_url='http://abs.twimg.com/images/themes/theme1/bg.png', profile_background_image_url_https='https://abs.twimg.com/images/themes/theme1/bg.png', profile_background_tile=False, profile_image_url='http://pbs.twimg.com/profile_images/517948939182428160/b9fMWRqF_normal.png', profile_image_url_https='https://pbs.twimg.com/profile_images/517948939182428160/b9fMWRqF_normal.png', profile_banner_url='https://pbs.twimg.com/profile_banners/24916036/1599571460', profile_link_color='FF691F', profile_sidebar_border_color='000000', profile_sidebar_fill_color='D6EBFF', profile_text_color='333333', profile_use_background_image=False, has_extended_profile=True, default_profile=False, default_profile_image=False, following=False, follow_request_sent=None, notifications=None, translator_type='none'), geo=None, coordinates=None, place=None, contributors=None, is_quote_status=False, retweet_count=0, favorite_count=0, favorited=False, retweeted=False, lang='en'),\n",
       " Status(_api=<tweepy.api.API object at 0x00000211D7ADE358>, _json={'created_at': 'Mon Sep 14 10:04:01 +0000 2020', 'id': 1305447202362454016, 'id_str': '1305447202362454016', 'text': '@fraggle1971 Brilliant picture!', 'truncated': False, 'entities': {'hashtags': [], 'symbols': [], 'user_mentions': [{'screen_name': 'fraggle1971', 'name': 'Meryn Woodland', 'id': 893011709077729280, 'id_str': '893011709077729280', 'indices': [0, 12]}], 'urls': []}, 'source': '<a href=\"https://www.spredfast.com/\" rel=\"nofollow\">Khoros</a>', 'in_reply_to_status_id': 1304807930664017921, 'in_reply_to_status_id_str': '1304807930664017921', 'in_reply_to_user_id': 893011709077729280, 'in_reply_to_user_id_str': '893011709077729280', 'in_reply_to_screen_name': 'fraggle1971', 'user': {'id': 24916036, 'id_str': '24916036', 'name': 'RNLI', 'screen_name': 'RNLI', 'location': 'The UK & Republic of Ireland', 'description': 'The charity that saves lives at sea.', 'url': 'https://t.co/q5FkjRUXJA', 'entities': {'url': {'urls': [{'url': 'https://t.co/q5FkjRUXJA', 'expanded_url': 'http://bit.ly/SaveLivesAtSea2', 'display_url': 'bit.ly/SaveLivesAtSea2', 'indices': [0, 23]}]}, 'description': {'urls': []}}, 'protected': False, 'followers_count': 154797, 'friends_count': 11447, 'listed_count': 1237, 'created_at': 'Tue Mar 17 17:21:31 +0000 2009', 'favourites_count': 94000, 'utc_offset': None, 'time_zone': None, 'geo_enabled': True, 'verified': True, 'statuses_count': 70946, 'lang': None, 'contributors_enabled': False, 'is_translator': False, 'is_translation_enabled': False, 'profile_background_color': 'FFFFFF', 'profile_background_image_url': 'http://abs.twimg.com/images/themes/theme1/bg.png', 'profile_background_image_url_https': 'https://abs.twimg.com/images/themes/theme1/bg.png', 'profile_background_tile': False, 'profile_image_url': 'http://pbs.twimg.com/profile_images/517948939182428160/b9fMWRqF_normal.png', 'profile_image_url_https': 'https://pbs.twimg.com/profile_images/517948939182428160/b9fMWRqF_normal.png', 'profile_banner_url': 'https://pbs.twimg.com/profile_banners/24916036/1599571460', 'profile_link_color': 'FF691F', 'profile_sidebar_border_color': '000000', 'profile_sidebar_fill_color': 'D6EBFF', 'profile_text_color': '333333', 'profile_use_background_image': False, 'has_extended_profile': True, 'default_profile': False, 'default_profile_image': False, 'following': None, 'follow_request_sent': None, 'notifications': None, 'translator_type': 'none'}, 'geo': None, 'coordinates': None, 'place': None, 'contributors': None, 'is_quote_status': False, 'retweet_count': 0, 'favorite_count': 1, 'favorited': False, 'retweeted': False, 'lang': 'en'}, created_at=datetime.datetime(2020, 9, 14, 10, 4, 1), id=1305447202362454016, id_str='1305447202362454016', text='@fraggle1971 Brilliant picture!', truncated=False, entities={'hashtags': [], 'symbols': [], 'user_mentions': [{'screen_name': 'fraggle1971', 'name': 'Meryn Woodland', 'id': 893011709077729280, 'id_str': '893011709077729280', 'indices': [0, 12]}], 'urls': []}, source='Khoros', source_url='https://www.spredfast.com/', in_reply_to_status_id=1304807930664017921, in_reply_to_status_id_str='1304807930664017921', in_reply_to_user_id=893011709077729280, in_reply_to_user_id_str='893011709077729280', in_reply_to_screen_name='fraggle1971', author=User(_api=<tweepy.api.API object at 0x00000211D7ADE358>, _json={'id': 24916036, 'id_str': '24916036', 'name': 'RNLI', 'screen_name': 'RNLI', 'location': 'The UK & Republic of Ireland', 'description': 'The charity that saves lives at sea.', 'url': 'https://t.co/q5FkjRUXJA', 'entities': {'url': {'urls': [{'url': 'https://t.co/q5FkjRUXJA', 'expanded_url': 'http://bit.ly/SaveLivesAtSea2', 'display_url': 'bit.ly/SaveLivesAtSea2', 'indices': [0, 23]}]}, 'description': {'urls': []}}, 'protected': False, 'followers_count': 154797, 'friends_count': 11447, 'listed_count': 1237, 'created_at': 'Tue Mar 17 17:21:31 +0000 2009', 'favourites_count': 94000, 'utc_offset': None, 'time_zone': None, 'geo_enabled': True, 'verified': True, 'statuses_count': 70946, 'lang': None, 'contributors_enabled': False, 'is_translator': False, 'is_translation_enabled': False, 'profile_background_color': 'FFFFFF', 'profile_background_image_url': 'http://abs.twimg.com/images/themes/theme1/bg.png', 'profile_background_image_url_https': 'https://abs.twimg.com/images/themes/theme1/bg.png', 'profile_background_tile': False, 'profile_image_url': 'http://pbs.twimg.com/profile_images/517948939182428160/b9fMWRqF_normal.png', 'profile_image_url_https': 'https://pbs.twimg.com/profile_images/517948939182428160/b9fMWRqF_normal.png', 'profile_banner_url': 'https://pbs.twimg.com/profile_banners/24916036/1599571460', 'profile_link_color': 'FF691F', 'profile_sidebar_border_color': '000000', 'profile_sidebar_fill_color': 'D6EBFF', 'profile_text_color': '333333', 'profile_use_background_image': False, 'has_extended_profile': True, 'default_profile': False, 'default_profile_image': False, 'following': None, 'follow_request_sent': None, 'notifications': None, 'translator_type': 'none'}, id=24916036, id_str='24916036', name='RNLI', screen_name='RNLI', location='The UK & Republic of Ireland', description='The charity that saves lives at sea.', url='https://t.co/q5FkjRUXJA', entities={'url': {'urls': [{'url': 'https://t.co/q5FkjRUXJA', 'expanded_url': 'http://bit.ly/SaveLivesAtSea2', 'display_url': 'bit.ly/SaveLivesAtSea2', 'indices': [0, 23]}]}, 'description': {'urls': []}}, protected=False, followers_count=154797, friends_count=11447, listed_count=1237, created_at=datetime.datetime(2009, 3, 17, 17, 21, 31), favourites_count=94000, utc_offset=None, time_zone=None, geo_enabled=True, verified=True, statuses_count=70946, lang=None, contributors_enabled=False, is_translator=False, is_translation_enabled=False, profile_background_color='FFFFFF', profile_background_image_url='http://abs.twimg.com/images/themes/theme1/bg.png', profile_background_image_url_https='https://abs.twimg.com/images/themes/theme1/bg.png', profile_background_tile=False, profile_image_url='http://pbs.twimg.com/profile_images/517948939182428160/b9fMWRqF_normal.png', profile_image_url_https='https://pbs.twimg.com/profile_images/517948939182428160/b9fMWRqF_normal.png', profile_banner_url='https://pbs.twimg.com/profile_banners/24916036/1599571460', profile_link_color='FF691F', profile_sidebar_border_color='000000', profile_sidebar_fill_color='D6EBFF', profile_text_color='333333', profile_use_background_image=False, has_extended_profile=True, default_profile=False, default_profile_image=False, following=False, follow_request_sent=None, notifications=None, translator_type='none'), user=User(_api=<tweepy.api.API object at 0x00000211D7ADE358>, _json={'id': 24916036, 'id_str': '24916036', 'name': 'RNLI', 'screen_name': 'RNLI', 'location': 'The UK & Republic of Ireland', 'description': 'The charity that saves lives at sea.', 'url': 'https://t.co/q5FkjRUXJA', 'entities': {'url': {'urls': [{'url': 'https://t.co/q5FkjRUXJA', 'expanded_url': 'http://bit.ly/SaveLivesAtSea2', 'display_url': 'bit.ly/SaveLivesAtSea2', 'indices': [0, 23]}]}, 'description': {'urls': []}}, 'protected': False, 'followers_count': 154797, 'friends_count': 11447, 'listed_count': 1237, 'created_at': 'Tue Mar 17 17:21:31 +0000 2009', 'favourites_count': 94000, 'utc_offset': None, 'time_zone': None, 'geo_enabled': True, 'verified': True, 'statuses_count': 70946, 'lang': None, 'contributors_enabled': False, 'is_translator': False, 'is_translation_enabled': False, 'profile_background_color': 'FFFFFF', 'profile_background_image_url': 'http://abs.twimg.com/images/themes/theme1/bg.png', 'profile_background_image_url_https': 'https://abs.twimg.com/images/themes/theme1/bg.png', 'profile_background_tile': False, 'profile_image_url': 'http://pbs.twimg.com/profile_images/517948939182428160/b9fMWRqF_normal.png', 'profile_image_url_https': 'https://pbs.twimg.com/profile_images/517948939182428160/b9fMWRqF_normal.png', 'profile_banner_url': 'https://pbs.twimg.com/profile_banners/24916036/1599571460', 'profile_link_color': 'FF691F', 'profile_sidebar_border_color': '000000', 'profile_sidebar_fill_color': 'D6EBFF', 'profile_text_color': '333333', 'profile_use_background_image': False, 'has_extended_profile': True, 'default_profile': False, 'default_profile_image': False, 'following': None, 'follow_request_sent': None, 'notifications': None, 'translator_type': 'none'}, id=24916036, id_str='24916036', name='RNLI', screen_name='RNLI', location='The UK & Republic of Ireland', description='The charity that saves lives at sea.', url='https://t.co/q5FkjRUXJA', entities={'url': {'urls': [{'url': 'https://t.co/q5FkjRUXJA', 'expanded_url': 'http://bit.ly/SaveLivesAtSea2', 'display_url': 'bit.ly/SaveLivesAtSea2', 'indices': [0, 23]}]}, 'description': {'urls': []}}, protected=False, followers_count=154797, friends_count=11447, listed_count=1237, created_at=datetime.datetime(2009, 3, 17, 17, 21, 31), favourites_count=94000, utc_offset=None, time_zone=None, geo_enabled=True, verified=True, statuses_count=70946, lang=None, contributors_enabled=False, is_translator=False, is_translation_enabled=False, profile_background_color='FFFFFF', profile_background_image_url='http://abs.twimg.com/images/themes/theme1/bg.png', profile_background_image_url_https='https://abs.twimg.com/images/themes/theme1/bg.png', profile_background_tile=False, profile_image_url='http://pbs.twimg.com/profile_images/517948939182428160/b9fMWRqF_normal.png', profile_image_url_https='https://pbs.twimg.com/profile_images/517948939182428160/b9fMWRqF_normal.png', profile_banner_url='https://pbs.twimg.com/profile_banners/24916036/1599571460', profile_link_color='FF691F', profile_sidebar_border_color='000000', profile_sidebar_fill_color='D6EBFF', profile_text_color='333333', profile_use_background_image=False, has_extended_profile=True, default_profile=False, default_profile_image=False, following=False, follow_request_sent=None, notifications=None, translator_type='none'), geo=None, coordinates=None, place=None, contributors=None, is_quote_status=False, retweet_count=0, favorite_count=1, favorited=False, retweeted=False, lang='en'),\n",
       " Status(_api=<tweepy.api.API object at 0x00000211D7ADE358>, _json={'created_at': 'Mon Sep 14 09:50:35 +0000 2020', 'id': 1305443822776836097, 'id_str': '1305443822776836097', 'text': '@KJ_Casemore Thank you so much for supporting us! We hope your run went well 💙', 'truncated': False, 'entities': {'hashtags': [], 'symbols': [], 'user_mentions': [{'screen_name': 'KJ_Casemore', 'name': 'Kevin Jon Casemore', 'id': 377594159, 'id_str': '377594159', 'indices': [0, 12]}], 'urls': []}, 'source': '<a href=\"https://www.spredfast.com/\" rel=\"nofollow\">Khoros</a>', 'in_reply_to_status_id': 1304732789061885952, 'in_reply_to_status_id_str': '1304732789061885952', 'in_reply_to_user_id': 377594159, 'in_reply_to_user_id_str': '377594159', 'in_reply_to_screen_name': 'KJ_Casemore', 'user': {'id': 24916036, 'id_str': '24916036', 'name': 'RNLI', 'screen_name': 'RNLI', 'location': 'The UK & Republic of Ireland', 'description': 'The charity that saves lives at sea.', 'url': 'https://t.co/q5FkjRUXJA', 'entities': {'url': {'urls': [{'url': 'https://t.co/q5FkjRUXJA', 'expanded_url': 'http://bit.ly/SaveLivesAtSea2', 'display_url': 'bit.ly/SaveLivesAtSea2', 'indices': [0, 23]}]}, 'description': {'urls': []}}, 'protected': False, 'followers_count': 154797, 'friends_count': 11447, 'listed_count': 1237, 'created_at': 'Tue Mar 17 17:21:31 +0000 2009', 'favourites_count': 94000, 'utc_offset': None, 'time_zone': None, 'geo_enabled': True, 'verified': True, 'statuses_count': 70946, 'lang': None, 'contributors_enabled': False, 'is_translator': False, 'is_translation_enabled': False, 'profile_background_color': 'FFFFFF', 'profile_background_image_url': 'http://abs.twimg.com/images/themes/theme1/bg.png', 'profile_background_image_url_https': 'https://abs.twimg.com/images/themes/theme1/bg.png', 'profile_background_tile': False, 'profile_image_url': 'http://pbs.twimg.com/profile_images/517948939182428160/b9fMWRqF_normal.png', 'profile_image_url_https': 'https://pbs.twimg.com/profile_images/517948939182428160/b9fMWRqF_normal.png', 'profile_banner_url': 'https://pbs.twimg.com/profile_banners/24916036/1599571460', 'profile_link_color': 'FF691F', 'profile_sidebar_border_color': '000000', 'profile_sidebar_fill_color': 'D6EBFF', 'profile_text_color': '333333', 'profile_use_background_image': False, 'has_extended_profile': True, 'default_profile': False, 'default_profile_image': False, 'following': None, 'follow_request_sent': None, 'notifications': None, 'translator_type': 'none'}, 'geo': None, 'coordinates': None, 'place': None, 'contributors': None, 'is_quote_status': False, 'retweet_count': 0, 'favorite_count': 0, 'favorited': False, 'retweeted': False, 'lang': 'en'}, created_at=datetime.datetime(2020, 9, 14, 9, 50, 35), id=1305443822776836097, id_str='1305443822776836097', text='@KJ_Casemore Thank you so much for supporting us! We hope your run went well 💙', truncated=False, entities={'hashtags': [], 'symbols': [], 'user_mentions': [{'screen_name': 'KJ_Casemore', 'name': 'Kevin Jon Casemore', 'id': 377594159, 'id_str': '377594159', 'indices': [0, 12]}], 'urls': []}, source='Khoros', source_url='https://www.spredfast.com/', in_reply_to_status_id=1304732789061885952, in_reply_to_status_id_str='1304732789061885952', in_reply_to_user_id=377594159, in_reply_to_user_id_str='377594159', in_reply_to_screen_name='KJ_Casemore', author=User(_api=<tweepy.api.API object at 0x00000211D7ADE358>, _json={'id': 24916036, 'id_str': '24916036', 'name': 'RNLI', 'screen_name': 'RNLI', 'location': 'The UK & Republic of Ireland', 'description': 'The charity that saves lives at sea.', 'url': 'https://t.co/q5FkjRUXJA', 'entities': {'url': {'urls': [{'url': 'https://t.co/q5FkjRUXJA', 'expanded_url': 'http://bit.ly/SaveLivesAtSea2', 'display_url': 'bit.ly/SaveLivesAtSea2', 'indices': [0, 23]}]}, 'description': {'urls': []}}, 'protected': False, 'followers_count': 154797, 'friends_count': 11447, 'listed_count': 1237, 'created_at': 'Tue Mar 17 17:21:31 +0000 2009', 'favourites_count': 94000, 'utc_offset': None, 'time_zone': None, 'geo_enabled': True, 'verified': True, 'statuses_count': 70946, 'lang': None, 'contributors_enabled': False, 'is_translator': False, 'is_translation_enabled': False, 'profile_background_color': 'FFFFFF', 'profile_background_image_url': 'http://abs.twimg.com/images/themes/theme1/bg.png', 'profile_background_image_url_https': 'https://abs.twimg.com/images/themes/theme1/bg.png', 'profile_background_tile': False, 'profile_image_url': 'http://pbs.twimg.com/profile_images/517948939182428160/b9fMWRqF_normal.png', 'profile_image_url_https': 'https://pbs.twimg.com/profile_images/517948939182428160/b9fMWRqF_normal.png', 'profile_banner_url': 'https://pbs.twimg.com/profile_banners/24916036/1599571460', 'profile_link_color': 'FF691F', 'profile_sidebar_border_color': '000000', 'profile_sidebar_fill_color': 'D6EBFF', 'profile_text_color': '333333', 'profile_use_background_image': False, 'has_extended_profile': True, 'default_profile': False, 'default_profile_image': False, 'following': None, 'follow_request_sent': None, 'notifications': None, 'translator_type': 'none'}, id=24916036, id_str='24916036', name='RNLI', screen_name='RNLI', location='The UK & Republic of Ireland', description='The charity that saves lives at sea.', url='https://t.co/q5FkjRUXJA', entities={'url': {'urls': [{'url': 'https://t.co/q5FkjRUXJA', 'expanded_url': 'http://bit.ly/SaveLivesAtSea2', 'display_url': 'bit.ly/SaveLivesAtSea2', 'indices': [0, 23]}]}, 'description': {'urls': []}}, protected=False, followers_count=154797, friends_count=11447, listed_count=1237, created_at=datetime.datetime(2009, 3, 17, 17, 21, 31), favourites_count=94000, utc_offset=None, time_zone=None, geo_enabled=True, verified=True, statuses_count=70946, lang=None, contributors_enabled=False, is_translator=False, is_translation_enabled=False, profile_background_color='FFFFFF', profile_background_image_url='http://abs.twimg.com/images/themes/theme1/bg.png', profile_background_image_url_https='https://abs.twimg.com/images/themes/theme1/bg.png', profile_background_tile=False, profile_image_url='http://pbs.twimg.com/profile_images/517948939182428160/b9fMWRqF_normal.png', profile_image_url_https='https://pbs.twimg.com/profile_images/517948939182428160/b9fMWRqF_normal.png', profile_banner_url='https://pbs.twimg.com/profile_banners/24916036/1599571460', profile_link_color='FF691F', profile_sidebar_border_color='000000', profile_sidebar_fill_color='D6EBFF', profile_text_color='333333', profile_use_background_image=False, has_extended_profile=True, default_profile=False, default_profile_image=False, following=False, follow_request_sent=None, notifications=None, translator_type='none'), user=User(_api=<tweepy.api.API object at 0x00000211D7ADE358>, _json={'id': 24916036, 'id_str': '24916036', 'name': 'RNLI', 'screen_name': 'RNLI', 'location': 'The UK & Republic of Ireland', 'description': 'The charity that saves lives at sea.', 'url': 'https://t.co/q5FkjRUXJA', 'entities': {'url': {'urls': [{'url': 'https://t.co/q5FkjRUXJA', 'expanded_url': 'http://bit.ly/SaveLivesAtSea2', 'display_url': 'bit.ly/SaveLivesAtSea2', 'indices': [0, 23]}]}, 'description': {'urls': []}}, 'protected': False, 'followers_count': 154797, 'friends_count': 11447, 'listed_count': 1237, 'created_at': 'Tue Mar 17 17:21:31 +0000 2009', 'favourites_count': 94000, 'utc_offset': None, 'time_zone': None, 'geo_enabled': True, 'verified': True, 'statuses_count': 70946, 'lang': None, 'contributors_enabled': False, 'is_translator': False, 'is_translation_enabled': False, 'profile_background_color': 'FFFFFF', 'profile_background_image_url': 'http://abs.twimg.com/images/themes/theme1/bg.png', 'profile_background_image_url_https': 'https://abs.twimg.com/images/themes/theme1/bg.png', 'profile_background_tile': False, 'profile_image_url': 'http://pbs.twimg.com/profile_images/517948939182428160/b9fMWRqF_normal.png', 'profile_image_url_https': 'https://pbs.twimg.com/profile_images/517948939182428160/b9fMWRqF_normal.png', 'profile_banner_url': 'https://pbs.twimg.com/profile_banners/24916036/1599571460', 'profile_link_color': 'FF691F', 'profile_sidebar_border_color': '000000', 'profile_sidebar_fill_color': 'D6EBFF', 'profile_text_color': '333333', 'profile_use_background_image': False, 'has_extended_profile': True, 'default_profile': False, 'default_profile_image': False, 'following': None, 'follow_request_sent': None, 'notifications': None, 'translator_type': 'none'}, id=24916036, id_str='24916036', name='RNLI', screen_name='RNLI', location='The UK & Republic of Ireland', description='The charity that saves lives at sea.', url='https://t.co/q5FkjRUXJA', entities={'url': {'urls': [{'url': 'https://t.co/q5FkjRUXJA', 'expanded_url': 'http://bit.ly/SaveLivesAtSea2', 'display_url': 'bit.ly/SaveLivesAtSea2', 'indices': [0, 23]}]}, 'description': {'urls': []}}, protected=False, followers_count=154797, friends_count=11447, listed_count=1237, created_at=datetime.datetime(2009, 3, 17, 17, 21, 31), favourites_count=94000, utc_offset=None, time_zone=None, geo_enabled=True, verified=True, statuses_count=70946, lang=None, contributors_enabled=False, is_translator=False, is_translation_enabled=False, profile_background_color='FFFFFF', profile_background_image_url='http://abs.twimg.com/images/themes/theme1/bg.png', profile_background_image_url_https='https://abs.twimg.com/images/themes/theme1/bg.png', profile_background_tile=False, profile_image_url='http://pbs.twimg.com/profile_images/517948939182428160/b9fMWRqF_normal.png', profile_image_url_https='https://pbs.twimg.com/profile_images/517948939182428160/b9fMWRqF_normal.png', profile_banner_url='https://pbs.twimg.com/profile_banners/24916036/1599571460', profile_link_color='FF691F', profile_sidebar_border_color='000000', profile_sidebar_fill_color='D6EBFF', profile_text_color='333333', profile_use_background_image=False, has_extended_profile=True, default_profile=False, default_profile_image=False, following=False, follow_request_sent=None, notifications=None, translator_type='none'), geo=None, coordinates=None, place=None, contributors=None, is_quote_status=False, retweet_count=0, favorite_count=0, favorited=False, retweeted=False, lang='en'),\n",
       " Status(_api=<tweepy.api.API object at 0x00000211D7ADE358>, _json={'created_at': 'Mon Sep 14 09:49:50 +0000 2020', 'id': 1305443630975508480, 'id_str': '1305443630975508480', 'text': '@JessBond247 Thank you so much for your suppert and kindness Jess 🙏', 'truncated': False, 'entities': {'hashtags': [], 'symbols': [], 'user_mentions': [{'screen_name': 'JessBond247', 'name': 'Jess Bond', 'id': 610830096, 'id_str': '610830096', 'indices': [0, 12]}], 'urls': []}, 'source': '<a href=\"https://www.spredfast.com/\" rel=\"nofollow\">Khoros</a>', 'in_reply_to_status_id': 1304511667246690305, 'in_reply_to_status_id_str': '1304511667246690305', 'in_reply_to_user_id': 610830096, 'in_reply_to_user_id_str': '610830096', 'in_reply_to_screen_name': 'JessBond247', 'user': {'id': 24916036, 'id_str': '24916036', 'name': 'RNLI', 'screen_name': 'RNLI', 'location': 'The UK & Republic of Ireland', 'description': 'The charity that saves lives at sea.', 'url': 'https://t.co/q5FkjRUXJA', 'entities': {'url': {'urls': [{'url': 'https://t.co/q5FkjRUXJA', 'expanded_url': 'http://bit.ly/SaveLivesAtSea2', 'display_url': 'bit.ly/SaveLivesAtSea2', 'indices': [0, 23]}]}, 'description': {'urls': []}}, 'protected': False, 'followers_count': 154797, 'friends_count': 11447, 'listed_count': 1237, 'created_at': 'Tue Mar 17 17:21:31 +0000 2009', 'favourites_count': 94000, 'utc_offset': None, 'time_zone': None, 'geo_enabled': True, 'verified': True, 'statuses_count': 70946, 'lang': None, 'contributors_enabled': False, 'is_translator': False, 'is_translation_enabled': False, 'profile_background_color': 'FFFFFF', 'profile_background_image_url': 'http://abs.twimg.com/images/themes/theme1/bg.png', 'profile_background_image_url_https': 'https://abs.twimg.com/images/themes/theme1/bg.png', 'profile_background_tile': False, 'profile_image_url': 'http://pbs.twimg.com/profile_images/517948939182428160/b9fMWRqF_normal.png', 'profile_image_url_https': 'https://pbs.twimg.com/profile_images/517948939182428160/b9fMWRqF_normal.png', 'profile_banner_url': 'https://pbs.twimg.com/profile_banners/24916036/1599571460', 'profile_link_color': 'FF691F', 'profile_sidebar_border_color': '000000', 'profile_sidebar_fill_color': 'D6EBFF', 'profile_text_color': '333333', 'profile_use_background_image': False, 'has_extended_profile': True, 'default_profile': False, 'default_profile_image': False, 'following': None, 'follow_request_sent': None, 'notifications': None, 'translator_type': 'none'}, 'geo': None, 'coordinates': None, 'place': None, 'contributors': None, 'is_quote_status': False, 'retweet_count': 0, 'favorite_count': 1, 'favorited': False, 'retweeted': False, 'lang': 'en'}, created_at=datetime.datetime(2020, 9, 14, 9, 49, 50), id=1305443630975508480, id_str='1305443630975508480', text='@JessBond247 Thank you so much for your suppert and kindness Jess 🙏', truncated=False, entities={'hashtags': [], 'symbols': [], 'user_mentions': [{'screen_name': 'JessBond247', 'name': 'Jess Bond', 'id': 610830096, 'id_str': '610830096', 'indices': [0, 12]}], 'urls': []}, source='Khoros', source_url='https://www.spredfast.com/', in_reply_to_status_id=1304511667246690305, in_reply_to_status_id_str='1304511667246690305', in_reply_to_user_id=610830096, in_reply_to_user_id_str='610830096', in_reply_to_screen_name='JessBond247', author=User(_api=<tweepy.api.API object at 0x00000211D7ADE358>, _json={'id': 24916036, 'id_str': '24916036', 'name': 'RNLI', 'screen_name': 'RNLI', 'location': 'The UK & Republic of Ireland', 'description': 'The charity that saves lives at sea.', 'url': 'https://t.co/q5FkjRUXJA', 'entities': {'url': {'urls': [{'url': 'https://t.co/q5FkjRUXJA', 'expanded_url': 'http://bit.ly/SaveLivesAtSea2', 'display_url': 'bit.ly/SaveLivesAtSea2', 'indices': [0, 23]}]}, 'description': {'urls': []}}, 'protected': False, 'followers_count': 154797, 'friends_count': 11447, 'listed_count': 1237, 'created_at': 'Tue Mar 17 17:21:31 +0000 2009', 'favourites_count': 94000, 'utc_offset': None, 'time_zone': None, 'geo_enabled': True, 'verified': True, 'statuses_count': 70946, 'lang': None, 'contributors_enabled': False, 'is_translator': False, 'is_translation_enabled': False, 'profile_background_color': 'FFFFFF', 'profile_background_image_url': 'http://abs.twimg.com/images/themes/theme1/bg.png', 'profile_background_image_url_https': 'https://abs.twimg.com/images/themes/theme1/bg.png', 'profile_background_tile': False, 'profile_image_url': 'http://pbs.twimg.com/profile_images/517948939182428160/b9fMWRqF_normal.png', 'profile_image_url_https': 'https://pbs.twimg.com/profile_images/517948939182428160/b9fMWRqF_normal.png', 'profile_banner_url': 'https://pbs.twimg.com/profile_banners/24916036/1599571460', 'profile_link_color': 'FF691F', 'profile_sidebar_border_color': '000000', 'profile_sidebar_fill_color': 'D6EBFF', 'profile_text_color': '333333', 'profile_use_background_image': False, 'has_extended_profile': True, 'default_profile': False, 'default_profile_image': False, 'following': None, 'follow_request_sent': None, 'notifications': None, 'translator_type': 'none'}, id=24916036, id_str='24916036', name='RNLI', screen_name='RNLI', location='The UK & Republic of Ireland', description='The charity that saves lives at sea.', url='https://t.co/q5FkjRUXJA', entities={'url': {'urls': [{'url': 'https://t.co/q5FkjRUXJA', 'expanded_url': 'http://bit.ly/SaveLivesAtSea2', 'display_url': 'bit.ly/SaveLivesAtSea2', 'indices': [0, 23]}]}, 'description': {'urls': []}}, protected=False, followers_count=154797, friends_count=11447, listed_count=1237, created_at=datetime.datetime(2009, 3, 17, 17, 21, 31), favourites_count=94000, utc_offset=None, time_zone=None, geo_enabled=True, verified=True, statuses_count=70946, lang=None, contributors_enabled=False, is_translator=False, is_translation_enabled=False, profile_background_color='FFFFFF', profile_background_image_url='http://abs.twimg.com/images/themes/theme1/bg.png', profile_background_image_url_https='https://abs.twimg.com/images/themes/theme1/bg.png', profile_background_tile=False, profile_image_url='http://pbs.twimg.com/profile_images/517948939182428160/b9fMWRqF_normal.png', profile_image_url_https='https://pbs.twimg.com/profile_images/517948939182428160/b9fMWRqF_normal.png', profile_banner_url='https://pbs.twimg.com/profile_banners/24916036/1599571460', profile_link_color='FF691F', profile_sidebar_border_color='000000', profile_sidebar_fill_color='D6EBFF', profile_text_color='333333', profile_use_background_image=False, has_extended_profile=True, default_profile=False, default_profile_image=False, following=False, follow_request_sent=None, notifications=None, translator_type='none'), user=User(_api=<tweepy.api.API object at 0x00000211D7ADE358>, _json={'id': 24916036, 'id_str': '24916036', 'name': 'RNLI', 'screen_name': 'RNLI', 'location': 'The UK & Republic of Ireland', 'description': 'The charity that saves lives at sea.', 'url': 'https://t.co/q5FkjRUXJA', 'entities': {'url': {'urls': [{'url': 'https://t.co/q5FkjRUXJA', 'expanded_url': 'http://bit.ly/SaveLivesAtSea2', 'display_url': 'bit.ly/SaveLivesAtSea2', 'indices': [0, 23]}]}, 'description': {'urls': []}}, 'protected': False, 'followers_count': 154797, 'friends_count': 11447, 'listed_count': 1237, 'created_at': 'Tue Mar 17 17:21:31 +0000 2009', 'favourites_count': 94000, 'utc_offset': None, 'time_zone': None, 'geo_enabled': True, 'verified': True, 'statuses_count': 70946, 'lang': None, 'contributors_enabled': False, 'is_translator': False, 'is_translation_enabled': False, 'profile_background_color': 'FFFFFF', 'profile_background_image_url': 'http://abs.twimg.com/images/themes/theme1/bg.png', 'profile_background_image_url_https': 'https://abs.twimg.com/images/themes/theme1/bg.png', 'profile_background_tile': False, 'profile_image_url': 'http://pbs.twimg.com/profile_images/517948939182428160/b9fMWRqF_normal.png', 'profile_image_url_https': 'https://pbs.twimg.com/profile_images/517948939182428160/b9fMWRqF_normal.png', 'profile_banner_url': 'https://pbs.twimg.com/profile_banners/24916036/1599571460', 'profile_link_color': 'FF691F', 'profile_sidebar_border_color': '000000', 'profile_sidebar_fill_color': 'D6EBFF', 'profile_text_color': '333333', 'profile_use_background_image': False, 'has_extended_profile': True, 'default_profile': False, 'default_profile_image': False, 'following': None, 'follow_request_sent': None, 'notifications': None, 'translator_type': 'none'}, id=24916036, id_str='24916036', name='RNLI', screen_name='RNLI', location='The UK & Republic of Ireland', description='The charity that saves lives at sea.', url='https://t.co/q5FkjRUXJA', entities={'url': {'urls': [{'url': 'https://t.co/q5FkjRUXJA', 'expanded_url': 'http://bit.ly/SaveLivesAtSea2', 'display_url': 'bit.ly/SaveLivesAtSea2', 'indices': [0, 23]}]}, 'description': {'urls': []}}, protected=False, followers_count=154797, friends_count=11447, listed_count=1237, created_at=datetime.datetime(2009, 3, 17, 17, 21, 31), favourites_count=94000, utc_offset=None, time_zone=None, geo_enabled=True, verified=True, statuses_count=70946, lang=None, contributors_enabled=False, is_translator=False, is_translation_enabled=False, profile_background_color='FFFFFF', profile_background_image_url='http://abs.twimg.com/images/themes/theme1/bg.png', profile_background_image_url_https='https://abs.twimg.com/images/themes/theme1/bg.png', profile_background_tile=False, profile_image_url='http://pbs.twimg.com/profile_images/517948939182428160/b9fMWRqF_normal.png', profile_image_url_https='https://pbs.twimg.com/profile_images/517948939182428160/b9fMWRqF_normal.png', profile_banner_url='https://pbs.twimg.com/profile_banners/24916036/1599571460', profile_link_color='FF691F', profile_sidebar_border_color='000000', profile_sidebar_fill_color='D6EBFF', profile_text_color='333333', profile_use_background_image=False, has_extended_profile=True, default_profile=False, default_profile_image=False, following=False, follow_request_sent=None, notifications=None, translator_type='none'), geo=None, coordinates=None, place=None, contributors=None, is_quote_status=False, retweet_count=0, favorite_count=1, favorited=False, retweeted=False, lang='en')]"
      ]
     },
     "execution_count": 10,
     "metadata": {},
     "output_type": "execute_result"
    }
   ],
   "source": [
    "rnli_recent_timeline = api.user_timeline(id=\"RNLI\")\n",
    "rnli_recent_timeline"
   ]
  },
  {
   "cell_type": "markdown",
   "metadata": {
    "slideshow": {
     "slide_type": "notes"
    }
   },
   "source": [
    "We can access some of the content and metadata associated with each status by looping through the list of results and pulling out fields of interest:"
   ]
  },
  {
   "cell_type": "code",
   "execution_count": 11,
   "metadata": {
    "slideshow": {
     "slide_type": "subslide"
    }
   },
   "outputs": [
    {
     "name": "stdout",
     "output_type": "stream",
     "text": [
      "Posted on:  2020-09-15 11:51:19\n",
      "Content:  In 1942, Wells crew members went to the aid of a Lancaster Bomber. Despite the dangers of being submerged, Coxswain… https://t.co/G4M4q50DqF\n",
      "\r\n",
      "Posted on:  2020-09-15 11:51:18\n",
      "Content:  A service report from @RNLIWeymouth during WW2 describes 'a big air fight' taking place above 'between very numerou… https://t.co/eB4Au0g9PI\n",
      "\r\n",
      "Posted on:  2020-09-15 11:51:17\n",
      "Content:  Arguably the most famous pilot rescued by our crews was Officer Richard Hillary, who later went on to write The Las… https://t.co/Svrxopw4vE\n",
      "\r\n",
      "Posted on:  2020-09-15 11:51:16\n",
      "Content:  Between 8 August and 31 October 1940, our lifeboats were launched to the rescue 264 times, of which 131 were to air… https://t.co/Ds3JUOWEWg\n",
      "\r\n",
      "Posted on:  2020-09-15 11:51:16\n",
      "Content:  To mark #BattleOfBritain80 we are remembering the unsung contributions of our volunteer lifeboat crews, who went to… https://t.co/esToVYwR57\n",
      "\r\n",
      "Posted on:  2020-09-14 16:30:28\n",
      "Content:  @Vanessa21348532 Sorry Vanessa! We'll drop our shop team a line and find out for you 🫖 #prioritea\n",
      "\r\n",
      "Posted on:  2020-09-14 15:57:07\n",
      "Content:  You can sponsor him at https://t.co/2EI12AZjMr. Best of luck Simon!\n",
      "\r\n",
      "Posted on:  2020-09-14 15:57:06\n",
      "Content:  Dedicated fundraiser Simon Marchant is currently running the entire South West Coast Path to raise money for the RN… https://t.co/JOolkxD8A4\n",
      "\r\n",
      "Posted on:  2020-09-14 15:38:07\n",
      "Content:  Great to see @towerrnli, one of four RNLI stations on the River Thames, captured in @graffeg_books new compilation… https://t.co/GKR33m0kn5\n",
      "\r\n",
      "Posted on:  2020-09-14 15:37:40\n",
      "Content:  @Richard55124542 Sounds like an interesting ride! Different shops stock different items, so there's no easy way of… https://t.co/6Xhf0192ib\n",
      "\r\n",
      "Posted on:  2020-09-14 13:08:32\n",
      "Content:  Don't have any RNLI merch? Head on over to our shop where every purchase you make helps save lives at sea:… https://t.co/xUJENPEhlG\n",
      "\r\n",
      "Posted on:  2020-09-14 13:08:32\n",
      "Content:  Only three days to go until the return of a brand new series of Saving Lives at Sea! How do you watch it?\n",
      "\n",
      "📺🔜 8pm Thursday on @BBCTwo\n",
      "\r\n",
      "Posted on:  2020-09-14 10:53:20\n",
      "Content:  @JP_Fenwick Thank you so much for supporting us!\n",
      "\r\n",
      "Posted on:  2020-09-14 10:42:11\n",
      "Content:  @MisterMarilyn Thank you so much for your kind words Marilyn. We're so proud of our lifesavers 💙\n",
      "\r\n",
      "Posted on:  2020-09-14 10:41:19\n",
      "Content:  @whelkaholism Thank you so so much for your continued support Rob - we wouldn't be able to continue saving lives at… https://t.co/M9ON3wnDrF\n",
      "\r\n",
      "Posted on:  2020-09-14 10:29:55\n",
      "Content:  @AmiNicholas That's amazing, thank you so much for supporting us Alfie! Good luck with the cycle 😊\n",
      "\r\n",
      "Posted on:  2020-09-14 10:11:11\n",
      "Content:  @mcgoo72 Thanks so much for supporting us! 😊\n",
      "\r\n",
      "Posted on:  2020-09-14 10:04:01\n",
      "Content:  @fraggle1971 Brilliant picture!\n",
      "\r\n",
      "Posted on:  2020-09-14 09:50:35\n",
      "Content:  @KJ_Casemore Thank you so much for supporting us! We hope your run went well 💙\n",
      "\r\n",
      "Posted on:  2020-09-14 09:49:50\n",
      "Content:  @JessBond247 Thank you so much for your suppert and kindness Jess 🙏\n",
      "\r\n"
     ]
    }
   ],
   "source": [
    "for status in rnli_recent_timeline:\n",
    "    print(\"Posted on: \", status.created_at)\n",
    "    print(\"Content: \", status.text)\n",
    "    print(\"\\r\")"
   ]
  },
  {
   "cell_type": "markdown",
   "metadata": {
    "slideshow": {
     "slide_type": "notes"
    }
   },
   "source": [
    "The `user_timeline()` method returns the 20 most recent statuses (tweets and retweets) for a specified account. We can extend the number of statuses that are returned using the `Cursor` method from `tweepy`."
   ]
  },
  {
   "cell_type": "code",
   "execution_count": 12,
   "metadata": {
    "slideshow": {
     "slide_type": "subslide"
    }
   },
   "outputs": [],
   "source": [
    "rnli_timeline = [] \n",
    "for status in tweepy.Cursor(api.user_timeline, id=\"RNLI\").items():\n",
    "    rnli_timeline.append(status._json)"
   ]
  },
  {
   "cell_type": "code",
   "execution_count": 13,
   "metadata": {
    "slideshow": {
     "slide_type": "fragment"
    }
   },
   "outputs": [
    {
     "data": {
      "text/plain": [
       "3202"
      ]
     },
     "execution_count": 13,
     "metadata": {},
     "output_type": "execute_result"
    }
   ],
   "source": [
    "len(rnli_timeline)"
   ]
  },
  {
   "cell_type": "code",
   "execution_count": 14,
   "metadata": {
    "slideshow": {
     "slide_type": "subslide"
    }
   },
   "outputs": [
    {
     "data": {
      "text/plain": [
       "{'created_at': 'Tue Sep 15 11:51:19 +0000 2020',\n",
       " 'id': 1305836591013912578,\n",
       " 'id_str': '1305836591013912578',\n",
       " 'text': 'In 1942, Wells crew members went to the aid of a Lancaster Bomber. Despite the dangers of being submerged, Coxswain… https://t.co/G4M4q50DqF',\n",
       " 'truncated': True,\n",
       " 'entities': {'hashtags': [],\n",
       "  'symbols': [],\n",
       "  'user_mentions': [],\n",
       "  'urls': [{'url': 'https://t.co/G4M4q50DqF',\n",
       "    'expanded_url': 'https://twitter.com/i/web/status/1305836591013912578',\n",
       "    'display_url': 'twitter.com/i/web/status/1…',\n",
       "    'indices': [117, 140]}]},\n",
       " 'source': '<a href=\"https://mobile.twitter.com\" rel=\"nofollow\">Twitter Web App</a>',\n",
       " 'in_reply_to_status_id': 1305836586903515136,\n",
       " 'in_reply_to_status_id_str': '1305836586903515136',\n",
       " 'in_reply_to_user_id': 24916036,\n",
       " 'in_reply_to_user_id_str': '24916036',\n",
       " 'in_reply_to_screen_name': 'RNLI',\n",
       " 'user': {'id': 24916036,\n",
       "  'id_str': '24916036',\n",
       "  'name': 'RNLI',\n",
       "  'screen_name': 'RNLI',\n",
       "  'location': 'The UK & Republic of Ireland',\n",
       "  'description': 'The charity that saves lives at sea.',\n",
       "  'url': 'https://t.co/q5FkjRUXJA',\n",
       "  'entities': {'url': {'urls': [{'url': 'https://t.co/q5FkjRUXJA',\n",
       "      'expanded_url': 'http://bit.ly/SaveLivesAtSea2',\n",
       "      'display_url': 'bit.ly/SaveLivesAtSea2',\n",
       "      'indices': [0, 23]}]},\n",
       "   'description': {'urls': []}},\n",
       "  'protected': False,\n",
       "  'followers_count': 154797,\n",
       "  'friends_count': 11447,\n",
       "  'listed_count': 1237,\n",
       "  'created_at': 'Tue Mar 17 17:21:31 +0000 2009',\n",
       "  'favourites_count': 94000,\n",
       "  'utc_offset': None,\n",
       "  'time_zone': None,\n",
       "  'geo_enabled': True,\n",
       "  'verified': True,\n",
       "  'statuses_count': 70946,\n",
       "  'lang': None,\n",
       "  'contributors_enabled': False,\n",
       "  'is_translator': False,\n",
       "  'is_translation_enabled': False,\n",
       "  'profile_background_color': 'FFFFFF',\n",
       "  'profile_background_image_url': 'http://abs.twimg.com/images/themes/theme1/bg.png',\n",
       "  'profile_background_image_url_https': 'https://abs.twimg.com/images/themes/theme1/bg.png',\n",
       "  'profile_background_tile': False,\n",
       "  'profile_image_url': 'http://pbs.twimg.com/profile_images/517948939182428160/b9fMWRqF_normal.png',\n",
       "  'profile_image_url_https': 'https://pbs.twimg.com/profile_images/517948939182428160/b9fMWRqF_normal.png',\n",
       "  'profile_banner_url': 'https://pbs.twimg.com/profile_banners/24916036/1599571460',\n",
       "  'profile_link_color': 'FF691F',\n",
       "  'profile_sidebar_border_color': '000000',\n",
       "  'profile_sidebar_fill_color': 'D6EBFF',\n",
       "  'profile_text_color': '333333',\n",
       "  'profile_use_background_image': False,\n",
       "  'has_extended_profile': True,\n",
       "  'default_profile': False,\n",
       "  'default_profile_image': False,\n",
       "  'following': None,\n",
       "  'follow_request_sent': None,\n",
       "  'notifications': None,\n",
       "  'translator_type': 'none'},\n",
       " 'geo': None,\n",
       " 'coordinates': None,\n",
       " 'place': None,\n",
       " 'contributors': None,\n",
       " 'is_quote_status': False,\n",
       " 'retweet_count': 0,\n",
       " 'favorite_count': 14,\n",
       " 'favorited': False,\n",
       " 'retweeted': False,\n",
       " 'possibly_sensitive': False,\n",
       " 'lang': 'en'}"
      ]
     },
     "execution_count": 14,
     "metadata": {},
     "output_type": "execute_result"
    }
   ],
   "source": [
    "rnli_timeline[0]"
   ]
  },
  {
   "cell_type": "markdown",
   "metadata": {
    "slideshow": {
     "slide_type": "notes"
    }
   },
   "source": [
    "As you can see, there is an abundance of content and metadata associated with each status - a full breakdown of what fields are available is [here](https://developer.twitter.com/en/docs/twitter-api/v1/data-dictionary/overview/tweet-object)."
   ]
  },
  {
   "cell_type": "markdown",
   "metadata": {
    "slideshow": {
     "slide_type": "notes"
    }
   },
   "source": [
    "Now we have all of the recent statuses (as far back as we are allowed using the API, anyway) of the RNLI Twitter account. We'll make our lives simpler by extracting only the fields we are interested in: date the status was posted, the id of the status, and the text."
   ]
  },
  {
   "cell_type": "code",
   "execution_count": 16,
   "metadata": {
    "slideshow": {
     "slide_type": "subslide"
    }
   },
   "outputs": [
    {
     "ename": "AttributeError",
     "evalue": "'dict' object has no attribute 'text'",
     "output_type": "error",
     "traceback": [
      "\u001b[1;31m---------------------------------------------------------------------------\u001b[0m",
      "\u001b[1;31mAttributeError\u001b[0m                            Traceback (most recent call last)",
      "\u001b[1;32m<ipython-input-16-855d9ea45df5>\u001b[0m in \u001b[0;36m<module>\u001b[1;34m\u001b[0m\n\u001b[0;32m      4\u001b[0m     \u001b[0mstatus_info\u001b[0m\u001b[1;33m[\u001b[0m\u001b[1;34m\"date\"\u001b[0m\u001b[1;33m]\u001b[0m \u001b[1;33m=\u001b[0m \u001b[0mstatus\u001b[0m\u001b[1;33m[\u001b[0m\u001b[1;34m\"created_at\"\u001b[0m\u001b[1;33m]\u001b[0m\u001b[1;33m\u001b[0m\u001b[1;33m\u001b[0m\u001b[0m\n\u001b[0;32m      5\u001b[0m     \u001b[0mstatus_info\u001b[0m\u001b[1;33m[\u001b[0m\u001b[1;34m\"id\"\u001b[0m\u001b[1;33m]\u001b[0m \u001b[1;33m=\u001b[0m \u001b[0mstatus\u001b[0m\u001b[1;33m[\u001b[0m\u001b[1;34m\"id\"\u001b[0m\u001b[1;33m]\u001b[0m\u001b[1;33m\u001b[0m\u001b[1;33m\u001b[0m\u001b[0m\n\u001b[1;32m----> 6\u001b[1;33m     \u001b[0mstatus_info\u001b[0m\u001b[1;33m[\u001b[0m\u001b[1;34m\"content\"\u001b[0m\u001b[1;33m]\u001b[0m \u001b[1;33m=\u001b[0m \u001b[0mstatus\u001b[0m\u001b[1;33m.\u001b[0m\u001b[0mtext\u001b[0m\u001b[1;33m\u001b[0m\u001b[1;33m\u001b[0m\u001b[0m\n\u001b[0m\u001b[0;32m      7\u001b[0m     \u001b[0mrnli_data\u001b[0m\u001b[1;33m.\u001b[0m\u001b[0mappend\u001b[0m\u001b[1;33m(\u001b[0m\u001b[0mstatus_info\u001b[0m\u001b[1;33m)\u001b[0m\u001b[1;33m\u001b[0m\u001b[1;33m\u001b[0m\u001b[0m\n",
      "\u001b[1;31mAttributeError\u001b[0m: 'dict' object has no attribute 'text'"
     ]
    }
   ],
   "source": [
    "rnli_data = []\n",
    "for status in rnli_timeline:\n",
    "    status_info = {}\n",
    "    status_info[\"date\"] = status[\"created_at\"]\n",
    "    status_info[\"id\"] = status[\"id\"]\n",
    "    status_info[\"content\"] = status.text\n",
    "    rnli_data.append(status_info)"
   ]
  },
  {
   "cell_type": "code",
   "execution_count": null,
   "metadata": {},
   "outputs": [],
   "source": [
    "rnli_data[0:5]"
   ]
  },
  {
   "cell_type": "markdown",
   "metadata": {
    "slideshow": {
     "slide_type": "notes"
    }
   },
   "source": [
    "Great, now we can save the extracted data to a file:"
   ]
  },
  {
   "cell_type": "code",
   "execution_count": null,
   "metadata": {
    "slideshow": {
     "slide_type": "subslide"
    }
   },
   "outputs": [],
   "source": [
    "with open(\"./data/rnli-timeline-2020-09-15.json\", \"w\") as f:\n",
    "    json.dump(rnli_data, f)"
   ]
  },
  {
   "cell_type": "markdown",
   "metadata": {
    "slideshow": {
     "slide_type": "notes"
    }
   },
   "source": [
    "We can also convert it to a more familiar data structure (e.g., a dataframe):"
   ]
  },
  {
   "cell_type": "code",
   "execution_count": null,
   "metadata": {
    "slideshow": {
     "slide_type": "subslide"
    }
   },
   "outputs": [],
   "source": [
    "df = pd.DataFrame(rnli_data)\n",
    "df.sample(5)"
   ]
  },
  {
   "cell_type": "code",
   "execution_count": null,
   "metadata": {
    "slideshow": {
     "slide_type": "subslide"
    }
   },
   "outputs": [],
   "source": [
    "df.to_csv(\"./data/rnli-timeline-2020-09-15.csv\", index = False)"
   ]
  },
  {
   "cell_type": "markdown",
   "metadata": {
    "slideshow": {
     "slide_type": "subslide"
    }
   },
   "source": [
    "### Summary"
   ]
  },
  {
   "cell_type": "markdown",
   "metadata": {
    "slideshow": {
     "slide_type": "subslide"
    }
   },
   "source": [
    "That concludes our brief demonstration of connecting to and requesting data from the Twitter API. Let's unpack the major steps you can employ to conduct your own activities using the Twitter API:"
   ]
  },
  {
   "cell_type": "markdown",
   "metadata": {
    "slideshow": {
     "slide_type": "fragment"
    }
   },
   "source": [
    "1. Register for a Twitter API developer account and create a project/application that requires use of said API."
   ]
  },
  {
   "cell_type": "markdown",
   "metadata": {
    "slideshow": {
     "slide_type": "fragment"
    }
   },
   "source": [
    "2. Use the `tweepy` Python package to interact with the Twitter API."
   ]
  },
  {
   "cell_type": "markdown",
   "metadata": {
    "slideshow": {
     "slide_type": "fragment"
    }
   },
   "source": [
    "3. Connect to the Twitter API using your credentials."
   ]
  },
  {
   "cell_type": "markdown",
   "metadata": {
    "slideshow": {
     "slide_type": "subslide"
    }
   },
   "source": [
    "4. Make a request for data."
   ]
  },
  {
   "cell_type": "markdown",
   "metadata": {
    "slideshow": {
     "slide_type": "fragment"
    }
   },
   "source": [
    "5. Clean and export data for later analysis."
   ]
  },
  {
   "cell_type": "markdown",
   "metadata": {
    "slideshow": {
     "slide_type": "slide"
    }
   },
   "source": [
    "## Converting to social network data"
   ]
  },
  {
   "cell_type": "markdown",
   "metadata": {
    "slideshow": {
     "slide_type": "notes"
    }
   },
   "source": [
    "In this section we demonstrate how to extract and structure relational information contained in an attributional data set. We will draw on a data set of the current trustees (board members) of all registered charities in Manchester, UK."
   ]
  },
  {
   "cell_type": "code",
   "execution_count": 17,
   "metadata": {
    "slideshow": {
     "slide_type": "subslide"
    }
   },
   "outputs": [],
   "source": [
    "import pandas as pd # data manipulation\n",
    "import numpy as np # mathematical operations\n",
    "import networkx as nx # network analysis"
   ]
  },
  {
   "cell_type": "code",
   "execution_count": 18,
   "metadata": {
    "slideshow": {
     "slide_type": "subslide"
    }
   },
   "outputs": [
    {
     "name": "stdout",
     "output_type": "stream",
     "text": [
      "(2735, 4)\n"
     ]
    },
    {
     "data": {
      "text/html": [
       "<div>\n",
       "<style scoped>\n",
       "    .dataframe tbody tr th:only-of-type {\n",
       "        vertical-align: middle;\n",
       "    }\n",
       "\n",
       "    .dataframe tbody tr th {\n",
       "        vertical-align: top;\n",
       "    }\n",
       "\n",
       "    .dataframe thead th {\n",
       "        text-align: right;\n",
       "    }\n",
       "</style>\n",
       "<table border=\"1\" class=\"dataframe\">\n",
       "  <thead>\n",
       "    <tr style=\"text-align: right;\">\n",
       "      <th></th>\n",
       "      <th>trustee_id</th>\n",
       "      <th>trustee_name</th>\n",
       "      <th>trustee_total_tships</th>\n",
       "      <th>regno</th>\n",
       "    </tr>\n",
       "  </thead>\n",
       "  <tbody>\n",
       "    <tr>\n",
       "      <th>0</th>\n",
       "      <td>5873</td>\n",
       "      <td>Rabbi Abraham Hassan</td>\n",
       "      <td>3</td>\n",
       "      <td>1071809</td>\n",
       "    </tr>\n",
       "    <tr>\n",
       "      <th>1</th>\n",
       "      <td>5873</td>\n",
       "      <td>Rabbi Abraham Hassan</td>\n",
       "      <td>3</td>\n",
       "      <td>1095687</td>\n",
       "    </tr>\n",
       "    <tr>\n",
       "      <th>2</th>\n",
       "      <td>5873</td>\n",
       "      <td>Rabbi Abraham Hassan</td>\n",
       "      <td>3</td>\n",
       "      <td>1013846</td>\n",
       "    </tr>\n",
       "    <tr>\n",
       "      <th>3</th>\n",
       "      <td>14229</td>\n",
       "      <td>David Neuwirth</td>\n",
       "      <td>9</td>\n",
       "      <td>1123674</td>\n",
       "    </tr>\n",
       "    <tr>\n",
       "      <th>4</th>\n",
       "      <td>14229</td>\n",
       "      <td>David Neuwirth</td>\n",
       "      <td>9</td>\n",
       "      <td>1166641</td>\n",
       "    </tr>\n",
       "    <tr>\n",
       "      <th>5</th>\n",
       "      <td>14229</td>\n",
       "      <td>David Neuwirth</td>\n",
       "      <td>9</td>\n",
       "      <td>1083461</td>\n",
       "    </tr>\n",
       "    <tr>\n",
       "      <th>6</th>\n",
       "      <td>14229</td>\n",
       "      <td>David Neuwirth</td>\n",
       "      <td>9</td>\n",
       "      <td>1109132</td>\n",
       "    </tr>\n",
       "    <tr>\n",
       "      <th>7</th>\n",
       "      <td>14229</td>\n",
       "      <td>David Neuwirth</td>\n",
       "      <td>9</td>\n",
       "      <td>1084316</td>\n",
       "    </tr>\n",
       "    <tr>\n",
       "      <th>8</th>\n",
       "      <td>14229</td>\n",
       "      <td>David Neuwirth</td>\n",
       "      <td>9</td>\n",
       "      <td>1136917</td>\n",
       "    </tr>\n",
       "    <tr>\n",
       "      <th>9</th>\n",
       "      <td>14229</td>\n",
       "      <td>David Neuwirth</td>\n",
       "      <td>9</td>\n",
       "      <td>1183303</td>\n",
       "    </tr>\n",
       "    <tr>\n",
       "      <th>10</th>\n",
       "      <td>14229</td>\n",
       "      <td>David Neuwirth</td>\n",
       "      <td>9</td>\n",
       "      <td>1111457</td>\n",
       "    </tr>\n",
       "    <tr>\n",
       "      <th>11</th>\n",
       "      <td>14229</td>\n",
       "      <td>David Neuwirth</td>\n",
       "      <td>9</td>\n",
       "      <td>1092751</td>\n",
       "    </tr>\n",
       "    <tr>\n",
       "      <th>12</th>\n",
       "      <td>16095</td>\n",
       "      <td>Bernard Donoghue</td>\n",
       "      <td>2</td>\n",
       "      <td>295260</td>\n",
       "    </tr>\n",
       "    <tr>\n",
       "      <th>13</th>\n",
       "      <td>16095</td>\n",
       "      <td>Bernard Donoghue</td>\n",
       "      <td>2</td>\n",
       "      <td>286169</td>\n",
       "    </tr>\n",
       "    <tr>\n",
       "      <th>14</th>\n",
       "      <td>67684</td>\n",
       "      <td>Ian James Wiggett</td>\n",
       "      <td>2</td>\n",
       "      <td>1143128</td>\n",
       "    </tr>\n",
       "  </tbody>\n",
       "</table>\n",
       "</div>"
      ],
      "text/plain": [
       "    trustee_id          trustee_name  trustee_total_tships    regno\n",
       "0         5873  Rabbi Abraham Hassan                     3  1071809\n",
       "1         5873  Rabbi Abraham Hassan                     3  1095687\n",
       "2         5873  Rabbi Abraham Hassan                     3  1013846\n",
       "3        14229        David Neuwirth                     9  1123674\n",
       "4        14229        David Neuwirth                     9  1166641\n",
       "5        14229        David Neuwirth                     9  1083461\n",
       "6        14229        David Neuwirth                     9  1109132\n",
       "7        14229        David Neuwirth                     9  1084316\n",
       "8        14229        David Neuwirth                     9  1136917\n",
       "9        14229        David Neuwirth                     9  1183303\n",
       "10       14229        David Neuwirth                     9  1111457\n",
       "11       14229        David Neuwirth                     9  1092751\n",
       "12       16095      Bernard Donoghue                     2   295260\n",
       "13       16095      Bernard Donoghue                     2   286169\n",
       "14       67684     Ian James Wiggett                     2  1143128"
      ]
     },
     "execution_count": 18,
     "metadata": {},
     "output_type": "execute_result"
    }
   ],
   "source": [
    "data = pd.read_csv(\"./data/manchester-trustees-2020-08-27.csv\", index_col = False)\n",
    "print(data.shape)\n",
    "data.head(15)"
   ]
  },
  {
   "cell_type": "markdown",
   "metadata": {
    "slideshow": {
     "slide_type": "notes"
    }
   },
   "source": [
    "As you can see, the first individual is a trustee of three charities, the second a trustee of nine etc. Because we have the unique id (`regno`) of the charity a trustee is connected to, this data set contains *relational information* on how charities are connected to each other by the presence of a common individual. For instance, three of the charities &mdash; 1071809, 1095687, 1013846 &mdash; are all linked through the trustee Rabbi Abraham Hassan. "
   ]
  },
  {
   "cell_type": "markdown",
   "metadata": {
    "slideshow": {
     "slide_type": "subslide"
    }
   },
   "source": [
    "Our first task is to extract the relational information contained in this data set &mdash; that is, the connections that exist between charities as a result of having trustees in common."
   ]
  },
  {
   "cell_type": "markdown",
   "metadata": {
    "slideshow": {
     "slide_type": "fragment"
    }
   },
   "source": [
    "The end result of this process will be an adjacency (node-by-node) matrix containing the *binary*, *undirected* ties linking charities together. That is, a data set where every row and column represents a charity, and the cells indicate whether a pair of charities are linked through at least one trustee."
   ]
  },
  {
   "cell_type": "markdown",
   "metadata": {
    "slideshow": {
     "slide_type": "subslide"
    }
   },
   "source": [
    "### Creating an adjacency matrix"
   ]
  },
  {
   "cell_type": "markdown",
   "metadata": {
    "slideshow": {
     "slide_type": "notes"
    }
   },
   "source": [
    "Creating the adjacency matrix involves the simple but clever trick of merging the data set with itself. Remember that the goal is to see which charities are connected &mdash; another way of conceptualising this is to think of a **cross-tabulation**. That is, examine the frequency with which every pair of charities occurs in the data.\n",
    "\n",
    "Let's use the `merge()` method on a `pandas` dataframe to merge the charity data with itself."
   ]
  },
  {
   "cell_type": "code",
   "execution_count": 19,
   "metadata": {
    "slideshow": {
     "slide_type": "subslide"
    }
   },
   "outputs": [],
   "source": [
    "data_merge = data.merge(data, on=\"trustee_id\")"
   ]
  },
  {
   "cell_type": "code",
   "execution_count": 20,
   "metadata": {
    "cell_style": "split",
    "slideshow": {
     "slide_type": "subslide"
    }
   },
   "outputs": [
    {
     "data": {
      "text/html": [
       "<div>\n",
       "<style scoped>\n",
       "    .dataframe tbody tr th:only-of-type {\n",
       "        vertical-align: middle;\n",
       "    }\n",
       "\n",
       "    .dataframe tbody tr th {\n",
       "        vertical-align: top;\n",
       "    }\n",
       "\n",
       "    .dataframe thead th {\n",
       "        text-align: right;\n",
       "    }\n",
       "</style>\n",
       "<table border=\"1\" class=\"dataframe\">\n",
       "  <thead>\n",
       "    <tr style=\"text-align: right;\">\n",
       "      <th></th>\n",
       "      <th>trustee_name</th>\n",
       "      <th>regno</th>\n",
       "    </tr>\n",
       "  </thead>\n",
       "  <tbody>\n",
       "    <tr>\n",
       "      <th>0</th>\n",
       "      <td>Rabbi Abraham Hassan</td>\n",
       "      <td>1071809</td>\n",
       "    </tr>\n",
       "    <tr>\n",
       "      <th>1</th>\n",
       "      <td>Rabbi Abraham Hassan</td>\n",
       "      <td>1095687</td>\n",
       "    </tr>\n",
       "    <tr>\n",
       "      <th>2</th>\n",
       "      <td>Rabbi Abraham Hassan</td>\n",
       "      <td>1013846</td>\n",
       "    </tr>\n",
       "  </tbody>\n",
       "</table>\n",
       "</div>"
      ],
      "text/plain": [
       "           trustee_name    regno\n",
       "0  Rabbi Abraham Hassan  1071809\n",
       "1  Rabbi Abraham Hassan  1095687\n",
       "2  Rabbi Abraham Hassan  1013846"
      ]
     },
     "execution_count": 20,
     "metadata": {},
     "output_type": "execute_result"
    }
   ],
   "source": [
    "data[[\"trustee_name\", \"regno\"]].head(3)"
   ]
  },
  {
   "cell_type": "code",
   "execution_count": 21,
   "metadata": {
    "cell_style": "split",
    "slideshow": {
     "slide_type": "fragment"
    }
   },
   "outputs": [
    {
     "data": {
      "text/html": [
       "<div>\n",
       "<style scoped>\n",
       "    .dataframe tbody tr th:only-of-type {\n",
       "        vertical-align: middle;\n",
       "    }\n",
       "\n",
       "    .dataframe tbody tr th {\n",
       "        vertical-align: top;\n",
       "    }\n",
       "\n",
       "    .dataframe thead th {\n",
       "        text-align: right;\n",
       "    }\n",
       "</style>\n",
       "<table border=\"1\" class=\"dataframe\">\n",
       "  <thead>\n",
       "    <tr style=\"text-align: right;\">\n",
       "      <th></th>\n",
       "      <th>trustee_name_x</th>\n",
       "      <th>regno_x</th>\n",
       "      <th>regno_y</th>\n",
       "    </tr>\n",
       "  </thead>\n",
       "  <tbody>\n",
       "    <tr>\n",
       "      <th>0</th>\n",
       "      <td>Rabbi Abraham Hassan</td>\n",
       "      <td>1071809</td>\n",
       "      <td>1071809</td>\n",
       "    </tr>\n",
       "    <tr>\n",
       "      <th>1</th>\n",
       "      <td>Rabbi Abraham Hassan</td>\n",
       "      <td>1071809</td>\n",
       "      <td>1095687</td>\n",
       "    </tr>\n",
       "    <tr>\n",
       "      <th>2</th>\n",
       "      <td>Rabbi Abraham Hassan</td>\n",
       "      <td>1071809</td>\n",
       "      <td>1013846</td>\n",
       "    </tr>\n",
       "    <tr>\n",
       "      <th>3</th>\n",
       "      <td>Rabbi Abraham Hassan</td>\n",
       "      <td>1095687</td>\n",
       "      <td>1071809</td>\n",
       "    </tr>\n",
       "    <tr>\n",
       "      <th>4</th>\n",
       "      <td>Rabbi Abraham Hassan</td>\n",
       "      <td>1095687</td>\n",
       "      <td>1095687</td>\n",
       "    </tr>\n",
       "    <tr>\n",
       "      <th>5</th>\n",
       "      <td>Rabbi Abraham Hassan</td>\n",
       "      <td>1095687</td>\n",
       "      <td>1013846</td>\n",
       "    </tr>\n",
       "    <tr>\n",
       "      <th>6</th>\n",
       "      <td>Rabbi Abraham Hassan</td>\n",
       "      <td>1013846</td>\n",
       "      <td>1071809</td>\n",
       "    </tr>\n",
       "    <tr>\n",
       "      <th>7</th>\n",
       "      <td>Rabbi Abraham Hassan</td>\n",
       "      <td>1013846</td>\n",
       "      <td>1095687</td>\n",
       "    </tr>\n",
       "    <tr>\n",
       "      <th>8</th>\n",
       "      <td>Rabbi Abraham Hassan</td>\n",
       "      <td>1013846</td>\n",
       "      <td>1013846</td>\n",
       "    </tr>\n",
       "  </tbody>\n",
       "</table>\n",
       "</div>"
      ],
      "text/plain": [
       "         trustee_name_x  regno_x  regno_y\n",
       "0  Rabbi Abraham Hassan  1071809  1071809\n",
       "1  Rabbi Abraham Hassan  1071809  1095687\n",
       "2  Rabbi Abraham Hassan  1071809  1013846\n",
       "3  Rabbi Abraham Hassan  1095687  1071809\n",
       "4  Rabbi Abraham Hassan  1095687  1095687\n",
       "5  Rabbi Abraham Hassan  1095687  1013846\n",
       "6  Rabbi Abraham Hassan  1013846  1071809\n",
       "7  Rabbi Abraham Hassan  1013846  1095687\n",
       "8  Rabbi Abraham Hassan  1013846  1013846"
      ]
     },
     "execution_count": 21,
     "metadata": {},
     "output_type": "execute_result"
    }
   ],
   "source": [
    "data_merge[[\"trustee_name_x\", \"regno_x\", \"regno_y\"]].head(9)"
   ]
  },
  {
   "cell_type": "markdown",
   "metadata": {
    "slideshow": {
     "slide_type": "notes"
    }
   },
   "source": [
    "Note the results of the merge: the process has produced a new data set (`data_merge`) containing all possible combinations of charity numbers for each trustee. For example, the trustee Rabbi Abraham Hassan appears three times in the original data (left cell), once for each charity they are a trustee of. The same person appears nine times in the merged data (right cell), once for each combination of charities they are a trustee of.\n",
    "\n",
    "For instance, Rabbi Abraham Hassan is a trustee of charity *1071809*, therefore this organisation is connected to all of the other charities (and itself) this person is a trustee of."
   ]
  },
  {
   "cell_type": "code",
   "execution_count": 22,
   "metadata": {
    "slideshow": {
     "slide_type": "subslide"
    }
   },
   "outputs": [],
   "source": [
    "adj_matrix = pd.crosstab(data_merge.regno_x, data_merge.regno_y)"
   ]
  },
  {
   "cell_type": "code",
   "execution_count": 23,
   "metadata": {
    "slideshow": {
     "slide_type": "subslide"
    }
   },
   "outputs": [
    {
     "data": {
      "text/html": [
       "<div>\n",
       "<style scoped>\n",
       "    .dataframe tbody tr th:only-of-type {\n",
       "        vertical-align: middle;\n",
       "    }\n",
       "\n",
       "    .dataframe tbody tr th {\n",
       "        vertical-align: top;\n",
       "    }\n",
       "\n",
       "    .dataframe thead th {\n",
       "        text-align: right;\n",
       "    }\n",
       "</style>\n",
       "<table border=\"1\" class=\"dataframe\">\n",
       "  <thead>\n",
       "    <tr style=\"text-align: right;\">\n",
       "      <th>regno_y</th>\n",
       "      <th>1071809</th>\n",
       "      <th>1095687</th>\n",
       "      <th>1013846</th>\n",
       "    </tr>\n",
       "    <tr>\n",
       "      <th>regno_x</th>\n",
       "      <th></th>\n",
       "      <th></th>\n",
       "      <th></th>\n",
       "    </tr>\n",
       "  </thead>\n",
       "  <tbody>\n",
       "    <tr>\n",
       "      <th>1071809</th>\n",
       "      <td>2</td>\n",
       "      <td>1</td>\n",
       "      <td>2</td>\n",
       "    </tr>\n",
       "    <tr>\n",
       "      <th>1095687</th>\n",
       "      <td>1</td>\n",
       "      <td>1</td>\n",
       "      <td>1</td>\n",
       "    </tr>\n",
       "    <tr>\n",
       "      <th>1013846</th>\n",
       "      <td>2</td>\n",
       "      <td>1</td>\n",
       "      <td>2</td>\n",
       "    </tr>\n",
       "  </tbody>\n",
       "</table>\n",
       "</div>"
      ],
      "text/plain": [
       "regno_y  1071809  1095687  1013846\n",
       "regno_x                           \n",
       "1071809        2        1        2\n",
       "1095687        1        1        1\n",
       "1013846        2        1        2"
      ]
     },
     "execution_count": 23,
     "metadata": {},
     "output_type": "execute_result"
    }
   ],
   "source": [
    "adj_matrix.loc[[1071809, 1095687, 1013846], [1071809, 1095687, 1013846]]"
   ]
  },
  {
   "cell_type": "markdown",
   "metadata": {
    "slideshow": {
     "slide_type": "notes"
    }
   },
   "source": [
    "We see that charity *1071809* has two connections to charity *1013846*. We can account for one of these connections through the trustee Rabbi Abraham Hassan. We can see where the other connection exists as follows:"
   ]
  },
  {
   "cell_type": "code",
   "execution_count": 24,
   "metadata": {
    "slideshow": {
     "slide_type": "subslide"
    }
   },
   "outputs": [
    {
     "data": {
      "text/html": [
       "<div>\n",
       "<style scoped>\n",
       "    .dataframe tbody tr th:only-of-type {\n",
       "        vertical-align: middle;\n",
       "    }\n",
       "\n",
       "    .dataframe tbody tr th {\n",
       "        vertical-align: top;\n",
       "    }\n",
       "\n",
       "    .dataframe thead th {\n",
       "        text-align: right;\n",
       "    }\n",
       "</style>\n",
       "<table border=\"1\" class=\"dataframe\">\n",
       "  <thead>\n",
       "    <tr style=\"text-align: right;\">\n",
       "      <th></th>\n",
       "      <th>trustee_name_x</th>\n",
       "      <th>regno_x</th>\n",
       "      <th>regno_y</th>\n",
       "    </tr>\n",
       "  </thead>\n",
       "  <tbody>\n",
       "    <tr>\n",
       "      <th>2</th>\n",
       "      <td>Rabbi Abraham Hassan</td>\n",
       "      <td>1071809</td>\n",
       "      <td>1013846</td>\n",
       "    </tr>\n",
       "    <tr>\n",
       "      <th>6</th>\n",
       "      <td>Rabbi Abraham Hassan</td>\n",
       "      <td>1013846</td>\n",
       "      <td>1071809</td>\n",
       "    </tr>\n",
       "    <tr>\n",
       "      <th>5230</th>\n",
       "      <td>Nissim Hassan</td>\n",
       "      <td>1013846</td>\n",
       "      <td>1071809</td>\n",
       "    </tr>\n",
       "    <tr>\n",
       "      <th>5232</th>\n",
       "      <td>Nissim Hassan</td>\n",
       "      <td>1071809</td>\n",
       "      <td>1013846</td>\n",
       "    </tr>\n",
       "  </tbody>\n",
       "</table>\n",
       "</div>"
      ],
      "text/plain": [
       "            trustee_name_x  regno_x  regno_y\n",
       "2     Rabbi Abraham Hassan  1071809  1013846\n",
       "6     Rabbi Abraham Hassan  1013846  1071809\n",
       "5230         Nissim Hassan  1013846  1071809\n",
       "5232         Nissim Hassan  1071809  1013846"
      ]
     },
     "execution_count": 24,
     "metadata": {},
     "output_type": "execute_result"
    }
   ],
   "source": [
    "subset = data_merge.loc[((data_merge[\"regno_x\"] == 1071809) & (data_merge[\"regno_y\"] == 1013846))\n",
    "                       | ((data_merge[\"regno_x\"] == 1013846) & (data_merge[\"regno_y\"] == 1071809))]\n",
    "subset[[\"trustee_name_x\", \"regno_x\", \"regno_y\"]]"
   ]
  },
  {
   "cell_type": "markdown",
   "metadata": {
    "slideshow": {
     "slide_type": "subslide"
    }
   },
   "source": [
    "We have two final tasks before we are satisfied our adjacency matrix captures the relations we are interested in:\n",
    "1. Remove self-loops\n",
    "2. Convert to binary relations"
   ]
  },
  {
   "cell_type": "code",
   "execution_count": 25,
   "metadata": {
    "slideshow": {
     "slide_type": "subslide"
    }
   },
   "outputs": [],
   "source": [
    "np.fill_diagonal(adj_matrix.values, 0)"
   ]
  },
  {
   "cell_type": "code",
   "execution_count": 26,
   "metadata": {
    "slideshow": {
     "slide_type": "subslide"
    }
   },
   "outputs": [],
   "source": [
    "adj_matrix[adj_matrix >= 1] = 1"
   ]
  },
  {
   "cell_type": "markdown",
   "metadata": {
    "slideshow": {
     "slide_type": "notes"
    }
   },
   "source": [
    "Let's see the effect of these two operations on the final data set:"
   ]
  },
  {
   "cell_type": "code",
   "execution_count": 27,
   "metadata": {
    "slideshow": {
     "slide_type": "subslide"
    }
   },
   "outputs": [
    {
     "data": {
      "text/html": [
       "<div>\n",
       "<style scoped>\n",
       "    .dataframe tbody tr th:only-of-type {\n",
       "        vertical-align: middle;\n",
       "    }\n",
       "\n",
       "    .dataframe tbody tr th {\n",
       "        vertical-align: top;\n",
       "    }\n",
       "\n",
       "    .dataframe thead th {\n",
       "        text-align: right;\n",
       "    }\n",
       "</style>\n",
       "<table border=\"1\" class=\"dataframe\">\n",
       "  <thead>\n",
       "    <tr style=\"text-align: right;\">\n",
       "      <th>regno_y</th>\n",
       "      <th>1071809</th>\n",
       "      <th>1095687</th>\n",
       "      <th>1013846</th>\n",
       "    </tr>\n",
       "    <tr>\n",
       "      <th>regno_x</th>\n",
       "      <th></th>\n",
       "      <th></th>\n",
       "      <th></th>\n",
       "    </tr>\n",
       "  </thead>\n",
       "  <tbody>\n",
       "    <tr>\n",
       "      <th>1071809</th>\n",
       "      <td>0</td>\n",
       "      <td>1</td>\n",
       "      <td>1</td>\n",
       "    </tr>\n",
       "    <tr>\n",
       "      <th>1095687</th>\n",
       "      <td>1</td>\n",
       "      <td>0</td>\n",
       "      <td>1</td>\n",
       "    </tr>\n",
       "    <tr>\n",
       "      <th>1013846</th>\n",
       "      <td>1</td>\n",
       "      <td>1</td>\n",
       "      <td>0</td>\n",
       "    </tr>\n",
       "  </tbody>\n",
       "</table>\n",
       "</div>"
      ],
      "text/plain": [
       "regno_y  1071809  1095687  1013846\n",
       "regno_x                           \n",
       "1071809        0        1        1\n",
       "1095687        1        0        1\n",
       "1013846        1        1        0"
      ]
     },
     "execution_count": 27,
     "metadata": {},
     "output_type": "execute_result"
    }
   ],
   "source": [
    "adj_matrix.loc[[1071809, 1095687, 1013846], [1071809, 1095687, 1013846]]"
   ]
  },
  {
   "cell_type": "markdown",
   "metadata": {
    "slideshow": {
     "slide_type": "notes"
    }
   },
   "source": [
    "Now we are ready to convert the matrix into a `networkx` graph object:"
   ]
  },
  {
   "cell_type": "code",
   "execution_count": 28,
   "metadata": {
    "slideshow": {
     "slide_type": "subslide"
    }
   },
   "outputs": [
    {
     "name": "stdout",
     "output_type": "stream",
     "text": [
      "Name: \n",
      "Type: Graph\n",
      "Number of nodes: 1123\n",
      "Number of edges: 1542\n",
      "Average degree:   2.7462\n"
     ]
    }
   ],
   "source": [
    "chargraph = nx.from_pandas_adjacency(adj_matrix)\n",
    "print(nx.info(chargraph))"
   ]
  },
  {
   "cell_type": "markdown",
   "metadata": {
    "slideshow": {
     "slide_type": "skip"
    }
   },
   "source": [
    "## Conclusion"
   ]
  },
  {
   "cell_type": "markdown",
   "metadata": {
    "slideshow": {
     "slide_type": "skip"
    }
   },
   "source": [
    "Social Network Analysis (SNA) is a broad, rich and increasingly relevant methodology for investigating patterns in social structures and relations. Data on these structures &mdash; *networks* &mdash; are increasingly and abundantly available, either through dedicated social media and networking platforms (e.g., Twitter) or lurking in more traditional social survey and administrative data sets. Developing proficiency in collecting, cleaning and repurposing data for social network analysis is therefore a worthwhile activity for a social scientist to pursue.\n",
    "\n",
    "Good luck on your data-driven travels!"
   ]
  },
  {
   "cell_type": "markdown",
   "metadata": {
    "slideshow": {
     "slide_type": "skip"
    }
   },
   "source": [
    "## Bibliography\n",
    "\n",
    "Barba, Lorena A. et al. (2019). *Teaching and Learning with Jupyter*. <a href=\"https://jupyter4edu.github.io/jupyter-edu-book/\" target=_blank>https://jupyter4edu.github.io/jupyter-edu-book/</a>.\n",
    "\n",
    "Bourdieu, P. (1986). The Forms of Capital. In J. Richardson (Ed.), *Handbook of Theory and Research for the Sociology of Education* (pp. 241-258). Westport, CT: Greenwood.\n",
    "\n",
    "Burt, R. S. (1992). *Structural Holes: The Social Structure of Competition*. Cambridge, MA: Harvard University Press.\n",
    "\n",
    "Caiani, M. (2014). Social Network Analysis. In D. Della Porta (Ed.), *Methodological Practices in Social Movement Research* (pp. 368-396). Oxford: Oxford University Press.\n",
    "\n",
    "Grannovetter, M. (1973). The Strength of Weak Ties. *American Journal of Sociology, 78*(6), pp. 1360-1380. \n",
    "\n",
    "Hanneman, R. A., & Riddle, M. (2005). *Introduction to social network methods*. <a href=\"http://faculty.ucr.edu/~hanneman/nettext/\" target=_blank>http://faculty.ucr.edu/~hanneman/nettext/</a>.\n",
    "\n",
    "Owen-Smith, J. (2017). Networks: The Basics. In I. Foster et al. (Eds.), *Big Data and Social Science: A Practical Guide to Methods and Tools* (pp. 215-240). Boca Raton, FL: CRC Press.\n",
    "\n",
    "Scott, J. (2017). *Social Network Analysis* (4th edition). London: SAGE Publications Inc.\n",
    "\n",
    "Smith, K. P. & Christakis, N. A. (2008). Social Networks and Health. *Annual Review of Sociology, 34*, pp. 405-429.\n",
    "\n",
    "Wasserman, S. & Faust, K. (1994). *Social Network Analysis*. Cambridge: Cambridge University Press."
   ]
  },
  {
   "cell_type": "markdown",
   "metadata": {
    "slideshow": {
     "slide_type": "skip"
    }
   },
   "source": [
    "## Further reading and resources\n",
    "\n",
    "We publish a list of useful books, papers, websites and other resources on our web-scraping Github repository: <a href=\"https://github.com/UKDataServiceOpen/social-network-analysis/tree/master/reading-list/\" target=_blank>[Reading list]</a>\n",
    "\n",
    "We maintain a list of useful books, papers, websites and other resources on our SNA Github repository: <a href=\"https://github.com/UKDataServiceOpen/social-network-analysis/tree/master/reading-list/\" target=_blank>[Reading list]</a>\n",
    "\n",
    "The help documentation for the `tweepy` module is refreshingly readable and useful: <a href=\"http://docs.tweepy.org/en/latest/\" target=_blank>http://docs.tweepy.org/en/latest/</a>\n",
    "\n",
    "In addition we strongly recommend getting familiar with the Twitter API by reading its clear and comprehensive help documentation: <a href=\"https://developer.twitter.com/en/docs\" target=_blank>https://developer.twitter.com/en/docs</a>"
   ]
  }
 ],
 "metadata": {
  "celltoolbar": "Slideshow",
  "kernelspec": {
   "display_name": "Python 3",
   "language": "python",
   "name": "python3"
  },
  "language_info": {
   "codemirror_mode": {
    "name": "ipython",
    "version": 3
   },
   "file_extension": ".py",
   "mimetype": "text/x-python",
   "name": "python",
   "nbconvert_exporter": "python",
   "pygments_lexer": "ipython3",
   "version": "3.7.3"
  },
  "toc": {
   "base_numbering": 1,
   "nav_menu": {},
   "number_sections": true,
   "sideBar": false,
   "skip_h1_title": true,
   "title_cell": "Table of Contents",
   "title_sidebar": "Contents",
   "toc_cell": true,
   "toc_position": {},
   "toc_section_display": true,
   "toc_window_display": false
  }
 },
 "nbformat": 4,
 "nbformat_minor": 4
}
