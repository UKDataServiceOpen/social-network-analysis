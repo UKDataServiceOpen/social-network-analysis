{
 "cells": [
  {
   "cell_type": "markdown",
   "metadata": {},
   "source": [
    "![UKDS Logo](./images/UKDS_Logos_Col_Grey_300dpi.png)"
   ]
  },
  {
   "cell_type": "markdown",
   "metadata": {},
   "source": [
    "# Social Network Analysis: Fundamental Concepts"
   ]
  },
  {
   "cell_type": "markdown",
   "metadata": {},
   "source": [
    "Welcome to the <a href=\"https://ukdataservice.ac.uk/\" target=_blank>UK Data Service</a> training series on *New Forms of Data for Social Science Research*. This series guides you through some of the most common and valuable new sources of data available for social science research: data collected from websites, social media platorms, text data, conducting simulations (agent based modelling), to name a few. To help you get to grips with these new forms of data, we provide webinars, interactive notebooks containing live programming code, reading lists and more.\n",
    "\n",
    "* To access training materials for the entire series: <a href=\"https://github.com/UKDataServiceOpen/new-forms-of-data\" target=_blank>[Training Materials]</a>\n",
    "\n",
    "* To keep up to date with upcoming and past training events: <a href=\"https://ukdataservice.ac.uk/news-and-events/events\" target=_blank>[Events]</a>\n",
    "\n",
    "* To get in contact with feedback, ideas or to seek assistance: <a href=\"https://ukdataservice.ac.uk/help.aspx\" target=_blank>[Help]</a>\n",
    "\n",
    "<a href=\"https://www.research.manchester.ac.uk/portal/julia.kasmire.html\" target=_blank>Dr Julia Kasmire</a> and <a href=\"https://www.research.manchester.ac.uk/portal/diarmuid.mcdonnell.html\" target=_blank>Dr Diarmuid McDonnell</a> <br />\n",
    "UK Data Service  <br />\n",
    "University of Manchester <br />\n",
    "September 2020"
   ]
  },
  {
   "cell_type": "markdown",
   "metadata": {
    "toc": true
   },
   "source": [
    "<h1>Table of Contents<span class=\"tocSkip\"></span></h1>\n",
    "<div class=\"toc\"><ul class=\"toc-item\"><li><span><a href=\"#Introduction\" data-toc-modified-id=\"Introduction-1\"><span class=\"toc-item-num\">1&nbsp;&nbsp;</span>Introduction</a></span><ul class=\"toc-item\"><li><span><a href=\"#Aims\" data-toc-modified-id=\"Aims-1.1\"><span class=\"toc-item-num\">1.1&nbsp;&nbsp;</span>Aims</a></span></li><li><span><a href=\"#Lesson-details\" data-toc-modified-id=\"Lesson-details-1.2\"><span class=\"toc-item-num\">1.2&nbsp;&nbsp;</span>Lesson details</a></span></li></ul></li><li><span><a href=\"#Guide-to-using-this-resource\" data-toc-modified-id=\"Guide-to-using-this-resource-2\"><span class=\"toc-item-num\">2&nbsp;&nbsp;</span>Guide to using this resource</a></span><ul class=\"toc-item\"><li><span><a href=\"#Interaction\" data-toc-modified-id=\"Interaction-2.1\"><span class=\"toc-item-num\">2.1&nbsp;&nbsp;</span>Interaction</a></span></li><li><span><a href=\"#Learn-more\" data-toc-modified-id=\"Learn-more-2.2\"><span class=\"toc-item-num\">2.2&nbsp;&nbsp;</span>Learn more</a></span></li></ul></li><li><span><a href=\"#Overview\" data-toc-modified-id=\"Overview-3\"><span class=\"toc-item-num\">3&nbsp;&nbsp;</span>Overview</a></span><ul class=\"toc-item\"><li><span><a href=\"#What-is-Social-Network-Analysis-(SNA)?\" data-toc-modified-id=\"What-is-Social-Network-Analysis-(SNA)?-3.1\"><span class=\"toc-item-num\">3.1&nbsp;&nbsp;</span>What is Social Network Analysis (SNA)?</a></span></li><li><span><a href=\"#What-are-the-principles-behind-SNA?\" data-toc-modified-id=\"What-are-the-principles-behind-SNA?-3.2\"><span class=\"toc-item-num\">3.2&nbsp;&nbsp;</span>What are the principles behind SNA?</a></span></li><li><span><a href=\"#Why-should-you-consider-SNA-for-your-research?\" data-toc-modified-id=\"Why-should-you-consider-SNA-for-your-research?-3.3\"><span class=\"toc-item-num\">3.3&nbsp;&nbsp;</span>Why should you consider SNA for your research?</a></span></li><li><span><a href=\"#When-should-you-use-SNA?\" data-toc-modified-id=\"When-should-you-use-SNA?-3.4\"><span class=\"toc-item-num\">3.4&nbsp;&nbsp;</span>When should you use SNA?</a></span></li><li><span><a href=\"#What-does-SNA-involve?\" data-toc-modified-id=\"What-does-SNA-involve?-3.5\"><span class=\"toc-item-num\">3.5&nbsp;&nbsp;</span>What does SNA involve?</a></span></li><li><span><a href=\"#How-do-you-implement-SNA-in-your-research?\" data-toc-modified-id=\"How-do-you-implement-SNA-in-your-research?-3.6\"><span class=\"toc-item-num\">3.6&nbsp;&nbsp;</span>How do you implement SNA in your research?</a></span></li></ul></li><li><span><a href=\"#Key-Concepts\" data-toc-modified-id=\"Key-Concepts-4\"><span class=\"toc-item-num\">4&nbsp;&nbsp;</span>Key Concepts</a></span><ul class=\"toc-item\"><li><span><a href=\"#Entities\" data-toc-modified-id=\"Entities-4.1\"><span class=\"toc-item-num\">4.1&nbsp;&nbsp;</span>Entities</a></span></li><li><span><a href=\"#Connections\" data-toc-modified-id=\"Connections-4.2\"><span class=\"toc-item-num\">4.2&nbsp;&nbsp;</span>Connections</a></span></li><li><span><a href=\"#Components\" data-toc-modified-id=\"Components-4.3\"><span class=\"toc-item-num\">4.3&nbsp;&nbsp;</span>Components</a></span></li><li><span><a href=\"#Networks\" data-toc-modified-id=\"Networks-4.4\"><span class=\"toc-item-num\">4.4&nbsp;&nbsp;</span>Networks</a></span></li></ul></li><li><span><a href=\"#Representing-Networks-as-Graphs-and-Matrices\" data-toc-modified-id=\"Representing-Networks-as-Graphs-and-Matrices-5\"><span class=\"toc-item-num\">5&nbsp;&nbsp;</span>Representing Networks as Graphs and Matrices</a></span><ul class=\"toc-item\"><li><span><a href=\"#Graphs\" data-toc-modified-id=\"Graphs-5.1\"><span class=\"toc-item-num\">5.1&nbsp;&nbsp;</span>Graphs</a></span></li><li><span><a href=\"#Matrices\" data-toc-modified-id=\"Matrices-5.2\"><span class=\"toc-item-num\">5.2&nbsp;&nbsp;</span>Matrices</a></span></li></ul></li><li><span><a href=\"#A-Simple-Analysis\" data-toc-modified-id=\"A-Simple-Analysis-6\"><span class=\"toc-item-num\">6&nbsp;&nbsp;</span>A Simple Analysis</a></span></li><li><span><a href=\"#Conclusion\" data-toc-modified-id=\"Conclusion-7\"><span class=\"toc-item-num\">7&nbsp;&nbsp;</span>Conclusion</a></span></li><li><span><a href=\"#Bibliography\" data-toc-modified-id=\"Bibliography-8\"><span class=\"toc-item-num\">8&nbsp;&nbsp;</span>Bibliography</a></span></li><li><span><a href=\"#Further-reading-and-resources\" data-toc-modified-id=\"Further-reading-and-resources-9\"><span class=\"toc-item-num\">9&nbsp;&nbsp;</span>Further reading and resources</a></span></li><li><span><a href=\"#Appendices\" data-toc-modified-id=\"Appendices-10\"><span class=\"toc-item-num\">10&nbsp;&nbsp;</span>Appendices</a></span></li></ul></div>"
   ]
  },
  {
   "cell_type": "markdown",
   "metadata": {},
   "source": [
    "## Introduction\n",
    "\n",
    "Vast swathes of our social interactions and personal behaviours are now conducted online and/or captured digitally. Thus, computational methods for collecting, cleaning and analysing data are an increasingly important component of a social scientist’s toolkit.\n",
    "\n",
    "In this training series we cover some of the essential knowledge and skills needed to engage in **Social Network Analysis (SNA)**, a methodological approach that provides concepts, tools and techniques for uncovering and understanding social structures, relations and networks of assocation. We focus on the three major stages of SNA:\n",
    "1. Understanding fundamental concepts and terms [Focus of this notebook].\n",
    "2. Collecting and cleaning social network data from various sources.\n",
    "3. Performing basic and intermediate analyses of social network data. \n",
    "\n",
    "By the end of these lessons you should be confident in your understanding of key SNA concepts and terms, proficient in the handling and cleaning of social network data, and able to apply a range of analytical techniques to derive substantive insight about social structures and relations. In addition, you will gain fluency in the use of the Python programming language for SNA and other computational social science tasks."
   ]
  },
  {
   "cell_type": "markdown",
   "metadata": {},
   "source": [
    "### Aims\n",
    "\n",
    "This lesson - **Social Network Analysis: Fundamental Concepts** - has two aims:\n",
    "1. Define and examine fundamental concepts and terms underpinning SNA.\n",
    "2. Cultivate your computational skills through coding examples. For example, there are a number of opportunities for you to interactively explore key concepts, as well as examine data stored in a network format."
   ]
  },
  {
   "cell_type": "markdown",
   "metadata": {},
   "source": [
    "### Lesson details\n",
    "\n",
    "* **Level**: Introductory, for individuals with no prior knowledge or experience of social network analysis.\n",
    "* **Duration**: 30-60 minutes.\n",
    "* **Pre-requisites**: None.\n",
    "* **Audience**: Researchers and analysts from any disciplinary background interested in employing network analysis for social science research purposes.\n",
    "* **Programming language**: Python.\n",
    "* **Learning outcomes**:\n",
    "\t1. Understand fundamental concepts and terms associated with SNA.\n",
    "\t2. Understand how social network data are structured and represented."
   ]
  },
  {
   "cell_type": "markdown",
   "metadata": {},
   "source": [
    "## Guide to using this resource\n",
    "\n",
    "This learning resource was built using <a href=\"https://jupyter.org/\" target=_blank>Jupyter Notebook</a>, an open-source software application that allows you to mix code, results and narrative in a single document. As <a href=\"https://jupyter4edu.github.io/jupyter-edu-book/\" target=_blank>Barba et al. (2019)</a> espouse:\n",
    "> In a world where every subject matter can have a data-supported treatment, where computational devices are omnipresent and pervasive, the union of natural language and computation creates compelling communication and learning opportunities.\n",
    "\n",
    "If you are familiar with Jupyter notebooks then skip ahead to the main content (*What is Social Network Analysis?*). Otherwise, the following is a quick guide to navigating and interacting with the notebook."
   ]
  },
  {
   "cell_type": "markdown",
   "metadata": {},
   "source": [
    "### Interaction\n",
    "\n",
    "**You only need to execute the code that is contained in sections which are marked by `In []`.**\n",
    "\n",
    "To execute a cell, click or double-click the cell and press the `Run` button on the top toolbar (you can also use the keyboard shortcut Shift + Enter).\n",
    "\n",
    "Try it for yourself:"
   ]
  },
  {
   "cell_type": "code",
   "execution_count": null,
   "metadata": {},
   "outputs": [],
   "source": [
    "print(\"Enter your name and press enter:\")\n",
    "name = input()\n",
    "print(\"\\r\")\n",
    "print(\"Hello {}, enjoy learning more about social network analysis!\".format(name))"
   ]
  },
  {
   "cell_type": "markdown",
   "metadata": {},
   "source": [
    "### Learn more\n",
    "\n",
    "Jupyter notebooks provide rich, flexible features for conducting and documenting your data analysis workflow. To learn more about additional notebook features, we recommend working through some of the <a href=\"https://github.com/darribas/gds19/blob/master/content/labs/lab_00.ipynb\" target=_blank>materials</a> provided by Dani Arribas-Bel at the University of Liverpool. "
   ]
  },
  {
   "cell_type": "markdown",
   "metadata": {},
   "source": [
    "## Overview\n",
    "\n",
    "Social networks are commonplace in modern life, mainly due to the influence of social media platforms like Twitter, Facebook, Instagram and many others, though there are also a multitude of networks arising from offline interactions also e.g., business/academic networking, community groups organised around causes/neighbourhood projects etc (Scott, 2017)."
   ]
  },
  {
   "cell_type": "markdown",
   "metadata": {},
   "source": [
    "Terminology\n",
    "\n",
    "Unit of Analysis"
   ]
  },
  {
   "cell_type": "markdown",
   "metadata": {},
   "source": [
    "### What is Social Network Analysis (SNA)?\n",
    "\n",
    "Social network analysis (SNA) is a methodological and conceptual toolbox for the measurement, systematic description, and analysis of patterns in relational structures in the social world (Schneider, 2008). A relation is a distinctive type of connection or tie between two entities (Wasserman & Faust, 1994). For example, a married couple share a spousal relation, a brother and sister share a sibling relation, co-workers share a collegial relation etc. Relations are the building blocks of networks, and thus SNA is concerned with and most appropriate for analyses of data capturing relations between units of analysis (Scott, 2017).\n",
    "\n",
    "[*Key point that needs to be said somewhere - does it go in the principles section?*]\"That is, the network analyst is always interested in how the individual is embedded within a structure and how the structure emerges from the micro-relations between individual parts.\" (7 of PDF)\n",
    "\n",
    "It originated from *network theory* - a branch of *graph theory* - which seeks to generate measurable representations of patterns of relationships between entities in an abstract or actual space (Owen-Smith, 2017). As a result of these origins, SNA is a highly technical and mathematical approach to sociological analysis, replete with an intimidating vocabularly of terms and concepts not otherwise encountered with other forms of social science research (Scott, 2017). In addition, the data underpinning SNA have a distinctive structure.\n",
    "\n",
    "This lesson will provide a clear, concise guide to these concepts and terms, as well as introduce you to social network data. "
   ]
  },
  {
   "cell_type": "markdown",
   "metadata": {},
   "source": [
    "### What are the principles behind SNA?\n",
    "\n",
    "Borgatti et al. (2002) establish five key principles of SNA:\n",
    "1. *SNA focuses on relations (connections) between actors.* Actors and their relations are seen as interdependent rather than independent units.\n",
    "2. *The relations between actors are the most meaningful focus of analysis.* Your data may allow you to perform other types of analyses - e.g., how does income vary across individuals and is it associated with variation in subjective wellbeing? - but the focus of SNA is on examining and understanding how actors are connected e.g., to what extent are individuals connected and are these patterns associated with income and subjective wellbeing? Put another way, the central concern of analytical concern is the relation, not the individual.\n",
    "3. *The structural and/or relational features of these actors constitute the analytically relevant characteristics of them.* To quote Freeman (2006, p. #):\n",
    ">...these patterns [interactions between people] are important features of the lives of the individuals who display them.\n",
    "4. *Relational ties between these actors are the channels for the flow of both material and non-material resources*. In essence, the connections are important and offer opportunities for sharing of valuable resources.\n",
    "5. *The complete web of actors, their positions and their linkages - the network structure - provides opportunities for (and constraints upon) action.* This is one of the most important points to remember: networks are not only constructed from the relations between actors, they in turn influence the behaviour, opportunities, contraints and outcomes of said actors. We'll reflect on some of the mechanisms through which networks affect outcomes at the micro level in a later lesson [LINK]().\n",
    "\n",
    "It is this focus on relational rather than attributional aspects of the units of analysis that makes SNA distinct as a methodology (Caiani, 2014)."
   ]
  },
  {
   "cell_type": "markdown",
   "metadata": {},
   "source": [
    "### Why should you consider SNA for your research?\n",
    "\n",
    "From an analytical perspective, SNA can be employed for a variety of valuable purposes (Caiani, 2014; Owen-Smith, 2017):\n",
    "* The social phenomenon of interest is a network i.e., it is the unit of analysis in your research project. For example, a researcher may be interested in analysing the London Underground rail network (like in this [study](https://doi.org/10.1016/j.jtrangeo.2017.11.018)).\n",
    "* The features and properties of a network can be important explanatory factors ('right-hand side' variables) for understanding other social phenomena. For example, in a review of the impact of social networks on health outcomes, Smith and Christakis (2008, p. 420) conclude that:\n",
    ">  illness, disability, health behaviors, health care use, and death in one person are associated with similar outcomes in numerous others to whom that person is tied, and there can be a nonbiological transmission of illness."
   ]
  },
  {
   "cell_type": "markdown",
   "metadata": {},
   "source": [
    "### When should you use SNA?\n",
    "\n",
    "When you are dealing with **relational data** i.e., data capturing relationships and connections between units of analysis. This is in contrast to **attributional data**, which captures the attributes of your units of analysis.\n",
    "\n",
    "[Give Examples]"
   ]
  },
  {
   "cell_type": "markdown",
   "metadata": {},
   "source": [
    "### What does SNA involve?\n",
    "\n",
    "Employing SNA in your research typically involves the following activities (Scott, 2017):\n",
    "* Identifying and visualising patterns of relations between units of analysis.\n",
    "* Examining structural properties/characteristics of these relations.\n",
    "* Analysing implications of these relations on outcomes experienced by units of analysis.\n",
    "\n",
    "As a result of its focus on the relational characteristics of the units of analysis, SNA requires distinctive data structures, methods of analysis and data visualisation techniques (Caiani, 2014). "
   ]
  },
  {
   "cell_type": "markdown",
   "metadata": {},
   "source": [
    "### How do you implement SNA in your research?\n",
    "\n",
    "There are a number of key steps in conducting social network analysis (Hanneman & Riddle, 2005; Owen-Smith, 2017):\n",
    "1. Pose a carefully articulated research question that requires understanding and/or analysis of a network.\n",
    "2. Decide which units of analysis and types of relations to analyse i.e., who is connected and which relationships matter? \n",
    "3. Collect or select a data set that provides relational data on your units of analysis. This data set can include attributional data also: for example, Twitter data can provide information on which accounts follow each other (relational), as well as details about the accounts themselves (attributional).\n",
    "4. Summarise the network and its key features using appropriate measures e.g., network size, density, cohesion etc."
   ]
  },
  {
   "cell_type": "markdown",
   "metadata": {},
   "source": [
    "## Key Concepts\n",
    "\n",
    "[*Need to use plenty of visual and tabular (matrix) examples throughout this section*]\n",
    "\n",
    "[*At this point we want to switch to the language of nodes and ties, and give a reason up front for doing so*]"
   ]
  },
  {
   "cell_type": "markdown",
   "metadata": {},
   "source": [
    "A network has two key components (Owen-Smith, 2017):\n",
    "1. The entities that are (or can be) connected in a network.\n",
    "2. The connections that exist (or could exist) between the entities.\n",
    "\n",
    "For example, a family tree is a network containing individuals (entities) that are related through some type of familial tie (connection). Therefore a network is an aggregation or collection of these entities and their connections."
   ]
  },
  {
   "cell_type": "markdown",
   "metadata": {},
   "source": [
    "### Entities\n",
    "\n",
    "The entities that are connected in a network are known as **nodes**, a term derived from network theory. Nodes can be individuals, organisations, countries, animals, events, computers, train stations etc. We could also refer to entities as *actors* or *agents* - which are terms specific to SNA -, or *vertices* - which is a term used in geometry -, or *points*, which is used in graph theory. For consistency, we will use the term **node**.\n",
    "\n",
    "Two nodes that are or could be connected are called a **dyad**, while three nodes that are or could be connected are called a **triad**.\n",
    "\n",
    "We'll cover this in more detail in a later lesson but for now it is worth posing the following questions about nodes:\n",
    "* Who are they and how many of them are there in a network?\n",
    "* What connections/ties exists between them?\n",
    "* What positions do they occupy in the network? For example, do they broker connections between other nodes?"
   ]
  },
  {
   "cell_type": "markdown",
   "metadata": {},
   "source": [
    "### Connections\n",
    "\n",
    "[*Talk about direct and indirect ties, strong and weak ties*]\n",
    "\n",
    "Connections or relations between entities are known as **ties**. Other terms include *edges* (network theory), *lines* (graph theory), or *links*. There are a multitude of different types of ties: for example, a family tree contains ties between brothers and sisters, nieces and uncles, children and parents etc. Two individuals can also be related in multiple ways: for example, a pair of colleagues may also be good friends, part of the same sports club, and have attended the same university. As stated previously, it is therefore crucial to clearly define which ties you are interested in measuring, and acknowledging that your data are most likely a sample of **all** possible ties that exist between your nodes (Hanneman & Riddle, 2005).\n",
    "\n",
    "There are many measurement scales we can use to measure ties (Hanneman & Riddle, 2005):\n",
    "* Nominal or Binary: presence or absence of a relation\n",
    "* Multinomial: type of relation e.g., friend, colleague etc - usually transformed into binary.\n",
    "* Ordinal (grouped): likert scale of relation strength or frequency e.g., on a scale of 1-5 (1 = weak, 5 = strong), classify the relationship you have with each family member.\n",
    "* Ordinal (full-rank): rank nodes in order of relation e.g., best friend, second best friend.\n",
    "* Interval: numerical scores assigned to relations e.g., relations between charities and funders, valued by how much funding is provided. It is possible to switch from interval to binary by specifying a threshold or cut point.\n",
    "\n",
    "However many methods and measures of analysis focus on ties measured on a *binary* or *interval* scale, and thus we focus on these throughout the rest of this and future lessons.\n",
    "\n",
    "We can define a ties as possessing two dimensions (Scott, 2017):\n",
    "1. Numeration / Strength:\n",
    "    * Binary: a tie exists between two entities\n",
    "    * Valued: a tie can be assigned a value representing greater / lesser importance, strength, prominence etc. (This corresponds to the interval measurement scale)\n",
    "2. Directionality:\n",
    "    * Directed: the tie flows from one entity to another (and is potentially reciprocated); put another way, the relation has a *source node* and *target node*. For example, an individual (source) donates money to a charity (target).\n",
    "    * Undirected: the tie does not originate from or terminate at a particular node e.g., if John is married to Jane, Jane must be married to John. Therefore an undirected tie *symmetric* or *reciprical* by default. It is also possible to treat directed ties as undirected: for example, I am sharing this lesson with you, therefore a connection exists between us.\n",
    "    \n",
    "We can combine these two dimensions to produce the following types of ties (give examples):\n",
    "Arcs\n",
    "Edges"
   ]
  },
  {
   "cell_type": "markdown",
   "metadata": {},
   "source": [
    "### Components\n",
    "\n",
    "Also known as a subgraph, a **component** is a specific subgroup of nodes and ties contained within the overall network. Technically, a component is a set of nodes where every node is maximally connected: that is, each node is connected to every other node, either directly or indirectly. In addition, there are no connections with nodes outside the component (Scott, 2017).\n",
    "\n",
    "It can be hard to make sense of a component, so let's visualise one below. [*Draw example of ten nodes, seven of which are contained within a node*]"
   ]
  },
  {
   "cell_type": "markdown",
   "metadata": {},
   "source": [
    "### Networks"
   ]
  },
  {
   "cell_type": "markdown",
   "metadata": {},
   "source": [
    "[*What is a network?*] \"It is often the case that the structure of a network depends on the attributes of the actors embedded in it.\"\n",
    "\n",
    "\n",
    "Types of networks:\n",
    "Whole = totality of connections between a set of nodes.\n",
    "Ego-centric = defines a focal node (ego) and measures  its connections with other nodes (alters); we are usually interested in the connections between alters also."
   ]
  },
  {
   "cell_type": "markdown",
   "metadata": {},
   "source": [
    "Networks tend to be multi-modal i.e., nested within other networks (Hanneman & Riddle, 2005). For example, individuals are nested within organisations, which are nested within industries, which are nested within countries etc. Individuals may have ties to people in a different organisation, while the organisation may also have ties with other organisations. Therefore using our understanding of nodes (entities) and ties (connections), we can identify different network modalities:\n",
    "* One-mode network contains one type of node (e.g., organisations) - this is also known as a *unipartite* network.\n",
    "* Two-mode network contains two types of node (e.g., organisations and their employees) - this is also known as a *bipartite* or *affiliate* network.\n",
    "\n",
    "A two-mode network can be conceptualised and analysed as two one-mode networks (projections) - this process is known as *inducing*. However, as Owen-Smith (2017, p. 223) warns: \n",
    "> Care must be taken when inducing one-mode network projections from two-mode network data because not all affiliations provide equally compelling evidence of actual social relationships.\n",
    "\n",
    "For example, if we were convert our two-mode network of organisations and employees to a one-mode network of employees, it is likely to be very sparsely connected because most employees only work for one company.\n",
    "\n",
    "A point to remember: network structure is not always the result of deliberate action on the part of the entities i.e., their is no vision or strategy for the network, it simply arises through the many small decisions of the entities."
   ]
  },
  {
   "cell_type": "markdown",
   "metadata": {},
   "source": [
    "## Representing Networks as Graphs and Matrices"
   ]
  },
  {
   "cell_type": "markdown",
   "metadata": {},
   "source": [
    "Networks can be represented using two main, complementary methods:\n",
    "1. Graphs\n",
    "2. Matrices"
   ]
  },
  {
   "cell_type": "markdown",
   "metadata": {},
   "source": [
    "### Graphs\n",
    "\n",
    "Many people are most familiar with the visual representation of networks, known as **graphs** (network theory) or **sociograms** (SNA). A graph is a set of lines connecting points, and graph theory is a \"*body of mathematical axioms and formulae that describe the properties of the patterns formed by the lines.\"* (Scott, 2017: #). A basic example is below: this graph represents an network containing 5 nodes and 10 ties: the ties are binary, undirected and of the same type (often referred to as a **simple graph**)."
   ]
  },
  {
   "cell_type": "code",
   "execution_count": 1,
   "metadata": {},
   "outputs": [],
   "source": [
    "## INSERT CODE HERE FOR DIFFERENT TYPES OF GRAPHS"
   ]
  },
  {
   "cell_type": "markdown",
   "metadata": {},
   "source": [
    "[*Show an example of a digraph etc*]"
   ]
  },
  {
   "cell_type": "markdown",
   "metadata": {},
   "source": [
    "In a network graph (Hanneman & Riddle, 2005):\n",
    "* Nodes are represented as circles\n",
    "* Ties are represented as lines (with arrow heads if the tie is directed)\n",
    "* Colours, shapes and sizes can be used to differentiate nodes by their attributes or network characteristics.\n",
    "* Colours, shapes and sizes can also be used to differentiate relations by their type or amount.\n",
    "\n",
    "For example, you could use thicker lines to represent stronger ties; colour coding to distinguish nodes by some attribute (European vs African country); or different line styles - dashed vs solid - to distnguish different types of ties (e.g., spousal or collegial)."
   ]
  },
  {
   "cell_type": "markdown",
   "metadata": {},
   "source": [
    "Graphs are often a useful way of revealing network structure and properties, though visualisation is not a sufficient (or even) necessary method of analysing a network (Hanneman & Riddle, 2005). It is best practice to use visualisations in tandem with numerical summaries, descriptions and analyses. We'll revist this point in our lesson on analysing social networks."
   ]
  },
  {
   "cell_type": "markdown",
   "metadata": {},
   "source": [
    "### Matrices\n",
    "\n",
    "A matrix is an arrangement of elements into rows (i) and columns (j). Matrices will be very familiar to anyone who has worked with data stored in a spreadsheet: each row represents an observation, each column a variable, and each cell a value for that variable. For example, here is a data set containing basic details for charities registered in Manchester:"
   ]
  },
  {
   "cell_type": "code",
   "execution_count": 61,
   "metadata": {},
   "outputs": [
    {
     "data": {
      "text/html": [
       "<div>\n",
       "<style scoped>\n",
       "    .dataframe tbody tr th:only-of-type {\n",
       "        vertical-align: middle;\n",
       "    }\n",
       "\n",
       "    .dataframe tbody tr th {\n",
       "        vertical-align: top;\n",
       "    }\n",
       "\n",
       "    .dataframe thead th {\n",
       "        text-align: right;\n",
       "    }\n",
       "</style>\n",
       "<table border=\"1\" class=\"dataframe\">\n",
       "  <thead>\n",
       "    <tr style=\"text-align: right;\">\n",
       "      <th></th>\n",
       "      <th>regno</th>\n",
       "      <th>Name</th>\n",
       "      <th>Latest income</th>\n",
       "      <th>Latest expenditure</th>\n",
       "      <th>Address</th>\n",
       "      <th>Postcode</th>\n",
       "    </tr>\n",
       "  </thead>\n",
       "  <tbody>\n",
       "    <tr>\n",
       "      <th>131</th>\n",
       "      <td>506421</td>\n",
       "      <td>SLADE LANE NEIGHBOURHOOD CENTRE</td>\n",
       "      <td>33254</td>\n",
       "      <td>32396</td>\n",
       "      <td>SLADE LANE NEIGHBOURHOOD CENTRE, 642 STOCKPORT...</td>\n",
       "      <td>M13 0RZ</td>\n",
       "    </tr>\n",
       "    <tr>\n",
       "      <th>8</th>\n",
       "      <td>222631</td>\n",
       "      <td>THE EDWARD MAYES TRUST</td>\n",
       "      <td>0</td>\n",
       "      <td>0</td>\n",
       "      <td>STAFF OFFICE EDWARD MAYES TRUST, MAYES GARDENS...</td>\n",
       "      <td>M4 7FN</td>\n",
       "    </tr>\n",
       "    <tr>\n",
       "      <th>463</th>\n",
       "      <td>1100516</td>\n",
       "      <td>ISLAMIC SOCIAL AND EDUCATIONAL TRUST</td>\n",
       "      <td>31182</td>\n",
       "      <td>20897</td>\n",
       "      <td>ISLAMIC SOCIAL AND EDUCATION TRUST, St. Johns ...</td>\n",
       "      <td>M13 0WU</td>\n",
       "    </tr>\n",
       "    <tr>\n",
       "      <th>324</th>\n",
       "      <td>1059115</td>\n",
       "      <td>GREATER MANCHESTER SPORTS PARTNERSHIP</td>\n",
       "      <td>1902651</td>\n",
       "      <td>1900757</td>\n",
       "      <td>Greater Sport, National Squash Centre, Rowsley...</td>\n",
       "      <td>M11 3FF</td>\n",
       "    </tr>\n",
       "    <tr>\n",
       "      <th>725</th>\n",
       "      <td>1143639</td>\n",
       "      <td>THE PORTICO LIBRARY AND NEWSROOM</td>\n",
       "      <td>196477</td>\n",
       "      <td>58967</td>\n",
       "      <td>The Portico Library &amp; Gallery, 57 Mosley Stree...</td>\n",
       "      <td>M2 3FF</td>\n",
       "    </tr>\n",
       "  </tbody>\n",
       "</table>\n",
       "</div>"
      ],
      "text/plain": [
       "       regno                                   Name  Latest income  \\\n",
       "131   506421        SLADE LANE NEIGHBOURHOOD CENTRE          33254   \n",
       "8     222631                 THE EDWARD MAYES TRUST              0   \n",
       "463  1100516   ISLAMIC SOCIAL AND EDUCATIONAL TRUST          31182   \n",
       "324  1059115  GREATER MANCHESTER SPORTS PARTNERSHIP        1902651   \n",
       "725  1143639       THE PORTICO LIBRARY AND NEWSROOM         196477   \n",
       "\n",
       "     Latest expenditure                                            Address  \\\n",
       "131               32396  SLADE LANE NEIGHBOURHOOD CENTRE, 642 STOCKPORT...   \n",
       "8                     0  STAFF OFFICE EDWARD MAYES TRUST, MAYES GARDENS...   \n",
       "463               20897  ISLAMIC SOCIAL AND EDUCATION TRUST, St. Johns ...   \n",
       "324             1900757  Greater Sport, National Squash Centre, Rowsley...   \n",
       "725               58967  The Portico Library & Gallery, 57 Mosley Stree...   \n",
       "\n",
       "    Postcode  \n",
       "131  M13 0RZ  \n",
       "8     M4 7FN  \n",
       "463  M13 0WU  \n",
       "324  M11 3FF  \n",
       "725   M2 3FF  "
      ]
     },
     "execution_count": 61,
     "metadata": {},
     "output_type": "execute_result"
    }
   ],
   "source": [
    "import pandas as pd\n",
    "import numpy as np # MOVE THESE TO A PRELIMINARY SECTION\n",
    "\n",
    "data = pd.read_csv(\"./data/manchester-charities-2020-07-03.csv\", index_col = False)\n",
    "data.sample(5)"
   ]
  },
  {
   "cell_type": "markdown",
   "metadata": {},
   "source": [
    "For instance, matrix X \n",
    "\n",
    "* Matrix X = i (rows) x j (columns)\n",
    "* Transposed matrix X' = h x g\n",
    "* One-mode network XX' = (g x h) * (h x g) = (g x g)\n",
    "* One-mode network X'X = (h x g) * (g x h) = (h x h)\n",
    "\n",
    "A useful heuristic is to think of the rows as the *source* of the tie and the columns as the *target* of the tie - this is particularly relevant when directed network data are stored in matrix format."
   ]
  },
  {
   "cell_type": "markdown",
   "metadata": {},
   "source": [
    "[*Move this entire section to the Simple Analysis and replace with a synthetic, simple analysis]\n",
    "\n",
    "#### Relational data\n",
    "\n",
    "We begin with data we collected about the current trustees (board members) of our group of manchester charities - see below."
   ]
  },
  {
   "cell_type": "code",
   "execution_count": 94,
   "metadata": {},
   "outputs": [
    {
     "data": {
      "text/html": [
       "<div>\n",
       "<style scoped>\n",
       "    .dataframe tbody tr th:only-of-type {\n",
       "        vertical-align: middle;\n",
       "    }\n",
       "\n",
       "    .dataframe tbody tr th {\n",
       "        vertical-align: top;\n",
       "    }\n",
       "\n",
       "    .dataframe thead th {\n",
       "        text-align: right;\n",
       "    }\n",
       "</style>\n",
       "<table border=\"1\" class=\"dataframe\">\n",
       "  <thead>\n",
       "    <tr style=\"text-align: right;\">\n",
       "      <th></th>\n",
       "      <th>trustee_id</th>\n",
       "      <th>trustee_name</th>\n",
       "      <th>trustee_total_tships</th>\n",
       "      <th>regno</th>\n",
       "    </tr>\n",
       "  </thead>\n",
       "  <tbody>\n",
       "    <tr>\n",
       "      <th>0</th>\n",
       "      <td>5873</td>\n",
       "      <td>Rabbi Abraham Hassan</td>\n",
       "      <td>3</td>\n",
       "      <td>1071809</td>\n",
       "    </tr>\n",
       "    <tr>\n",
       "      <th>1</th>\n",
       "      <td>5873</td>\n",
       "      <td>Rabbi Abraham Hassan</td>\n",
       "      <td>3</td>\n",
       "      <td>1095687</td>\n",
       "    </tr>\n",
       "    <tr>\n",
       "      <th>2</th>\n",
       "      <td>5873</td>\n",
       "      <td>Rabbi Abraham Hassan</td>\n",
       "      <td>3</td>\n",
       "      <td>1013846</td>\n",
       "    </tr>\n",
       "    <tr>\n",
       "      <th>3</th>\n",
       "      <td>14229</td>\n",
       "      <td>David Neuwirth</td>\n",
       "      <td>9</td>\n",
       "      <td>1123674</td>\n",
       "    </tr>\n",
       "    <tr>\n",
       "      <th>4</th>\n",
       "      <td>14229</td>\n",
       "      <td>David Neuwirth</td>\n",
       "      <td>9</td>\n",
       "      <td>1166641</td>\n",
       "    </tr>\n",
       "    <tr>\n",
       "      <th>5</th>\n",
       "      <td>14229</td>\n",
       "      <td>David Neuwirth</td>\n",
       "      <td>9</td>\n",
       "      <td>1083461</td>\n",
       "    </tr>\n",
       "    <tr>\n",
       "      <th>6</th>\n",
       "      <td>14229</td>\n",
       "      <td>David Neuwirth</td>\n",
       "      <td>9</td>\n",
       "      <td>1109132</td>\n",
       "    </tr>\n",
       "    <tr>\n",
       "      <th>7</th>\n",
       "      <td>14229</td>\n",
       "      <td>David Neuwirth</td>\n",
       "      <td>9</td>\n",
       "      <td>1084316</td>\n",
       "    </tr>\n",
       "    <tr>\n",
       "      <th>8</th>\n",
       "      <td>14229</td>\n",
       "      <td>David Neuwirth</td>\n",
       "      <td>9</td>\n",
       "      <td>1136917</td>\n",
       "    </tr>\n",
       "    <tr>\n",
       "      <th>9</th>\n",
       "      <td>14229</td>\n",
       "      <td>David Neuwirth</td>\n",
       "      <td>9</td>\n",
       "      <td>1183303</td>\n",
       "    </tr>\n",
       "    <tr>\n",
       "      <th>10</th>\n",
       "      <td>14229</td>\n",
       "      <td>David Neuwirth</td>\n",
       "      <td>9</td>\n",
       "      <td>1111457</td>\n",
       "    </tr>\n",
       "    <tr>\n",
       "      <th>11</th>\n",
       "      <td>14229</td>\n",
       "      <td>David Neuwirth</td>\n",
       "      <td>9</td>\n",
       "      <td>1092751</td>\n",
       "    </tr>\n",
       "  </tbody>\n",
       "</table>\n",
       "</div>"
      ],
      "text/plain": [
       "    trustee_id          trustee_name  trustee_total_tships    regno\n",
       "0         5873  Rabbi Abraham Hassan                     3  1071809\n",
       "1         5873  Rabbi Abraham Hassan                     3  1095687\n",
       "2         5873  Rabbi Abraham Hassan                     3  1013846\n",
       "3        14229        David Neuwirth                     9  1123674\n",
       "4        14229        David Neuwirth                     9  1166641\n",
       "5        14229        David Neuwirth                     9  1083461\n",
       "6        14229        David Neuwirth                     9  1109132\n",
       "7        14229        David Neuwirth                     9  1084316\n",
       "8        14229        David Neuwirth                     9  1136917\n",
       "9        14229        David Neuwirth                     9  1183303\n",
       "10       14229        David Neuwirth                     9  1111457\n",
       "11       14229        David Neuwirth                     9  1092751"
      ]
     },
     "execution_count": 94,
     "metadata": {},
     "output_type": "execute_result"
    }
   ],
   "source": [
    "data = pd.read_csv(\"./data/manchester-trustees-2020-08-13.csv\", index_col = False)\n",
    "data.head(12)"
   ]
  },
  {
   "cell_type": "markdown",
   "metadata": {},
   "source": [
    "As you can see, the first individual is a trustee of three charities, the second a trustee of nine etc. Because we have the unique id (`regno`) of the charity a trustee is connected to, this data set contains *relational information* on how charities are connected to each other by the presence of a common individual. For instance, three of the charities - 1071809, 1095687, 1013846 - are all linked through the trustee Rabbi Abraham Hassan. "
   ]
  },
  {
   "cell_type": "markdown",
   "metadata": {},
   "source": [
    "Our task is to convert this data set into a case-by-case (adjacency) matrix. That is, a data set where every row and column represents a charity, and the cells indicate whether a pair of charities are linked through at least one trustee.\n",
    "\n",
    "First, let's see how many charities are in the data:"
   ]
  },
  {
   "cell_type": "code",
   "execution_count": 95,
   "metadata": {},
   "outputs": [
    {
     "data": {
      "text/plain": [
       "1123"
      ]
     },
     "execution_count": 95,
     "metadata": {},
     "output_type": "execute_result"
    }
   ],
   "source": [
    "len(data.drop_duplicates(\"regno\")) # how many unique charity ids are there in the data?"
   ]
  },
  {
   "cell_type": "markdown",
   "metadata": {},
   "source": [
    "OK, that means we'll have a matrix with 1123 rows and 1123 columns (one for each charity). If a matrix has the same number of rows and columns it is known as a *square matrix*."
   ]
  },
  {
   "cell_type": "markdown",
   "metadata": {},
   "source": [
    "#### Adjacency matrix\n",
    "\n",
    "Let's use some clever Python code to create an adjacency matrix where the nodes are charities - that is, every row represents a charity, as does every column."
   ]
  },
  {
   "cell_type": "code",
   "execution_count": 96,
   "metadata": {},
   "outputs": [
    {
     "data": {
      "text/html": [
       "<div>\n",
       "<style scoped>\n",
       "    .dataframe tbody tr th:only-of-type {\n",
       "        vertical-align: middle;\n",
       "    }\n",
       "\n",
       "    .dataframe tbody tr th {\n",
       "        vertical-align: top;\n",
       "    }\n",
       "\n",
       "    .dataframe thead th {\n",
       "        text-align: right;\n",
       "    }\n",
       "</style>\n",
       "<table border=\"1\" class=\"dataframe\">\n",
       "  <thead>\n",
       "    <tr style=\"text-align: right;\">\n",
       "      <th>regno_y</th>\n",
       "      <th>208879</th>\n",
       "      <th>209174</th>\n",
       "      <th>210037</th>\n",
       "      <th>210563</th>\n",
       "      <th>212479</th>\n",
       "      <th>212755</th>\n",
       "      <th>213258</th>\n",
       "      <th>214684</th>\n",
       "      <th>215728</th>\n",
       "      <th>216533</th>\n",
       "      <th>...</th>\n",
       "      <th>1186986</th>\n",
       "      <th>1187340</th>\n",
       "      <th>1187446</th>\n",
       "      <th>1187493</th>\n",
       "      <th>1188245</th>\n",
       "      <th>1188334</th>\n",
       "      <th>1188662</th>\n",
       "      <th>1188791</th>\n",
       "      <th>1188851</th>\n",
       "      <th>1188892</th>\n",
       "    </tr>\n",
       "    <tr>\n",
       "      <th>regno_x</th>\n",
       "      <th></th>\n",
       "      <th></th>\n",
       "      <th></th>\n",
       "      <th></th>\n",
       "      <th></th>\n",
       "      <th></th>\n",
       "      <th></th>\n",
       "      <th></th>\n",
       "      <th></th>\n",
       "      <th></th>\n",
       "      <th></th>\n",
       "      <th></th>\n",
       "      <th></th>\n",
       "      <th></th>\n",
       "      <th></th>\n",
       "      <th></th>\n",
       "      <th></th>\n",
       "      <th></th>\n",
       "      <th></th>\n",
       "      <th></th>\n",
       "      <th></th>\n",
       "    </tr>\n",
       "  </thead>\n",
       "  <tbody>\n",
       "    <tr>\n",
       "      <th>208879</th>\n",
       "      <td>0</td>\n",
       "      <td>0</td>\n",
       "      <td>0</td>\n",
       "      <td>0</td>\n",
       "      <td>0</td>\n",
       "      <td>0</td>\n",
       "      <td>0</td>\n",
       "      <td>0</td>\n",
       "      <td>0</td>\n",
       "      <td>0</td>\n",
       "      <td>...</td>\n",
       "      <td>0</td>\n",
       "      <td>0</td>\n",
       "      <td>0</td>\n",
       "      <td>0</td>\n",
       "      <td>0</td>\n",
       "      <td>0</td>\n",
       "      <td>0</td>\n",
       "      <td>0</td>\n",
       "      <td>0</td>\n",
       "      <td>0</td>\n",
       "    </tr>\n",
       "    <tr>\n",
       "      <th>209174</th>\n",
       "      <td>0</td>\n",
       "      <td>0</td>\n",
       "      <td>0</td>\n",
       "      <td>0</td>\n",
       "      <td>0</td>\n",
       "      <td>0</td>\n",
       "      <td>0</td>\n",
       "      <td>0</td>\n",
       "      <td>0</td>\n",
       "      <td>0</td>\n",
       "      <td>...</td>\n",
       "      <td>0</td>\n",
       "      <td>0</td>\n",
       "      <td>0</td>\n",
       "      <td>0</td>\n",
       "      <td>0</td>\n",
       "      <td>0</td>\n",
       "      <td>0</td>\n",
       "      <td>0</td>\n",
       "      <td>0</td>\n",
       "      <td>0</td>\n",
       "    </tr>\n",
       "    <tr>\n",
       "      <th>210037</th>\n",
       "      <td>0</td>\n",
       "      <td>0</td>\n",
       "      <td>0</td>\n",
       "      <td>0</td>\n",
       "      <td>0</td>\n",
       "      <td>0</td>\n",
       "      <td>0</td>\n",
       "      <td>0</td>\n",
       "      <td>0</td>\n",
       "      <td>0</td>\n",
       "      <td>...</td>\n",
       "      <td>0</td>\n",
       "      <td>0</td>\n",
       "      <td>0</td>\n",
       "      <td>0</td>\n",
       "      <td>0</td>\n",
       "      <td>0</td>\n",
       "      <td>0</td>\n",
       "      <td>0</td>\n",
       "      <td>0</td>\n",
       "      <td>0</td>\n",
       "    </tr>\n",
       "    <tr>\n",
       "      <th>210563</th>\n",
       "      <td>0</td>\n",
       "      <td>0</td>\n",
       "      <td>0</td>\n",
       "      <td>0</td>\n",
       "      <td>0</td>\n",
       "      <td>0</td>\n",
       "      <td>0</td>\n",
       "      <td>0</td>\n",
       "      <td>0</td>\n",
       "      <td>0</td>\n",
       "      <td>...</td>\n",
       "      <td>0</td>\n",
       "      <td>0</td>\n",
       "      <td>0</td>\n",
       "      <td>0</td>\n",
       "      <td>0</td>\n",
       "      <td>0</td>\n",
       "      <td>0</td>\n",
       "      <td>0</td>\n",
       "      <td>0</td>\n",
       "      <td>0</td>\n",
       "    </tr>\n",
       "    <tr>\n",
       "      <th>212479</th>\n",
       "      <td>0</td>\n",
       "      <td>0</td>\n",
       "      <td>0</td>\n",
       "      <td>0</td>\n",
       "      <td>0</td>\n",
       "      <td>0</td>\n",
       "      <td>0</td>\n",
       "      <td>0</td>\n",
       "      <td>0</td>\n",
       "      <td>0</td>\n",
       "      <td>...</td>\n",
       "      <td>0</td>\n",
       "      <td>0</td>\n",
       "      <td>0</td>\n",
       "      <td>0</td>\n",
       "      <td>0</td>\n",
       "      <td>0</td>\n",
       "      <td>0</td>\n",
       "      <td>0</td>\n",
       "      <td>0</td>\n",
       "      <td>0</td>\n",
       "    </tr>\n",
       "    <tr>\n",
       "      <th>...</th>\n",
       "      <td>...</td>\n",
       "      <td>...</td>\n",
       "      <td>...</td>\n",
       "      <td>...</td>\n",
       "      <td>...</td>\n",
       "      <td>...</td>\n",
       "      <td>...</td>\n",
       "      <td>...</td>\n",
       "      <td>...</td>\n",
       "      <td>...</td>\n",
       "      <td>...</td>\n",
       "      <td>...</td>\n",
       "      <td>...</td>\n",
       "      <td>...</td>\n",
       "      <td>...</td>\n",
       "      <td>...</td>\n",
       "      <td>...</td>\n",
       "      <td>...</td>\n",
       "      <td>...</td>\n",
       "      <td>...</td>\n",
       "      <td>...</td>\n",
       "    </tr>\n",
       "    <tr>\n",
       "      <th>1188334</th>\n",
       "      <td>0</td>\n",
       "      <td>0</td>\n",
       "      <td>0</td>\n",
       "      <td>0</td>\n",
       "      <td>0</td>\n",
       "      <td>0</td>\n",
       "      <td>0</td>\n",
       "      <td>0</td>\n",
       "      <td>0</td>\n",
       "      <td>0</td>\n",
       "      <td>...</td>\n",
       "      <td>0</td>\n",
       "      <td>0</td>\n",
       "      <td>0</td>\n",
       "      <td>0</td>\n",
       "      <td>0</td>\n",
       "      <td>0</td>\n",
       "      <td>0</td>\n",
       "      <td>0</td>\n",
       "      <td>0</td>\n",
       "      <td>0</td>\n",
       "    </tr>\n",
       "    <tr>\n",
       "      <th>1188662</th>\n",
       "      <td>0</td>\n",
       "      <td>0</td>\n",
       "      <td>0</td>\n",
       "      <td>0</td>\n",
       "      <td>0</td>\n",
       "      <td>0</td>\n",
       "      <td>0</td>\n",
       "      <td>0</td>\n",
       "      <td>0</td>\n",
       "      <td>0</td>\n",
       "      <td>...</td>\n",
       "      <td>0</td>\n",
       "      <td>0</td>\n",
       "      <td>0</td>\n",
       "      <td>0</td>\n",
       "      <td>0</td>\n",
       "      <td>0</td>\n",
       "      <td>0</td>\n",
       "      <td>0</td>\n",
       "      <td>0</td>\n",
       "      <td>0</td>\n",
       "    </tr>\n",
       "    <tr>\n",
       "      <th>1188791</th>\n",
       "      <td>0</td>\n",
       "      <td>0</td>\n",
       "      <td>0</td>\n",
       "      <td>0</td>\n",
       "      <td>0</td>\n",
       "      <td>0</td>\n",
       "      <td>0</td>\n",
       "      <td>0</td>\n",
       "      <td>0</td>\n",
       "      <td>0</td>\n",
       "      <td>...</td>\n",
       "      <td>0</td>\n",
       "      <td>0</td>\n",
       "      <td>0</td>\n",
       "      <td>0</td>\n",
       "      <td>0</td>\n",
       "      <td>0</td>\n",
       "      <td>0</td>\n",
       "      <td>0</td>\n",
       "      <td>0</td>\n",
       "      <td>0</td>\n",
       "    </tr>\n",
       "    <tr>\n",
       "      <th>1188851</th>\n",
       "      <td>0</td>\n",
       "      <td>0</td>\n",
       "      <td>0</td>\n",
       "      <td>0</td>\n",
       "      <td>0</td>\n",
       "      <td>0</td>\n",
       "      <td>0</td>\n",
       "      <td>0</td>\n",
       "      <td>0</td>\n",
       "      <td>0</td>\n",
       "      <td>...</td>\n",
       "      <td>0</td>\n",
       "      <td>0</td>\n",
       "      <td>0</td>\n",
       "      <td>0</td>\n",
       "      <td>0</td>\n",
       "      <td>0</td>\n",
       "      <td>0</td>\n",
       "      <td>0</td>\n",
       "      <td>0</td>\n",
       "      <td>0</td>\n",
       "    </tr>\n",
       "    <tr>\n",
       "      <th>1188892</th>\n",
       "      <td>0</td>\n",
       "      <td>0</td>\n",
       "      <td>0</td>\n",
       "      <td>0</td>\n",
       "      <td>0</td>\n",
       "      <td>0</td>\n",
       "      <td>0</td>\n",
       "      <td>0</td>\n",
       "      <td>0</td>\n",
       "      <td>0</td>\n",
       "      <td>...</td>\n",
       "      <td>0</td>\n",
       "      <td>0</td>\n",
       "      <td>0</td>\n",
       "      <td>0</td>\n",
       "      <td>0</td>\n",
       "      <td>0</td>\n",
       "      <td>0</td>\n",
       "      <td>0</td>\n",
       "      <td>0</td>\n",
       "      <td>0</td>\n",
       "    </tr>\n",
       "  </tbody>\n",
       "</table>\n",
       "<p>1123 rows × 1123 columns</p>\n",
       "</div>"
      ],
      "text/plain": [
       "regno_y  208879   209174   210037   210563   212479   212755   213258   \\\n",
       "regno_x                                                                  \n",
       "208879         0        0        0        0        0        0        0   \n",
       "209174         0        0        0        0        0        0        0   \n",
       "210037         0        0        0        0        0        0        0   \n",
       "210563         0        0        0        0        0        0        0   \n",
       "212479         0        0        0        0        0        0        0   \n",
       "...          ...      ...      ...      ...      ...      ...      ...   \n",
       "1188334        0        0        0        0        0        0        0   \n",
       "1188662        0        0        0        0        0        0        0   \n",
       "1188791        0        0        0        0        0        0        0   \n",
       "1188851        0        0        0        0        0        0        0   \n",
       "1188892        0        0        0        0        0        0        0   \n",
       "\n",
       "regno_y  214684   215728   216533   ...  1186986  1187340  1187446  1187493  \\\n",
       "regno_x                             ...                                       \n",
       "208879         0        0        0  ...        0        0        0        0   \n",
       "209174         0        0        0  ...        0        0        0        0   \n",
       "210037         0        0        0  ...        0        0        0        0   \n",
       "210563         0        0        0  ...        0        0        0        0   \n",
       "212479         0        0        0  ...        0        0        0        0   \n",
       "...          ...      ...      ...  ...      ...      ...      ...      ...   \n",
       "1188334        0        0        0  ...        0        0        0        0   \n",
       "1188662        0        0        0  ...        0        0        0        0   \n",
       "1188791        0        0        0  ...        0        0        0        0   \n",
       "1188851        0        0        0  ...        0        0        0        0   \n",
       "1188892        0        0        0  ...        0        0        0        0   \n",
       "\n",
       "regno_y  1188245  1188334  1188662  1188791  1188851  1188892  \n",
       "regno_x                                                        \n",
       "208879         0        0        0        0        0        0  \n",
       "209174         0        0        0        0        0        0  \n",
       "210037         0        0        0        0        0        0  \n",
       "210563         0        0        0        0        0        0  \n",
       "212479         0        0        0        0        0        0  \n",
       "...          ...      ...      ...      ...      ...      ...  \n",
       "1188334        0        0        0        0        0        0  \n",
       "1188662        0        0        0        0        0        0  \n",
       "1188791        0        0        0        0        0        0  \n",
       "1188851        0        0        0        0        0        0  \n",
       "1188892        0        0        0        0        0        0  \n",
       "\n",
       "[1123 rows x 1123 columns]"
      ]
     },
     "execution_count": 96,
     "metadata": {},
     "output_type": "execute_result"
    }
   ],
   "source": [
    "data_merge = data.merge(data, on=\"trustee_id\")\n",
    "charity_mat = pd.crosstab(data_merge.regno_x, data_merge.regno_y)\n",
    "np.fill_diagonal(charity_mat.values, 0)\n",
    "charity_mat[charity_mat >= 1] = 1\n",
    "charity_mat"
   ]
  },
  {
   "cell_type": "markdown",
   "metadata": {},
   "source": [
    "As is probably obvious at the outset, there are lots of zeroes; that is, most charities are not connected to most other charities. But they are all connected to at least one other: we can see this by calculating the row/column totals:"
   ]
  },
  {
   "cell_type": "code",
   "execution_count": 84,
   "metadata": {},
   "outputs": [
    {
     "data": {
      "text/plain": [
       "count    1123.000000\n",
       "mean        2.746215\n",
       "std         2.679671\n",
       "min         1.000000\n",
       "25%         1.000000\n",
       "50%         2.000000\n",
       "75%         3.000000\n",
       "max        23.000000\n",
       "Name: row_total, dtype: float64"
      ]
     },
     "execution_count": 84,
     "metadata": {},
     "output_type": "execute_result"
    }
   ],
   "source": [
    "charity_mat[\"row_total\"] = charity_mat.sum(axis=1)\n",
    "charity_mat[\"row_total\"].describe()"
   ]
  },
  {
   "cell_type": "code",
   "execution_count": 85,
   "metadata": {},
   "outputs": [
    {
     "data": {
      "text/plain": [
       "count    1123.000000\n",
       "mean        2.746215\n",
       "std         2.679671\n",
       "min         1.000000\n",
       "25%         1.000000\n",
       "50%         2.000000\n",
       "75%         3.000000\n",
       "max        23.000000\n",
       "Name: col_total, dtype: float64"
      ]
     },
     "execution_count": 85,
     "metadata": {},
     "output_type": "execute_result"
    }
   ],
   "source": [
    "charity_mat[\"col_total\"] = charity_mat.sum(axis=0)\n",
    "charity_mat[\"col_total\"].describe()"
   ]
  },
  {
   "cell_type": "markdown",
   "metadata": {},
   "source": [
    "[*The above totals are somewhat nonsensical - surely not every charity is linked to at least one other? Is it an issue with data collection?*]"
   ]
  },
  {
   "cell_type": "markdown",
   "metadata": {},
   "source": [
    "#### Edge list"
   ]
  },
  {
   "cell_type": "code",
   "execution_count": 97,
   "metadata": {},
   "outputs": [],
   "source": [
    "charity_el = charity_mat.stack().reset_index() # convert to edgelist\n",
    "charity_el = charity_el[charity_el[0]==1] # keep pairs of charities that are connected\n",
    "charity_el = charity_el.drop(0, axis=1)\n",
    "charity_el.rename(columns = {\"regno_x\": \"source\", \"regno_y\": \"target\"}, inplace = True)"
   ]
  },
  {
   "cell_type": "code",
   "execution_count": 98,
   "metadata": {},
   "outputs": [
    {
     "data": {
      "text/html": [
       "<div>\n",
       "<style scoped>\n",
       "    .dataframe tbody tr th:only-of-type {\n",
       "        vertical-align: middle;\n",
       "    }\n",
       "\n",
       "    .dataframe tbody tr th {\n",
       "        vertical-align: top;\n",
       "    }\n",
       "\n",
       "    .dataframe thead th {\n",
       "        text-align: right;\n",
       "    }\n",
       "</style>\n",
       "<table border=\"1\" class=\"dataframe\">\n",
       "  <thead>\n",
       "    <tr style=\"text-align: right;\">\n",
       "      <th></th>\n",
       "      <th>source</th>\n",
       "      <th>target</th>\n",
       "    </tr>\n",
       "  </thead>\n",
       "  <tbody>\n",
       "    <tr>\n",
       "      <th>143744</th>\n",
       "      <td>278469</td>\n",
       "      <td>208879</td>\n",
       "    </tr>\n",
       "    <tr>\n",
       "      <th>157220</th>\n",
       "      <td>284334</td>\n",
       "      <td>208879</td>\n",
       "    </tr>\n",
       "    <tr>\n",
       "      <th>751287</th>\n",
       "      <td>1123968</td>\n",
       "      <td>208879</td>\n",
       "    </tr>\n",
       "    <tr>\n",
       "      <th>911876</th>\n",
       "      <td>1143295</td>\n",
       "      <td>208879</td>\n",
       "    </tr>\n",
       "    <tr>\n",
       "      <th>1038775</th>\n",
       "      <td>1160228</td>\n",
       "      <td>208879</td>\n",
       "    </tr>\n",
       "  </tbody>\n",
       "</table>\n",
       "</div>"
      ],
      "text/plain": [
       "          source  target\n",
       "143744    278469  208879\n",
       "157220    284334  208879\n",
       "751287   1123968  208879\n",
       "911876   1143295  208879\n",
       "1038775  1160228  208879"
      ]
     },
     "execution_count": 98,
     "metadata": {},
     "output_type": "execute_result"
    }
   ],
   "source": [
    "charity_el[charity_el[\"target\"]==208879]"
   ]
  },
  {
   "cell_type": "code",
   "execution_count": 99,
   "metadata": {},
   "outputs": [
    {
     "data": {
      "text/html": [
       "<div>\n",
       "<style scoped>\n",
       "    .dataframe tbody tr th:only-of-type {\n",
       "        vertical-align: middle;\n",
       "    }\n",
       "\n",
       "    .dataframe tbody tr th {\n",
       "        vertical-align: top;\n",
       "    }\n",
       "\n",
       "    .dataframe thead th {\n",
       "        text-align: right;\n",
       "    }\n",
       "</style>\n",
       "<table border=\"1\" class=\"dataframe\">\n",
       "  <thead>\n",
       "    <tr style=\"text-align: right;\">\n",
       "      <th></th>\n",
       "      <th>source</th>\n",
       "      <th>target</th>\n",
       "    </tr>\n",
       "  </thead>\n",
       "  <tbody>\n",
       "    <tr>\n",
       "      <th>128</th>\n",
       "      <td>208879</td>\n",
       "      <td>278469</td>\n",
       "    </tr>\n",
       "    <tr>\n",
       "      <th>140</th>\n",
       "      <td>208879</td>\n",
       "      <td>284334</td>\n",
       "    </tr>\n",
       "    <tr>\n",
       "      <th>669</th>\n",
       "      <td>208879</td>\n",
       "      <td>1123968</td>\n",
       "    </tr>\n",
       "    <tr>\n",
       "      <th>812</th>\n",
       "      <td>208879</td>\n",
       "      <td>1143295</td>\n",
       "    </tr>\n",
       "    <tr>\n",
       "      <th>925</th>\n",
       "      <td>208879</td>\n",
       "      <td>1160228</td>\n",
       "    </tr>\n",
       "  </tbody>\n",
       "</table>\n",
       "</div>"
      ],
      "text/plain": [
       "     source   target\n",
       "128  208879   278469\n",
       "140  208879   284334\n",
       "669  208879  1123968\n",
       "812  208879  1143295\n",
       "925  208879  1160228"
      ]
     },
     "execution_count": 99,
     "metadata": {},
     "output_type": "execute_result"
    }
   ],
   "source": [
    "charity_el[charity_el[\"source\"]==208879]"
   ]
  },
  {
   "cell_type": "code",
   "execution_count": 100,
   "metadata": {},
   "outputs": [
    {
     "data": {
      "text/plain": [
       "3084"
      ]
     },
     "execution_count": 100,
     "metadata": {},
     "output_type": "execute_result"
    }
   ],
   "source": [
    "len(charity_el)"
   ]
  },
  {
   "cell_type": "markdown",
   "metadata": {},
   "source": [
    "We can see that each connection between a pair of charities is listed twice - this is because we are dealing with undirected ties: charity *208879* is linked to charity *278469*, therefore charity *278469* is also linked to charity *208879*. We should delete these duplicates before progressing any further:"
   ]
  },
  {
   "cell_type": "code",
   "execution_count": 101,
   "metadata": {},
   "outputs": [
    {
     "data": {
      "text/plain": [
       "1542"
      ]
     },
     "execution_count": 101,
     "metadata": {},
     "output_type": "execute_result"
    }
   ],
   "source": [
    "edgelist = charity_el[pd.DataFrame(np.sort(charity_el[['source','target']].values,1)).duplicated().values]\n",
    "len(edgelist)"
   ]
  },
  {
   "cell_type": "markdown",
   "metadata": {},
   "source": [
    "[*Need some way of checking the above code*]"
   ]
  },
  {
   "cell_type": "code",
   "execution_count": 103,
   "metadata": {},
   "outputs": [
    {
     "data": {
      "text/html": [
       "<div>\n",
       "<style scoped>\n",
       "    .dataframe tbody tr th:only-of-type {\n",
       "        vertical-align: middle;\n",
       "    }\n",
       "\n",
       "    .dataframe tbody tr th {\n",
       "        vertical-align: top;\n",
       "    }\n",
       "\n",
       "    .dataframe thead th {\n",
       "        text-align: right;\n",
       "    }\n",
       "</style>\n",
       "<table border=\"1\" class=\"dataframe\">\n",
       "  <thead>\n",
       "    <tr style=\"text-align: right;\">\n",
       "      <th></th>\n",
       "      <th>source</th>\n",
       "      <th>target</th>\n",
       "    </tr>\n",
       "  </thead>\n",
       "  <tbody>\n",
       "    <tr>\n",
       "      <th>143744</th>\n",
       "      <td>278469</td>\n",
       "      <td>208879</td>\n",
       "    </tr>\n",
       "  </tbody>\n",
       "</table>\n",
       "</div>"
      ],
      "text/plain": [
       "        source  target\n",
       "143744  278469  208879"
      ]
     },
     "execution_count": 103,
     "metadata": {},
     "output_type": "execute_result"
    }
   ],
   "source": [
    "edgelist[edgelist[\"source\"]==278469]"
   ]
  },
  {
   "cell_type": "markdown",
   "metadata": {},
   "source": [
    "## A Simple Analysis"
   ]
  },
  {
   "cell_type": "markdown",
   "metadata": {},
   "source": [
    "Let's bring some of our fundamental concepts to life with a simple research example. [Manchester trustees]\n",
    "\n"
   ]
  },
  {
   "cell_type": "code",
   "execution_count": 104,
   "metadata": {},
   "outputs": [],
   "source": [
    "import networkx as nx"
   ]
  },
  {
   "cell_type": "code",
   "execution_count": 108,
   "metadata": {},
   "outputs": [
    {
     "name": "stdout",
     "output_type": "stream",
     "text": [
      "Name: \n",
      "Type: Graph\n",
      "Number of nodes: 1123\n",
      "Number of edges: 1542\n",
      "Average degree:   2.7462\n"
     ]
    }
   ],
   "source": [
    "G = nx.from_pandas_edgelist(edgelist, \"source\", \"target\")\n",
    "print(nx.info(G)) # get basic info about network"
   ]
  },
  {
   "cell_type": "markdown",
   "metadata": {},
   "source": [
    "Good, we can see that the number of nodes and ties (edges) match the objects we created earlier:"
   ]
  },
  {
   "cell_type": "code",
   "execution_count": 109,
   "metadata": {},
   "outputs": [
    {
     "name": "stdout",
     "output_type": "stream",
     "text": [
      "1123 1542\n"
     ]
    }
   ],
   "source": [
    "print(len(charity_mat), len(edgelist))"
   ]
  },
  {
   "cell_type": "markdown",
   "metadata": {},
   "source": [
    "## Conclusion\n",
    "\n",
    "*SNA and its value and limitations and opportunities*.\n",
    "\n",
    "Good luck on your data-driven travels!"
   ]
  },
  {
   "cell_type": "markdown",
   "metadata": {},
   "source": [
    "## Bibliography\n",
    "\n",
    "Barba, Lorena A. et al. (2019). *Teaching and Learning with Jupyter*. <a href=\"https://jupyter4edu.github.io/jupyter-edu-book/\" target=_blank>https://jupyter4edu.github.io/jupyter-edu-book/</a>.\n",
    "\n",
    "Brooker, P. (2020). *Programming with Python for Social Scientists*. London: SAGE Publications Ltd.\n",
    "\n",
    "Lau, S., Gonzalez, J., & Nolan, D. (n.d.). *Principles and Techniques of Data Science*. https://www.textbook.ds100.org\n",
    "\n",
    "Tagliaferri, L. (n.d.). *How to Code in Python 3*. https://assets.digitalocean.com/books/python/how-to-code-in-python.pdf"
   ]
  },
  {
   "cell_type": "markdown",
   "metadata": {},
   "source": [
    "## Further reading and resources\n",
    "\n",
    "We publish a list of useful books, papers, websites and other resources on our web-scraping Github repository: <a href=\"https://github.com/UKDataServiceOpen/social-network-analysis/tree/master/reading-list/\" target=_blank>[Reading list]</a>\n",
    "\n",
    "The help documentation for the `networkx` and `pandas` modules is refreshingly readable and useful:\n",
    "* <a href=\"LINK\" target=_blank>`networkx`</a>\n",
    "* <a href=\"LINK\" target=_blank>`pandas`</a> \n",
    "\n",
    "You may also be interested in the following articles and lessons specifically relating to social network analysis:\n",
    "* <a href=\"https://programminghistorian.org/en/lessons/exploring-and-analyzing-network-data-with-python\" target=_blank>Exploring and Analyzing Network Data with Python </a>\n",
    "* <a href=\"https://programminghistorian.org/en/lessons/creating-network-diagrams-from-historical-sources\" target=_blank>From Hermeneutics to Data to Networks: Data Extraction and Network Visualization of Historical Sources</a>"
   ]
  },
  {
   "cell_type": "markdown",
   "metadata": {},
   "source": [
    "## Appendices"
   ]
  },
  {
   "cell_type": "code",
   "execution_count": null,
   "metadata": {},
   "outputs": [],
   "source": []
  }
 ],
 "metadata": {
  "kernelspec": {
   "display_name": "Python 3",
   "language": "python",
   "name": "python3"
  },
  "language_info": {
   "codemirror_mode": {
    "name": "ipython",
    "version": 3
   },
   "file_extension": ".py",
   "mimetype": "text/x-python",
   "name": "python",
   "nbconvert_exporter": "python",
   "pygments_lexer": "ipython3",
   "version": "3.7.3"
  },
  "toc": {
   "base_numbering": 1,
   "nav_menu": {},
   "number_sections": true,
   "sideBar": false,
   "skip_h1_title": true,
   "title_cell": "Table of Contents",
   "title_sidebar": "Contents",
   "toc_cell": true,
   "toc_position": {},
   "toc_section_display": true,
   "toc_window_display": false
  }
 },
 "nbformat": 4,
 "nbformat_minor": 4
}
