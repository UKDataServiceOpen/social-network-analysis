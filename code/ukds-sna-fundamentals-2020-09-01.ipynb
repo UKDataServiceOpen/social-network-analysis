{
 "cells": [
  {
   "cell_type": "markdown",
   "metadata": {},
   "source": [
    "![UKDS Logo](./images/UKDS_Logos_Col_Grey_300dpi.png)"
   ]
  },
  {
   "cell_type": "markdown",
   "metadata": {},
   "source": [
    "# Social Network Analysis: Fundamental Concepts"
   ]
  },
  {
   "cell_type": "markdown",
   "metadata": {},
   "source": [
    "Welcome to the <a href=\"https://ukdataservice.ac.uk/\" target=_blank>UK Data Service</a> training series on *New Forms of Data for Social Science Research*. This series guides you through some of the most common and valuable new sources of data available for social science research: data collected from websites, social media platorms, text data, conducting simulations (agent based modelling), to name a few. To help you get to grips with these new forms of data, we provide webinars, interactive notebooks containing live programming code, reading lists and more.\n",
    "\n",
    "* To access training materials for the entire series: <a href=\"https://github.com/UKDataServiceOpen/new-forms-of-data\" target=_blank>[Training Materials]</a>\n",
    "\n",
    "* To keep up to date with upcoming and past training events: <a href=\"https://ukdataservice.ac.uk/news-and-events/events\" target=_blank>[Events]</a>\n",
    "\n",
    "* To get in contact with feedback, ideas or to seek assistance: <a href=\"https://ukdataservice.ac.uk/help.aspx\" target=_blank>[Help]</a>\n",
    "\n",
    "<a href=\"https://www.research.manchester.ac.uk/portal/julia.kasmire.html\" target=_blank>Dr Julia Kasmire</a> and <a href=\"https://www.research.manchester.ac.uk/portal/diarmuid.mcdonnell.html\" target=_blank>Dr Diarmuid McDonnell</a> <br />\n",
    "UK Data Service  <br />\n",
    "University of Manchester <br />\n",
    "September 2020"
   ]
  },
  {
   "cell_type": "markdown",
   "metadata": {
    "toc": true
   },
   "source": [
    "<h1>Table of Contents<span class=\"tocSkip\"></span></h1>\n",
    "<div class=\"toc\"><ul class=\"toc-item\"><li><span><a href=\"#Introduction\" data-toc-modified-id=\"Introduction-1\"><span class=\"toc-item-num\">1&nbsp;&nbsp;</span>Introduction</a></span><ul class=\"toc-item\"><li><span><a href=\"#Aims\" data-toc-modified-id=\"Aims-1.1\"><span class=\"toc-item-num\">1.1&nbsp;&nbsp;</span>Aims</a></span></li><li><span><a href=\"#Lesson-details\" data-toc-modified-id=\"Lesson-details-1.2\"><span class=\"toc-item-num\">1.2&nbsp;&nbsp;</span>Lesson details</a></span></li></ul></li><li><span><a href=\"#Guide-to-using-this-resource\" data-toc-modified-id=\"Guide-to-using-this-resource-2\"><span class=\"toc-item-num\">2&nbsp;&nbsp;</span>Guide to using this resource</a></span><ul class=\"toc-item\"><li><span><a href=\"#Interaction\" data-toc-modified-id=\"Interaction-2.1\"><span class=\"toc-item-num\">2.1&nbsp;&nbsp;</span>Interaction</a></span></li><li><span><a href=\"#Learn-more\" data-toc-modified-id=\"Learn-more-2.2\"><span class=\"toc-item-num\">2.2&nbsp;&nbsp;</span>Learn more</a></span></li></ul></li><li><span><a href=\"#Overview\" data-toc-modified-id=\"Overview-3\"><span class=\"toc-item-num\">3&nbsp;&nbsp;</span>Overview</a></span><ul class=\"toc-item\"><li><span><a href=\"#What-is-Social-Network-Analysis-(SNA)?\" data-toc-modified-id=\"What-is-Social-Network-Analysis-(SNA)?-3.1\"><span class=\"toc-item-num\">3.1&nbsp;&nbsp;</span>What is Social Network Analysis (SNA)?</a></span></li><li><span><a href=\"#What-are-the-principles-underpinning-SNA?\" data-toc-modified-id=\"What-are-the-principles-underpinning-SNA?-3.2\"><span class=\"toc-item-num\">3.2&nbsp;&nbsp;</span>What are the principles underpinning SNA?</a></span></li><li><span><a href=\"#Why-should-you-consider-SNA-for-your-research?-[Rewrite-and-include-GLM-equation]\" data-toc-modified-id=\"Why-should-you-consider-SNA-for-your-research?-[Rewrite-and-include-GLM-equation]-3.3\"><span class=\"toc-item-num\">3.3&nbsp;&nbsp;</span>Why should you consider SNA for your research? [<em>Rewrite and include GLM equation</em>]</a></span></li><li><span><a href=\"#When-should-you-use-SNA?\" data-toc-modified-id=\"When-should-you-use-SNA?-3.4\"><span class=\"toc-item-num\">3.4&nbsp;&nbsp;</span>When should you use SNA?</a></span></li><li><span><a href=\"#What-does-SNA-involve?\" data-toc-modified-id=\"What-does-SNA-involve?-3.5\"><span class=\"toc-item-num\">3.5&nbsp;&nbsp;</span>What does SNA involve?</a></span></li><li><span><a href=\"#How-do-you-implement-SNA-in-your-research?\" data-toc-modified-id=\"How-do-you-implement-SNA-in-your-research?-3.6\"><span class=\"toc-item-num\">3.6&nbsp;&nbsp;</span>How do you implement SNA in your research?</a></span></li></ul></li><li><span><a href=\"#Key-Concepts\" data-toc-modified-id=\"Key-Concepts-4\"><span class=\"toc-item-num\">4&nbsp;&nbsp;</span>Key Concepts</a></span><ul class=\"toc-item\"><li><span><a href=\"#Entities\" data-toc-modified-id=\"Entities-4.1\"><span class=\"toc-item-num\">4.1&nbsp;&nbsp;</span>Entities</a></span></li><li><span><a href=\"#Connections\" data-toc-modified-id=\"Connections-4.2\"><span class=\"toc-item-num\">4.2&nbsp;&nbsp;</span>Connections</a></span></li><li><span><a href=\"#Components\" data-toc-modified-id=\"Components-4.3\"><span class=\"toc-item-num\">4.3&nbsp;&nbsp;</span>Components</a></span></li><li><span><a href=\"#Networks\" data-toc-modified-id=\"Networks-4.4\"><span class=\"toc-item-num\">4.4&nbsp;&nbsp;</span>Networks</a></span></li></ul></li><li><span><a href=\"#Representing-Networks\" data-toc-modified-id=\"Representing-Networks-5\"><span class=\"toc-item-num\">5&nbsp;&nbsp;</span>Representing Networks</a></span><ul class=\"toc-item\"><li><span><a href=\"#Matrices\" data-toc-modified-id=\"Matrices-5.1\"><span class=\"toc-item-num\">5.1&nbsp;&nbsp;</span>Matrices</a></span></li><li><span><a href=\"#Edgelists\" data-toc-modified-id=\"Edgelists-5.2\"><span class=\"toc-item-num\">5.2&nbsp;&nbsp;</span>Edgelists</a></span></li><li><span><a href=\"#Graphs\" data-toc-modified-id=\"Graphs-5.3\"><span class=\"toc-item-num\">5.3&nbsp;&nbsp;</span>Graphs</a></span></li></ul></li><li><span><a href=\"#A-Simple-Analysis\" data-toc-modified-id=\"A-Simple-Analysis-6\"><span class=\"toc-item-num\">6&nbsp;&nbsp;</span>A Simple Analysis</a></span><ul class=\"toc-item\"><li><span><a href=\"#Getting-relational-data\" data-toc-modified-id=\"Getting-relational-data-6.1\"><span class=\"toc-item-num\">6.1&nbsp;&nbsp;</span>Getting relational data</a></span></li><li><span><a href=\"#Add-node-attributes\" data-toc-modified-id=\"Add-node-attributes-6.2\"><span class=\"toc-item-num\">6.2&nbsp;&nbsp;</span>Add node attributes</a></span></li><li><span><a href=\"#Whole-network-properties\" data-toc-modified-id=\"Whole-network-properties-6.3\"><span class=\"toc-item-num\">6.3&nbsp;&nbsp;</span>Whole network properties</a></span></li><li><span><a href=\"#Components\" data-toc-modified-id=\"Components-6.4\"><span class=\"toc-item-num\">6.4&nbsp;&nbsp;</span>Components</a></span></li></ul></li><li><span><a href=\"#Conclusion\" data-toc-modified-id=\"Conclusion-7\"><span class=\"toc-item-num\">7&nbsp;&nbsp;</span>Conclusion</a></span></li><li><span><a href=\"#Bibliography\" data-toc-modified-id=\"Bibliography-8\"><span class=\"toc-item-num\">8&nbsp;&nbsp;</span>Bibliography</a></span></li><li><span><a href=\"#Further-reading-and-resources\" data-toc-modified-id=\"Further-reading-and-resources-9\"><span class=\"toc-item-num\">9&nbsp;&nbsp;</span>Further reading and resources</a></span></li><li><span><a href=\"#Appendices\" data-toc-modified-id=\"Appendices-10\"><span class=\"toc-item-num\">10&nbsp;&nbsp;</span>Appendices</a></span></li></ul></div>"
   ]
  },
  {
   "cell_type": "markdown",
   "metadata": {},
   "source": [
    "## Introduction\n",
    "\n",
    "Vast swathes of our social interactions and personal behaviours are now conducted online and/or captured digitally. Thus, computational methods for collecting, cleaning and analysing data are an increasingly important component of a social scientist’s toolkit.\n",
    "\n",
    "In this training series we cover some of the essential knowledge and skills needed to engage in **Social Network Analysis (SNA)**, a methodological approach that provides concepts, tools and techniques for uncovering and understanding social structures, relations and networks of assocation. We focus on the three major stages of SNA:\n",
    "1. Understanding fundamental concepts and terms [Focus of this notebook].\n",
    "2. Collecting and cleaning social network data from various sources.\n",
    "3. Performing basic and intermediate analyses of social network data. \n",
    "\n",
    "By the end of these lessons you should be confident in your understanding of key SNA concepts and terms, proficient in the handling and cleaning of social network data, and able to apply a range of analytical techniques to derive substantive insight about social structures and relations. In addition, you will gain fluency in the use of the Python programming language for SNA and other computational social science tasks."
   ]
  },
  {
   "cell_type": "markdown",
   "metadata": {},
   "source": [
    "### Aims\n",
    "\n",
    "This lesson - **Social Network Analysis: Fundamental Concepts** - has two aims:\n",
    "1. Define and examine fundamental concepts and terms underpinning SNA.\n",
    "2. Cultivate your computational skills through coding examples. For example, there are a number of opportunities for you to interactively explore key concepts, as well as examine data stored in a network format."
   ]
  },
  {
   "cell_type": "markdown",
   "metadata": {},
   "source": [
    "### Lesson details\n",
    "\n",
    "* **Level**: Introductory, for individuals with no prior knowledge or experience of social network analysis.\n",
    "* **Duration**: 30-60 minutes.\n",
    "* **Pre-requisites**: None.\n",
    "* **Audience**: Researchers and analysts from any disciplinary background interested in employing network analysis for social science research purposes.\n",
    "* **Programming language**: Python.\n",
    "* **Learning outcomes**:\n",
    "\t1. Understand fundamental concepts and terms associated with SNA.\n",
    "\t2. Understand how social network data are structured and represented."
   ]
  },
  {
   "cell_type": "markdown",
   "metadata": {},
   "source": [
    "## Guide to using this resource\n",
    "\n",
    "This learning resource was built using <a href=\"https://jupyter.org/\" target=_blank>Jupyter Notebook</a>, an open-source software application that allows you to mix code, results and narrative in a single document. As <a href=\"https://jupyter4edu.github.io/jupyter-edu-book/\" target=_blank>Barba et al. (2019)</a> espouse:\n",
    "> In a world where every subject matter can have a data-supported treatment, where computational devices are omnipresent and pervasive, the union of natural language and computation creates compelling communication and learning opportunities.\n",
    "\n",
    "If you are familiar with Jupyter notebooks then skip ahead to the main content (*What is Social Network Analysis?*). Otherwise, the following is a quick guide to navigating and interacting with the notebook."
   ]
  },
  {
   "cell_type": "markdown",
   "metadata": {},
   "source": [
    "### Interaction\n",
    "\n",
    "**You only need to execute the code that is contained in sections which are marked by `In []`.**\n",
    "\n",
    "To execute a cell, click or double-click the cell and press the `Run` button on the top toolbar (you can also use the keyboard shortcut Shift + Enter).\n",
    "\n",
    "Try it for yourself:"
   ]
  },
  {
   "cell_type": "code",
   "execution_count": null,
   "metadata": {},
   "outputs": [],
   "source": [
    "print(\"Enter your name and press enter:\")\n",
    "name = input()\n",
    "print(\"\\r\")\n",
    "print(\"Hello {}, enjoy learning more about social network analysis!\".format(name))"
   ]
  },
  {
   "cell_type": "markdown",
   "metadata": {},
   "source": [
    "### Learn more\n",
    "\n",
    "Jupyter notebooks provide rich, flexible features for conducting and documenting your data analysis workflow. To learn more about additional notebook features, we recommend working through some of the <a href=\"https://github.com/darribas/gds19/blob/master/content/labs/lab_00.ipynb\" target=_blank>materials</a> provided by Dani Arribas-Bel at the University of Liverpool. "
   ]
  },
  {
   "cell_type": "markdown",
   "metadata": {},
   "source": [
    "## Overview\n",
    "\n",
    "Social networks are commonplace in modern life, mainly due to the influence of social media platforms like Twitter, Facebook, Instagram and many others, though there are also a multitude of networks arising from offline interactions also e.g., business/academic networking, community groups organised around causes/neighbourhood projects etc (Scott, 2017). \n",
    "\n",
    "They exist even in fictional worlds..."
   ]
  },
  {
   "cell_type": "markdown",
   "metadata": {
    "slideshow": {
     "slide_type": "subslide"
    }
   },
   "source": [
    "![Star Wars Social Network](./images/starwars.png)"
   ]
  },
  {
   "cell_type": "markdown",
   "metadata": {},
   "source": [
    "In the words of the graph's creator:\n",
    "> Here the nodes represent characters in the movies. The characters are connected by a link if they both speak in the same scene. And the more the characters speak together, the thicker the link between them. The size of each node corresponds to the total number of scenes the character appears in.\n",
    "\n",
    "[(Gabasova, 2015)](http://evelinag.com/blog/2015/12-15-star-wars-social-network/)\n",
    "\n",
    "Even such a trivial example &mdash; apologies Star Wars fans &mdash; demonstrates some of the core features of social networks. Let's define and establish these features more formally."
   ]
  },
  {
   "cell_type": "markdown",
   "metadata": {},
   "source": [
    "### What is Social Network Analysis (SNA)?\n",
    "\n",
    "Social network analysis (SNA) is a methodological and conceptual toolbox for the measurement, systematic description, and analysis of patterns in relational structures in the social world (Schneider, 2008). A relation is a distinctive type of connection or tie between two entities (Wasserman & Faust, 1994). For example, a married couple share a spousal relation, a brother and sister share a sibling relation, co-workers share a collegial relation etc. Relations are the building blocks of networks, and thus SNA is concerned with and most appropriate for analyses of data capturing relations between units of analysis (Scott, 2017).\n",
    "\n",
    "SNA is heavily defined by contributions from *network theory* &mdash; a branch of *graph theory* &mdash; which seeks to generate measurable representations of patterns of relationships between entities in an abstract or actual space (Owen-Smith, 2017). As a result of these origins, SNA is a highly technical and mathematical approach to sociological analysis, replete with an intimidating vocabularly of terms and concepts not otherwise encountered with other forms of social science research (Scott, 2017). In addition, the data underpinning SNA have a distinctive structure and thus require specialised approaches to data manipulation and analysis."
   ]
  },
  {
   "cell_type": "markdown",
   "metadata": {},
   "source": [
    "### What are the principles underpinning SNA?\n",
    "\n",
    "Borgatti et al. (2002) establish five key principles of SNA:\n",
    "1. *SNA focuses on relations (connections) between actors.* Actors and their relations are seen as interdependent rather than independent units.\n",
    "2. *The relations between actors are the most meaningful focus of analysis.* Your data may allow you to perform other types of analyses &mdash; e.g., how does income vary across individuals and is it associated with variation in subjective wellbeing? &mdash; but the focus of SNA is on examining and understanding how actors are connected e.g., to what extent are individuals connected and are these patterns associated with income and subjective wellbeing? Put another way, the central concern of analytical concern is the relation, not the individual.\n",
    "3. *The structural and/or relational features of these actors constitute the analytically relevant characteristics of them.* To quote Freeman (2006, p. #):\n",
    ">...these patterns [interactions between people] are important features of the lives of the individuals who display them.\n",
    "4. *Relational ties between these actors are the channels for the flow of both material and non-material resources.* In essence, the connections are important and offer opportunities for sharing of valuable resources.\n",
    "5. *The complete web of actors, their positions and their linkages - the network structure - provides opportunities for (and constraints upon) action.* This is one of the most important points to remember: networks are not only constructed from the relations between actors, they in turn influence the behaviour, opportunities, contraints and outcomes of said actors. We'll reflect on some of the mechanisms through which networks affect outcomes at the micro level in a later lesson [ [LINK] ]().\n",
    "\n",
    "It is this focus on relational rather than attributional aspects of the units of analysis that makes SNA distinct as a methodology (Caiani, 2014)."
   ]
  },
  {
   "cell_type": "markdown",
   "metadata": {},
   "source": [
    "### Why should you consider SNA for your research? [*Rewrite and include GLM equation*]\n",
    "\n",
    "From an analytical perspective, SNA can be employed for a variety of valuable purposes (Caiani, 2014; Owen-Smith, 2017)."
   ]
  },
  {
   "cell_type": "markdown",
   "metadata": {},
   "source": [
    "The social phenomenon of interest takes the form of a network i.e., it is thing you are trying to describe and explain in your research project. For example, a researcher may be interested in analysing the London Underground rail network (like in this [study](https://doi.org/10.1016/j.jtrangeo.2017.11.018))."
   ]
  },
  {
   "cell_type": "markdown",
   "metadata": {},
   "source": [
    "The features and properties of a network can be important explanatory factors ('right-hand side' variables) for understanding other social phenomena. Recall a key feature of social networks elucidated in the above principles: network properties can explain patterns of action abd processes of change for individuals/groups. Note also how network/structural properties map onto important concepts in social theories e.g., strong and weak ties (Granovetter, 1973), structural holes (Burt, 1992), social capital (Bourdieu, 1986) etc. \n",
    "For example, in a review of the impact of social networks on health outcomes, Smith and Christakis (2008, p. 420) conclude that:\n",
    ">  illness, disability, health behaviors, health care use, and death in one person are associated with similar outcomes in numerous others to whom that person is tied, and there can be a nonbiological transmission of illness."
   ]
  },
  {
   "cell_type": "markdown",
   "metadata": {},
   "source": [
    "### When should you use SNA?\n",
    "\n",
    "When you are dealing with **relational data** i.e., data capturing relationships and connections between units of analysis. This is in contrast to **attributional data**, which captures the attributes &mdash; characteristics, demographics etc &mdash; of your units of analysis.\n",
    "\n",
    "Attributional data tends to look like this:\n",
    "\n",
    "(*Execute the cell below - click on the cell and press `Run`*)"
   ]
  },
  {
   "cell_type": "code",
   "execution_count": null,
   "metadata": {},
   "outputs": [],
   "source": [
    "import pandas as pd\n",
    "att = pd.read_csv(\"./data/attributional-data-simple-example.csv\", index_col = False)\n",
    "att"
   ]
  },
  {
   "cell_type": "markdown",
   "metadata": {},
   "source": [
    "While relational data tends to look like this:"
   ]
  },
  {
   "cell_type": "code",
   "execution_count": null,
   "metadata": {},
   "outputs": [],
   "source": [
    "rel = pd.read_csv(\"./data/relational-data-simple-example.csv\", index_col = 0)\n",
    "rel"
   ]
  },
  {
   "cell_type": "markdown",
   "metadata": {},
   "source": [
    "### What does SNA involve?\n",
    "\n",
    "Employing SNA in your research typically involves the following activities (Scott, 2017):\n",
    "* Identifying and visualising patterns of relations between units of analysis.\n",
    "* Examining structural properties/characteristics of these relations.\n",
    "* Analysing implications of these relations on outcomes experienced by units of analysis.\n",
    "\n",
    "As a result of its focus on the relational characteristics of the units of analysis, SNA requires distinctive data structures, methods of analysis and data visualisation techniques (Caiani, 2014). "
   ]
  },
  {
   "cell_type": "markdown",
   "metadata": {},
   "source": [
    "### How do you implement SNA in your research?\n",
    "\n",
    "There are a number of key steps in conducting social network analysis (Hanneman & Riddle, 2005; Owen-Smith, 2017):\n",
    "1. Pose a carefully articulated research question that requires understanding and/or analysis of a network.\n",
    "2. Decide which units of analysis and types of relations to analyse i.e., who is connected and which relationships matter? \n",
    "3. Collect or select a data set that provides relational data on your units of analysis. This data set can include attributional data also: for example, Twitter data can provide information on which accounts follow each other (relational), as well as details about the accounts themselves (attributional).\n",
    "4. Summarise the network and its key features using appropriate measures e.g., network size, density, cohesion, components etc."
   ]
  },
  {
   "cell_type": "markdown",
   "metadata": {},
   "source": [
    "## Key Concepts"
   ]
  },
  {
   "cell_type": "markdown",
   "metadata": {},
   "source": [
    "A network has two key components (Owen-Smith, 2017):\n",
    "1. The **entities** that are (or can be) connected in a network.\n",
    "2. The **connections** that exist (or could exist) between the entities.\n",
    "\n",
    "For example, a family tree is a network containing individuals (entities) that are related through some type of familial tie (connection). Therefore a network is an aggregation or collection of these entities and their connections. For example, here is the network of the members of the UK Royal Family ([BBC, 2020](https://www.bbc.com/news/uk-23272491\n",
    ")):"
   ]
  },
  {
   "cell_type": "markdown",
   "metadata": {
    "slideshow": {
     "slide_type": "subslide"
    }
   },
   "source": [
    "![UK Royal Family](./images/royal-family.png)"
   ]
  },
  {
   "cell_type": "markdown",
   "metadata": {},
   "source": [
    "### Entities\n",
    "\n",
    "The entities included in a network are known as **nodes**, which is a term derived from network theory. Nodes can be individuals, organisations, countries, animals, events, computers, train stations etc. We could also refer to entities as *actors* or *agents* - which are terms specific to SNA -, or *vertices* - which is a term used in geometry -, or *points*, which is used in graph theory. For consistency, we will use the term **node**.\n",
    "\n",
    "Even adopting the term **node** still leaves plenty of room for differentiation: if there is a particular node you are interested in, it is often referred to as a **focal node** or **ego**. Nodes that are or could be connected to an ego are known as **alters**.\n",
    "\n",
    "The patterns of connections between nodes also give rise to further distinctions: two nodes that are or could be connected are called a **dyad**, while three nodes that are or could be connected are called a **triad**.\n",
    "\n",
    "We'll see plenty of examples of each type of node in this training series, for now just familiarise yourself with the terminology and distinctions.\n",
    "\n",
    "Finally, it is worth posing the following questions about nodes in advance of your analysis:\n",
    "* Who are they and how many of them are there in a network?\n",
    "* What connections/ties exists between them?\n",
    "* What positions do they occupy in the network? For example, do they broker connections between other nodes?"
   ]
  },
  {
   "cell_type": "markdown",
   "metadata": {},
   "source": [
    "### Connections\n",
    "\n",
    "[*Talk about direct and indirect ties, strong and weak ties*]\n",
    "\n",
    "Connections or relations between entities are known as **ties**. Other terms include *edges* (network theory), *lines* (graph theory), or *links*. There are a multitude of different types of ties: for example, a family tree contains ties between brothers and sisters, nieces and uncles, children and parents etc. Two individuals can also be related in multiple ways: for example, a pair of colleagues may also be good friends, part of the same sports club, and have attended the same university. As stated previously, it is therefore crucial to clearly define which ties you are interested in measuring, and acknowledging that your data are most likely a sample of **all** possible ties that exist between your nodes (Hanneman & Riddle, 2005).\n",
    "\n",
    "There are many measurement scales we can use to measure ties (Hanneman & Riddle, 2005):\n",
    "* Nominal or Binary: presence or absence of a relation\n",
    "* Multinomial: type of relation e.g., friend, colleague etc - usually transformed into binary.\n",
    "* Ordinal (grouped): likert scale of relation strength or frequency e.g., on a scale of 1-5 (1 = weak, 5 = strong), classify the relationship you have with each family member.\n",
    "* Ordinal (full-rank): rank nodes in order of relation e.g., best friend, second best friend.\n",
    "* Interval: numerical scores assigned to relations e.g., relations between charities and funders, valued by how much funding is provided. It is possible to switch from interval to binary by specifying a threshold or cut point.\n",
    "\n",
    "However many methods and measures of analysis focus on ties measured on a *binary* or *interval* scale, and thus we focus on these throughout the rest of this and future lessons.\n",
    "\n",
    "We can define a ties as possessing two dimensions (Scott, 2017):\n",
    "1. Numeration / Strength:\n",
    "    * Binary: a tie exists between two entities\n",
    "    * Valued: a tie can be assigned a value representing greater / lesser importance, strength, prominence etc. (This corresponds to the interval measurement scale)\n",
    "2. Directionality:\n",
    "    * Directed: the tie flows from one entity to another (and is potentially reciprocated); put another way, the relation has a *source node* and *target node*. For example, an individual (source) donates money to a charity (target).\n",
    "    * Undirected: the tie does not originate from or terminate at a particular node e.g., if John is married to Jane, Jane must be married to John. Therefore an undirected tie *symmetric* or *reciprical* by default. It is also possible to treat directed ties as undirected: for example, I am sharing this lesson with you, therefore a connection exists between us.\n",
    "    \n",
    "We can combine these two dimensions to produce the following types of ties (give examples):\n",
    "Arcs\n",
    "Edges"
   ]
  },
  {
   "cell_type": "markdown",
   "metadata": {},
   "source": [
    "### Components\n",
    "\n",
    "Also known as a subgraph, a **component** is a specific subgroup of nodes and ties contained within the overall network. Technically, a component is a set of nodes where every node is maximally connected: that is, each node is connected to every other node, either directly or indirectly. In addition, there are no connections with nodes outside the component (Scott, 2017).\n",
    "\n",
    "It can be hard to make sense of a component, so let's visualise one below. [*Draw example of ten nodes, seven of which are contained within a node*]"
   ]
  },
  {
   "cell_type": "markdown",
   "metadata": {},
   "source": [
    "### Networks"
   ]
  },
  {
   "cell_type": "markdown",
   "metadata": {},
   "source": [
    "[*What is a network?*] \"It is often the case that the structure of a network depends on the attributes of the actors embedded in it.\"\n",
    "\n",
    "\n",
    "Types of networks:\n",
    "Whole = totality of connections between a set of nodes.\n",
    "Ego-centric = defines a focal node (ego) and measures  its connections with other nodes (alters); we are usually interested in the connections between alters also."
   ]
  },
  {
   "cell_type": "markdown",
   "metadata": {},
   "source": [
    "Networks tend to be multi-modal i.e., nested within other networks (Hanneman & Riddle, 2005). For example, individuals are nested within organisations, which are nested within industries, which are nested within countries etc. Individuals may have ties to people in a different organisation, while the organisation may also have ties with other organisations. Therefore using our understanding of nodes (entities) and ties (connections), we can identify different network modalities:\n",
    "* One-mode network contains one type of node (e.g., organisations) - this is also known as a *unipartite* network.\n",
    "* Two-mode network contains two types of node (e.g., organisations and their employees) - this is also known as a *bipartite* or *affiliate* network.\n",
    "\n",
    "A two-mode network can be conceptualised and analysed as two one-mode networks (projections) - this process is known as *inducing*. However, as Owen-Smith (2017, p. 223) warns: \n",
    "> Care must be taken when inducing one-mode network projections from two-mode network data because not all affiliations provide equally compelling evidence of actual social relationships.\n",
    "\n",
    "For example, if we were convert our two-mode network of organisations and employees to a one-mode network of employees, it is likely to be very sparsely connected because most employees only work for one company.\n",
    "\n",
    "A point to remember: network structure is not always the result of deliberate action on the part of the entities i.e., their is no vision or strategy for the network, it simply arises through the many small decisions of the entities."
   ]
  },
  {
   "cell_type": "markdown",
   "metadata": {},
   "source": [
    "## Representing Networks"
   ]
  },
  {
   "cell_type": "markdown",
   "metadata": {},
   "source": [
    "Networks can be represented using three complementary methods:\n",
    "1. Matrices\n",
    "2. Edgelists\n",
    "3. Graphs"
   ]
  },
  {
   "cell_type": "markdown",
   "metadata": {},
   "source": [
    "### Matrices\n",
    "\n",
    "A matrix is an arrangement of elements into rows (i) and columns (j). Matrices will be very familiar to anyone who has worked with data stored in a spreadsheet: each row represents an observation, each column a variable, and each cell a value for a given variable and observation. For example, here is a data set containing basic details for charities registered in Manchester, U.K.:"
   ]
  },
  {
   "cell_type": "code",
   "execution_count": null,
   "metadata": {
    "scrolled": true
   },
   "outputs": [],
   "source": [
    "# Import modules #\n",
    "\n",
    "import pandas as pd\n",
    "import numpy as np\n",
    "\n",
    "# Load in data from file #\n",
    "\n",
    "data = pd.read_csv(\"./data/manchester-charities-2020-07-03.csv\", index_col = False)\n",
    "data.index += 1\n",
    "print(data.shape) # get number of rows and columns\n",
    "data.head(5) # view first five observations"
   ]
  },
  {
   "cell_type": "markdown",
   "metadata": {},
   "source": [
    "The data set is stored as a matrix containing 1049 rows and 6 columns: each row is a charity, each column a variable capturing an organisational characteristic, and each cell a value. For instance, we can see that the charity number for THE DOWAGER COUNTESS ELEANOR PEEL TRUST is contained in row 2, column 1 - we can express this using matrix notation as follows: \n",
    "\n",
    "\\begin{equation} \\text{X(2, 1)} = \\text{217014} \\end{equation}\n",
    "\n",
    "Where:\n",
    "\n",
    "$X$ is the name of the matrix (this can be of your chosing);\n",
    "\n",
    "$2$ is the row identifier; and\n",
    "\n",
    "$1$ is the column identifier.\n",
    "\n",
    "Keep this notation in mind as we progress, as this is how ties between nodes in a network are represented i.e., as pairs of nodes."
   ]
  },
  {
   "cell_type": "markdown",
   "metadata": {},
   "source": [
    "#### Matrix conventions\n",
    "\n",
    "Let's quickly cover some conventions around the use and manipulation of matrices."
   ]
  },
  {
   "cell_type": "markdown",
   "metadata": {},
   "source": [
    "A matrix can be transposed by swapping the rows and columns:\n",
    "\n"
   ]
  },
  {
   "cell_type": "markdown",
   "metadata": {},
   "source": [
    "#### Social networks as matrices\n",
    "\n",
    "The relations between nodes in a social network are often stored in matrix format, the simplest of which is a \"square\" matrix i.e., the number of rows equals the number of columns. Let's take some simple, fictional social network data and examine how they can be represented as matrices:"
   ]
  },
  {
   "cell_type": "markdown",
   "metadata": {},
   "source": [
    "##### Undirected networks"
   ]
  },
  {
   "cell_type": "code",
   "execution_count": 40,
   "metadata": {
    "scrolled": true
   },
   "outputs": [
    {
     "name": "stdout",
     "output_type": "stream",
     "text": [
      "(8, 8)\n"
     ]
    },
    {
     "data": {
      "text/html": [
       "<div>\n",
       "<style scoped>\n",
       "    .dataframe tbody tr th:only-of-type {\n",
       "        vertical-align: middle;\n",
       "    }\n",
       "\n",
       "    .dataframe tbody tr th {\n",
       "        vertical-align: top;\n",
       "    }\n",
       "\n",
       "    .dataframe thead th {\n",
       "        text-align: right;\n",
       "    }\n",
       "</style>\n",
       "<table border=\"1\" class=\"dataframe\">\n",
       "  <thead>\n",
       "    <tr style=\"text-align: right;\">\n",
       "      <th></th>\n",
       "      <th>Bruce Springsteen</th>\n",
       "      <th>Garry Tallent</th>\n",
       "      <th>Roy Bittan</th>\n",
       "      <th>Max Weinberg</th>\n",
       "      <th>Steven Van Zandt</th>\n",
       "      <th>Nils Lofgren</th>\n",
       "      <th>Patti Scialfa</th>\n",
       "      <th>Jake Clemons</th>\n",
       "    </tr>\n",
       "  </thead>\n",
       "  <tbody>\n",
       "    <tr>\n",
       "      <th>Bruce Springsteen</th>\n",
       "      <td>nan</td>\n",
       "      <td>0</td>\n",
       "      <td>1</td>\n",
       "      <td>1</td>\n",
       "      <td>1</td>\n",
       "      <td>0</td>\n",
       "      <td>1</td>\n",
       "      <td>0</td>\n",
       "    </tr>\n",
       "    <tr>\n",
       "      <th>Garry Tallent</th>\n",
       "      <td>0</td>\n",
       "      <td>nan</td>\n",
       "      <td>0</td>\n",
       "      <td>0</td>\n",
       "      <td>0</td>\n",
       "      <td>0</td>\n",
       "      <td>0</td>\n",
       "      <td>0</td>\n",
       "    </tr>\n",
       "    <tr>\n",
       "      <th>Roy Bittan</th>\n",
       "      <td>1</td>\n",
       "      <td>0</td>\n",
       "      <td>nan</td>\n",
       "      <td>1</td>\n",
       "      <td>1</td>\n",
       "      <td>1</td>\n",
       "      <td>0</td>\n",
       "      <td>1</td>\n",
       "    </tr>\n",
       "    <tr>\n",
       "      <th>Max Weinberg</th>\n",
       "      <td>1</td>\n",
       "      <td>0</td>\n",
       "      <td>1</td>\n",
       "      <td>nan</td>\n",
       "      <td>1</td>\n",
       "      <td>1</td>\n",
       "      <td>1</td>\n",
       "      <td>1</td>\n",
       "    </tr>\n",
       "    <tr>\n",
       "      <th>Steven Van Zandt</th>\n",
       "      <td>1</td>\n",
       "      <td>0</td>\n",
       "      <td>1</td>\n",
       "      <td>1</td>\n",
       "      <td>nan</td>\n",
       "      <td>0</td>\n",
       "      <td>1</td>\n",
       "      <td>1</td>\n",
       "    </tr>\n",
       "    <tr>\n",
       "      <th>Nils Lofgren</th>\n",
       "      <td>0</td>\n",
       "      <td>0</td>\n",
       "      <td>1</td>\n",
       "      <td>1</td>\n",
       "      <td>0</td>\n",
       "      <td>nan</td>\n",
       "      <td>0</td>\n",
       "      <td>0</td>\n",
       "    </tr>\n",
       "    <tr>\n",
       "      <th>Patti Scialfa</th>\n",
       "      <td>1</td>\n",
       "      <td>0</td>\n",
       "      <td>0</td>\n",
       "      <td>1</td>\n",
       "      <td>1</td>\n",
       "      <td>0</td>\n",
       "      <td>nan</td>\n",
       "      <td>1</td>\n",
       "    </tr>\n",
       "    <tr>\n",
       "      <th>Jake Clemons</th>\n",
       "      <td>0</td>\n",
       "      <td>0</td>\n",
       "      <td>1</td>\n",
       "      <td>1</td>\n",
       "      <td>1</td>\n",
       "      <td>0</td>\n",
       "      <td>1</td>\n",
       "      <td>nan</td>\n",
       "    </tr>\n",
       "  </tbody>\n",
       "</table>\n",
       "</div>"
      ],
      "text/plain": [
       "                   Bruce Springsteen  Garry Tallent  Roy Bittan  Max Weinberg  \\\n",
       "Bruce Springsteen                nan              0           1             1   \n",
       "Garry Tallent                      0            nan           0             0   \n",
       "Roy Bittan                         1              0         nan             1   \n",
       "Max Weinberg                       1              0           1           nan   \n",
       "Steven Van Zandt                   1              0           1             1   \n",
       "Nils Lofgren                       0              0           1             1   \n",
       "Patti Scialfa                      1              0           0             1   \n",
       "Jake Clemons                       0              0           1             1   \n",
       "\n",
       "                   Steven Van Zandt  Nils Lofgren  Patti Scialfa  Jake Clemons  \n",
       "Bruce Springsteen                 1             0              1             0  \n",
       "Garry Tallent                     0             0              0             0  \n",
       "Roy Bittan                        1             1              0             1  \n",
       "Max Weinberg                      1             1              1             1  \n",
       "Steven Van Zandt                nan             0              1             1  \n",
       "Nils Lofgren                      0           nan              0             0  \n",
       "Patti Scialfa                     1             0            nan             1  \n",
       "Jake Clemons                      1             0              1           nan  "
      ]
     },
     "execution_count": 40,
     "metadata": {},
     "output_type": "execute_result"
    }
   ],
   "source": [
    "estreet = pd.read_csv(\"./data/estreet-band-members-2020-08-18.csv\", index_col = 0)\n",
    "pd.options.display.float_format = '{:,.0f}'.format # change display of decimal numbers\n",
    "\n",
    "print(estreet.shape)\n",
    "estreet # view data set"
   ]
  },
  {
   "cell_type": "markdown",
   "metadata": {},
   "source": [
    "Above we have a square matrix containing one type of node: current members of the [E Street Band](https://en.wikipedia.org/wiki/E_Street_Band). The matrix captures friendship ties between each member of the band: the ties are *binary* - are a pair of band members friends or not - and *undirected* - there is no source of the friendship. Because the ties are undirected, we can say that the matrix is *symmetric*. For example, saying Bruce Springsteen is friends with Roy Bittan is the same as saying Roy Bittan is friends with Bruce Springsteen - in matrix notation: \n",
    "\n",
    "$X(Bruce Springsteen, Roy Brittan)$ = $X(Roy Brittan, Bruce Springsteen)$. \n",
    "\n",
    "Diagonal values represent a node's tie to itself: this does not have any meaning in our example, hence why the value is missing (*nan*: Not a Number).\n",
    "\n",
    "Therefore we can describe this social network as an *adjacency matrix*: it maps who is next to whom in a social space. Saying two nodes are adjacent is another way of describing the presence of a tie between them. \n",
    "\n",
    "In summary, the friendhsip ties between E Street Band members are stored as a binary, undirected, square matrix."
   ]
  },
  {
   "cell_type": "markdown",
   "metadata": {},
   "source": [
    "##### Directed networks"
   ]
  },
  {
   "cell_type": "markdown",
   "metadata": {},
   "source": [
    "My (Diarmuid) wife is part of a book sharing network with some family members. She can send books to others in the network either unprompted or in response to receiving a book herself. Let's store these book sharing ties in matrix format: "
   ]
  },
  {
   "cell_type": "code",
   "execution_count": null,
   "metadata": {},
   "outputs": [],
   "source": [
    "books = pd.read_csv(\"./data/book-sharing-members-directed-2020-08-25.csv\", index_col = 0)\n",
    "books"
   ]
  },
  {
   "cell_type": "markdown",
   "metadata": {},
   "source": [
    "You can see that my wife has sent her cousin at least one book (*row 1, column 3*), AND the cousin has sent her at least one (*row 3, column 1*). While her aunt has sent my wife some books (*row 2, column 1*), the reverse isn't true (*row 1, column 2*).\n",
    "\n",
    "**QUESTION**: is there a reciprocal book-sharing relation between my wife and her sister-in-law?"
   ]
  },
  {
   "cell_type": "markdown",
   "metadata": {},
   "source": [
    "Once again these ties are *binary*, meaning they capture whether an individual sent a book or not to another member of the network. We could also represent these book-sharing ties by **how many** books were sent between individuals in this network:"
   ]
  },
  {
   "cell_type": "code",
   "execution_count": null,
   "metadata": {},
   "outputs": [],
   "source": [
    "books_count = pd.read_csv(\"./data/book-sharing-members-directed-valued-2020-08-25.csv\", index_col = 0)\n",
    "books_count"
   ]
  },
  {
   "cell_type": "markdown",
   "metadata": {},
   "source": [
    "The same connections are present in this network as in the one above, but this time the ties are *valued* rather than *binary*: that is, they capture the strenght of the connections between members, not just whether a connection exists or not. For instance, my wife has sent two books to her cousin (*row 2, column 3*) and received four in return (*row 3, column 1*). \n",
    "\n",
    "Because we are dealing with directed ties, we can calculate how many books people sent by summing the values contained in each row:"
   ]
  },
  {
   "cell_type": "code",
   "execution_count": null,
   "metadata": {},
   "outputs": [],
   "source": [
    "books_count.sum(axis=1)"
   ]
  },
  {
   "cell_type": "markdown",
   "metadata": {},
   "source": [
    "And calculate how many books people received by summing the values contained in each column:"
   ]
  },
  {
   "cell_type": "code",
   "execution_count": null,
   "metadata": {},
   "outputs": [],
   "source": [
    "books_count.sum(axis=0)"
   ]
  },
  {
   "cell_type": "markdown",
   "metadata": {},
   "source": [
    "**QUESTION**: who has received the most books? Who has sent the fewest? And how many people sent more books than they received?"
   ]
  },
  {
   "cell_type": "markdown",
   "metadata": {},
   "source": [
    "Finally, in a directed network the rows represent the *source* of the tie and the columns the *target* or *receiver* of the tie; while this perspective does not have any meaning for undirected ties, this terminology may still be used and is worth keeping in mind."
   ]
  },
  {
   "cell_type": "markdown",
   "metadata": {},
   "source": [
    "### Edgelists\n",
    "\n",
    "An *edgelist* is simply a list of the ties in a network, with the ties represented as pairs of nodes. For example, the E Street Band network can be represented as an edgelist like so:"
   ]
  },
  {
   "cell_type": "code",
   "execution_count": 37,
   "metadata": {},
   "outputs": [
    {
     "data": {
      "text/html": [
       "<div>\n",
       "<style scoped>\n",
       "    .dataframe tbody tr th:only-of-type {\n",
       "        vertical-align: middle;\n",
       "    }\n",
       "\n",
       "    .dataframe tbody tr th {\n",
       "        vertical-align: top;\n",
       "    }\n",
       "\n",
       "    .dataframe thead th {\n",
       "        text-align: right;\n",
       "    }\n",
       "</style>\n",
       "<table border=\"1\" class=\"dataframe\">\n",
       "  <thead>\n",
       "    <tr style=\"text-align: right;\">\n",
       "      <th></th>\n",
       "      <th>source</th>\n",
       "      <th>target</th>\n",
       "    </tr>\n",
       "  </thead>\n",
       "  <tbody>\n",
       "    <tr>\n",
       "      <th>0</th>\n",
       "      <td>Bruce Springsteen</td>\n",
       "      <td>Roy Bittan</td>\n",
       "    </tr>\n",
       "    <tr>\n",
       "      <th>1</th>\n",
       "      <td>Bruce Springsteen</td>\n",
       "      <td>Max Weinberg</td>\n",
       "    </tr>\n",
       "    <tr>\n",
       "      <th>2</th>\n",
       "      <td>Bruce Springsteen</td>\n",
       "      <td>Steven Van Zandt</td>\n",
       "    </tr>\n",
       "    <tr>\n",
       "      <th>3</th>\n",
       "      <td>Bruce Springsteen</td>\n",
       "      <td>Patti Scialfa</td>\n",
       "    </tr>\n",
       "    <tr>\n",
       "      <th>4</th>\n",
       "      <td>Roy Bittan</td>\n",
       "      <td>Max Weinberg</td>\n",
       "    </tr>\n",
       "    <tr>\n",
       "      <th>5</th>\n",
       "      <td>Roy Bittan</td>\n",
       "      <td>Steven Van Zandt</td>\n",
       "    </tr>\n",
       "    <tr>\n",
       "      <th>6</th>\n",
       "      <td>Roy Bittan</td>\n",
       "      <td>Nils Lofgren</td>\n",
       "    </tr>\n",
       "    <tr>\n",
       "      <th>7</th>\n",
       "      <td>Roy Bittan</td>\n",
       "      <td>Jake Clemons</td>\n",
       "    </tr>\n",
       "    <tr>\n",
       "      <th>8</th>\n",
       "      <td>Max Weinberg</td>\n",
       "      <td>Steven Van Zandt</td>\n",
       "    </tr>\n",
       "    <tr>\n",
       "      <th>9</th>\n",
       "      <td>Max Weinberg</td>\n",
       "      <td>Nils Lofgren</td>\n",
       "    </tr>\n",
       "    <tr>\n",
       "      <th>10</th>\n",
       "      <td>Max Weinberg</td>\n",
       "      <td>Patti Scialfa</td>\n",
       "    </tr>\n",
       "    <tr>\n",
       "      <th>11</th>\n",
       "      <td>Max Weinberg</td>\n",
       "      <td>Jake Clemons</td>\n",
       "    </tr>\n",
       "    <tr>\n",
       "      <th>12</th>\n",
       "      <td>Steven Van Zandt</td>\n",
       "      <td>Patti Scialfa</td>\n",
       "    </tr>\n",
       "    <tr>\n",
       "      <th>13</th>\n",
       "      <td>Steven Van Zandt</td>\n",
       "      <td>Jake Clemons</td>\n",
       "    </tr>\n",
       "    <tr>\n",
       "      <th>14</th>\n",
       "      <td>Patti Scialfa</td>\n",
       "      <td>Jake Clemons</td>\n",
       "    </tr>\n",
       "  </tbody>\n",
       "</table>\n",
       "</div>"
      ],
      "text/plain": [
       "               source            target\n",
       "0   Bruce Springsteen        Roy Bittan\n",
       "1   Bruce Springsteen      Max Weinberg\n",
       "2   Bruce Springsteen  Steven Van Zandt\n",
       "3   Bruce Springsteen     Patti Scialfa\n",
       "4          Roy Bittan      Max Weinberg\n",
       "5          Roy Bittan  Steven Van Zandt\n",
       "6          Roy Bittan      Nils Lofgren\n",
       "7          Roy Bittan      Jake Clemons\n",
       "8        Max Weinberg  Steven Van Zandt\n",
       "9        Max Weinberg      Nils Lofgren\n",
       "10       Max Weinberg     Patti Scialfa\n",
       "11       Max Weinberg      Jake Clemons\n",
       "12   Steven Van Zandt     Patti Scialfa\n",
       "13   Steven Van Zandt      Jake Clemons\n",
       "14      Patti Scialfa      Jake Clemons"
      ]
     },
     "execution_count": 37,
     "metadata": {},
     "output_type": "execute_result"
    }
   ],
   "source": [
    "estreet_el = pd.read_csv(\"./data/estreet-band-edgelist-2020-08-25.csv\", index_col = False)\n",
    "estreet_el"
   ]
  },
  {
   "cell_type": "markdown",
   "metadata": {},
   "source": [
    "An edgelist typically doesn't contain pairs of nodes that are not connected, nor duplicate ties - notice how there is no row where Roy Bittan is the source node and Bruce Springsteen is the target node; in this context the terms *source* and *target* do not have an inherent meaning as the ties are undirected.\n",
    "\n",
    "It is possible to include an additional column capturing the strength of the tie, like in our book sharing network:"
   ]
  },
  {
   "cell_type": "code",
   "execution_count": 36,
   "metadata": {},
   "outputs": [
    {
     "data": {
      "text/html": [
       "<div>\n",
       "<style scoped>\n",
       "    .dataframe tbody tr th:only-of-type {\n",
       "        vertical-align: middle;\n",
       "    }\n",
       "\n",
       "    .dataframe tbody tr th {\n",
       "        vertical-align: top;\n",
       "    }\n",
       "\n",
       "    .dataframe thead th {\n",
       "        text-align: right;\n",
       "    }\n",
       "</style>\n",
       "<table border=\"1\" class=\"dataframe\">\n",
       "  <thead>\n",
       "    <tr style=\"text-align: right;\">\n",
       "      <th></th>\n",
       "      <th>source</th>\n",
       "      <th>target</th>\n",
       "      <th>weight</th>\n",
       "    </tr>\n",
       "  </thead>\n",
       "  <tbody>\n",
       "    <tr>\n",
       "      <th>0</th>\n",
       "      <td>Wife</td>\n",
       "      <td>Cousin</td>\n",
       "      <td>2</td>\n",
       "    </tr>\n",
       "    <tr>\n",
       "      <th>1</th>\n",
       "      <td>Wife</td>\n",
       "      <td>Sister-in-law</td>\n",
       "      <td>1</td>\n",
       "    </tr>\n",
       "    <tr>\n",
       "      <th>2</th>\n",
       "      <td>Aunt</td>\n",
       "      <td>Wife</td>\n",
       "      <td>3</td>\n",
       "    </tr>\n",
       "    <tr>\n",
       "      <th>3</th>\n",
       "      <td>Aunt</td>\n",
       "      <td>Gran</td>\n",
       "      <td>2</td>\n",
       "    </tr>\n",
       "    <tr>\n",
       "      <th>4</th>\n",
       "      <td>Cousin</td>\n",
       "      <td>Wife</td>\n",
       "      <td>4</td>\n",
       "    </tr>\n",
       "    <tr>\n",
       "      <th>5</th>\n",
       "      <td>Cousin</td>\n",
       "      <td>Gran</td>\n",
       "      <td>3</td>\n",
       "    </tr>\n",
       "    <tr>\n",
       "      <th>6</th>\n",
       "      <td>Gran</td>\n",
       "      <td>Wife</td>\n",
       "      <td>1</td>\n",
       "    </tr>\n",
       "    <tr>\n",
       "      <th>7</th>\n",
       "      <td>Gran</td>\n",
       "      <td>Cousin</td>\n",
       "      <td>3</td>\n",
       "    </tr>\n",
       "    <tr>\n",
       "      <th>8</th>\n",
       "      <td>Sister-in-law</td>\n",
       "      <td>Wife</td>\n",
       "      <td>2</td>\n",
       "    </tr>\n",
       "  </tbody>\n",
       "</table>\n",
       "</div>"
      ],
      "text/plain": [
       "          source         target  weight\n",
       "0           Wife         Cousin       2\n",
       "1           Wife  Sister-in-law       1\n",
       "2           Aunt           Wife       3\n",
       "3           Aunt           Gran       2\n",
       "4         Cousin           Wife       4\n",
       "5         Cousin           Gran       3\n",
       "6           Gran           Wife       1\n",
       "7           Gran         Cousin       3\n",
       "8  Sister-in-law           Wife       2"
      ]
     },
     "execution_count": 36,
     "metadata": {},
     "output_type": "execute_result"
    }
   ],
   "source": [
    "books_count_el = pd.read_csv(\"./data/book-sharing-edgelist-2020-08-25.csv\", index_col = False)\n",
    "books_count_el"
   ]
  },
  {
   "cell_type": "markdown",
   "metadata": {},
   "source": [
    "#### TASK: using the edgelist above, calculate how many books my wife sent in total, and how many were received by her grandmother. Do your figures match our previous calculations (run code below)?"
   ]
  },
  {
   "cell_type": "code",
   "execution_count": null,
   "metadata": {
    "scrolled": true
   },
   "outputs": [],
   "source": [
    "# books_count.sum(axis=1)"
   ]
  },
  {
   "cell_type": "markdown",
   "metadata": {},
   "source": [
    "### Graphs\n",
    "\n",
    "Many people are familiar with the visual representation of networks, known as **graphs** (network theory) or **sociograms** (SNA). A graph is a set of lines connecting points, and graph theory is a \"*body of mathematical axioms and formulae that describe the properties of the patterns formed by the lines.\"* (Scott, 2017: #). \n",
    "\n",
    "Let's take our E Street Band social network and visualise the friendship ties it contains:"
   ]
  },
  {
   "cell_type": "markdown",
   "metadata": {
    "slideshow": {
     "slide_type": "subslide"
    }
   },
   "source": [
    "![E Street Band Sociogram](./images/estreet-band-sociogram-2020-08-25.png)"
   ]
  },
  {
   "cell_type": "markdown",
   "metadata": {},
   "source": [
    "In a network graph (Hanneman & Riddle, 2005):\n",
    "* Nodes are represented as circles\n",
    "* Ties are represented as lines (with arrow heads if the tie is directed)\n",
    "* Colours, shapes and sizes can be used to differentiate nodes by their attributes or network characteristics.\n",
    "* Colours, shapes and sizes can also be used to differentiate relations by their type or amount.\n",
    "\n",
    "By default, **there is no inherent meaning or information conveyed by these features**. The fact that Steven Van Zandt is positioned closer to Max Weinberg than Bruce Springsteen on the graph does not say anything about their ties. Likewise Garry Tallent could have been placed anywhere on the graph, it still would not change his status in the network (i.e., he has no ties).\n",
    "\n",
    "It is possible to imbue nodes and ties on a graph with meaning: for example, thicker lines can indicate the strength of the tie, different colours can distinguish nodes by an attribute (e.g., males and females).\n",
    "\n",
    "Visualising networks is an appealing activity, and there are some excellent examples (see [here](http://www-personal.umich.edu/~mejn/networks/)). However it is better to focus on the structure and analysis of social network data, as they are more revealing about the patterns of connections in a network (Hanneman & Riddle, 2005)."
   ]
  },
  {
   "cell_type": "markdown",
   "metadata": {},
   "source": [
    "The binary, directed ties in our book sharing network can be visualised as follows:"
   ]
  },
  {
   "cell_type": "markdown",
   "metadata": {},
   "source": [
    "![Book Sharing Sociogram](./images/book-sharing-sociogram-2020-08-25.png)"
   ]
  },
  {
   "cell_type": "markdown",
   "metadata": {},
   "source": [
    "## A Simple Analysis"
   ]
  },
  {
   "cell_type": "markdown",
   "metadata": {},
   "source": [
    "### Getting relational data\n",
    "\n",
    "We begin with data on the current trustees (board members) of our group of manchester charities:"
   ]
  },
  {
   "cell_type": "code",
   "execution_count": null,
   "metadata": {},
   "outputs": [],
   "source": [
    "data = pd.read_csv(\"./data/manchester-trustees-2020-08-13.csv\", index_col = False)\n",
    "print(data.shape)\n",
    "data.head(12)"
   ]
  },
  {
   "cell_type": "markdown",
   "metadata": {},
   "source": [
    "As you can see, the first individual is a trustee of three charities, the second a trustee of nine etc. Because we have the unique id (`regno`) of the charity a trustee is connected to, this data set contains *relational information* on how charities are connected to each other by the presence of a common individual. For instance, three of the charities - 1071809, 1095687, 1013846 - are all linked through the trustee Rabbi Abraham Hassan. "
   ]
  },
  {
   "cell_type": "markdown",
   "metadata": {},
   "source": [
    "Our first task is to extract the relational information contained in this data set: the end result of this process will be an adjacency (node-by-node) matrix containing the *binary*, *undirected* ties linking charities together. That is, a data set where every row and column represents a charity, and the cells indicate whether a pair of charities are linked through at least one trustee.\n",
    "\n",
    "First, let's see how many charities are in the data:"
   ]
  },
  {
   "cell_type": "code",
   "execution_count": null,
   "metadata": {},
   "outputs": [],
   "source": [
    "len(data.drop_duplicates(\"regno\")) # how many unique charity ids are there in the data?"
   ]
  },
  {
   "cell_type": "markdown",
   "metadata": {},
   "source": [
    "OK, that means we'll have a matrix with 1123 rows and 1123 columns (one for each charity). If a matrix has the same number of rows and columns it is known as a *square matrix*."
   ]
  },
  {
   "cell_type": "markdown",
   "metadata": {},
   "source": [
    "#### Adjacency matrix\n",
    "\n",
    "Let's use some clever Python code to create an adjacency matrix where the nodes are charities - that is, every row represents a charity, as does every column."
   ]
  },
  {
   "cell_type": "code",
   "execution_count": null,
   "metadata": {},
   "outputs": [],
   "source": [
    "data_merge = data.merge(data, on=\"trustee_id\")\n",
    "charity_mat = pd.crosstab(data_merge.regno_x, data_merge.regno_y)\n",
    "np.fill_diagonal(charity_mat.values, 0)\n",
    "charity_mat[charity_mat >= 1] = 1\n",
    "charity_mat"
   ]
  },
  {
   "cell_type": "markdown",
   "metadata": {},
   "source": [
    "As is probably obvious at the outset, there are lots of zeroes; that is, most charities are not connected to most other charities. But they are all connected to at least one other: we can see this by calculating the row/column totals:"
   ]
  },
  {
   "cell_type": "code",
   "execution_count": null,
   "metadata": {},
   "outputs": [],
   "source": [
    "#charity_mat[\"row_total\"] = charity_mat.sum(axis=1)\n",
    "#charity_mat[\"row_total\"].describe()"
   ]
  },
  {
   "cell_type": "code",
   "execution_count": null,
   "metadata": {},
   "outputs": [],
   "source": [
    "#charity_mat[\"col_total\"] = charity_mat.sum(axis=0)\n",
    "#charity_mat[\"col_total\"].describe()"
   ]
  },
  {
   "cell_type": "markdown",
   "metadata": {},
   "source": [
    "[*The above totals are somewhat nonsensical - surely not every charity is linked to at least one other? Is it an issue with data collection?*]"
   ]
  },
  {
   "cell_type": "markdown",
   "metadata": {},
   "source": [
    "#### Edge list"
   ]
  },
  {
   "cell_type": "code",
   "execution_count": null,
   "metadata": {},
   "outputs": [],
   "source": [
    "charity_el = charity_mat.stack().reset_index() # convert to edgelist\n",
    "charity_el = charity_el[charity_el[0]==1] # keep pairs of charities that are connected\n",
    "charity_el = charity_el.drop(0, axis=1)\n",
    "charity_el.rename(columns = {\"regno_x\": \"source\", \"regno_y\": \"target\"}, inplace = True)"
   ]
  },
  {
   "cell_type": "code",
   "execution_count": null,
   "metadata": {},
   "outputs": [],
   "source": [
    "charity_el[charity_el[\"target\"]==208879]"
   ]
  },
  {
   "cell_type": "code",
   "execution_count": null,
   "metadata": {},
   "outputs": [],
   "source": [
    "charity_el[charity_el[\"source\"]==208879]"
   ]
  },
  {
   "cell_type": "code",
   "execution_count": null,
   "metadata": {},
   "outputs": [],
   "source": [
    "len(charity_el)"
   ]
  },
  {
   "cell_type": "markdown",
   "metadata": {},
   "source": [
    "We can see that each connection between a pair of charities is listed twice - this is because we are dealing with undirected ties: charity *208879* is linked to charity *278469*, therefore charity *278469* is also linked to charity *208879*. We should delete these duplicates before progressing any further:"
   ]
  },
  {
   "cell_type": "code",
   "execution_count": null,
   "metadata": {},
   "outputs": [],
   "source": [
    "edgelist = charity_el[pd.DataFrame(np.sort(charity_el[['source','target']].values,1)).duplicated().values]\n",
    "len(edgelist)"
   ]
  },
  {
   "cell_type": "markdown",
   "metadata": {},
   "source": [
    "[*Need some way of checking the above code*]"
   ]
  },
  {
   "cell_type": "code",
   "execution_count": null,
   "metadata": {},
   "outputs": [],
   "source": [
    "edgelist[edgelist[\"source\"]==278469]"
   ]
  },
  {
   "cell_type": "markdown",
   "metadata": {},
   "source": [
    "Let's bring some of our fundamental concepts to life with a simple research example. [Manchester trustees]\n",
    "\n"
   ]
  },
  {
   "cell_type": "code",
   "execution_count": null,
   "metadata": {},
   "outputs": [],
   "source": [
    "import networkx as nx"
   ]
  },
  {
   "cell_type": "code",
   "execution_count": null,
   "metadata": {},
   "outputs": [],
   "source": [
    "chargraph = nx.from_pandas_adjacency(charity_mat)\n",
    "#chargraph = nx.from_pandas_edgelist(edgelist, \"source\", \"target\")\n",
    "print(nx.info(chargraph)) # get basic info about network"
   ]
  },
  {
   "cell_type": "markdown",
   "metadata": {},
   "source": [
    "Good, we can see that the number of nodes and ties (edges) match the objects we created earlier:"
   ]
  },
  {
   "cell_type": "code",
   "execution_count": null,
   "metadata": {},
   "outputs": [],
   "source": [
    "print(len(charity_mat), len(edgelist))"
   ]
  },
  {
   "cell_type": "markdown",
   "metadata": {},
   "source": [
    "### Add node attributes\n",
    "\n",
    "It would be good to see if some of the network and relational properties and patterns we observed are differentiated by attributes of the charities themselves. For example, do larger charities - by income - have more ties? If so, what proportion of those ties are with similar size organisations?\n",
    "\n",
    "Using `networkx` we can take some fields from the file containing a list of Manchester charities and adding it to our graph object `chargraph`:"
   ]
  },
  {
   "cell_type": "code",
   "execution_count": null,
   "metadata": {},
   "outputs": [],
   "source": [
    "data = pd.read_csv(\"./data/manchester-charities-2020-07-03.csv\", index_col = False)\n",
    "conditions = [\n",
    "    (data[\"Latest income\"] == 0),\n",
    "    (data[\"Latest income\"] > 0) & (data[\"Latest income\"] <= 25000),\n",
    "    (data[\"Latest income\"] > 25000) & (data[\"Latest income\"] <= 250000),\n",
    "    (data[\"Latest income\"] > 250000)\n",
    "]\n",
    "\n",
    "# Create a list of the values we want to assign for each condition\n",
    "values = [\"zero\", \"small\", \"medium\", \"large\"]\n",
    "\n",
    "# Create new variable capturing organisation size based on income\n",
    "data[\"org_size\"] = np.select(conditions, values)\n",
    "\n",
    "data[\"org_size\"].value_counts()"
   ]
  },
  {
   "cell_type": "code",
   "execution_count": null,
   "metadata": {},
   "outputs": [],
   "source": [
    "size_dict = {}\n",
    "name_dict = {}\n",
    "for row in data.values:\n",
    "    size_dict[row[0]] = row[6]\n",
    "    name_dict[row[0]] = row[1]\n",
    "    "
   ]
  },
  {
   "cell_type": "markdown",
   "metadata": {},
   "source": [
    "Now that we have some dictionaries - a type of Python object used for storing hierarchical data - containing the size and name of each charity, we can attach these attributes to each node in our network:"
   ]
  },
  {
   "cell_type": "code",
   "execution_count": null,
   "metadata": {},
   "outputs": [],
   "source": [
    "nx.set_node_attributes(chargraph, size_dict, \"organisation_size\")\n",
    "nx.set_node_attributes(chargraph, name_dict, \"organisation_name\")"
   ]
  },
  {
   "cell_type": "markdown",
   "metadata": {},
   "source": [
    "And check if worked like so:"
   ]
  },
  {
   "cell_type": "code",
   "execution_count": null,
   "metadata": {},
   "outputs": [],
   "source": [
    "nx.get_node_attributes(chargraph, \"organisation_name\")"
   ]
  },
  {
   "cell_type": "markdown",
   "metadata": {},
   "source": [
    "#### TASK: view the *organisation size* attribute for the nodes in the network"
   ]
  },
  {
   "cell_type": "code",
   "execution_count": null,
   "metadata": {},
   "outputs": [],
   "source": [
    "# INSERT CODE HERE"
   ]
  },
  {
   "cell_type": "markdown",
   "metadata": {},
   "source": [
    "### Whole network properties\n",
    "\n",
    "We know from our data that we are dealing with a network of charities, who are connected through *undirected*, *binary* ties. We can use `networkx` to learn much more about our network and its properties and structure. First, let's get a sense of how large the network is in terms of nodes and ties:"
   ]
  },
  {
   "cell_type": "code",
   "execution_count": null,
   "metadata": {},
   "outputs": [],
   "source": [
    "print(nx.info(chargraph))"
   ]
  },
  {
   "cell_type": "markdown",
   "metadata": {},
   "source": [
    "*Average degree* is a measure of how many ties a node has with other nodes. In our example, a Manchester charity is typically connected to three other charitable organisations."
   ]
  },
  {
   "cell_type": "markdown",
   "metadata": {},
   "source": [
    "> Quantitative metrics let you differentiate networks, learn about their topologies, and turn a jumble of nodes and edges into something you can learn from. (Programming Historian, 2017)"
   ]
  },
  {
   "cell_type": "markdown",
   "metadata": {},
   "source": [
    "How denses is the network? That is, how many of the possible connections between have been realised? We can use the `nx.density()` function to calculate a measure ranging from 1 (all connections realised) to 0 (no connections between nodes). The resuls below show that our network of charities is not very dense at all, though this is to be expected: our 1100 charities have 2735 trustees, which can be drawn from a city with a population of c.500,000."
   ]
  },
  {
   "cell_type": "code",
   "execution_count": null,
   "metadata": {},
   "outputs": [],
   "source": [
    "density = nx.density(chargraph)\n",
    "print(\"Network density:\", density)"
   ]
  },
  {
   "cell_type": "markdown",
   "metadata": {},
   "source": [
    "#### Clustering\n",
    "\n",
    "We're going to focus on *transitivity* i.e., the ratio of all triads over all possible triad. A possible triad exists when one node is connected to two others: in such a scenario we can assume that the other two nodes have a good opportunity to connect to each other. Put another way, *transitivity* calculates the probability that two individuals who share a common acquaintance, will end up connecting with each other directly i.e., a friend of a friend becomes a friend. [*Show example of possible triad*]"
   ]
  },
  {
   "cell_type": "code",
   "execution_count": null,
   "metadata": {},
   "outputs": [],
   "source": [
    "triadic_closure = nx.transitivity(chargraph)\n",
    "print(\"Triadic closure:\", triadic_closure)"
   ]
  },
  {
   "cell_type": "markdown",
   "metadata": {},
   "source": [
    "Transitivity measure is high, though this is likely due to the fact that there are fewer possible triads to begin with - remember that our network is not very dense, therefore there are few instances where two charities are connected share a common connection with another organisation. Where such possible triads exist however, it is likelier than not that a triad will be formed i.e., those two charities will establish a direct connection with other."
   ]
  },
  {
   "cell_type": "markdown",
   "metadata": {},
   "source": [
    "#### Centrality\n",
    "\n",
    "Now we are concerned with the charities that are most important in the network. That is, which nodes are best connected. The first measure is *degree centrality*, which helps us identify hubs. We start by calculating the number of ties for each node and adding this a node attribute:"
   ]
  },
  {
   "cell_type": "code",
   "execution_count": null,
   "metadata": {},
   "outputs": [],
   "source": [
    "degree_dict = dict(chargraph.degree(chargraph.nodes()))\n",
    "nx.set_node_attributes(chargraph, degree_dict, \"degree\")"
   ]
  },
  {
   "cell_type": "code",
   "execution_count": null,
   "metadata": {},
   "outputs": [],
   "source": [
    "chargraph.nodes[225116] # number of ties for charity 225116"
   ]
  },
  {
   "cell_type": "markdown",
   "metadata": {},
   "source": [
    "### Components"
   ]
  },
  {
   "cell_type": "code",
   "execution_count": null,
   "metadata": {},
   "outputs": [],
   "source": [
    "# If your Graph has more than one component, this will return False:\n",
    "print(nx.is_connected(chargraph))"
   ]
  },
  {
   "cell_type": "code",
   "execution_count": null,
   "metadata": {},
   "outputs": [],
   "source": [
    "# Next, use nx.connected_components to get the list of components,\n",
    "# then use the max() command to find the largest one:\n",
    "components = list(nx.connected_components(chargraph))\n",
    "largest_component = max(components, key=len)\n",
    "\n",
    "print(len(components)) # lots of subgraphs in our network\n",
    "print(largest_component) # returns the set of charities that form the largest component in the network"
   ]
  },
  {
   "cell_type": "code",
   "execution_count": null,
   "metadata": {},
   "outputs": [],
   "source": [
    "diameter = nx.diameter(chargraph)"
   ]
  },
  {
   "cell_type": "markdown",
   "metadata": {},
   "source": [
    "The longest shortest path in the largest component:"
   ]
  },
  {
   "cell_type": "code",
   "execution_count": null,
   "metadata": {},
   "outputs": [],
   "source": [
    "subgraph = chargraph.subgraph(largest_component)\n",
    "diameter = nx.diameter(subgraph)\n",
    "print(\"Network diameter of largest component:\", diameter)"
   ]
  },
  {
   "cell_type": "markdown",
   "metadata": {},
   "source": [
    "`networkx` is primarily a network analysis package, though it does possess some functions for visualising networks:"
   ]
  },
  {
   "cell_type": "code",
   "execution_count": null,
   "metadata": {},
   "outputs": [],
   "source": [
    "import matplotlib.pyplot as plt\n",
    "\n",
    "nx.draw(chargraph)\n",
    "plt.show()"
   ]
  },
  {
   "cell_type": "markdown",
   "metadata": {},
   "source": [
    "## Conclusion\n",
    "\n",
    "*SNA and its value and limitations and opportunities*.\n",
    "\n",
    "Good luck on your data-driven travels!"
   ]
  },
  {
   "cell_type": "markdown",
   "metadata": {},
   "source": [
    "## Bibliography\n",
    "\n",
    "Barba, Lorena A. et al. (2019). *Teaching and Learning with Jupyter*. <a href=\"https://jupyter4edu.github.io/jupyter-edu-book/\" target=_blank>https://jupyter4edu.github.io/jupyter-edu-book/</a>.\n",
    "\n",
    "Brooker, P. (2020). *Programming with Python for Social Scientists*. London: SAGE Publications Ltd.\n",
    "\n",
    "Lau, S., Gonzalez, J., & Nolan, D. (n.d.). *Principles and Techniques of Data Science*. https://www.textbook.ds100.org\n",
    "\n",
    "Tagliaferri, L. (n.d.). *How to Code in Python 3*. https://assets.digitalocean.com/books/python/how-to-code-in-python.pdf"
   ]
  },
  {
   "cell_type": "markdown",
   "metadata": {},
   "source": [
    "## Further reading and resources\n",
    "\n",
    "We publish a list of useful books, papers, websites and other resources on our web-scraping Github repository: <a href=\"https://github.com/UKDataServiceOpen/social-network-analysis/tree/master/reading-list/\" target=_blank>[Reading list]</a>\n",
    "\n",
    "The help documentation for the `networkx` and `pandas` modules is refreshingly readable and useful:\n",
    "* <a href=\"LINK\" target=_blank>`networkx`</a>\n",
    "* <a href=\"LINK\" target=_blank>`pandas`</a> \n",
    "\n",
    "You may also be interested in the following articles and lessons specifically relating to social network analysis:\n",
    "* <a href=\"https://programminghistorian.org/en/lessons/exploring-and-analyzing-network-data-with-python\" target=_blank>Exploring and Analyzing Network Data with Python </a>\n",
    "* <a href=\"https://programminghistorian.org/en/lessons/creating-network-diagrams-from-historical-sources\" target=_blank>From Hermeneutics to Data to Networks: Data Extraction and Network Visualization of Historical Sources</a>"
   ]
  },
  {
   "cell_type": "markdown",
   "metadata": {},
   "source": [
    "## Appendices"
   ]
  },
  {
   "cell_type": "code",
   "execution_count": null,
   "metadata": {},
   "outputs": [],
   "source": []
  }
 ],
 "metadata": {
  "kernelspec": {
   "display_name": "Python 3",
   "language": "python",
   "name": "python3"
  },
  "language_info": {
   "codemirror_mode": {
    "name": "ipython",
    "version": 3
   },
   "file_extension": ".py",
   "mimetype": "text/x-python",
   "name": "python",
   "nbconvert_exporter": "python",
   "pygments_lexer": "ipython3",
   "version": "3.7.3"
  },
  "toc": {
   "base_numbering": 1,
   "nav_menu": {},
   "number_sections": true,
   "sideBar": false,
   "skip_h1_title": true,
   "title_cell": "Table of Contents",
   "title_sidebar": "Contents",
   "toc_cell": true,
   "toc_position": {},
   "toc_section_display": true,
   "toc_window_display": false
  }
 },
 "nbformat": 4,
 "nbformat_minor": 4
}
