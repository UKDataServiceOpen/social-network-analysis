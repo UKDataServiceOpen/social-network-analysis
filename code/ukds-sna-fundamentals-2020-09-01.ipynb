{
 "cells": [
  {
   "cell_type": "markdown",
   "metadata": {},
   "source": [
    "![UKDS Logo](./images/UKDS_Logos_Col_Grey_300dpi.png)"
   ]
  },
  {
   "cell_type": "markdown",
   "metadata": {},
   "source": [
    "# Social Network Analysis: Fundamental Concepts"
   ]
  },
  {
   "cell_type": "markdown",
   "metadata": {},
   "source": [
    "Welcome to the <a href=\"https://ukdataservice.ac.uk/\" target=_blank>UK Data Service</a> training series on *New Forms of Data for Social Science Research*. This series guides you through some of the most common and valuable new sources of data available for social science research: data collected from websites, social media platorms, text data, conducting simulations (agent based modelling), to name a few. To help you get to grips with these new forms of data, we provide webinars, interactive notebooks containing live programming code, reading lists and more.\n",
    "\n",
    "* To access training materials for the entire series: <a href=\"https://github.com/UKDataServiceOpen/new-forms-of-data\" target=_blank>[Training Materials]</a>\n",
    "\n",
    "* To keep up to date with upcoming and past training events: <a href=\"https://ukdataservice.ac.uk/news-and-events/events\" target=_blank>[Events]</a>\n",
    "\n",
    "* To get in contact with feedback, ideas or to seek assistance: <a href=\"https://ukdataservice.ac.uk/help.aspx\" target=_blank>[Help]</a>\n",
    "\n",
    "<a href=\"https://www.research.manchester.ac.uk/portal/julia.kasmire.html\" target=_blank>Dr Julia Kasmire</a> and <a href=\"https://www.research.manchester.ac.uk/portal/diarmuid.mcdonnell.html\" target=_blank>Dr Diarmuid McDonnell</a> <br />\n",
    "UK Data Service  <br />\n",
    "University of Manchester <br />\n",
    "September 2020"
   ]
  },
  {
   "cell_type": "markdown",
   "metadata": {
    "toc": true
   },
   "source": [
    "<h1>Table of Contents<span class=\"tocSkip\"></span></h1>\n",
    "<div class=\"toc\"><ul class=\"toc-item\"><li><span><a href=\"#Introduction\" data-toc-modified-id=\"Introduction-1\"><span class=\"toc-item-num\">1&nbsp;&nbsp;</span>Introduction</a></span><ul class=\"toc-item\"><li><span><a href=\"#Aims\" data-toc-modified-id=\"Aims-1.1\"><span class=\"toc-item-num\">1.1&nbsp;&nbsp;</span>Aims</a></span></li><li><span><a href=\"#Lesson-details\" data-toc-modified-id=\"Lesson-details-1.2\"><span class=\"toc-item-num\">1.2&nbsp;&nbsp;</span>Lesson details</a></span></li></ul></li><li><span><a href=\"#Guide-to-using-this-resource\" data-toc-modified-id=\"Guide-to-using-this-resource-2\"><span class=\"toc-item-num\">2&nbsp;&nbsp;</span>Guide to using this resource</a></span><ul class=\"toc-item\"><li><span><a href=\"#Interaction\" data-toc-modified-id=\"Interaction-2.1\"><span class=\"toc-item-num\">2.1&nbsp;&nbsp;</span>Interaction</a></span></li><li><span><a href=\"#Learn-more\" data-toc-modified-id=\"Learn-more-2.2\"><span class=\"toc-item-num\">2.2&nbsp;&nbsp;</span>Learn more</a></span></li></ul></li><li><span><a href=\"#Overview\" data-toc-modified-id=\"Overview-3\"><span class=\"toc-item-num\">3&nbsp;&nbsp;</span>Overview</a></span><ul class=\"toc-item\"><li><span><a href=\"#What-is-Social-Network-Analysis-(SNA)?\" data-toc-modified-id=\"What-is-Social-Network-Analysis-(SNA)?-3.1\"><span class=\"toc-item-num\">3.1&nbsp;&nbsp;</span>What is Social Network Analysis (SNA)?</a></span></li><li><span><a href=\"#What-are-the-principles-behind-SNA?\" data-toc-modified-id=\"What-are-the-principles-behind-SNA?-3.2\"><span class=\"toc-item-num\">3.2&nbsp;&nbsp;</span>What are the principles behind SNA?</a></span></li><li><span><a href=\"#Why-should-you-consider-SNA-for-your-research?\" data-toc-modified-id=\"Why-should-you-consider-SNA-for-your-research?-3.3\"><span class=\"toc-item-num\">3.3&nbsp;&nbsp;</span>Why should you consider SNA for your research?</a></span></li><li><span><a href=\"#When-should-you-use-SNA?\" data-toc-modified-id=\"When-should-you-use-SNA?-3.4\"><span class=\"toc-item-num\">3.4&nbsp;&nbsp;</span>When should you use SNA?</a></span></li><li><span><a href=\"#What-does-SNA-involve?\" data-toc-modified-id=\"What-does-SNA-involve?-3.5\"><span class=\"toc-item-num\">3.5&nbsp;&nbsp;</span>What does SNA involve?</a></span></li><li><span><a href=\"#How-do-you-implement-SNA-in-your-research?\" data-toc-modified-id=\"How-do-you-implement-SNA-in-your-research?-3.6\"><span class=\"toc-item-num\">3.6&nbsp;&nbsp;</span>How do you implement SNA in your research?</a></span></li></ul></li><li><span><a href=\"#Key-Concepts\" data-toc-modified-id=\"Key-Concepts-4\"><span class=\"toc-item-num\">4&nbsp;&nbsp;</span>Key Concepts</a></span><ul class=\"toc-item\"><li><span><a href=\"#Entities\" data-toc-modified-id=\"Entities-4.1\"><span class=\"toc-item-num\">4.1&nbsp;&nbsp;</span>Entities</a></span></li><li><span><a href=\"#Connections\" data-toc-modified-id=\"Connections-4.2\"><span class=\"toc-item-num\">4.2&nbsp;&nbsp;</span>Connections</a></span></li><li><span><a href=\"#Components\" data-toc-modified-id=\"Components-4.3\"><span class=\"toc-item-num\">4.3&nbsp;&nbsp;</span>Components</a></span></li><li><span><a href=\"#Networks\" data-toc-modified-id=\"Networks-4.4\"><span class=\"toc-item-num\">4.4&nbsp;&nbsp;</span>Networks</a></span></li></ul></li><li><span><a href=\"#Representing-Networks\" data-toc-modified-id=\"Representing-Networks-5\"><span class=\"toc-item-num\">5&nbsp;&nbsp;</span>Representing Networks</a></span><ul class=\"toc-item\"><li><span><a href=\"#Matrices\" data-toc-modified-id=\"Matrices-5.1\"><span class=\"toc-item-num\">5.1&nbsp;&nbsp;</span>Matrices</a></span></li><li><span><a href=\"#Graphs\" data-toc-modified-id=\"Graphs-5.2\"><span class=\"toc-item-num\">5.2&nbsp;&nbsp;</span>Graphs</a></span></li></ul></li><li><span><a href=\"#A-Simple-Analysis\" data-toc-modified-id=\"A-Simple-Analysis-6\"><span class=\"toc-item-num\">6&nbsp;&nbsp;</span>A Simple Analysis</a></span><ul class=\"toc-item\"><li><span><a href=\"#Relational-data\" data-toc-modified-id=\"Relational-data-6.1\"><span class=\"toc-item-num\">6.1&nbsp;&nbsp;</span>Relational data</a></span></li><li><span><a href=\"#Add-node-attributes\" data-toc-modified-id=\"Add-node-attributes-6.2\"><span class=\"toc-item-num\">6.2&nbsp;&nbsp;</span>Add node attributes</a></span></li><li><span><a href=\"#Whole-network-properties\" data-toc-modified-id=\"Whole-network-properties-6.3\"><span class=\"toc-item-num\">6.3&nbsp;&nbsp;</span>Whole network properties</a></span></li><li><span><a href=\"#Components\" data-toc-modified-id=\"Components-6.4\"><span class=\"toc-item-num\">6.4&nbsp;&nbsp;</span>Components</a></span></li></ul></li><li><span><a href=\"#Conclusion\" data-toc-modified-id=\"Conclusion-7\"><span class=\"toc-item-num\">7&nbsp;&nbsp;</span>Conclusion</a></span></li><li><span><a href=\"#Bibliography\" data-toc-modified-id=\"Bibliography-8\"><span class=\"toc-item-num\">8&nbsp;&nbsp;</span>Bibliography</a></span></li><li><span><a href=\"#Further-reading-and-resources\" data-toc-modified-id=\"Further-reading-and-resources-9\"><span class=\"toc-item-num\">9&nbsp;&nbsp;</span>Further reading and resources</a></span></li><li><span><a href=\"#Appendices\" data-toc-modified-id=\"Appendices-10\"><span class=\"toc-item-num\">10&nbsp;&nbsp;</span>Appendices</a></span></li></ul></div>"
   ]
  },
  {
   "cell_type": "markdown",
   "metadata": {},
   "source": [
    "## Introduction\n",
    "\n",
    "Vast swathes of our social interactions and personal behaviours are now conducted online and/or captured digitally. Thus, computational methods for collecting, cleaning and analysing data are an increasingly important component of a social scientist’s toolkit.\n",
    "\n",
    "In this training series we cover some of the essential knowledge and skills needed to engage in **Social Network Analysis (SNA)**, a methodological approach that provides concepts, tools and techniques for uncovering and understanding social structures, relations and networks of assocation. We focus on the three major stages of SNA:\n",
    "1. Understanding fundamental concepts and terms [Focus of this notebook].\n",
    "2. Collecting and cleaning social network data from various sources.\n",
    "3. Performing basic and intermediate analyses of social network data. \n",
    "\n",
    "By the end of these lessons you should be confident in your understanding of key SNA concepts and terms, proficient in the handling and cleaning of social network data, and able to apply a range of analytical techniques to derive substantive insight about social structures and relations. In addition, you will gain fluency in the use of the Python programming language for SNA and other computational social science tasks."
   ]
  },
  {
   "cell_type": "markdown",
   "metadata": {},
   "source": [
    "### Aims\n",
    "\n",
    "This lesson - **Social Network Analysis: Fundamental Concepts** - has two aims:\n",
    "1. Define and examine fundamental concepts and terms underpinning SNA.\n",
    "2. Cultivate your computational skills through coding examples. For example, there are a number of opportunities for you to interactively explore key concepts, as well as examine data stored in a network format."
   ]
  },
  {
   "cell_type": "markdown",
   "metadata": {},
   "source": [
    "### Lesson details\n",
    "\n",
    "* **Level**: Introductory, for individuals with no prior knowledge or experience of social network analysis.\n",
    "* **Duration**: 30-60 minutes.\n",
    "* **Pre-requisites**: None.\n",
    "* **Audience**: Researchers and analysts from any disciplinary background interested in employing network analysis for social science research purposes.\n",
    "* **Programming language**: Python.\n",
    "* **Learning outcomes**:\n",
    "\t1. Understand fundamental concepts and terms associated with SNA.\n",
    "\t2. Understand how social network data are structured and represented."
   ]
  },
  {
   "cell_type": "markdown",
   "metadata": {},
   "source": [
    "## Guide to using this resource\n",
    "\n",
    "This learning resource was built using <a href=\"https://jupyter.org/\" target=_blank>Jupyter Notebook</a>, an open-source software application that allows you to mix code, results and narrative in a single document. As <a href=\"https://jupyter4edu.github.io/jupyter-edu-book/\" target=_blank>Barba et al. (2019)</a> espouse:\n",
    "> In a world where every subject matter can have a data-supported treatment, where computational devices are omnipresent and pervasive, the union of natural language and computation creates compelling communication and learning opportunities.\n",
    "\n",
    "If you are familiar with Jupyter notebooks then skip ahead to the main content (*What is Social Network Analysis?*). Otherwise, the following is a quick guide to navigating and interacting with the notebook."
   ]
  },
  {
   "cell_type": "markdown",
   "metadata": {},
   "source": [
    "### Interaction\n",
    "\n",
    "**You only need to execute the code that is contained in sections which are marked by `In []`.**\n",
    "\n",
    "To execute a cell, click or double-click the cell and press the `Run` button on the top toolbar (you can also use the keyboard shortcut Shift + Enter).\n",
    "\n",
    "Try it for yourself:"
   ]
  },
  {
   "cell_type": "code",
   "execution_count": null,
   "metadata": {},
   "outputs": [],
   "source": [
    "print(\"Enter your name and press enter:\")\n",
    "name = input()\n",
    "print(\"\\r\")\n",
    "print(\"Hello {}, enjoy learning more about social network analysis!\".format(name))"
   ]
  },
  {
   "cell_type": "markdown",
   "metadata": {},
   "source": [
    "### Learn more\n",
    "\n",
    "Jupyter notebooks provide rich, flexible features for conducting and documenting your data analysis workflow. To learn more about additional notebook features, we recommend working through some of the <a href=\"https://github.com/darribas/gds19/blob/master/content/labs/lab_00.ipynb\" target=_blank>materials</a> provided by Dani Arribas-Bel at the University of Liverpool. "
   ]
  },
  {
   "cell_type": "markdown",
   "metadata": {},
   "source": [
    "## Overview\n",
    "\n",
    "Social networks are commonplace in modern life, mainly due to the influence of social media platforms like Twitter, Facebook, Instagram and many others, though there are also a multitude of networks arising from offline interactions also e.g., business/academic networking, community groups organised around causes/neighbourhood projects etc (Scott, 2017)."
   ]
  },
  {
   "cell_type": "markdown",
   "metadata": {},
   "source": [
    "Terminology\n",
    "\n",
    "Unit of Analysis"
   ]
  },
  {
   "cell_type": "markdown",
   "metadata": {},
   "source": [
    "### What is Social Network Analysis (SNA)?\n",
    "\n",
    "Social network analysis (SNA) is a methodological and conceptual toolbox for the measurement, systematic description, and analysis of patterns in relational structures in the social world (Schneider, 2008). A relation is a distinctive type of connection or tie between two entities (Wasserman & Faust, 1994). For example, a married couple share a spousal relation, a brother and sister share a sibling relation, co-workers share a collegial relation etc. Relations are the building blocks of networks, and thus SNA is concerned with and most appropriate for analyses of data capturing relations between units of analysis (Scott, 2017).\n",
    "\n",
    "[*Key point that needs to be said somewhere - does it go in the principles section?*]\"That is, the network analyst is always interested in how the individual is embedded within a structure and how the structure emerges from the micro-relations between individual parts.\" (7 of PDF)\n",
    "\n",
    "It originated from *network theory* - a branch of *graph theory* - which seeks to generate measurable representations of patterns of relationships between entities in an abstract or actual space (Owen-Smith, 2017). As a result of these origins, SNA is a highly technical and mathematical approach to sociological analysis, replete with an intimidating vocabularly of terms and concepts not otherwise encountered with other forms of social science research (Scott, 2017). In addition, the data underpinning SNA have a distinctive structure and thus require specialised approaches to data manipulation and analysis.\n",
    "\n",
    "This lesson will provide a clear, concise guide to these concepts and terms, as well as introduce you to social network data. "
   ]
  },
  {
   "cell_type": "markdown",
   "metadata": {},
   "source": [
    "### What are the principles behind SNA?\n",
    "\n",
    "Borgatti et al. (2002) establish five key principles of SNA:\n",
    "1. *SNA focuses on relations (connections) between actors.* Actors and their relations are seen as interdependent rather than independent units.\n",
    "2. *The relations between actors are the most meaningful focus of analysis.* Your data may allow you to perform other types of analyses - e.g., how does income vary across individuals and is it associated with variation in subjective wellbeing? - but the focus of SNA is on examining and understanding how actors are connected e.g., to what extent are individuals connected and are these patterns associated with income and subjective wellbeing? Put another way, the central concern of analytical concern is the relation, not the individual.\n",
    "3. *The structural and/or relational features of these actors constitute the analytically relevant characteristics of them.* To quote Freeman (2006, p. #):\n",
    ">...these patterns [interactions between people] are important features of the lives of the individuals who display them.\n",
    "4. *Relational ties between these actors are the channels for the flow of both material and non-material resources*. In essence, the connections are important and offer opportunities for sharing of valuable resources.\n",
    "5. *The complete web of actors, their positions and their linkages - the network structure - provides opportunities for (and constraints upon) action.* This is one of the most important points to remember: networks are not only constructed from the relations between actors, they in turn influence the behaviour, opportunities, contraints and outcomes of said actors. We'll reflect on some of the mechanisms through which networks affect outcomes at the micro level in a later lesson [LINK]().\n",
    "\n",
    "It is this focus on relational rather than attributional aspects of the units of analysis that makes SNA distinct as a methodology (Caiani, 2014)."
   ]
  },
  {
   "cell_type": "markdown",
   "metadata": {},
   "source": [
    "### Why should you consider SNA for your research?\n",
    "\n",
    "From an analytical perspective, SNA can be employed for a variety of valuable purposes (Caiani, 2014; Owen-Smith, 2017):\n",
    "* The social phenomenon of interest is a network i.e., it is the unit of analysis in your research project. For example, a researcher may be interested in analysing the London Underground rail network (like in this [study](https://doi.org/10.1016/j.jtrangeo.2017.11.018)).\n",
    "* The features and properties of a network can be important explanatory factors ('right-hand side' variables) for understanding other social phenomena. For example, in a review of the impact of social networks on health outcomes, Smith and Christakis (2008, p. 420) conclude that:\n",
    ">  illness, disability, health behaviors, health care use, and death in one person are associated with similar outcomes in numerous others to whom that person is tied, and there can be a nonbiological transmission of illness."
   ]
  },
  {
   "cell_type": "markdown",
   "metadata": {},
   "source": [
    "### When should you use SNA?\n",
    "\n",
    "When you are dealing with **relational data** i.e., data capturing relationships and connections between units of analysis. This is in contrast to **attributional data**, which captures the attributes of your units of analysis.\n",
    "\n",
    "[Give Examples]"
   ]
  },
  {
   "cell_type": "markdown",
   "metadata": {},
   "source": [
    "### What does SNA involve?\n",
    "\n",
    "Employing SNA in your research typically involves the following activities (Scott, 2017):\n",
    "* Identifying and visualising patterns of relations between units of analysis.\n",
    "* Examining structural properties/characteristics of these relations.\n",
    "* Analysing implications of these relations on outcomes experienced by units of analysis.\n",
    "\n",
    "As a result of its focus on the relational characteristics of the units of analysis, SNA requires distinctive data structures, methods of analysis and data visualisation techniques (Caiani, 2014). "
   ]
  },
  {
   "cell_type": "markdown",
   "metadata": {},
   "source": [
    "### How do you implement SNA in your research?\n",
    "\n",
    "There are a number of key steps in conducting social network analysis (Hanneman & Riddle, 2005; Owen-Smith, 2017):\n",
    "1. Pose a carefully articulated research question that requires understanding and/or analysis of a network.\n",
    "2. Decide which units of analysis and types of relations to analyse i.e., who is connected and which relationships matter? \n",
    "3. Collect or select a data set that provides relational data on your units of analysis. This data set can include attributional data also: for example, Twitter data can provide information on which accounts follow each other (relational), as well as details about the accounts themselves (attributional).\n",
    "4. Summarise the network and its key features using appropriate measures e.g., network size, density, cohesion etc."
   ]
  },
  {
   "cell_type": "markdown",
   "metadata": {},
   "source": [
    "## Key Concepts\n",
    "\n",
    "[*Need to use plenty of visual and tabular (matrix) examples throughout this section*]\n",
    "\n",
    "[*At this point we want to switch to the language of nodes and ties, and give a reason up front for doing so*]"
   ]
  },
  {
   "cell_type": "markdown",
   "metadata": {},
   "source": [
    "A network has two key components (Owen-Smith, 2017):\n",
    "1. The entities that are (or can be) connected in a network.\n",
    "2. The connections that exist (or could exist) between the entities.\n",
    "\n",
    "For example, a family tree is a network containing individuals (entities) that are related through some type of familial tie (connection). Therefore a network is an aggregation or collection of these entities and their connections."
   ]
  },
  {
   "cell_type": "markdown",
   "metadata": {},
   "source": [
    "### Entities\n",
    "\n",
    "The entities that are connected in a network are known as **nodes**, a term derived from network theory. Nodes can be individuals, organisations, countries, animals, events, computers, train stations etc. We could also refer to entities as *actors* or *agents* - which are terms specific to SNA -, or *vertices* - which is a term used in geometry -, or *points*, which is used in graph theory. For consistency, we will use the term **node**.\n",
    "\n",
    "Two nodes that are or could be connected are called a **dyad**, while three nodes that are or could be connected are called a **triad**.\n",
    "\n",
    "We'll cover this in more detail in a later lesson but for now it is worth posing the following questions about nodes:\n",
    "* Who are they and how many of them are there in a network?\n",
    "* What connections/ties exists between them?\n",
    "* What positions do they occupy in the network? For example, do they broker connections between other nodes?"
   ]
  },
  {
   "cell_type": "markdown",
   "metadata": {},
   "source": [
    "### Connections\n",
    "\n",
    "[*Talk about direct and indirect ties, strong and weak ties*]\n",
    "\n",
    "Connections or relations between entities are known as **ties**. Other terms include *edges* (network theory), *lines* (graph theory), or *links*. There are a multitude of different types of ties: for example, a family tree contains ties between brothers and sisters, nieces and uncles, children and parents etc. Two individuals can also be related in multiple ways: for example, a pair of colleagues may also be good friends, part of the same sports club, and have attended the same university. As stated previously, it is therefore crucial to clearly define which ties you are interested in measuring, and acknowledging that your data are most likely a sample of **all** possible ties that exist between your nodes (Hanneman & Riddle, 2005).\n",
    "\n",
    "There are many measurement scales we can use to measure ties (Hanneman & Riddle, 2005):\n",
    "* Nominal or Binary: presence or absence of a relation\n",
    "* Multinomial: type of relation e.g., friend, colleague etc - usually transformed into binary.\n",
    "* Ordinal (grouped): likert scale of relation strength or frequency e.g., on a scale of 1-5 (1 = weak, 5 = strong), classify the relationship you have with each family member.\n",
    "* Ordinal (full-rank): rank nodes in order of relation e.g., best friend, second best friend.\n",
    "* Interval: numerical scores assigned to relations e.g., relations between charities and funders, valued by how much funding is provided. It is possible to switch from interval to binary by specifying a threshold or cut point.\n",
    "\n",
    "However many methods and measures of analysis focus on ties measured on a *binary* or *interval* scale, and thus we focus on these throughout the rest of this and future lessons.\n",
    "\n",
    "We can define a ties as possessing two dimensions (Scott, 2017):\n",
    "1. Numeration / Strength:\n",
    "    * Binary: a tie exists between two entities\n",
    "    * Valued: a tie can be assigned a value representing greater / lesser importance, strength, prominence etc. (This corresponds to the interval measurement scale)\n",
    "2. Directionality:\n",
    "    * Directed: the tie flows from one entity to another (and is potentially reciprocated); put another way, the relation has a *source node* and *target node*. For example, an individual (source) donates money to a charity (target).\n",
    "    * Undirected: the tie does not originate from or terminate at a particular node e.g., if John is married to Jane, Jane must be married to John. Therefore an undirected tie *symmetric* or *reciprical* by default. It is also possible to treat directed ties as undirected: for example, I am sharing this lesson with you, therefore a connection exists between us.\n",
    "    \n",
    "We can combine these two dimensions to produce the following types of ties (give examples):\n",
    "Arcs\n",
    "Edges"
   ]
  },
  {
   "cell_type": "markdown",
   "metadata": {},
   "source": [
    "### Components\n",
    "\n",
    "Also known as a subgraph, a **component** is a specific subgroup of nodes and ties contained within the overall network. Technically, a component is a set of nodes where every node is maximally connected: that is, each node is connected to every other node, either directly or indirectly. In addition, there are no connections with nodes outside the component (Scott, 2017).\n",
    "\n",
    "It can be hard to make sense of a component, so let's visualise one below. [*Draw example of ten nodes, seven of which are contained within a node*]"
   ]
  },
  {
   "cell_type": "markdown",
   "metadata": {},
   "source": [
    "### Networks"
   ]
  },
  {
   "cell_type": "markdown",
   "metadata": {},
   "source": [
    "[*What is a network?*] \"It is often the case that the structure of a network depends on the attributes of the actors embedded in it.\"\n",
    "\n",
    "\n",
    "Types of networks:\n",
    "Whole = totality of connections between a set of nodes.\n",
    "Ego-centric = defines a focal node (ego) and measures  its connections with other nodes (alters); we are usually interested in the connections between alters also."
   ]
  },
  {
   "cell_type": "markdown",
   "metadata": {},
   "source": [
    "Networks tend to be multi-modal i.e., nested within other networks (Hanneman & Riddle, 2005). For example, individuals are nested within organisations, which are nested within industries, which are nested within countries etc. Individuals may have ties to people in a different organisation, while the organisation may also have ties with other organisations. Therefore using our understanding of nodes (entities) and ties (connections), we can identify different network modalities:\n",
    "* One-mode network contains one type of node (e.g., organisations) - this is also known as a *unipartite* network.\n",
    "* Two-mode network contains two types of node (e.g., organisations and their employees) - this is also known as a *bipartite* or *affiliate* network.\n",
    "\n",
    "A two-mode network can be conceptualised and analysed as two one-mode networks (projections) - this process is known as *inducing*. However, as Owen-Smith (2017, p. 223) warns: \n",
    "> Care must be taken when inducing one-mode network projections from two-mode network data because not all affiliations provide equally compelling evidence of actual social relationships.\n",
    "\n",
    "For example, if we were convert our two-mode network of organisations and employees to a one-mode network of employees, it is likely to be very sparsely connected because most employees only work for one company.\n",
    "\n",
    "A point to remember: network structure is not always the result of deliberate action on the part of the entities i.e., their is no vision or strategy for the network, it simply arises through the many small decisions of the entities."
   ]
  },
  {
   "cell_type": "markdown",
   "metadata": {},
   "source": [
    "## Representing Networks"
   ]
  },
  {
   "cell_type": "markdown",
   "metadata": {},
   "source": [
    "Networks can be represented using two main, complementary methods:\n",
    "1. Matrices\n",
    "2. Graphs"
   ]
  },
  {
   "cell_type": "markdown",
   "metadata": {},
   "source": [
    "### Matrices\n",
    "\n",
    "A matrix is an arrangement of elements into rows (i) and columns (j). Matrices will be very familiar to anyone who has worked with data stored in a spreadsheet: each row represents an observation, each column a variable, and each cell a value for a given variable and observation. For example, here is a data set containing basic details for charities registered in Manchester, U.K.:"
   ]
  },
  {
   "cell_type": "code",
   "execution_count": 10,
   "metadata": {},
   "outputs": [
    {
     "name": "stdout",
     "output_type": "stream",
     "text": [
      "(1049, 6)\n"
     ]
    },
    {
     "data": {
      "text/html": [
       "<div>\n",
       "<style scoped>\n",
       "    .dataframe tbody tr th:only-of-type {\n",
       "        vertical-align: middle;\n",
       "    }\n",
       "\n",
       "    .dataframe tbody tr th {\n",
       "        vertical-align: top;\n",
       "    }\n",
       "\n",
       "    .dataframe thead th {\n",
       "        text-align: right;\n",
       "    }\n",
       "</style>\n",
       "<table border=\"1\" class=\"dataframe\">\n",
       "  <thead>\n",
       "    <tr style=\"text-align: right;\">\n",
       "      <th></th>\n",
       "      <th>regno</th>\n",
       "      <th>Name</th>\n",
       "      <th>Latest income</th>\n",
       "      <th>Latest expenditure</th>\n",
       "      <th>Address</th>\n",
       "      <th>Postcode</th>\n",
       "    </tr>\n",
       "  </thead>\n",
       "  <tbody>\n",
       "    <tr>\n",
       "      <th>1</th>\n",
       "      <td>207071</td>\n",
       "      <td>ABRAHAM ALGY BLOOM FOUNDATION</td>\n",
       "      <td>5041</td>\n",
       "      <td>8525</td>\n",
       "      <td>ONWARD BUILDINGS, 207 DEANSGATE, MANCHESTER</td>\n",
       "      <td>M3 3NW</td>\n",
       "    </tr>\n",
       "    <tr>\n",
       "      <th>2</th>\n",
       "      <td>214684</td>\n",
       "      <td>THE DOWAGER COUNTESS ELEANOR PEEL TRUST</td>\n",
       "      <td>716970</td>\n",
       "      <td>557777</td>\n",
       "      <td>HILL DICKINSON, 50 FOUNTAIN STREET, MANCHESTER</td>\n",
       "      <td>M2 2AS</td>\n",
       "    </tr>\n",
       "    <tr>\n",
       "      <th>3</th>\n",
       "      <td>215728</td>\n",
       "      <td>CHARITY KNOWN AS THE SALE ALMSHOUSES</td>\n",
       "      <td>30840</td>\n",
       "      <td>21237</td>\n",
       "      <td>Mayes Gardens Staff Office, Harrison Street, M...</td>\n",
       "      <td>M4 7FN</td>\n",
       "    </tr>\n",
       "    <tr>\n",
       "      <th>4</th>\n",
       "      <td>217014</td>\n",
       "      <td>THE MANCHESTER CHARTERED ACCOUNTANTS STUDENTS'...</td>\n",
       "      <td>37773</td>\n",
       "      <td>42185</td>\n",
       "      <td>RSM, 3 Hardman Street, Spinningfields, Manchester</td>\n",
       "      <td>M3 3HF</td>\n",
       "    </tr>\n",
       "    <tr>\n",
       "      <th>5</th>\n",
       "      <td>221438</td>\n",
       "      <td>PHARMACIST SUPPORT</td>\n",
       "      <td>0</td>\n",
       "      <td>0</td>\n",
       "      <td>Pharmacist Support, 196 Deansgate, MANCHESTER</td>\n",
       "      <td>M3 3WF</td>\n",
       "    </tr>\n",
       "  </tbody>\n",
       "</table>\n",
       "</div>"
      ],
      "text/plain": [
       "    regno                                               Name  Latest income  \\\n",
       "1  207071                      ABRAHAM ALGY BLOOM FOUNDATION           5041   \n",
       "2  214684            THE DOWAGER COUNTESS ELEANOR PEEL TRUST         716970   \n",
       "3  215728               CHARITY KNOWN AS THE SALE ALMSHOUSES          30840   \n",
       "4  217014  THE MANCHESTER CHARTERED ACCOUNTANTS STUDENTS'...          37773   \n",
       "5  221438                                 PHARMACIST SUPPORT              0   \n",
       "\n",
       "   Latest expenditure                                            Address  \\\n",
       "1                8525        ONWARD BUILDINGS, 207 DEANSGATE, MANCHESTER   \n",
       "2              557777     HILL DICKINSON, 50 FOUNTAIN STREET, MANCHESTER   \n",
       "3               21237  Mayes Gardens Staff Office, Harrison Street, M...   \n",
       "4               42185  RSM, 3 Hardman Street, Spinningfields, Manchester   \n",
       "5                   0      Pharmacist Support, 196 Deansgate, MANCHESTER   \n",
       "\n",
       "  Postcode  \n",
       "1   M3 3NW  \n",
       "2   M2 2AS  \n",
       "3   M4 7FN  \n",
       "4   M3 3HF  \n",
       "5   M3 3WF  "
      ]
     },
     "execution_count": 10,
     "metadata": {},
     "output_type": "execute_result"
    }
   ],
   "source": [
    "# Import modules #\n",
    "\n",
    "import pandas as pd\n",
    "import numpy as np\n",
    "\n",
    "# Load in data from file #\n",
    "\n",
    "data = pd.read_csv(\"./data/manchester-charities-2020-07-03.csv\", index_col = False)\n",
    "data.index += 1\n",
    "print(data.shape) # get number of rows and columns\n",
    "data.head(5) # view first five observations"
   ]
  },
  {
   "cell_type": "markdown",
   "metadata": {},
   "source": [
    "The data set is stored as a matrix containing 1049 rows and 6 columns. Through visually examining the matrix, we can see that the charity number for THE DOWAGER COUNTESS ELEANOR PEEL TRUST is contained in row 2, column 1 - we can express this using matrix notation as follows: \n",
    "\n",
    "\\begin{equation} \\text{X(2, 1)} = \\text{217014} \\end{equation}\n",
    "\n",
    "Where:\n",
    "\n",
    "$X$ is the name of the matrix (this can be of your chosing);\n",
    "\n",
    "$2$ is the row identifier; and\n",
    "\n",
    "$1$ is the column identifier.\n",
    "\n",
    "Keep this notation in mind as we progress, as this is how ties between nodes in a network are represented i.e., as pairs of nodes. Finally, a useful heuristic is to think of the rows as the *source* of the tie and the columns as the *target* of the tie; while this perspective does not have any meaning for undirected ties, it is does for directed ties."
   ]
  },
  {
   "cell_type": "markdown",
   "metadata": {},
   "source": [
    "#### Social networks as matrices\n",
    "\n",
    "The relations between nodes in a social network are often stored in matrix format, the simplest of which is a \"square\" matrix i.e., the number of rows equals the number of columns. Let's take some simple, fictional social network data and examine how it is stored:"
   ]
  },
  {
   "cell_type": "code",
   "execution_count": 18,
   "metadata": {
    "scrolled": true
   },
   "outputs": [
    {
     "name": "stdout",
     "output_type": "stream",
     "text": [
      "(8, 8)\n"
     ]
    },
    {
     "data": {
      "text/html": [
       "<div>\n",
       "<style scoped>\n",
       "    .dataframe tbody tr th:only-of-type {\n",
       "        vertical-align: middle;\n",
       "    }\n",
       "\n",
       "    .dataframe tbody tr th {\n",
       "        vertical-align: top;\n",
       "    }\n",
       "\n",
       "    .dataframe thead th {\n",
       "        text-align: right;\n",
       "    }\n",
       "</style>\n",
       "<table border=\"1\" class=\"dataframe\">\n",
       "  <thead>\n",
       "    <tr style=\"text-align: right;\">\n",
       "      <th></th>\n",
       "      <th>Bruce Springsteen</th>\n",
       "      <th>Garry Tallent</th>\n",
       "      <th>Roy Bittan</th>\n",
       "      <th>Max Weinberg</th>\n",
       "      <th>Steven Van Zandt</th>\n",
       "      <th>Nils Lofgren</th>\n",
       "      <th>Patti Scialfa</th>\n",
       "      <th>Jake Clemons</th>\n",
       "    </tr>\n",
       "  </thead>\n",
       "  <tbody>\n",
       "    <tr>\n",
       "      <th>Bruce Springsteen</th>\n",
       "      <td>nan</td>\n",
       "      <td>0</td>\n",
       "      <td>1</td>\n",
       "      <td>1</td>\n",
       "      <td>1</td>\n",
       "      <td>0</td>\n",
       "      <td>1</td>\n",
       "      <td>0</td>\n",
       "    </tr>\n",
       "    <tr>\n",
       "      <th>Garry Tallent</th>\n",
       "      <td>0</td>\n",
       "      <td>nan</td>\n",
       "      <td>0</td>\n",
       "      <td>0</td>\n",
       "      <td>0</td>\n",
       "      <td>0</td>\n",
       "      <td>0</td>\n",
       "      <td>0</td>\n",
       "    </tr>\n",
       "    <tr>\n",
       "      <th>Roy Bittan</th>\n",
       "      <td>1</td>\n",
       "      <td>0</td>\n",
       "      <td>nan</td>\n",
       "      <td>1</td>\n",
       "      <td>1</td>\n",
       "      <td>1</td>\n",
       "      <td>0</td>\n",
       "      <td>1</td>\n",
       "    </tr>\n",
       "    <tr>\n",
       "      <th>Max Weinberg</th>\n",
       "      <td>1</td>\n",
       "      <td>0</td>\n",
       "      <td>1</td>\n",
       "      <td>nan</td>\n",
       "      <td>1</td>\n",
       "      <td>1</td>\n",
       "      <td>1</td>\n",
       "      <td>1</td>\n",
       "    </tr>\n",
       "    <tr>\n",
       "      <th>Steven Van Zandt</th>\n",
       "      <td>1</td>\n",
       "      <td>0</td>\n",
       "      <td>1</td>\n",
       "      <td>1</td>\n",
       "      <td>nan</td>\n",
       "      <td>0</td>\n",
       "      <td>1</td>\n",
       "      <td>1</td>\n",
       "    </tr>\n",
       "    <tr>\n",
       "      <th>Nils Lofgren</th>\n",
       "      <td>0</td>\n",
       "      <td>0</td>\n",
       "      <td>1</td>\n",
       "      <td>1</td>\n",
       "      <td>0</td>\n",
       "      <td>nan</td>\n",
       "      <td>0</td>\n",
       "      <td>0</td>\n",
       "    </tr>\n",
       "    <tr>\n",
       "      <th>Patti Scialfa</th>\n",
       "      <td>1</td>\n",
       "      <td>0</td>\n",
       "      <td>0</td>\n",
       "      <td>1</td>\n",
       "      <td>1</td>\n",
       "      <td>0</td>\n",
       "      <td>nan</td>\n",
       "      <td>1</td>\n",
       "    </tr>\n",
       "    <tr>\n",
       "      <th>Jake Clemons</th>\n",
       "      <td>0</td>\n",
       "      <td>0</td>\n",
       "      <td>1</td>\n",
       "      <td>1</td>\n",
       "      <td>1</td>\n",
       "      <td>0</td>\n",
       "      <td>1</td>\n",
       "      <td>nan</td>\n",
       "    </tr>\n",
       "  </tbody>\n",
       "</table>\n",
       "</div>"
      ],
      "text/plain": [
       "                   Bruce Springsteen  Garry Tallent  Roy Bittan  Max Weinberg  \\\n",
       "Bruce Springsteen                nan              0           1             1   \n",
       "Garry Tallent                      0            nan           0             0   \n",
       "Roy Bittan                         1              0         nan             1   \n",
       "Max Weinberg                       1              0           1           nan   \n",
       "Steven Van Zandt                   1              0           1             1   \n",
       "Nils Lofgren                       0              0           1             1   \n",
       "Patti Scialfa                      1              0           0             1   \n",
       "Jake Clemons                       0              0           1             1   \n",
       "\n",
       "                   Steven Van Zandt  Nils Lofgren  Patti Scialfa  Jake Clemons  \n",
       "Bruce Springsteen                 1             0              1             0  \n",
       "Garry Tallent                     0             0              0             0  \n",
       "Roy Bittan                        1             1              0             1  \n",
       "Max Weinberg                      1             1              1             1  \n",
       "Steven Van Zandt                nan             0              1             1  \n",
       "Nils Lofgren                      0           nan              0             0  \n",
       "Patti Scialfa                     1             0            nan             1  \n",
       "Jake Clemons                      1             0              1           nan  "
      ]
     },
     "execution_count": 18,
     "metadata": {},
     "output_type": "execute_result"
    }
   ],
   "source": [
    "estreet = pd.read_csv(\"./data/e-street-band-members-2020-08-18.csv\", index_col = 0)\n",
    "pd.options.display.float_format = '{:,.0f}'.format # change display of decimal numbers\n",
    "\n",
    "print(estreet.shape)\n",
    "estreet # view data set"
   ]
  },
  {
   "cell_type": "markdown",
   "metadata": {},
   "source": [
    "Above we have a square matrix containing one type of node: current members of the [E Street Band](https://en.wikipedia.org/wiki/E_Street_Band). The matrix captures friendship ties between each member of the band: the ties are *binary* - are a pair of band members friends or not - and *undirected* - there is no source of the friendship. Because the ties are undirected, we can say that the matrix is *symmetric*. For example, saying Bruce Springsteen is friends with Roy Bittan is the same as saying Roy Bittan is friends with Bruce Springsteen - in matrix notation: $X(Bruce Springsteen, Roy Brittan)$ = $X(Roy Brittan, Bruce Springsteen)$. Diagonal values represent a node's tie to itself: this does not have any meaning in our example, hence why the value is missing (*nan*: Not a Number).\n",
    "\n",
    "Therefore we can describe this social network as an *adjacency matrix*: it maps who is next to whom in a social space. Saying two nodes are adjacent is another way of describing the presence of a tie between them. \n",
    "\n",
    "In summary, the ties between E Street Band members are stored as a binary, undirected, square matrix."
   ]
  },
  {
   "cell_type": "markdown",
   "metadata": {},
   "source": [
    "If we wanted to identify the value in row 5, column 1: \n",
    "\n",
    "X() \n",
    "* Transposed matrix X' = h x g\n",
    "* One-mode network XX' = (g x h) * (h x g) = (g x g)\n",
    "* One-mode network X'X = (h x g) * (g x h) = (h x h)"
   ]
  },
  {
   "cell_type": "code",
   "execution_count": 41,
   "metadata": {},
   "outputs": [
    {
     "data": {
      "text/html": [
       "<div>\n",
       "<style scoped>\n",
       "    .dataframe tbody tr th:only-of-type {\n",
       "        vertical-align: middle;\n",
       "    }\n",
       "\n",
       "    .dataframe tbody tr th {\n",
       "        vertical-align: top;\n",
       "    }\n",
       "\n",
       "    .dataframe thead th {\n",
       "        text-align: right;\n",
       "    }\n",
       "</style>\n",
       "<table border=\"1\" class=\"dataframe\">\n",
       "  <thead>\n",
       "    <tr style=\"text-align: right;\">\n",
       "      <th></th>\n",
       "      <th>Bruce Springsteen</th>\n",
       "      <th>Garry Tallent</th>\n",
       "      <th>Roy Bittan</th>\n",
       "      <th>Max Weinberg</th>\n",
       "      <th>Steven Van Zandt</th>\n",
       "      <th>Nils Lofgren</th>\n",
       "      <th>Patti Scialfa</th>\n",
       "      <th>Jake Clemons</th>\n",
       "    </tr>\n",
       "  </thead>\n",
       "  <tbody>\n",
       "    <tr>\n",
       "      <th>Bruce Springsteen</th>\n",
       "      <td>nan</td>\n",
       "      <td>1</td>\n",
       "      <td>1</td>\n",
       "      <td>1</td>\n",
       "      <td>1</td>\n",
       "      <td>1</td>\n",
       "      <td>1</td>\n",
       "      <td>1</td>\n",
       "    </tr>\n",
       "    <tr>\n",
       "      <th>Garry Tallent</th>\n",
       "      <td>1</td>\n",
       "      <td>nan</td>\n",
       "      <td>1</td>\n",
       "      <td>1</td>\n",
       "      <td>1</td>\n",
       "      <td>1</td>\n",
       "      <td>1</td>\n",
       "      <td>1</td>\n",
       "    </tr>\n",
       "    <tr>\n",
       "      <th>Roy Bittan</th>\n",
       "      <td>1</td>\n",
       "      <td>1</td>\n",
       "      <td>nan</td>\n",
       "      <td>1</td>\n",
       "      <td>1</td>\n",
       "      <td>1</td>\n",
       "      <td>1</td>\n",
       "      <td>1</td>\n",
       "    </tr>\n",
       "    <tr>\n",
       "      <th>Max Weinberg</th>\n",
       "      <td>1</td>\n",
       "      <td>1</td>\n",
       "      <td>1</td>\n",
       "      <td>nan</td>\n",
       "      <td>1</td>\n",
       "      <td>1</td>\n",
       "      <td>1</td>\n",
       "      <td>1</td>\n",
       "    </tr>\n",
       "    <tr>\n",
       "      <th>Steven Van Zandt</th>\n",
       "      <td>1</td>\n",
       "      <td>1</td>\n",
       "      <td>1</td>\n",
       "      <td>1</td>\n",
       "      <td>nan</td>\n",
       "      <td>1</td>\n",
       "      <td>1</td>\n",
       "      <td>1</td>\n",
       "    </tr>\n",
       "    <tr>\n",
       "      <th>Nils Lofgren</th>\n",
       "      <td>1</td>\n",
       "      <td>1</td>\n",
       "      <td>1</td>\n",
       "      <td>1</td>\n",
       "      <td>1</td>\n",
       "      <td>nan</td>\n",
       "      <td>1</td>\n",
       "      <td>1</td>\n",
       "    </tr>\n",
       "    <tr>\n",
       "      <th>Patti Scialfa</th>\n",
       "      <td>1</td>\n",
       "      <td>1</td>\n",
       "      <td>1</td>\n",
       "      <td>1</td>\n",
       "      <td>1</td>\n",
       "      <td>1</td>\n",
       "      <td>nan</td>\n",
       "      <td>1</td>\n",
       "    </tr>\n",
       "    <tr>\n",
       "      <th>Jake Clemons</th>\n",
       "      <td>1</td>\n",
       "      <td>1</td>\n",
       "      <td>1</td>\n",
       "      <td>1</td>\n",
       "      <td>1</td>\n",
       "      <td>1</td>\n",
       "      <td>1</td>\n",
       "      <td>nan</td>\n",
       "    </tr>\n",
       "  </tbody>\n",
       "</table>\n",
       "</div>"
      ],
      "text/plain": [
       "                   Bruce Springsteen  Garry Tallent  Roy Bittan  Max Weinberg  \\\n",
       "Bruce Springsteen                nan              1           1             1   \n",
       "Garry Tallent                      1            nan           1             1   \n",
       "Roy Bittan                         1              1         nan             1   \n",
       "Max Weinberg                       1              1           1           nan   \n",
       "Steven Van Zandt                   1              1           1             1   \n",
       "Nils Lofgren                       1              1           1             1   \n",
       "Patti Scialfa                      1              1           1             1   \n",
       "Jake Clemons                       1              1           1             1   \n",
       "\n",
       "                   Steven Van Zandt  Nils Lofgren  Patti Scialfa  Jake Clemons  \n",
       "Bruce Springsteen                 1             1              1             1  \n",
       "Garry Tallent                     1             1              1             1  \n",
       "Roy Bittan                        1             1              1             1  \n",
       "Max Weinberg                      1             1              1             1  \n",
       "Steven Van Zandt                nan             1              1             1  \n",
       "Nils Lofgren                      1           nan              1             1  \n",
       "Patti Scialfa                     1             1            nan             1  \n",
       "Jake Clemons                      1             1              1           nan  "
      ]
     },
     "execution_count": 41,
     "metadata": {},
     "output_type": "execute_result"
    }
   ],
   "source": [
    "# NOT CLEART WHAT'S HAPPENING HERE\n",
    "\n",
    "estreet_indirect = estreet ** estreet\n",
    "estreet_indirect"
   ]
  },
  {
   "cell_type": "markdown",
   "metadata": {},
   "source": [
    "### Graphs\n",
    "\n",
    "Many people are most familiar with the visual representation of networks, known as **graphs** (network theory) or **sociograms** (SNA). A graph is a set of lines connecting points, and graph theory is a \"*body of mathematical axioms and formulae that describe the properties of the patterns formed by the lines.\"* (Scott, 2017: #). Let's take our E Street Band social network and visualise the friendship ties it contains:\n",
    "\n",
    "[MOVE ALL OF THIS DATA MANIPULATION CONTENT TO THE SECOND LESSON]"
   ]
  },
  {
   "cell_type": "code",
   "execution_count": 66,
   "metadata": {},
   "outputs": [
    {
     "data": {
      "image/png": "[encoded data removed]",
      "text/plain": [
       "<Figure size 864x576 with 1 Axes>"
      ]
     },
     "metadata": {},
     "output_type": "display_data"
    }
   ],
   "source": [
    "import networkx as nx\n",
    "import matplotlib.pyplot as plt\n",
    "\n",
    "#estreet_el = estreet.stack().reset_index() # convert to edgelist\n",
    "#estreet_el = estreet_el[estreet_el[0]==1] # keep pairs of charities that are connected\n",
    "#estreet_el = estreet_el.drop(0, axis=1)\n",
    "#estreet_el.rename(columns = {\"level_0\": \"source\", \"level_1\": \"target\"}, inplace = True)\n",
    "#edgelist = estreet_el[pd.DataFrame(np.sort(estreet_el[['source','target']].values,1)).duplicated().values]\n",
    "egraph = nx.from_pandas_adjacency(estreet)\n",
    "\n",
    "plt.figure(3, figsize=(12,8)) \n",
    "nx.draw_networkx(egraph, node_size=300,font_size=15, with_labels=True)"
   ]
  },
  {
   "cell_type": "markdown",
   "metadata": {},
   "source": [
    "#### TASK: re-run the code above a number of times - what happens (and what is the implication)?"
   ]
  },
  {
   "cell_type": "markdown",
   "metadata": {},
   "source": [
    "[*Show an example of a digraph etc*]"
   ]
  },
  {
   "cell_type": "markdown",
   "metadata": {},
   "source": [
    "In a network graph (Hanneman & Riddle, 2005):\n",
    "* Nodes are represented as circles\n",
    "* Ties are represented as lines (with arrow heads if the tie is directed)\n",
    "* Colours, shapes and sizes can be used to differentiate nodes by their attributes or network characteristics.\n",
    "* Colours, shapes and sizes can also be used to differentiate relations by their type or amount.\n",
    "\n",
    "For example, you could use thicker lines to represent stronger ties; colour coding to distinguish nodes by some attribute (European vs African country); or different line styles - dashed vs solid - to distnguish different types of ties (e.g., spousal or collegial)."
   ]
  },
  {
   "cell_type": "markdown",
   "metadata": {},
   "source": [
    "Graphs are often a useful way of revealing network structure and properties, though visualisation is not a sufficient (or even) necessary method of analysing a network (Hanneman & Riddle, 2005). It is best practice to use visualisations in tandem with numerical summaries, descriptions and analyses. We'll revist this point in our lesson on analysing social networks.\n",
    "\n",
    "[*Mention the topology of the network as a metaphor*]"
   ]
  },
  {
   "cell_type": "markdown",
   "metadata": {},
   "source": [
    "## A Simple Analysis"
   ]
  },
  {
   "cell_type": "markdown",
   "metadata": {},
   "source": [
    "### Relational data\n",
    "\n",
    "We begin with data we collected about the current trustees (board members) of our group of manchester charities - see below."
   ]
  },
  {
   "cell_type": "code",
   "execution_count": 43,
   "metadata": {},
   "outputs": [
    {
     "name": "stdout",
     "output_type": "stream",
     "text": [
      "2735\n"
     ]
    },
    {
     "data": {
      "text/html": [
       "<div>\n",
       "<style scoped>\n",
       "    .dataframe tbody tr th:only-of-type {\n",
       "        vertical-align: middle;\n",
       "    }\n",
       "\n",
       "    .dataframe tbody tr th {\n",
       "        vertical-align: top;\n",
       "    }\n",
       "\n",
       "    .dataframe thead th {\n",
       "        text-align: right;\n",
       "    }\n",
       "</style>\n",
       "<table border=\"1\" class=\"dataframe\">\n",
       "  <thead>\n",
       "    <tr style=\"text-align: right;\">\n",
       "      <th></th>\n",
       "      <th>trustee_id</th>\n",
       "      <th>trustee_name</th>\n",
       "      <th>trustee_total_tships</th>\n",
       "      <th>regno</th>\n",
       "    </tr>\n",
       "  </thead>\n",
       "  <tbody>\n",
       "    <tr>\n",
       "      <th>0</th>\n",
       "      <td>5873</td>\n",
       "      <td>Rabbi Abraham Hassan</td>\n",
       "      <td>3</td>\n",
       "      <td>1071809</td>\n",
       "    </tr>\n",
       "    <tr>\n",
       "      <th>1</th>\n",
       "      <td>5873</td>\n",
       "      <td>Rabbi Abraham Hassan</td>\n",
       "      <td>3</td>\n",
       "      <td>1095687</td>\n",
       "    </tr>\n",
       "    <tr>\n",
       "      <th>2</th>\n",
       "      <td>5873</td>\n",
       "      <td>Rabbi Abraham Hassan</td>\n",
       "      <td>3</td>\n",
       "      <td>1013846</td>\n",
       "    </tr>\n",
       "    <tr>\n",
       "      <th>3</th>\n",
       "      <td>14229</td>\n",
       "      <td>David Neuwirth</td>\n",
       "      <td>9</td>\n",
       "      <td>1123674</td>\n",
       "    </tr>\n",
       "    <tr>\n",
       "      <th>4</th>\n",
       "      <td>14229</td>\n",
       "      <td>David Neuwirth</td>\n",
       "      <td>9</td>\n",
       "      <td>1166641</td>\n",
       "    </tr>\n",
       "    <tr>\n",
       "      <th>5</th>\n",
       "      <td>14229</td>\n",
       "      <td>David Neuwirth</td>\n",
       "      <td>9</td>\n",
       "      <td>1083461</td>\n",
       "    </tr>\n",
       "    <tr>\n",
       "      <th>6</th>\n",
       "      <td>14229</td>\n",
       "      <td>David Neuwirth</td>\n",
       "      <td>9</td>\n",
       "      <td>1109132</td>\n",
       "    </tr>\n",
       "    <tr>\n",
       "      <th>7</th>\n",
       "      <td>14229</td>\n",
       "      <td>David Neuwirth</td>\n",
       "      <td>9</td>\n",
       "      <td>1084316</td>\n",
       "    </tr>\n",
       "    <tr>\n",
       "      <th>8</th>\n",
       "      <td>14229</td>\n",
       "      <td>David Neuwirth</td>\n",
       "      <td>9</td>\n",
       "      <td>1136917</td>\n",
       "    </tr>\n",
       "    <tr>\n",
       "      <th>9</th>\n",
       "      <td>14229</td>\n",
       "      <td>David Neuwirth</td>\n",
       "      <td>9</td>\n",
       "      <td>1183303</td>\n",
       "    </tr>\n",
       "    <tr>\n",
       "      <th>10</th>\n",
       "      <td>14229</td>\n",
       "      <td>David Neuwirth</td>\n",
       "      <td>9</td>\n",
       "      <td>1111457</td>\n",
       "    </tr>\n",
       "    <tr>\n",
       "      <th>11</th>\n",
       "      <td>14229</td>\n",
       "      <td>David Neuwirth</td>\n",
       "      <td>9</td>\n",
       "      <td>1092751</td>\n",
       "    </tr>\n",
       "  </tbody>\n",
       "</table>\n",
       "</div>"
      ],
      "text/plain": [
       "    trustee_id          trustee_name  trustee_total_tships    regno\n",
       "0         5873  Rabbi Abraham Hassan                     3  1071809\n",
       "1         5873  Rabbi Abraham Hassan                     3  1095687\n",
       "2         5873  Rabbi Abraham Hassan                     3  1013846\n",
       "3        14229        David Neuwirth                     9  1123674\n",
       "4        14229        David Neuwirth                     9  1166641\n",
       "5        14229        David Neuwirth                     9  1083461\n",
       "6        14229        David Neuwirth                     9  1109132\n",
       "7        14229        David Neuwirth                     9  1084316\n",
       "8        14229        David Neuwirth                     9  1136917\n",
       "9        14229        David Neuwirth                     9  1183303\n",
       "10       14229        David Neuwirth                     9  1111457\n",
       "11       14229        David Neuwirth                     9  1092751"
      ]
     },
     "execution_count": 43,
     "metadata": {},
     "output_type": "execute_result"
    }
   ],
   "source": [
    "data = pd.read_csv(\"./data/manchester-trustees-2020-08-13.csv\", index_col = False)\n",
    "print(len(data))\n",
    "data.head(12)"
   ]
  },
  {
   "cell_type": "markdown",
   "metadata": {},
   "source": [
    "As you can see, the first individual is a trustee of three charities, the second a trustee of nine etc. Because we have the unique id (`regno`) of the charity a trustee is connected to, this data set contains *relational information* on how charities are connected to each other by the presence of a common individual. For instance, three of the charities - 1071809, 1095687, 1013846 - are all linked through the trustee Rabbi Abraham Hassan. "
   ]
  },
  {
   "cell_type": "markdown",
   "metadata": {},
   "source": [
    "Our task is to convert this data set into a case-by-case (adjacency) matrix. That is, a data set where every row and column represents a charity, and the cells indicate whether a pair of charities are linked through at least one trustee.\n",
    "\n",
    "First, let's see how many charities are in the data:"
   ]
  },
  {
   "cell_type": "code",
   "execution_count": 44,
   "metadata": {},
   "outputs": [
    {
     "data": {
      "text/plain": [
       "1123"
      ]
     },
     "execution_count": 44,
     "metadata": {},
     "output_type": "execute_result"
    }
   ],
   "source": [
    "len(data.drop_duplicates(\"regno\")) # how many unique charity ids are there in the data?"
   ]
  },
  {
   "cell_type": "markdown",
   "metadata": {},
   "source": [
    "OK, that means we'll have a matrix with 1123 rows and 1123 columns (one for each charity). If a matrix has the same number of rows and columns it is known as a *square matrix*."
   ]
  },
  {
   "cell_type": "markdown",
   "metadata": {},
   "source": [
    "#### Adjacency matrix\n",
    "\n",
    "Let's use some clever Python code to create an adjacency matrix where the nodes are charities - that is, every row represents a charity, as does every column."
   ]
  },
  {
   "cell_type": "code",
   "execution_count": 45,
   "metadata": {},
   "outputs": [
    {
     "data": {
      "text/html": [
       "<div>\n",
       "<style scoped>\n",
       "    .dataframe tbody tr th:only-of-type {\n",
       "        vertical-align: middle;\n",
       "    }\n",
       "\n",
       "    .dataframe tbody tr th {\n",
       "        vertical-align: top;\n",
       "    }\n",
       "\n",
       "    .dataframe thead th {\n",
       "        text-align: right;\n",
       "    }\n",
       "</style>\n",
       "<table border=\"1\" class=\"dataframe\">\n",
       "  <thead>\n",
       "    <tr style=\"text-align: right;\">\n",
       "      <th>regno_y</th>\n",
       "      <th>208879</th>\n",
       "      <th>209174</th>\n",
       "      <th>210037</th>\n",
       "      <th>210563</th>\n",
       "      <th>212479</th>\n",
       "      <th>212755</th>\n",
       "      <th>213258</th>\n",
       "      <th>214684</th>\n",
       "      <th>215728</th>\n",
       "      <th>216533</th>\n",
       "      <th>...</th>\n",
       "      <th>1186986</th>\n",
       "      <th>1187340</th>\n",
       "      <th>1187446</th>\n",
       "      <th>1187493</th>\n",
       "      <th>1188245</th>\n",
       "      <th>1188334</th>\n",
       "      <th>1188662</th>\n",
       "      <th>1188791</th>\n",
       "      <th>1188851</th>\n",
       "      <th>1188892</th>\n",
       "    </tr>\n",
       "    <tr>\n",
       "      <th>regno_x</th>\n",
       "      <th></th>\n",
       "      <th></th>\n",
       "      <th></th>\n",
       "      <th></th>\n",
       "      <th></th>\n",
       "      <th></th>\n",
       "      <th></th>\n",
       "      <th></th>\n",
       "      <th></th>\n",
       "      <th></th>\n",
       "      <th></th>\n",
       "      <th></th>\n",
       "      <th></th>\n",
       "      <th></th>\n",
       "      <th></th>\n",
       "      <th></th>\n",
       "      <th></th>\n",
       "      <th></th>\n",
       "      <th></th>\n",
       "      <th></th>\n",
       "      <th></th>\n",
       "    </tr>\n",
       "  </thead>\n",
       "  <tbody>\n",
       "    <tr>\n",
       "      <th>208879</th>\n",
       "      <td>0</td>\n",
       "      <td>0</td>\n",
       "      <td>0</td>\n",
       "      <td>0</td>\n",
       "      <td>0</td>\n",
       "      <td>0</td>\n",
       "      <td>0</td>\n",
       "      <td>0</td>\n",
       "      <td>0</td>\n",
       "      <td>0</td>\n",
       "      <td>...</td>\n",
       "      <td>0</td>\n",
       "      <td>0</td>\n",
       "      <td>0</td>\n",
       "      <td>0</td>\n",
       "      <td>0</td>\n",
       "      <td>0</td>\n",
       "      <td>0</td>\n",
       "      <td>0</td>\n",
       "      <td>0</td>\n",
       "      <td>0</td>\n",
       "    </tr>\n",
       "    <tr>\n",
       "      <th>209174</th>\n",
       "      <td>0</td>\n",
       "      <td>0</td>\n",
       "      <td>0</td>\n",
       "      <td>0</td>\n",
       "      <td>0</td>\n",
       "      <td>0</td>\n",
       "      <td>0</td>\n",
       "      <td>0</td>\n",
       "      <td>0</td>\n",
       "      <td>0</td>\n",
       "      <td>...</td>\n",
       "      <td>0</td>\n",
       "      <td>0</td>\n",
       "      <td>0</td>\n",
       "      <td>0</td>\n",
       "      <td>0</td>\n",
       "      <td>0</td>\n",
       "      <td>0</td>\n",
       "      <td>0</td>\n",
       "      <td>0</td>\n",
       "      <td>0</td>\n",
       "    </tr>\n",
       "    <tr>\n",
       "      <th>210037</th>\n",
       "      <td>0</td>\n",
       "      <td>0</td>\n",
       "      <td>0</td>\n",
       "      <td>0</td>\n",
       "      <td>0</td>\n",
       "      <td>0</td>\n",
       "      <td>0</td>\n",
       "      <td>0</td>\n",
       "      <td>0</td>\n",
       "      <td>0</td>\n",
       "      <td>...</td>\n",
       "      <td>0</td>\n",
       "      <td>0</td>\n",
       "      <td>0</td>\n",
       "      <td>0</td>\n",
       "      <td>0</td>\n",
       "      <td>0</td>\n",
       "      <td>0</td>\n",
       "      <td>0</td>\n",
       "      <td>0</td>\n",
       "      <td>0</td>\n",
       "    </tr>\n",
       "    <tr>\n",
       "      <th>210563</th>\n",
       "      <td>0</td>\n",
       "      <td>0</td>\n",
       "      <td>0</td>\n",
       "      <td>0</td>\n",
       "      <td>0</td>\n",
       "      <td>0</td>\n",
       "      <td>0</td>\n",
       "      <td>0</td>\n",
       "      <td>0</td>\n",
       "      <td>0</td>\n",
       "      <td>...</td>\n",
       "      <td>0</td>\n",
       "      <td>0</td>\n",
       "      <td>0</td>\n",
       "      <td>0</td>\n",
       "      <td>0</td>\n",
       "      <td>0</td>\n",
       "      <td>0</td>\n",
       "      <td>0</td>\n",
       "      <td>0</td>\n",
       "      <td>0</td>\n",
       "    </tr>\n",
       "    <tr>\n",
       "      <th>212479</th>\n",
       "      <td>0</td>\n",
       "      <td>0</td>\n",
       "      <td>0</td>\n",
       "      <td>0</td>\n",
       "      <td>0</td>\n",
       "      <td>0</td>\n",
       "      <td>0</td>\n",
       "      <td>0</td>\n",
       "      <td>0</td>\n",
       "      <td>0</td>\n",
       "      <td>...</td>\n",
       "      <td>0</td>\n",
       "      <td>0</td>\n",
       "      <td>0</td>\n",
       "      <td>0</td>\n",
       "      <td>0</td>\n",
       "      <td>0</td>\n",
       "      <td>0</td>\n",
       "      <td>0</td>\n",
       "      <td>0</td>\n",
       "      <td>0</td>\n",
       "    </tr>\n",
       "    <tr>\n",
       "      <th>...</th>\n",
       "      <td>...</td>\n",
       "      <td>...</td>\n",
       "      <td>...</td>\n",
       "      <td>...</td>\n",
       "      <td>...</td>\n",
       "      <td>...</td>\n",
       "      <td>...</td>\n",
       "      <td>...</td>\n",
       "      <td>...</td>\n",
       "      <td>...</td>\n",
       "      <td>...</td>\n",
       "      <td>...</td>\n",
       "      <td>...</td>\n",
       "      <td>...</td>\n",
       "      <td>...</td>\n",
       "      <td>...</td>\n",
       "      <td>...</td>\n",
       "      <td>...</td>\n",
       "      <td>...</td>\n",
       "      <td>...</td>\n",
       "      <td>...</td>\n",
       "    </tr>\n",
       "    <tr>\n",
       "      <th>1188334</th>\n",
       "      <td>0</td>\n",
       "      <td>0</td>\n",
       "      <td>0</td>\n",
       "      <td>0</td>\n",
       "      <td>0</td>\n",
       "      <td>0</td>\n",
       "      <td>0</td>\n",
       "      <td>0</td>\n",
       "      <td>0</td>\n",
       "      <td>0</td>\n",
       "      <td>...</td>\n",
       "      <td>0</td>\n",
       "      <td>0</td>\n",
       "      <td>0</td>\n",
       "      <td>0</td>\n",
       "      <td>0</td>\n",
       "      <td>0</td>\n",
       "      <td>0</td>\n",
       "      <td>0</td>\n",
       "      <td>0</td>\n",
       "      <td>0</td>\n",
       "    </tr>\n",
       "    <tr>\n",
       "      <th>1188662</th>\n",
       "      <td>0</td>\n",
       "      <td>0</td>\n",
       "      <td>0</td>\n",
       "      <td>0</td>\n",
       "      <td>0</td>\n",
       "      <td>0</td>\n",
       "      <td>0</td>\n",
       "      <td>0</td>\n",
       "      <td>0</td>\n",
       "      <td>0</td>\n",
       "      <td>...</td>\n",
       "      <td>0</td>\n",
       "      <td>0</td>\n",
       "      <td>0</td>\n",
       "      <td>0</td>\n",
       "      <td>0</td>\n",
       "      <td>0</td>\n",
       "      <td>0</td>\n",
       "      <td>0</td>\n",
       "      <td>0</td>\n",
       "      <td>0</td>\n",
       "    </tr>\n",
       "    <tr>\n",
       "      <th>1188791</th>\n",
       "      <td>0</td>\n",
       "      <td>0</td>\n",
       "      <td>0</td>\n",
       "      <td>0</td>\n",
       "      <td>0</td>\n",
       "      <td>0</td>\n",
       "      <td>0</td>\n",
       "      <td>0</td>\n",
       "      <td>0</td>\n",
       "      <td>0</td>\n",
       "      <td>...</td>\n",
       "      <td>0</td>\n",
       "      <td>0</td>\n",
       "      <td>0</td>\n",
       "      <td>0</td>\n",
       "      <td>0</td>\n",
       "      <td>0</td>\n",
       "      <td>0</td>\n",
       "      <td>0</td>\n",
       "      <td>0</td>\n",
       "      <td>0</td>\n",
       "    </tr>\n",
       "    <tr>\n",
       "      <th>1188851</th>\n",
       "      <td>0</td>\n",
       "      <td>0</td>\n",
       "      <td>0</td>\n",
       "      <td>0</td>\n",
       "      <td>0</td>\n",
       "      <td>0</td>\n",
       "      <td>0</td>\n",
       "      <td>0</td>\n",
       "      <td>0</td>\n",
       "      <td>0</td>\n",
       "      <td>...</td>\n",
       "      <td>0</td>\n",
       "      <td>0</td>\n",
       "      <td>0</td>\n",
       "      <td>0</td>\n",
       "      <td>0</td>\n",
       "      <td>0</td>\n",
       "      <td>0</td>\n",
       "      <td>0</td>\n",
       "      <td>0</td>\n",
       "      <td>0</td>\n",
       "    </tr>\n",
       "    <tr>\n",
       "      <th>1188892</th>\n",
       "      <td>0</td>\n",
       "      <td>0</td>\n",
       "      <td>0</td>\n",
       "      <td>0</td>\n",
       "      <td>0</td>\n",
       "      <td>0</td>\n",
       "      <td>0</td>\n",
       "      <td>0</td>\n",
       "      <td>0</td>\n",
       "      <td>0</td>\n",
       "      <td>...</td>\n",
       "      <td>0</td>\n",
       "      <td>0</td>\n",
       "      <td>0</td>\n",
       "      <td>0</td>\n",
       "      <td>0</td>\n",
       "      <td>0</td>\n",
       "      <td>0</td>\n",
       "      <td>0</td>\n",
       "      <td>0</td>\n",
       "      <td>0</td>\n",
       "    </tr>\n",
       "  </tbody>\n",
       "</table>\n",
       "<p>1123 rows × 1123 columns</p>\n",
       "</div>"
      ],
      "text/plain": [
       "regno_y  208879   209174   210037   210563   212479   212755   213258   \\\n",
       "regno_x                                                                  \n",
       "208879         0        0        0        0        0        0        0   \n",
       "209174         0        0        0        0        0        0        0   \n",
       "210037         0        0        0        0        0        0        0   \n",
       "210563         0        0        0        0        0        0        0   \n",
       "212479         0        0        0        0        0        0        0   \n",
       "...          ...      ...      ...      ...      ...      ...      ...   \n",
       "1188334        0        0        0        0        0        0        0   \n",
       "1188662        0        0        0        0        0        0        0   \n",
       "1188791        0        0        0        0        0        0        0   \n",
       "1188851        0        0        0        0        0        0        0   \n",
       "1188892        0        0        0        0        0        0        0   \n",
       "\n",
       "regno_y  214684   215728   216533   ...  1186986  1187340  1187446  1187493  \\\n",
       "regno_x                             ...                                       \n",
       "208879         0        0        0  ...        0        0        0        0   \n",
       "209174         0        0        0  ...        0        0        0        0   \n",
       "210037         0        0        0  ...        0        0        0        0   \n",
       "210563         0        0        0  ...        0        0        0        0   \n",
       "212479         0        0        0  ...        0        0        0        0   \n",
       "...          ...      ...      ...  ...      ...      ...      ...      ...   \n",
       "1188334        0        0        0  ...        0        0        0        0   \n",
       "1188662        0        0        0  ...        0        0        0        0   \n",
       "1188791        0        0        0  ...        0        0        0        0   \n",
       "1188851        0        0        0  ...        0        0        0        0   \n",
       "1188892        0        0        0  ...        0        0        0        0   \n",
       "\n",
       "regno_y  1188245  1188334  1188662  1188791  1188851  1188892  \n",
       "regno_x                                                        \n",
       "208879         0        0        0        0        0        0  \n",
       "209174         0        0        0        0        0        0  \n",
       "210037         0        0        0        0        0        0  \n",
       "210563         0        0        0        0        0        0  \n",
       "212479         0        0        0        0        0        0  \n",
       "...          ...      ...      ...      ...      ...      ...  \n",
       "1188334        0        0        0        0        0        0  \n",
       "1188662        0        0        0        0        0        0  \n",
       "1188791        0        0        0        0        0        0  \n",
       "1188851        0        0        0        0        0        0  \n",
       "1188892        0        0        0        0        0        0  \n",
       "\n",
       "[1123 rows x 1123 columns]"
      ]
     },
     "execution_count": 45,
     "metadata": {},
     "output_type": "execute_result"
    }
   ],
   "source": [
    "data_merge = data.merge(data, on=\"trustee_id\")\n",
    "charity_mat = pd.crosstab(data_merge.regno_x, data_merge.regno_y)\n",
    "np.fill_diagonal(charity_mat.values, 0)\n",
    "charity_mat[charity_mat >= 1] = 1\n",
    "charity_mat"
   ]
  },
  {
   "cell_type": "markdown",
   "metadata": {},
   "source": [
    "As is probably obvious at the outset, there are lots of zeroes; that is, most charities are not connected to most other charities. But they are all connected to at least one other: we can see this by calculating the row/column totals:"
   ]
  },
  {
   "cell_type": "code",
   "execution_count": 5,
   "metadata": {},
   "outputs": [
    {
     "data": {
      "text/plain": [
       "count    1123.000000\n",
       "mean        2.746215\n",
       "std         2.679671\n",
       "min         1.000000\n",
       "25%         1.000000\n",
       "50%         2.000000\n",
       "75%         3.000000\n",
       "max        23.000000\n",
       "Name: row_total, dtype: float64"
      ]
     },
     "execution_count": 5,
     "metadata": {},
     "output_type": "execute_result"
    }
   ],
   "source": [
    "#charity_mat[\"row_total\"] = charity_mat.sum(axis=1)\n",
    "#charity_mat[\"row_total\"].describe()"
   ]
  },
  {
   "cell_type": "code",
   "execution_count": 6,
   "metadata": {},
   "outputs": [
    {
     "data": {
      "text/plain": [
       "count    1123.000000\n",
       "mean        2.746215\n",
       "std         2.679671\n",
       "min         1.000000\n",
       "25%         1.000000\n",
       "50%         2.000000\n",
       "75%         3.000000\n",
       "max        23.000000\n",
       "Name: col_total, dtype: float64"
      ]
     },
     "execution_count": 6,
     "metadata": {},
     "output_type": "execute_result"
    }
   ],
   "source": [
    "#charity_mat[\"col_total\"] = charity_mat.sum(axis=0)\n",
    "#charity_mat[\"col_total\"].describe()"
   ]
  },
  {
   "cell_type": "markdown",
   "metadata": {},
   "source": [
    "[*The above totals are somewhat nonsensical - surely not every charity is linked to at least one other? Is it an issue with data collection?*]"
   ]
  },
  {
   "cell_type": "markdown",
   "metadata": {},
   "source": [
    "#### Edge list"
   ]
  },
  {
   "cell_type": "code",
   "execution_count": 15,
   "metadata": {},
   "outputs": [],
   "source": [
    "charity_el = charity_mat.stack().reset_index() # convert to edgelist\n",
    "charity_el = charity_el[charity_el[0]==1] # keep pairs of charities that are connected\n",
    "charity_el = charity_el.drop(0, axis=1)\n",
    "charity_el.rename(columns = {\"regno_x\": \"source\", \"regno_y\": \"target\"}, inplace = True)"
   ]
  },
  {
   "cell_type": "code",
   "execution_count": 16,
   "metadata": {},
   "outputs": [
    {
     "data": {
      "text/html": [
       "<div>\n",
       "<style scoped>\n",
       "    .dataframe tbody tr th:only-of-type {\n",
       "        vertical-align: middle;\n",
       "    }\n",
       "\n",
       "    .dataframe tbody tr th {\n",
       "        vertical-align: top;\n",
       "    }\n",
       "\n",
       "    .dataframe thead th {\n",
       "        text-align: right;\n",
       "    }\n",
       "</style>\n",
       "<table border=\"1\" class=\"dataframe\">\n",
       "  <thead>\n",
       "    <tr style=\"text-align: right;\">\n",
       "      <th></th>\n",
       "      <th>source</th>\n",
       "      <th>target</th>\n",
       "    </tr>\n",
       "  </thead>\n",
       "  <tbody>\n",
       "    <tr>\n",
       "      <th>143744</th>\n",
       "      <td>278469</td>\n",
       "      <td>208879</td>\n",
       "    </tr>\n",
       "    <tr>\n",
       "      <th>157220</th>\n",
       "      <td>284334</td>\n",
       "      <td>208879</td>\n",
       "    </tr>\n",
       "    <tr>\n",
       "      <th>751287</th>\n",
       "      <td>1123968</td>\n",
       "      <td>208879</td>\n",
       "    </tr>\n",
       "    <tr>\n",
       "      <th>911876</th>\n",
       "      <td>1143295</td>\n",
       "      <td>208879</td>\n",
       "    </tr>\n",
       "    <tr>\n",
       "      <th>1038775</th>\n",
       "      <td>1160228</td>\n",
       "      <td>208879</td>\n",
       "    </tr>\n",
       "  </tbody>\n",
       "</table>\n",
       "</div>"
      ],
      "text/plain": [
       "          source  target\n",
       "143744    278469  208879\n",
       "157220    284334  208879\n",
       "751287   1123968  208879\n",
       "911876   1143295  208879\n",
       "1038775  1160228  208879"
      ]
     },
     "execution_count": 16,
     "metadata": {},
     "output_type": "execute_result"
    }
   ],
   "source": [
    "charity_el[charity_el[\"target\"]==208879]"
   ]
  },
  {
   "cell_type": "code",
   "execution_count": 17,
   "metadata": {},
   "outputs": [
    {
     "data": {
      "text/html": [
       "<div>\n",
       "<style scoped>\n",
       "    .dataframe tbody tr th:only-of-type {\n",
       "        vertical-align: middle;\n",
       "    }\n",
       "\n",
       "    .dataframe tbody tr th {\n",
       "        vertical-align: top;\n",
       "    }\n",
       "\n",
       "    .dataframe thead th {\n",
       "        text-align: right;\n",
       "    }\n",
       "</style>\n",
       "<table border=\"1\" class=\"dataframe\">\n",
       "  <thead>\n",
       "    <tr style=\"text-align: right;\">\n",
       "      <th></th>\n",
       "      <th>source</th>\n",
       "      <th>target</th>\n",
       "    </tr>\n",
       "  </thead>\n",
       "  <tbody>\n",
       "    <tr>\n",
       "      <th>128</th>\n",
       "      <td>208879</td>\n",
       "      <td>278469</td>\n",
       "    </tr>\n",
       "    <tr>\n",
       "      <th>140</th>\n",
       "      <td>208879</td>\n",
       "      <td>284334</td>\n",
       "    </tr>\n",
       "    <tr>\n",
       "      <th>669</th>\n",
       "      <td>208879</td>\n",
       "      <td>1123968</td>\n",
       "    </tr>\n",
       "    <tr>\n",
       "      <th>812</th>\n",
       "      <td>208879</td>\n",
       "      <td>1143295</td>\n",
       "    </tr>\n",
       "    <tr>\n",
       "      <th>925</th>\n",
       "      <td>208879</td>\n",
       "      <td>1160228</td>\n",
       "    </tr>\n",
       "  </tbody>\n",
       "</table>\n",
       "</div>"
      ],
      "text/plain": [
       "     source   target\n",
       "128  208879   278469\n",
       "140  208879   284334\n",
       "669  208879  1123968\n",
       "812  208879  1143295\n",
       "925  208879  1160228"
      ]
     },
     "execution_count": 17,
     "metadata": {},
     "output_type": "execute_result"
    }
   ],
   "source": [
    "charity_el[charity_el[\"source\"]==208879]"
   ]
  },
  {
   "cell_type": "code",
   "execution_count": 18,
   "metadata": {},
   "outputs": [
    {
     "data": {
      "text/plain": [
       "3084"
      ]
     },
     "execution_count": 18,
     "metadata": {},
     "output_type": "execute_result"
    }
   ],
   "source": [
    "len(charity_el)"
   ]
  },
  {
   "cell_type": "markdown",
   "metadata": {},
   "source": [
    "We can see that each connection between a pair of charities is listed twice - this is because we are dealing with undirected ties: charity *208879* is linked to charity *278469*, therefore charity *278469* is also linked to charity *208879*. We should delete these duplicates before progressing any further:"
   ]
  },
  {
   "cell_type": "code",
   "execution_count": 20,
   "metadata": {},
   "outputs": [
    {
     "data": {
      "text/plain": [
       "1542"
      ]
     },
     "execution_count": 20,
     "metadata": {},
     "output_type": "execute_result"
    }
   ],
   "source": [
    "edgelist = charity_el[pd.DataFrame(np.sort(charity_el[['source','target']].values,1)).duplicated().values]\n",
    "len(edgelist)"
   ]
  },
  {
   "cell_type": "markdown",
   "metadata": {},
   "source": [
    "[*Need some way of checking the above code*]"
   ]
  },
  {
   "cell_type": "code",
   "execution_count": 21,
   "metadata": {},
   "outputs": [
    {
     "data": {
      "text/html": [
       "<div>\n",
       "<style scoped>\n",
       "    .dataframe tbody tr th:only-of-type {\n",
       "        vertical-align: middle;\n",
       "    }\n",
       "\n",
       "    .dataframe tbody tr th {\n",
       "        vertical-align: top;\n",
       "    }\n",
       "\n",
       "    .dataframe thead th {\n",
       "        text-align: right;\n",
       "    }\n",
       "</style>\n",
       "<table border=\"1\" class=\"dataframe\">\n",
       "  <thead>\n",
       "    <tr style=\"text-align: right;\">\n",
       "      <th></th>\n",
       "      <th>source</th>\n",
       "      <th>target</th>\n",
       "    </tr>\n",
       "  </thead>\n",
       "  <tbody>\n",
       "    <tr>\n",
       "      <th>143744</th>\n",
       "      <td>278469</td>\n",
       "      <td>208879</td>\n",
       "    </tr>\n",
       "  </tbody>\n",
       "</table>\n",
       "</div>"
      ],
      "text/plain": [
       "        source  target\n",
       "143744  278469  208879"
      ]
     },
     "execution_count": 21,
     "metadata": {},
     "output_type": "execute_result"
    }
   ],
   "source": [
    "edgelist[edgelist[\"source\"]==278469]"
   ]
  },
  {
   "cell_type": "markdown",
   "metadata": {},
   "source": [
    "Let's bring some of our fundamental concepts to life with a simple research example. [Manchester trustees]\n",
    "\n"
   ]
  },
  {
   "cell_type": "code",
   "execution_count": 22,
   "metadata": {},
   "outputs": [],
   "source": [
    "import networkx as nx"
   ]
  },
  {
   "cell_type": "code",
   "execution_count": 46,
   "metadata": {},
   "outputs": [
    {
     "name": "stdout",
     "output_type": "stream",
     "text": [
      "Name: \n",
      "Type: Graph\n",
      "Number of nodes: 1123\n",
      "Number of edges: 1542\n",
      "Average degree:   2.7462\n"
     ]
    }
   ],
   "source": [
    "chargraph = nx.from_pandas_adjacency(charity_mat)\n",
    "#chargraph = nx.from_pandas_edgelist(edgelist, \"source\", \"target\")\n",
    "print(nx.info(chargraph)) # get basic info about network"
   ]
  },
  {
   "cell_type": "markdown",
   "metadata": {},
   "source": [
    "Good, we can see that the number of nodes and ties (edges) match the objects we created earlier:"
   ]
  },
  {
   "cell_type": "code",
   "execution_count": 48,
   "metadata": {},
   "outputs": [
    {
     "name": "stdout",
     "output_type": "stream",
     "text": [
      "1123\n"
     ]
    }
   ],
   "source": [
    "print(len(charity_mat), len(edgelist))"
   ]
  },
  {
   "cell_type": "markdown",
   "metadata": {},
   "source": [
    "### Add node attributes\n",
    "\n",
    "It would be good to see if some of the network and relational properties and patterns we observed are differentiated by attributes of the charities themselves. For example, do larger charities - by income - have more ties? If so, what proportion of those ties are with similar size organisations?\n",
    "\n",
    "Using `networkx` we can take some fields from the file containing a list of Manchester charities and adding it to our graph object `chargraph`:"
   ]
  },
  {
   "cell_type": "code",
   "execution_count": 85,
   "metadata": {},
   "outputs": [
    {
     "data": {
      "text/plain": [
       "small     400\n",
       "medium    378\n",
       "large     210\n",
       "zero       61\n",
       "Name: org_size, dtype: int64"
      ]
     },
     "execution_count": 85,
     "metadata": {},
     "output_type": "execute_result"
    }
   ],
   "source": [
    "data = pd.read_csv(\"./data/manchester-charities-2020-07-03.csv\", index_col = False)\n",
    "conditions = [\n",
    "    (data[\"Latest income\"] == 0),\n",
    "    (data[\"Latest income\"] > 0) & (data[\"Latest income\"] <= 25000),\n",
    "    (data[\"Latest income\"] > 25000) & (data[\"Latest income\"] <= 250000),\n",
    "    (data[\"Latest income\"] > 250000)\n",
    "]\n",
    "\n",
    "# Create a list of the values we want to assign for each condition\n",
    "values = [\"zero\", \"small\", \"medium\", \"large\"]\n",
    "\n",
    "# Create new variable capturing organisation size based on income\n",
    "data[\"org_size\"] = np.select(conditions, values)\n",
    "\n",
    "data[\"org_size\"].value_counts()"
   ]
  },
  {
   "cell_type": "code",
   "execution_count": 86,
   "metadata": {},
   "outputs": [],
   "source": [
    "size_dict = {}\n",
    "name_dict = {}\n",
    "for row in data.values:\n",
    "    size_dict[row[0]] = row[6]\n",
    "    name_dict[row[0]] = row[1]\n",
    "    "
   ]
  },
  {
   "cell_type": "markdown",
   "metadata": {},
   "source": [
    "Now that we have some dictionaries - a type of Python object used for storing hierarchical data - containing the size and name of each charity, we can attach these attributes to each node in our network:"
   ]
  },
  {
   "cell_type": "code",
   "execution_count": 87,
   "metadata": {},
   "outputs": [],
   "source": [
    "nx.set_node_attributes(chargraph, size_dict, \"organisation_size\")\n",
    "nx.set_node_attributes(chargraph, name_dict, \"organisation_name\")"
   ]
  },
  {
   "cell_type": "markdown",
   "metadata": {},
   "source": [
    "And check if worked like so:"
   ]
  },
  {
   "cell_type": "code",
   "execution_count": 89,
   "metadata": {},
   "outputs": [
    {
     "data": {
      "text/plain": [
       "{223418: 'SOCIETY OF FRIENDS - HARDSHAW ESTATES CHARITIES',\n",
       " 224271: 'MANCHESTER RELIEF IN NEED CHARITY',\n",
       " 225116: 'THE LEVENSHULME TRUST FOR THE RELIEF OF SICKNESS AND SUFFERING',\n",
       " 225520: 'THE CATHERINE CHISHOLM LECTURE FUND',\n",
       " 222800: 'MANCHESTER MEDICAL SOCIETY',\n",
       " 226919: 'CHARITY OF GEORGE PILKINGTON',\n",
       " 226918: \"BUCKLEY'S CHARITY\",\n",
       " 226921: 'CATHEDRAL DISTRICT CLOTHING CLUB',\n",
       " 227242: 'THE MEMORIAL HALL',\n",
       " 228916: 'THE GRATRIX CHARITY FOR POOR PLUMBERS, GLASIERS, BRASSWORKERS, LEADWORKERS AND GAS FITTERS',\n",
       " 225453: 'THE SATTERFIELD CONVALESCENTS CHARITY',\n",
       " 234651: 'THE DARBISHIRE HOUSE FUND',\n",
       " 234779: \"MANCHESTER GIRLS' INSTITUTE TRUST FUND\",\n",
       " 235916: 'MANCHESTER DISTRICT NURSING INSTITUTION FUND',\n",
       " 241764: 'ELIZABETH STOPFORD FOR ALMSHOUSES',\n",
       " 215728: 'CHARITY KNOWN AS THE SALE ALMSHOUSES',\n",
       " 232541: 'ROMAN CATHOLIC PURPOSES ADMINISTERED IN CONNECTION WITH THE SOCIETY OF AFRICAN MISSIONS',\n",
       " 242838: 'THE DEAN OF MANCHESTER CROSLAND FUND',\n",
       " 224642: \"CATHERINE RICHARDS CHARITY OR STRANGEWAYS WIDOW'S CHARITY\",\n",
       " 249424: 'MANCHESTER DIOCESAN BOARD OF FINANCE',\n",
       " 233814: 'MANCHESTER DIOCESAN CHURCH OF ENGLAND COUNCIL FOR SOCIAL AID',\n",
       " 249657: \"MANCHESTER CHILDREN'S RELIEF IN NEED CHARITY\",\n",
       " 250086: \"MOTHERS' UNION (DIOCESE OF MANCHESTER BRANCH)\",\n",
       " 250760: 'HILLEL HOUSE (MANCHESTER)',\n",
       " 228038: 'THE SUSTENTATION FUND',\n",
       " 251259: 'MANCHESTER COUNCIL FOR COMMUNITY RELATIONS',\n",
       " 235459: 'THE MACHZIKEI HADASS COMMUNITIES',\n",
       " 251737: 'TIFERETH BENEVOLENT FUND LIMITED',\n",
       " 262352: 'ARDINA LIMITED',\n",
       " 262362: 'ASSOCIATION FOR THE CATHOLIC DEAF OF GREAT BRITAIN AND IRELAND',\n",
       " 251267: 'THE SISTERS OF CHARITY OF OUR LADY OF EVRON',\n",
       " 222410: 'THE ROYAL MUSICAL ASSOCIATION',\n",
       " 257238: 'MANCHESTER JEWISH COMMUNITY CARE',\n",
       " 264185: 'THE HOLDEN CHARITABLE TRUST',\n",
       " 250311: 'CHARITY OF BENJAMIN BUTTERWORTH FOR POOR',\n",
       " 268131: 'GREYGARTH ASSOCIATION',\n",
       " 273345: 'ROYAL EXCHANGE THEATRE TRUSTEES LIMITED',\n",
       " 255424: 'ROYAL EXCHANGE THEATRE COMPANY LIMITED',\n",
       " 275063: 'BARRIE BADLAND TRUST',\n",
       " 279786: 'THE MICHAEL DEWHIRST CHARITABLE TRUST',\n",
       " 279161: 'THE SANDY DEWHIRST CHARITABLE TRUST',\n",
       " 280356: 'M C A CHARITABLE TRUST',\n",
       " 282339: 'SIDDINGTON TRUST LIMITED',\n",
       " 282478: \"THE WESTCOTT GIRLS' CAMP TRUST\",\n",
       " 282771: 'THE TERENCE JUDD TRUST',\n",
       " 236149: 'THE CHARLES HALLE FOUNDATION',\n",
       " 279522: 'THE A J FREEMAN CHARITABLE TRUST',\n",
       " 286145: 'HALLE ENDOWMENT TRUST',\n",
       " 223882: 'HALLE CONCERTS SOCIETY',\n",
       " 214684: 'THE DOWAGER COUNTESS ELEANOR PEEL TRUST',\n",
       " 286840: 'THE ROYAL PHILATELIC SOCIETY, LONDON',\n",
       " 295260: 'THE NATIONAL MUSEUM OF LABOUR HISTORY',\n",
       " 295679: 'BUNNEY RECKITT TRUST',\n",
       " 326329: 'LOCALTRENT LIMITED',\n",
       " 326920: 'BEIS MINCHAS YITZCHOK TRUST',\n",
       " 500198: 'CONTACT',\n",
       " 501909: 'THE ROYAL EXCHANGE THEATRE APPEAL FUND',\n",
       " 501953: \"THE MANCHESTER YOUNG PEOPLE'S THEATRE LIMITED\",\n",
       " 502002: 'EAST CHESHIRE AREA QUAKER MEETING OF THE RELIGIOUS SOCIETY OF FRIENDS',\n",
       " 236453: 'CHARITIES ADMINISTERED IN CONNECTION WITH THE FRANDLEY PREPARATIVE MEETING',\n",
       " 503200: 'NORTHENDEN CIVIC SOCIETY',\n",
       " 503753: 'THE MANCHESTER DISTRICT ASSOCIATION OF UNITARIAN AND FREE CHRISTIAN CHURCHES',\n",
       " 253233: 'MANCHESTER DOMESTIC MISSION SOCIETY',\n",
       " 504523: 'WHITELEGG ALMSHOUSES',\n",
       " 504542: 'GREATER MANCHESTER CENTRE FOR VOLUNTARY ORGANISATION',\n",
       " 504949: 'THE ROYAL NORTHERN COLLEGE OF MUSIC ENDOWMENT FUND',\n",
       " 504948: 'THE ROYAL NORTHERN COLLEGE OF MUSIC AWARDS FUND',\n",
       " 505121: \"WILLIAM HULME'S GRAMMAR SCHOOL TRUST\",\n",
       " 313186: 'THE J G BIRD TRUST',\n",
       " 505201: 'LAURA CLEMENTINA WHITEHEAD',\n",
       " 505207: 'W G S TRUST',\n",
       " 506823: 'THE MANCHESTER HIGH SCHOOL FOR GIRLS GENERAL CHARITABLE TRUST',\n",
       " 507162: 'GADDUM CENTRE',\n",
       " 509075: 'THE COTTON TEXTILES RESEARCH TRUST',\n",
       " 509408: 'THE CHORLTON CONVENT BURSARIES TRUST',\n",
       " 507409: \"ST BEDE'S COLLEGE EDUCATIONAL TRUST\",\n",
       " 328659: 'FRANCIS HOUSE FAMILY TRUST',\n",
       " 510668: \"WILLIAM HULME'S GRAMMAR SCHOOL FOUNDATION\",\n",
       " 515341: 'THE MANCHESTER GUARDIAN SOCIETY CHARITABLE TRUST',\n",
       " 515571: 'CASTLEFIELD GALLERY',\n",
       " 503675: 'MANCHESTER CAMERATA LIMITED',\n",
       " 515778: 'CUTCHI SUNNI MUSLIM ASSOCIATION',\n",
       " 517880: 'INDIAN ASSOCIATION - MANCHESTER',\n",
       " 518092: 'HINDU RELIGIOUS SOCIETY',\n",
       " 518471: 'THE KING OF KINGS SCHOOL',\n",
       " 511887: 'THE NEUROLOGICAL FUND',\n",
       " 518992: 'CENTRE FOR CHINESE CONTEMPORARY ART',\n",
       " 519292: 'MOSS SIDE BOXING AND ATHLETICS ASSOCIATION',\n",
       " 519574: 'THE MANCHESTER CAMERATA TRUST',\n",
       " 519755: 'FOURTH CHURCH OF CHRIST SCIENTIST MANCHESTER',\n",
       " 521245: 'ROYAL OAK AND BAGULEY RESIDENTS ASSOCIATION',\n",
       " 521248: 'UNIVERSITY OF MANCHESTER INTERNATIONAL SOCIETY',\n",
       " 521626: '346TH MANCHESTER SCOUT GROUP',\n",
       " 526054: \"THE BURNEY FUND (ICW CHETHAM'S LIBRARY)\",\n",
       " 526235: 'MANCHESTER CATHEDRAL CHOIR SCHOOLS FOUNDATION',\n",
       " 526407: 'THE NICHOLLS HOSPITAL TRUST',\n",
       " 526564: 'M.G.S. TRUST',\n",
       " 526654: 'UNITARIAN COLLEGE, MANCHESTER',\n",
       " 526660: \"CANON RICHSON'S EXHIBITION FUND\",\n",
       " 526669: 'MANCHESTER TALMUDICAL COLLEGE AND THEOLOGICAL SEMINARY',\n",
       " 234332: 'EREZ (MANCHESTER) LIMITED',\n",
       " 526675: 'NAZARENE THEOLOGICAL COLLEGE',\n",
       " 526702: \"CHETHAM'S HOSPITAL SCHOOL AND LIBRARY\",\n",
       " 529876: \"BISHOP LEE'S SCHOLARSHIP\",\n",
       " 530002: 'MANCHESTER DIOCESAN BOARD OF EDUCATION',\n",
       " 700038: 'LADYBARN COMMUNITY ASSOCIATION',\n",
       " 511078: 'WITHINGTON CIVIC SOCIETY',\n",
       " 700808: \"ST BEDE'S COLLEGE LIMITED\",\n",
       " 702559: 'ADS (ADDICTION DEPENDENCY SOLUTIONS)',\n",
       " 228577: 'MANCHESTER SETTLEMENT',\n",
       " 1001346: 'MANCHESTER AND DISTRICT HOME FOR LOST DOGS LIMITED',\n",
       " 1002222: 'COMMUNITY TRANSPORT ASSOCIATION UK',\n",
       " 1007325: 'NATHAN LASKI MEMORIAL CHARITABLE TRUST',\n",
       " 259181: 'THE COUNCIL OF MANCHESTER AND SALFORD JEWS CHARITABLE TRUST',\n",
       " 1008295: 'MANCHESTER CATHEDRAL DEVELOPMENT TRUST',\n",
       " 1009126: 'KESSER CHARITIES LIMITED',\n",
       " 1014918: 'WILLIAM CHADWICK BURSARY',\n",
       " 1015304: 'THE GUIDE ASSOCIATION COUNTY OF MANCHESTER',\n",
       " 1015851: '308TH MANCHESTER SCOUT GROUP',\n",
       " 1015984: 'ZIV HATORAH',\n",
       " 1020173: 'MANCHESTER SOUTH DISTRICT SCOUT COUNCIL',\n",
       " 501253: 'THE PARISH HALL CHARITY',\n",
       " 1021798: 'BURNAGE FAMILY CHURCH',\n",
       " 1026351: 'MANCHESTER VICTORIA BATHS TRUST',\n",
       " 1026669: 'OGLESBY CHARITABLE TRUST',\n",
       " 251980: 'PATRICROFT SCOUT HALL',\n",
       " 1032203: 'MANCHESTER UNITARIAN CONGREGATIONAL FUND',\n",
       " 1036115: 'THE KUIT STEINART LEVY CHARITABLE TRUST',\n",
       " 1017504: 'FOREVER MANCHESTER',\n",
       " 1040167: \"INDIAN SENIOR CITIZEN'S CENTRE (MANCHESTER)\",\n",
       " 1040342: 'THE MANCHESTER CONCERT HALL LIMITED',\n",
       " 1040579: \"THE GREATER MANCHESTER HIGH SHERIFF'S POLICE TRUST\",\n",
       " 1044163: \"ST PAUL'S PARENT TEACHER ASSOCIATION\",\n",
       " 521634: '1ST WITHINGTON SCOUT GROUP',\n",
       " 1044759: 'MANCHESTER DENTAL EDUCATION TRUST',\n",
       " 235313: 'THE MANCHESTER LITERARY AND PHILOSOPHICAL SOCIETY',\n",
       " 1047666: '105TH MANCHESTER SCOUT GROUP',\n",
       " 1048000: 'SOUTH MANCHESTER GYMNASTICS CENTRE',\n",
       " 1048182: 'THE LEVY CHARITABLE TRUST',\n",
       " 1049067: 'WYTHENSHAWE HOSPITAL TRANSPLANT FUND',\n",
       " 1050792: 'THE NATIONAL FOOTBALL MUSEUM',\n",
       " 1054872: 'FAISALABAD AND MANCHESTER FRIENDSHIP COMMITTEE',\n",
       " 1055192: 'QUAKER BOLIVIA LINK',\n",
       " 1055300: 'HIGHER EDUCATION CAREERS SERVICES UNIT',\n",
       " 1055993: 'BARNABUS',\n",
       " 1058495: 'THE BRIDGEWATER HALL COMMUNITY EDUCATION TRUST',\n",
       " 278912: 'NORTHERN CHAMBER ORCHESTRA LIMITED',\n",
       " 1060965: 'THE WHITWORTH BATHS',\n",
       " 1055020: 'THE CASTLEFIELD HERITAGE TRUST',\n",
       " 1061457: 'THE MONASTERY OF ST FRANCIS GORTON TRUST LTD',\n",
       " 1062333: 'BIG LIFE CENTRES',\n",
       " 1064129: 'PSAPPHA LIMITED',\n",
       " 1064939: 'OLDHAM, HENSHAW AND CHURCH OF ENGLAND EDUCATIONAL TRUST',\n",
       " 1065028: 'CHRYSALIS (MANCHESTER)',\n",
       " 1013285: 'CHORLTON GOOD NEIGHBOURS',\n",
       " 1039414: \"MANCHESTER ASSEMBLY HALL OF JEHOVAH'S WITNESSES\",\n",
       " 1067272: 'RAVENGLASS AND ESKDALE RAILWAY PRESERVATION SOCIETY TRUST',\n",
       " 700664: 'THE JUNIOR SCHOOL AT THE ROYAL NORTHERN COLLEGE OF MUSIC ENDOWMENT TRUST',\n",
       " 1068204: 'MANCHESTER SPORT AND LEISURE TRUST',\n",
       " 1069401: 'M13 YOUTH PROJECT',\n",
       " 1069404: 'URBAN PRESENCE',\n",
       " 1070668: 'MANCHESTER YOUNG LIVES LTD',\n",
       " 1071703: 'MANCHESTER AIRPORT COMMUNITY TRUST FUND',\n",
       " 519213: 'THE MECHANICS CENTRE MUSEUM OF LABOUR AND TRADES UNION HISTORY TRUST',\n",
       " 1013846: 'NOAM SHABBOS ASSOCIATION',\n",
       " 514719: 'GREATER MANCHESTER ARTS CENTRE LIMITED',\n",
       " 1072479: 'YEMIN CHARITABLE TRUST LTD',\n",
       " 1073915: \"YESHIVAH L'ZEIRIM MANCHESTER CHARITY TRUST\",\n",
       " 1075020: 'MANCHESTER CARERS CENTRE',\n",
       " 1067108: 'AFRICAN AND CARIBBEAN MENTAL HEALTH SERVICES',\n",
       " 801760: 'THE WYTHENSHAWE CARDIOLOGY DEPARTMENT RESEARCH FUND',\n",
       " 1077564: 'MOSS SIDE MILLENNIUM POWERHOUSE LTD',\n",
       " 1078009: 'BREAKTHROUGH U.K. LTD',\n",
       " 1080606: 'MANCHESTER HISTORIC BUILDINGS TRUST',\n",
       " 1080836: 'CROSS STREET CHAPEL MANCHESTER',\n",
       " 1001134: 'THE MANCHESTER PUBLICITY ASSOCIATION EDUCATIONAL TRUST',\n",
       " 1082054: 'TRINITY HOUSE COMMUNITY RESOURCE CENTRE',\n",
       " 1082375: 'LUTHER KING HOUSE EDUCATIONAL TRUST',\n",
       " 1082421: 'JOHN THOMAS KENNEDY CHARITABLE FOUNDATION',\n",
       " 1083219: 'MOUNTAIN HERITAGE TRUST',\n",
       " 1083242: 'AGE CONCERN MANCHESTER',\n",
       " 1083412: 'QUAKER VOLUNTARY ACTION',\n",
       " 1084593: 'HALE ERUV PROJECT',\n",
       " 1002972: 'SOUTH MANCHESTER MIKVA',\n",
       " 1086587: 'THE MYF CHARITABLE TRUST',\n",
       " 1086643: 'HALE ADULT HEBREW EDUCATION TRUST',\n",
       " 1087955: 'THE MANCHESTER CATHEDRAL VISITOR CENTRE',\n",
       " 1052817: 'COMMUNITY HEALTH EDUCATION AND RECONSTRUCTION TRAINING',\n",
       " 1089257: 'THE AHMED IQBAL ULLAH EDUCATION TRUST',\n",
       " 1085379: 'THE LOUISE DA-COCODIA EDUCATION TRUST',\n",
       " 1089467: 'MANCHESTER JEWISH COMMUNITY CENTRE',\n",
       " 1064859: 'THE MANCHESTER SOMALI ISLAMIC CULTURAL TRUST',\n",
       " 1090745: 'ICA:UK',\n",
       " 1090859: 'THE MILLENNIUM QUARTER TRUST LIMITED',\n",
       " 1070904: 'LGBT FOUNDATION LTD',\n",
       " 1000888: 'AFTER ADOPTION',\n",
       " 1092362: 'WYTHENSHAWE OASIS',\n",
       " 1092536: 'CHINESE ALLIANCE CHURCHES UNION (UK)',\n",
       " 1092291: 'MANCHESTER ALLIANCE CHURCH',\n",
       " 1092751: 'NEW MARSTON LIMITED',\n",
       " 1015459: 'MULTI CULTURAL ARTS',\n",
       " 1093101: 'MANCHESTER MUSLIM FUNERAL COMMITTEE',\n",
       " 512410: 'PAKISTANI COMMUNITY CENTRE (LONGSIGHT)',\n",
       " 1093556: 'ZION ARTS CENTRE LIMITED',\n",
       " 1094063: 'CHINESE HEALTH INFORMATION CENTRE',\n",
       " 1094397: 'SAMJO LIMITED',\n",
       " 519781: 'DAR UL ULOOM ISLAMIA RAZWIA EDUCATIONAL CENTRE MANCHESTER',\n",
       " 515581: 'THE PORTICO LIBRARY TRUST',\n",
       " 1100469: 'QUARANTINE',\n",
       " 1101369: 'ZEDOKO VOCHESSED LTD',\n",
       " 327952: 'THE STAFF COUNCIL CHARITABLE TRUST',\n",
       " 1102830: 'MEDEQUIP4KIDS',\n",
       " 1096199: 'THE CREDIT UNION FOUNDATION',\n",
       " 1059115: 'GREATER MANCHESTER SPORTS PARTNERSHIP',\n",
       " 1083008: 'THE MINES ADVISORY GROUP',\n",
       " 1105353: 'HOME-START MANCHESTER',\n",
       " 1093028: 'CO-OPERATIVE COMMUNITY INVESTMENT FOUNDATION',\n",
       " 1105918: 'OMEGA RESEARCH FOUNDATION LIMITED',\n",
       " 1105925: 'SHOLOM UMARPE LTD',\n",
       " 1108216: 'NORTHERN BAPTIST COLLEGE LIMITED',\n",
       " 1108731: 'CONSERVATOIRES UK',\n",
       " 1109058: 'MOTHER OF PEACE COMMUNITY',\n",
       " 1109839: 'PREVENT BREAST CANCER LIMITED',\n",
       " 1110104: 'BRITISH MUSLIM HERITAGE CENTRE',\n",
       " 1073862: 'MANCHESTER ISLAMIC EDUCATIONAL TRUST LTD',\n",
       " 1110344: 'THE BOAZ TRUST',\n",
       " 1110880: 'HIDEAWAY YOUTH PROJECT LIMITED',\n",
       " 1052568: 'THE RULERS CHURCH',\n",
       " 1084588: \"REDEEMED CHRISTIAN CHURCH OF GOD ('RCCG') STRONG TOWER PARISH\",\n",
       " 1111993: 'DESTINY CHRISTIAN CENTRE',\n",
       " 1091817: 'METUMOG CLUB INTERNATIONAL',\n",
       " 1112504: \"YOUNG PEOPLE'S SUPPORT FOUNDATION LIMITED\",\n",
       " 1112990: 'WYTHENSHAWE COMMUNITY INITIATIVE LIMITED',\n",
       " 1099847: 'THE TREE OF LIFE CENTRE WYTHENSHAWE',\n",
       " 1113542: 'STREETGAMES UK',\n",
       " 1113902: 'MANCHESTER INTERNATIONAL FESTIVAL',\n",
       " 1114010: 'VOLUNTARY YOUTH MANCHESTER',\n",
       " 1114546: 'MANCHESTER CITY CHAPEL',\n",
       " 1052608: 'AUTHENTIC CITY CHURCH',\n",
       " 1088375: 'WARSI TRUST UK',\n",
       " 1116258: 'PARKWAY GREEN HOUSING TRUST',\n",
       " 1074481: 'WILLOW PARK HOUSING TRUST LIMITED',\n",
       " 1116302: 'CLEAR WATERS THE GAMBIA',\n",
       " 502452: 'GEORGE JACKSON HOUSE TRUST',\n",
       " 516553: 'BLAIR BELL RESEARCH SOCIETY',\n",
       " 1117848: 'MANCHESTER PRIDE LIMITED',\n",
       " 1118315: \"Children's University Trust\",\n",
       " 1118816: 'RAV TOV',\n",
       " 1118957: 'MANCHESTER REFORM CONGREGATION',\n",
       " 1119384: 'MAKKI MASJID',\n",
       " 274769: 'THE ZOCHONIS CHARITABLE TRUST',\n",
       " 526055: 'ANN BUTTERWORTH AND DANIEL BAYLEY',\n",
       " 1121276: 'MANCHESTER LITERATURE FESTIVAL',\n",
       " 1121320: 'THE MSE CHARITY',\n",
       " 1121476: 'YOUNG ADVISORS COMPANY LTD',\n",
       " 1122461: 'NATIONAL UGLY MUGS',\n",
       " 1122656: 'DIGNITY (WORLDWIDE)',\n",
       " 1110783: 'OASIS MANCHESTER',\n",
       " 504132: 'DIOCESE OF SALFORD FELLOWSHIP FOR THE HANDICAPPED',\n",
       " 1102039: 'THE CARRWOOD CHARITABLE TRUST',\n",
       " 1126097: 'HOPE FOR JUSTICE',\n",
       " 1126141: 'CHALLENGE 4 CHANGE LTD',\n",
       " 1043019: 'THE MANUFACTURING INSTITUTE',\n",
       " 327235: 'THE ISLAMIC CENTRE (MANCHESTER)',\n",
       " 1126494: 'THE ABHAYARATNA TRUST',\n",
       " 1126774: 'OVERSEAS FELLOWSHIP OF NIGERIAN CHRISTIANS',\n",
       " 1122900: \"KING'S CHURCH IN GREATER MANCHESTER\",\n",
       " 529866: 'THE DICKINSON SCHOLARSHIP FUND ICW UNIVERSITY OF MANCHESTER',\n",
       " 1128263: 'LMCP CARE LINK',\n",
       " 1046278: 'FRIENDS OF ROSIE CHILDRENS CANCER RESEARCH FUND',\n",
       " 1125009: 'THE URBAN SPLASH CHARITABLE TRUST LIMITED',\n",
       " 1129635: 'WITHINGTON METHODIST CHURCH',\n",
       " 1130742: 'ETHIOPIAN ORTHODOX TEWAHEDO KIDIST SELASSIE CHURCH IN MANCHESTER (UK)',\n",
       " 1109990: 'MANCHESTER REFUGEE SUPPORT NETWORK',\n",
       " 1131259: 'NORTH WEST LEGAL SUPPORT TRUST',\n",
       " 1131669: 'THE PAROCHIAL CHURCH COUNCIL OF THE ECCLESIASTICAL PARISH OF ST JAMES & EMMANUEL, DIDSBURY',\n",
       " 1125914: 'MANCHESTER PENTECOSTAL CHURCH',\n",
       " 1132141: 'THE PAROCHIAL CHURCH COUNCIL OF THE ECCLESIASTICAL PARISH OF ST. JOHN THE DIVINE, BROOKLANDS, MANCHESTER',\n",
       " 1132532: 'THE PAROCHIAL CHURCH COUNCIL OF THE ECCLESIASTICAL PARISH OF HOLY TRINITY RUSHOLME',\n",
       " 1132549: 'THE PAROCHIAL CHURCH COUNCIL OF THE ECCLESIASTICAL PARISH OF ST MARGARET, BURNAGE',\n",
       " 1084875: 'FRIENDS OF INDIAN EVANGELICAL MISSION',\n",
       " 1132944: 'EMERGE 3RS',\n",
       " 1133121: 'OUTDOORLADS LIMITED',\n",
       " 1133526: \"MANCHESTER DISABLED PEOPLE'S ACCESS GROUP\",\n",
       " 1133626: \"YOUTH PROJECT @ APOSTLES' AND CUTHBERT'S\",\n",
       " 503126: 'BIRLEY TRUST',\n",
       " 1121048: 'CONGO CHILDREN TRUST',\n",
       " 1134462: 'BROCKBANK FOUNDATION LIMITED',\n",
       " 1134580: 'THE MANCHESTER YOUTH ZONE LIMITED',\n",
       " 272271: 'THE BRITISH REGION OF THE INTERNATIONAL ECUMENICAL FELLOWSHIP',\n",
       " 1062675: 'ASSIST',\n",
       " 1135348: 'MOTHERS AGAINST VIOLENCE',\n",
       " 1121461: 'GRACE INCORPORATION FAITH TRUST (GIFT)',\n",
       " 1135777: 'THE BRUNTWOOD CHARITY',\n",
       " 1135883: 'ANSON CABIN PROJECT',\n",
       " 1136159: 'THE PAROCHIAL CHURCH COUNCIL OF THE ECCLESIASTICAL PARISH OF ST ANN, MANCHESTER',\n",
       " 526429: \"THE MANCHESTER, SAINT ANN'S EDUCATIONAL FOUNDATION\",\n",
       " 1136293: 'REDEEMED CHRISTIAN CHURCH OF GOD- NEW JERUSALEM CHURCH SALFORD',\n",
       " 1136295: 'MUSIC ACTION INTERNATIONAL',\n",
       " 327233: 'THE MUSLIM YOUTH FOUNDATION',\n",
       " 1136358: 'TRUSTEES FOR METHODIST CHURCH PURPOSES',\n",
       " 1082107: 'THE ROYAL SCOTTISH COUNTRY DANCE SOCIETY MANCHESTER BRANCH',\n",
       " 1140385: 'GREATER MANCHESTER COMMUNITY CHAPLAINCY LTD',\n",
       " 1137323: 'EDEN NETWORK GREATER LONDON',\n",
       " 516351: 'INNER CITY MUSIC LIMITED',\n",
       " 1111988: 'CARE LEAVERS ASSOCIATION',\n",
       " 1132741: 'TALBOT HOUSE SUPPORT CENTRE',\n",
       " 1141832: 'IMAGE AND PREGNANCY HELPLINE',\n",
       " 1141644: 'DIDSBURY PLAYING FIELDS ASSOCIATION',\n",
       " 1142217: 'BARLOW MOOR COMMUNITY ASSOCIATION LIMITED',\n",
       " 1142462: 'MANCHESTER SOUTH STREET PASTORS',\n",
       " 1118094: 'COMMAND PRAYER CENTRE MINISTRIES INTERNATIONAL',\n",
       " 1017467: 'BACK ON TRACK MANCHESTER LTD',\n",
       " 1143128: 'NARTM',\n",
       " 509772: 'THE GREATER MANCHESTER TRANSPORT SOCIETY',\n",
       " 1143295: 'THE JOYCE AND MICHAEL KENNEDY AWARD FOR THE SINGING OF RICHARD STRAUSS',\n",
       " 1143531: 'CHRISTIAN RESTORATION MANCHESTER',\n",
       " 1143533: 'DIDSBURY CIVIC SOCIETY',\n",
       " 1143639: 'THE PORTICO LIBRARY AND NEWSROOM',\n",
       " 1143643: 'NEXUS CCS',\n",
       " 1144145: 'DIDSBURY PARSONAGE TRUST',\n",
       " 1144146: \"UNIVERSITY OF MANCHESTER STUDENTS' UNION\",\n",
       " 1144161: 'THE FAITH NETWORK FOR MANCHESTER (FN4M)',\n",
       " 1144802: 'MANCHESTER ISLAMIC AND CULTURAL CENTRE',\n",
       " 1007809: 'THE TRANSPLANT PATIENTS TRUST OF GREAT BRITAIN',\n",
       " 1108310: 'GRACE CHURCH MANCHESTER',\n",
       " 1145921: 'MANCHESTER ALLIANCE FOR COMMUNITY CARE',\n",
       " 1145811: 'GAPOLUNYA FOUNDATION',\n",
       " 1146074: 'BURNAGE GOOD NEIGHBOURS',\n",
       " 521221: 'BURNAGE COMMUNITY ASSOCIATION',\n",
       " 1146658: \"THE MANCHESTER MEN'S ROOM\",\n",
       " 221889: 'MANCHESTER LOCAL MEDICAL COMMITTEE COMPASSIONATE FUND',\n",
       " 1147287: 'THE MESSAGE ENTERPRISE CENTRE',\n",
       " 1081467: 'THE MESSAGE TRUST',\n",
       " 1147494: 'EDEN NETWORK YORKSHIRE',\n",
       " 1147596: 'THE PAROCHIAL CHURCH COUNCIL OF THE ECCLESIASTICAL PARISH OF CHRIST CHURCH WEST DIDSBURY AND ST CHRISTOPHER WITHINGTON',\n",
       " 1048581: 'MANCHESTER CITY GALLERIES TRUST',\n",
       " 1148159: 'PENTECOSTAL CHURCH OF GOD UK',\n",
       " 1104275: 'RE BUILD (BURY)',\n",
       " 1149675: 'LIGHT',\n",
       " 1149979: 'THE AUDIENCE AGENCY',\n",
       " 1110963: 'ST PETERS HOLY APOSTOLIC CHURCH',\n",
       " 1150161: 'MANCHESTER CENTRAL LIBRARY DEVELOPMENT TRUST',\n",
       " 1150394: 'TRANSFORMING CHURCHES AND COMMUNITIES',\n",
       " 1150458: \"THE PROFESSIONAL FOOTBALLERS' ASSOCIATION CHARITY\",\n",
       " 1150671: 'WONDERFULLY MADE WOMAN',\n",
       " 1123875: 'MISSAO CRISTA VIDA',\n",
       " 1150855: 'FRIENDS OF ATERES MOSHE',\n",
       " 1151085: 'WYTHENSHAWE COMMUNITY HOUSING GROUP LIMITED',\n",
       " 1151195: 'THE ALA GREEN CHARITABLE TRUST',\n",
       " 1151781: 'BIRCH COMMUNITY ASSOCIATION',\n",
       " 519577: 'SHIA WELFARE ASSOCIATION',\n",
       " 1152678: 'INTERNATIONAL SOCIETY',\n",
       " 1152765: 'EDEN NETWORK MERSEYSIDE',\n",
       " 1153131: 'FAIRFIELD ENVIRONMENT TRUST',\n",
       " 1153879: 'FAITHLIFE CENTRE MINISTRIES',\n",
       " 1153958: 'THE REDEEMED CHRISTIAN CHURCH OF GOD, CITY OF TRUTH',\n",
       " 1154327: 'ALEXANDRIA LIGHTHOUSE',\n",
       " 500562: 'THE MANCHESTER CHINESE CHRISTIAN CHURCH',\n",
       " 1154578: 'THE FRIENDS OF THE WHITWORTH ART GALLERY',\n",
       " 1154744: 'NEWDAY UNITED',\n",
       " 1154803: 'BRIGHTER SOUND LTD',\n",
       " 1155379: 'CLAYTON HALL LIVING HISTORY MUSEUM',\n",
       " 1155722: 'THE REDEEMED CHRISTIAN CHURCH OF GOD, STRONG TOWER FOUNTAIN OF HOPE AND EXCELLENCE',\n",
       " 1156722: 'THE CARBON LITERACY TRUST',\n",
       " 1157448: 'CITY CHURCH MANCHESTER CIO',\n",
       " 1156857: 'DIDSBURY COMMUNITY ASSOCIATION',\n",
       " 1125455: 'THE TURLEY ASSOCIATES CHARITABLE TRUST',\n",
       " 1158360: 'FALLOWFIELD LIBRARY & COMMUNITY RESOURCE CENTRE',\n",
       " 1158509: 'FOUNDATION FOR SCIENCE, TECHNOLOGY AND CIVILISATION UK',\n",
       " 1158551: 'WOMEN ASYLUM SEEKERS TOGETHER',\n",
       " 1136328: 'CHEETHAM HILL ADVICE CENTRE',\n",
       " 1158974: 'PHARMACIST SUPPORT',\n",
       " 1159219: 'HEART VALVE VOICE',\n",
       " 1126394: \"ST MARY'S JACOBITE SYRIAN ORTHODOX CHURCH MANCHESTER\",\n",
       " 1159781: 'QUAKER CONGO PARTNERSHIP UK',\n",
       " 1159881: 'MANCHESTER BROOKLANDS CHURCH OF THE NAZARENE',\n",
       " 1159966: 'RTYDS LIMITED',\n",
       " 1160256: 'READ FOUNDATION',\n",
       " 1160268: 'VOLITION COMMUNITY',\n",
       " 1160640: 'TEKKATHO FOUNDATION',\n",
       " 529910: \"THE MANCHESTER GRAMMAR SCHOOL PARENTS' SOCIETY\",\n",
       " 1161043: 'A.R.I.C.D.',\n",
       " 1161295: 'KINGDOM POWER MINISTRIES INTERNATIONAL (KPMI)',\n",
       " 1161460: 'HOPE COMMUNITY CHURCH (MANCHESTER)',\n",
       " 1161501: 'HOME COMMUNITY CAFE',\n",
       " 1162134: 'HIGHER BLACKLEY COMMUNITY ORGANISATION',\n",
       " 1042500: 'LIFESHARE LIMITED',\n",
       " 1145791: 'KAGYU DECHEN BUDDHISM',\n",
       " 1163533: 'LEVENSHULME INSPIRE FOUNDATION',\n",
       " 1164179: 'MANCHESTER DIGITAL MUSIC ARCHIVE TRUST',\n",
       " 1157274: \"FUTURE'S VENTURE FOUNDATION\",\n",
       " 1164323: 'MANCHESTER HIGH SCHOOL FOR GIRLS',\n",
       " 1164681: 'MANCHESTER TECH TRUST',\n",
       " 1164805: 'STRICTLY WHEELS FOUNDATION',\n",
       " 1141796: \"TLC - ST LUKE'S\",\n",
       " 1165564: 'MANCHESTER VINEYARD',\n",
       " 1158972: 'REPCE',\n",
       " 1166128: 'CAN-SURVIVE  UK',\n",
       " 1166240: 'FAMILIES AGAINST VIOLENCE',\n",
       " 1110840: 'SOLIDARITY CATALYST LIMITED',\n",
       " 1166318: 'EDWARD MAYES TRUST',\n",
       " 1166436: 'CWOI',\n",
       " 1146328: 'CHRIST WORSHIPPERS ASSEMBLY',\n",
       " 1160036: 'RESTORE LIFE',\n",
       " 1166488: 'THE CHURCH IN MANCHESTER',\n",
       " 1166806: 'COMMUNITY CHURCH OF THE NAZARENE LONGSIGHT',\n",
       " 1138880: 'THE CROSSROADS CENTRE',\n",
       " 1163648: 'MANCHESTER CENTRE FOR THE STUDY OF CHRISTIANITY AND ISLAM',\n",
       " 1166834: 'THE OASIS CENTRE COMMUNITY PROJECT-EAST MANCHESTER',\n",
       " 1166873: 'YOUNG MANCHESTER',\n",
       " 1166956: 'UK-MED',\n",
       " 1167087: \"MRS LUM'S ALMSHOUSES\",\n",
       " 1167415: 'ALMANAR (UK) EDUCATIONAL TRUST',\n",
       " 1167704: 'GREATER TOGETHER MANCHESTER',\n",
       " 1119622: 'TAMESIDE CANAL BOAT TRUST',\n",
       " 1168597: 'SOUTH MANCHESTER U3A',\n",
       " 1061434: 'THE COMMUNITY CHRISTIAN CHURCH (STOCKPORT)',\n",
       " 1168695: 'ALL ARTS & MEDIA LTD',\n",
       " 1131763: 'HELP MANKIND LTD',\n",
       " 1169272: 'BURNAGE FOODBANK',\n",
       " 1169291: 'IRISH COMMUNITY CARE MANCHESTER',\n",
       " 1086775: 'IRISH DIASPORA FOUNDATION',\n",
       " 1169601: 'NEW FAMILY CONNECTIONS',\n",
       " 1149674: 'KICC THE CITY OF REFUGE',\n",
       " 1169923: 'CELESTIAL CHURCH OF CHRIST - HOUSE OF PRAISE PARISH',\n",
       " 1169996: 'MANCHESTER ISLAMIC INSTITUTE',\n",
       " 1170101: 'THE REDEEMED CHRISTIAN CHURCH OF GOD THE OVERCOMER CHURCH',\n",
       " 1170750: 'CATS (CANCER AWARENESS IN TEENAGE AND YOUNG PEOPLE SOCIETY)',\n",
       " 1170841: 'GREATER MANCHESTER SOMALI COMMUNITY ASSOCIATION',\n",
       " 1112770: 'IHSAAN INTERNATIONAL LIMITED',\n",
       " 1162025: 'SOUTH MANCHESTER AOS',\n",
       " 1171658: 'WHALLEY RANGE COMMUNITY FORUM',\n",
       " 512666: 'WHALLEY RANGE YOUTH OPPORTUNITY ASSOCIATION',\n",
       " 1171736: 'VILLAGE RESTORATION',\n",
       " 1165142: 'GOODNEWS ASSEMBLIES OF GOD',\n",
       " 1172087: 'MANCHESTER AND WARRINGTON AREA QUAKER MEETING (RELIGIOUS SOCIETY OF FRIENDS)',\n",
       " 1173260: 'WE LOVE MANCHESTER EMERGENCY FUND',\n",
       " 1173468: 'UGANDA COMMUNITY IN GREATER MANCHESTER',\n",
       " 1123706: 'UGANDA COMMUNITY IN GREATER MANCHESTER',\n",
       " 1173647: \"St Bede's College Parents' Association\",\n",
       " 1170346: 'Czech School & Community Manchester',\n",
       " 1131060: 'THE EAST MANCHESTER COMMUNITY ASSOCIATION',\n",
       " 1142739: 'INCARNATE NETWORK',\n",
       " 1174275: 'SOUTH MANCHESTER MEN IN SHEDS',\n",
       " 1174723: 'RECOVERY WORKS LIMITED',\n",
       " 1175084: 'THE CINDY APPLEYARD FOUNDATION',\n",
       " 1091297: 'FRIENDS OF ALMA PARK PARENT TEACHER ASSOCIATION',\n",
       " 1175227: 'LA-TOUCHE HEALTH FOUNDATION',\n",
       " 1159167: 'ORTHOCYCLE FOUNDATION',\n",
       " 1167430: 'MIGRANT SUPPORT',\n",
       " 1010167: 'CITIZENS ADVICE MANCHESTER',\n",
       " 1176902: 'MCR CARES LIMITED',\n",
       " 1081654: 'VOLUNTARY SECTOR NORTH WEST',\n",
       " 1154238: 'THE FRIENDS OF DEBDALE PARK',\n",
       " 1132454: 'INTERNATIONAL SOCIETY FOR THE STUDY OF DRUG POLICY',\n",
       " 1138978: 'THE PRESTON FAMILY CHARITABLE SETTLEMENT',\n",
       " 1010817: 'IMANI COMMUNITY ASSOCIATION',\n",
       " 1157766: 'THE IQBAL BROS FOUNDATION',\n",
       " 1151846: 'HIGHWAY HOPE',\n",
       " 1121610: 'THE CO-OPERATIVE HERITAGE TRUST',\n",
       " 1139992: 'SHAH JALAL MOSQUE & ISLAMIC CENTRE',\n",
       " 1170582: 'DIMOBI CHILDREN DISABILITY TRUST',\n",
       " 1133000: 'SHOCKOUT ACADEMY',\n",
       " 1142748: 'NASRUL-LAHI-L- FATIH SOCIETY OF NIGERIA (MANCHESTER CENTRAL) ENGLAND',\n",
       " 1066972: \"LORD MAYOR OF MANCHESTER'S CHARITY APPEAL TRUST\",\n",
       " 1176038: 'GREATER MANCHESTER PAKISTANI ASSOCIATION LIMITED',\n",
       " 1086533: 'THE FRIENDS OF PLATT FIELDS',\n",
       " 1116008: 'SICK! PRODUCTIONS LTD.',\n",
       " 1061821: 'AL-MASOOM INTERNATIONAL FOUNDATION TRUST',\n",
       " 1146768: 'THE JAMES MILNER FOUNDATION',\n",
       " 1130000: 'MANCHESTER JAZZ FESTIVAL',\n",
       " 1081649: 'JAMIAT UL MUSLIMIN, MANCHESTER',\n",
       " 1082156: 'DIDSBURY TOC-H YOUTH DEVELOPMENT FUND',\n",
       " 1142522: 'HAZARA COMMUNITY ASSOCIATION',\n",
       " 504096: 'THE PETER HENRIQUES FOUNDATION',\n",
       " 1154796: 'BUDDHA METTA SOCIETY'}"
      ]
     },
     "execution_count": 89,
     "metadata": {},
     "output_type": "execute_result"
    }
   ],
   "source": [
    "nx.get_node_attributes(chargraph, \"organisation_name\")"
   ]
  },
  {
   "cell_type": "markdown",
   "metadata": {},
   "source": [
    "#### TASK: view the *organisation size* attribute for the nodes in the network"
   ]
  },
  {
   "cell_type": "code",
   "execution_count": 90,
   "metadata": {},
   "outputs": [],
   "source": [
    "# INSERT CODE HERE"
   ]
  },
  {
   "cell_type": "markdown",
   "metadata": {},
   "source": [
    "### Whole network properties\n",
    "\n",
    "We know from our data that we are dealing with a network of charities, who are connected through *undirected*, *binary* ties. We can use `networkx` to learn much more about our network and its properties and structure. First, let's get a sense of how large the network is in terms of nodes and ties:"
   ]
  },
  {
   "cell_type": "code",
   "execution_count": 57,
   "metadata": {},
   "outputs": [
    {
     "name": "stdout",
     "output_type": "stream",
     "text": [
      "Name: \n",
      "Type: Graph\n",
      "Number of nodes: 1123\n",
      "Number of edges: 1542\n",
      "Average degree:   2.7462\n"
     ]
    }
   ],
   "source": [
    "print(nx.info(chargraph))"
   ]
  },
  {
   "cell_type": "markdown",
   "metadata": {},
   "source": [
    "*Average degree* is a measure of how many ties a node has with other nodes. In our example, a Manchester charity is typically connected to three other charitable organisations."
   ]
  },
  {
   "cell_type": "markdown",
   "metadata": {},
   "source": [
    "> Quantitative metrics let you differentiate networks, learn about their topologies, and turn a jumble of nodes and edges into something you can learn from. (Programming Historian, 2017)"
   ]
  },
  {
   "cell_type": "markdown",
   "metadata": {},
   "source": [
    "How denses is the network? That is, how many of the possible connections between have been realised? We can use the `nx.density()` function to calculate a measure ranging from 1 (all connections realised) to 0 (no connections between nodes). The resuls below show that our network of charities is not very dense at all, though this is to be expected: our 1100 charities have 2735 trustees, which can be drawn from a city with a population of c.500,000."
   ]
  },
  {
   "cell_type": "code",
   "execution_count": 60,
   "metadata": {},
   "outputs": [
    {
     "name": "stdout",
     "output_type": "stream",
     "text": [
      "Network density: 0.0024476073923457506\n"
     ]
    }
   ],
   "source": [
    "density = nx.density(chargraph)\n",
    "print(\"Network density:\", density)"
   ]
  },
  {
   "cell_type": "markdown",
   "metadata": {},
   "source": [
    "#### Clustering\n",
    "\n",
    "We're going to focus on *transitivity* i.e., the ratio of all triads over all possible triad. A possible triad exists when one node is connected to two others: in such a scenario we can assume that the other two nodes have a good opportunity to connect to each other. Put another way, *transitivity* calculates the probability that two individuals who share a common acquaintance, will end up connecting with each other directly i.e., a friend of a friend becomes a friend. [*Show example of possible triad*]"
   ]
  },
  {
   "cell_type": "code",
   "execution_count": 78,
   "metadata": {},
   "outputs": [
    {
     "name": "stdout",
     "output_type": "stream",
     "text": [
      "Triadic closure: 0.6133015920249962\n"
     ]
    }
   ],
   "source": [
    "triadic_closure = nx.transitivity(chargraph)\n",
    "print(\"Triadic closure:\", triadic_closure)"
   ]
  },
  {
   "cell_type": "markdown",
   "metadata": {},
   "source": [
    "Transitivity measure is high, though this is likely due to the fact that there are fewer possible triads to begin with - remember that our network is not very dense, therefore there are few instances where two charities are connected share a common connection with another organisation. Where such possible triads exist however, it is likelier than not that a triad will be formed i.e., those two charities will establish a direct connection with other."
   ]
  },
  {
   "cell_type": "markdown",
   "metadata": {},
   "source": [
    "#### Centrality\n",
    "\n",
    "Now we are concerned with the charities that are most important in the network. That is, which nodes are best connected. The first measure is *degree centrality*, which helps us identify hubs. We start by calculating the number of ties for each node and adding this a node attribute:"
   ]
  },
  {
   "cell_type": "code",
   "execution_count": 79,
   "metadata": {},
   "outputs": [],
   "source": [
    "degree_dict = dict(chargraph.degree(chargraph.nodes()))\n",
    "nx.set_node_attributes(chargraph, degree_dict, \"degree\")"
   ]
  },
  {
   "cell_type": "code",
   "execution_count": 91,
   "metadata": {},
   "outputs": [
    {
     "data": {
      "text/plain": [
       "{'organisation_size': 'small',\n",
       " 'degree': 12,\n",
       " 'organisation_name': 'THE LEVENSHULME TRUST FOR THE RELIEF OF SICKNESS AND SUFFERING'}"
      ]
     },
     "execution_count": 91,
     "metadata": {},
     "output_type": "execute_result"
    }
   ],
   "source": [
    "chargraph.nodes[225116] # number of ties for charity 225116"
   ]
  },
  {
   "cell_type": "markdown",
   "metadata": {},
   "source": [
    "### Components"
   ]
  },
  {
   "cell_type": "code",
   "execution_count": 63,
   "metadata": {},
   "outputs": [
    {
     "name": "stdout",
     "output_type": "stream",
     "text": [
      "False\n"
     ]
    }
   ],
   "source": [
    "# If your Graph has more than one component, this will return False:\n",
    "print(nx.is_connected(chargraph))"
   ]
  },
  {
   "cell_type": "code",
   "execution_count": 75,
   "metadata": {},
   "outputs": [
    {
     "name": "stdout",
     "output_type": "stream",
     "text": [
      "251\n",
      "{1094157, 313360, 1003042, 1013285, 526373, 1179181, 254012, 1068094, 1145921, 1065028, 1134150, 526407, 1160268, 249424, 530002, 1122900, 1166935, 511078, 1031783, 258665, 1162347, 236149, 519292, 1175173, 700038, 282771, 1157268, 242838, 1054872, 1142426, 1169562, 1140385, 1129635, 1016996, 1152678, 1008295, 1186986, 801973, 1174714, 288442, 1132732, 1142462, 501953, 1143492, 228038, 1147596, 1109200, 1138913, 1045731, 526054, 250086, 1118957, 309998, 1172213, 517880, 1114873, 1064698, 1108731, 295164, 515327, 1174275, 526086, 1008391, 213258, 1177357, 257807, 222482, 1062675, 1148698, 1085724, 1131301, 1133863, 1153832, 1077033, 1040167, 1090859, 1069363, 526647, 1132861, 1128254, 526660, 276821, 233814, 292182, 1167704, 1069401, 1142615, 1143643, 295260, 1069404, 1144161, 287589, 701798, 1161065, 1033067, 1133933, 526702, 1108339, 1126774, 505207, 251259, 1141117, 509311, 224642, 1001346, 250760, 1175945, 313741, 1118094, 1177999, 1132944, 240531, 1112468, 1104788, 526235, 1183135, 1134499, 702371, 328615, 504744, 1148331, 527278, 1165756, 1156540, 803266, 1116614, 1142217, 518092, 309714, 1087955, 529876, 286169, 503258, 1135067, 1129953, 1064939, 1129970, 1188851, 1164788, 1105918, 1153535}\n"
     ]
    }
   ],
   "source": [
    "# Next, use nx.connected_components to get the list of components,\n",
    "# then use the max() command to find the largest one:\n",
    "components = list(nx.connected_components(chargraph))\n",
    "largest_component = max(components, key=len)\n",
    "\n",
    "print(len(components)) # lots of subgraphs in our network\n",
    "print(largest_component) # returns the set of charities that form the largest component in the network"
   ]
  },
  {
   "cell_type": "code",
   "execution_count": 77,
   "metadata": {},
   "outputs": [
    {
     "ename": "NetworkXError",
     "evalue": "Found infinite path length because the graph is not connected",
     "output_type": "error",
     "traceback": [
      "\u001b[1;31m---------------------------------------------------------------------------\u001b[0m",
      "\u001b[1;31mNetworkXError\u001b[0m                             Traceback (most recent call last)",
      "\u001b[1;32m<ipython-input-77-f20c44a30f4b>\u001b[0m in \u001b[0;36m<module>\u001b[1;34m\u001b[0m\n\u001b[1;32m----> 1\u001b[1;33m \u001b[0mdiameter\u001b[0m \u001b[1;33m=\u001b[0m \u001b[0mnx\u001b[0m\u001b[1;33m.\u001b[0m\u001b[0mdiameter\u001b[0m\u001b[1;33m(\u001b[0m\u001b[0mchargraph\u001b[0m\u001b[1;33m)\u001b[0m\u001b[1;33m\u001b[0m\u001b[1;33m\u001b[0m\u001b[0m\n\u001b[0m",
      "\u001b[1;32mC:\\ANACONDA3\\lib\\site-packages\\networkx\\algorithms\\distance_measures.py\u001b[0m in \u001b[0;36mdiameter\u001b[1;34m(G, e, usebounds)\u001b[0m\n\u001b[0;32m    279\u001b[0m         \u001b[1;32mreturn\u001b[0m \u001b[0mextrema_bounding\u001b[0m\u001b[1;33m(\u001b[0m\u001b[0mG\u001b[0m\u001b[1;33m,\u001b[0m \u001b[0mcompute\u001b[0m\u001b[1;33m=\u001b[0m\u001b[1;34m\"diameter\"\u001b[0m\u001b[1;33m)\u001b[0m\u001b[1;33m\u001b[0m\u001b[1;33m\u001b[0m\u001b[0m\n\u001b[0;32m    280\u001b[0m     \u001b[1;32mif\u001b[0m \u001b[0me\u001b[0m \u001b[1;32mis\u001b[0m \u001b[1;32mNone\u001b[0m\u001b[1;33m:\u001b[0m\u001b[1;33m\u001b[0m\u001b[1;33m\u001b[0m\u001b[0m\n\u001b[1;32m--> 281\u001b[1;33m         \u001b[0me\u001b[0m \u001b[1;33m=\u001b[0m \u001b[0meccentricity\u001b[0m\u001b[1;33m(\u001b[0m\u001b[0mG\u001b[0m\u001b[1;33m)\u001b[0m\u001b[1;33m\u001b[0m\u001b[1;33m\u001b[0m\u001b[0m\n\u001b[0m\u001b[0;32m    282\u001b[0m     \u001b[1;32mreturn\u001b[0m \u001b[0mmax\u001b[0m\u001b[1;33m(\u001b[0m\u001b[0me\u001b[0m\u001b[1;33m.\u001b[0m\u001b[0mvalues\u001b[0m\u001b[1;33m(\u001b[0m\u001b[1;33m)\u001b[0m\u001b[1;33m)\u001b[0m\u001b[1;33m\u001b[0m\u001b[1;33m\u001b[0m\u001b[0m\n\u001b[0;32m    283\u001b[0m \u001b[1;33m\u001b[0m\u001b[0m\n",
      "\u001b[1;32mC:\\ANACONDA3\\lib\\site-packages\\networkx\\algorithms\\distance_measures.py\u001b[0m in \u001b[0;36meccentricity\u001b[1;34m(G, v, sp)\u001b[0m\n\u001b[0;32m    244\u001b[0m                 msg = ('Found infinite path length because the graph is not'\n\u001b[0;32m    245\u001b[0m                        ' connected')\n\u001b[1;32m--> 246\u001b[1;33m             \u001b[1;32mraise\u001b[0m \u001b[0mnx\u001b[0m\u001b[1;33m.\u001b[0m\u001b[0mNetworkXError\u001b[0m\u001b[1;33m(\u001b[0m\u001b[0mmsg\u001b[0m\u001b[1;33m)\u001b[0m\u001b[1;33m\u001b[0m\u001b[1;33m\u001b[0m\u001b[0m\n\u001b[0m\u001b[0;32m    247\u001b[0m \u001b[1;33m\u001b[0m\u001b[0m\n\u001b[0;32m    248\u001b[0m         \u001b[0me\u001b[0m\u001b[1;33m[\u001b[0m\u001b[0mn\u001b[0m\u001b[1;33m]\u001b[0m \u001b[1;33m=\u001b[0m \u001b[0mmax\u001b[0m\u001b[1;33m(\u001b[0m\u001b[0mlength\u001b[0m\u001b[1;33m.\u001b[0m\u001b[0mvalues\u001b[0m\u001b[1;33m(\u001b[0m\u001b[1;33m)\u001b[0m\u001b[1;33m)\u001b[0m\u001b[1;33m\u001b[0m\u001b[1;33m\u001b[0m\u001b[0m\n",
      "\u001b[1;31mNetworkXError\u001b[0m: Found infinite path length because the graph is not connected"
     ]
    }
   ],
   "source": [
    "diameter = nx.diameter(chargraph)"
   ]
  },
  {
   "cell_type": "markdown",
   "metadata": {},
   "source": [
    "The longest shortest path in the largest component:"
   ]
  },
  {
   "cell_type": "code",
   "execution_count": 76,
   "metadata": {},
   "outputs": [
    {
     "name": "stdout",
     "output_type": "stream",
     "text": [
      "Network diameter of largest component: 10\n"
     ]
    }
   ],
   "source": [
    "subgraph = chargraph.subgraph(largest_component)\n",
    "diameter = nx.diameter(subgraph)\n",
    "print(\"Network diameter of largest component:\", diameter)"
   ]
  },
  {
   "cell_type": "markdown",
   "metadata": {},
   "source": [
    "`networkx` is primarily a network analysis package, though it does possess some functions for visualising networks:"
   ]
  },
  {
   "cell_type": "code",
   "execution_count": 59,
   "metadata": {},
   "outputs": [
    {
     "data": {
      "image/png": "[encoded data removed]",
      "text/plain": [
       "<Figure size 432x288 with 1 Axes>"
      ]
     },
     "metadata": {},
     "output_type": "display_data"
    }
   ],
   "source": [
    "import matplotlib.pyplot as plt\n",
    "\n",
    "nx.draw(chargraph)\n",
    "plt.show()"
   ]
  },
  {
   "cell_type": "markdown",
   "metadata": {},
   "source": [
    "## Conclusion\n",
    "\n",
    "*SNA and its value and limitations and opportunities*.\n",
    "\n",
    "Good luck on your data-driven travels!"
   ]
  },
  {
   "cell_type": "markdown",
   "metadata": {},
   "source": [
    "## Bibliography\n",
    "\n",
    "Barba, Lorena A. et al. (2019). *Teaching and Learning with Jupyter*. <a href=\"https://jupyter4edu.github.io/jupyter-edu-book/\" target=_blank>https://jupyter4edu.github.io/jupyter-edu-book/</a>.\n",
    "\n",
    "Brooker, P. (2020). *Programming with Python for Social Scientists*. London: SAGE Publications Ltd.\n",
    "\n",
    "Lau, S., Gonzalez, J., & Nolan, D. (n.d.). *Principles and Techniques of Data Science*. https://www.textbook.ds100.org\n",
    "\n",
    "Tagliaferri, L. (n.d.). *How to Code in Python 3*. https://assets.digitalocean.com/books/python/how-to-code-in-python.pdf"
   ]
  },
  {
   "cell_type": "markdown",
   "metadata": {},
   "source": [
    "## Further reading and resources\n",
    "\n",
    "We publish a list of useful books, papers, websites and other resources on our web-scraping Github repository: <a href=\"https://github.com/UKDataServiceOpen/social-network-analysis/tree/master/reading-list/\" target=_blank>[Reading list]</a>\n",
    "\n",
    "The help documentation for the `networkx` and `pandas` modules is refreshingly readable and useful:\n",
    "* <a href=\"LINK\" target=_blank>`networkx`</a>\n",
    "* <a href=\"LINK\" target=_blank>`pandas`</a> \n",
    "\n",
    "You may also be interested in the following articles and lessons specifically relating to social network analysis:\n",
    "* <a href=\"https://programminghistorian.org/en/lessons/exploring-and-analyzing-network-data-with-python\" target=_blank>Exploring and Analyzing Network Data with Python </a>\n",
    "* <a href=\"https://programminghistorian.org/en/lessons/creating-network-diagrams-from-historical-sources\" target=_blank>From Hermeneutics to Data to Networks: Data Extraction and Network Visualization of Historical Sources</a>"
   ]
  },
  {
   "cell_type": "markdown",
   "metadata": {},
   "source": [
    "## Appendices"
   ]
  },
  {
   "cell_type": "code",
   "execution_count": null,
   "metadata": {},
   "outputs": [],
   "source": []
  }
 ],
 "metadata": {
  "kernelspec": {
   "display_name": "Python 3",
   "language": "python",
   "name": "python3"
  },
  "language_info": {
   "codemirror_mode": {
    "name": "ipython",
    "version": 3
   },
   "file_extension": ".py",
   "mimetype": "text/x-python",
   "name": "python",
   "nbconvert_exporter": "python",
   "pygments_lexer": "ipython3",
   "version": "3.7.3"
  },
  "toc": {
   "base_numbering": 1,
   "nav_menu": {},
   "number_sections": true,
   "sideBar": false,
   "skip_h1_title": true,
   "title_cell": "Table of Contents",
   "title_sidebar": "Contents",
   "toc_cell": true,
   "toc_position": {},
   "toc_section_display": true,
   "toc_window_display": false
  }
 },
 "nbformat": 4,
 "nbformat_minor": 4
}
